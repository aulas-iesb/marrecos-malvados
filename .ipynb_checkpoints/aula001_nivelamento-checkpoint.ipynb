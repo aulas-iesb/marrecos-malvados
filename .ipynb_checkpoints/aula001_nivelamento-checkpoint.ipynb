{
 "cells": [
  {
   "cell_type": "markdown",
   "metadata": {},
   "source": [
    "# Python"
   ]
  },
  {
   "cell_type": "markdown",
   "metadata": {
    "id": "XrxnotkOffp6"
   },
   "source": [
    "# Variáveis\n",
    "___\n",
    "\n",
    "Variáveis são espaços na memória do computador que possuem valores acessáveis. Utilizamos um símbolo de igual ```=```, também chamado de símbolo de atribuição para criar variáveis."
   ]
  },
  {
   "cell_type": "code",
   "execution_count": 6,
   "metadata": {},
   "outputs": [],
   "source": [
    "## atribuição simples\n",
    "\n",
    "a = 10\n",
    "b = 20"
   ]
  },
  {
   "cell_type": "code",
   "execution_count": 7,
   "metadata": {},
   "outputs": [
    {
     "name": "stdout",
     "output_type": "stream",
     "text": [
      "10\n",
      "20\n"
     ]
    }
   ],
   "source": [
    "print(a)\n",
    "print(b)"
   ]
  },
  {
   "cell_type": "code",
   "execution_count": 8,
   "metadata": {},
   "outputs": [],
   "source": [
    "## atribuição múltipla\n",
    "\n",
    "a,b = 30,40"
   ]
  },
  {
   "cell_type": "code",
   "execution_count": 9,
   "metadata": {},
   "outputs": [
    {
     "name": "stdout",
     "output_type": "stream",
     "text": [
      "30\n",
      "40\n"
     ]
    }
   ],
   "source": [
    "print(a)\n",
    "print(b)"
   ]
  },
  {
   "cell_type": "code",
   "execution_count": 10,
   "metadata": {},
   "outputs": [],
   "source": [
    "nome = 'João'"
   ]
  },
  {
   "cell_type": "code",
   "execution_count": 11,
   "metadata": {},
   "outputs": [
    {
     "name": "stdout",
     "output_type": "stream",
     "text": [
      "João\n"
     ]
    }
   ],
   "source": [
    "print(nome)"
   ]
  },
  {
   "cell_type": "markdown",
   "metadata": {},
   "source": [
    "É importante entender que o identificador é único e recebe somente um valor por vez, para criarmos conjuntos de valores foram criadas estruturas de dados (dicionários, arrays, listas, tuplas). Se usarmos um identificador mais de um vez ele terá seu valor sobreescrito pelo valor mais recente. Exemplo:"
   ]
  },
  {
   "cell_type": "code",
   "execution_count": 12,
   "metadata": {},
   "outputs": [],
   "source": [
    "nome = 'Nasser'"
   ]
  },
  {
   "cell_type": "code",
   "execution_count": 13,
   "metadata": {},
   "outputs": [
    {
     "name": "stdout",
     "output_type": "stream",
     "text": [
      "Nasser\n"
     ]
    }
   ],
   "source": [
    "print(nome)"
   ]
  },
  {
   "cell_type": "markdown",
   "metadata": {},
   "source": [
    "Vale a pena notar que ao criar variáveis, seus identificadores (ou nomes) devem seguir algumas regras. As variáveis podem ter números e letras, porém não podemos iniciar o nome de variáveis com números e nem utilizar algumas palavras reservadas pelo sistema. A criação de identificadores também é sensível a caixa alta, sendo considerado diferentes identificadores escritos de formas diferentes."
   ]
  },
  {
   "cell_type": "code",
   "execution_count": 14,
   "metadata": {},
   "outputs": [
    {
     "ename": "SyntaxError",
     "evalue": "invalid decimal literal (<ipython-input-14-c6798dc40ac0>, line 1)",
     "output_type": "error",
     "traceback": [
      "\u001b[0;36m  File \u001b[0;32m\"<ipython-input-14-c6798dc40ac0>\"\u001b[0;36m, line \u001b[0;32m1\u001b[0m\n\u001b[0;31m    12_idade_joao = 15\u001b[0m\n\u001b[0m      ^\u001b[0m\n\u001b[0;31mSyntaxError\u001b[0m\u001b[0;31m:\u001b[0m invalid decimal literal\n"
     ]
    }
   ],
   "source": [
    "12_idade_joao = 15"
   ]
  },
  {
   "cell_type": "code",
   "execution_count": 15,
   "metadata": {},
   "outputs": [
    {
     "ename": "SyntaxError",
     "evalue": "invalid syntax (<ipython-input-15-43275c85c0df>, line 1)",
     "output_type": "error",
     "traceback": [
      "\u001b[0;36m  File \u001b[0;32m\"<ipython-input-15-43275c85c0df>\"\u001b[0;36m, line \u001b[0;32m1\u001b[0m\n\u001b[0;31m    return = 15\u001b[0m\n\u001b[0m           ^\u001b[0m\n\u001b[0;31mSyntaxError\u001b[0m\u001b[0;31m:\u001b[0m invalid syntax\n"
     ]
    }
   ],
   "source": [
    "return = 15"
   ]
  },
  {
   "cell_type": "markdown",
   "metadata": {},
   "source": [
    "A palavra reservada return já descreve um comando nativo do python que não pode ser substituído e por isso não podemos utilizar esse identificador para criar uma variável. Segue uma lista de palavras reservadas em python.\n",
    "\n"
   ]
  },
  {
   "cell_type": "markdown",
   "metadata": {},
   "source": [
    "![](https://p3-juejin.byteimg.com/tos-cn-i-k3u1fbpfcp/ae3c65f02bec49b4996fb1297551ba22~tplv-k3u1fbpfcp-zoom-crop-mark:1280:960:0:0.awebp)"
   ]
  },
  {
   "cell_type": "markdown",
   "metadata": {},
   "source": [
    "# Tipos de dados\n",
    "___\n",
    "\n",
    "As variáveis podem receber dados e objetos. Pode-se dividir os dados em 4 tipos diferentes, cada tipo de dado tem sua particularidade e pode ser utilizado em situações específicas. Todo código em python vai ter, em seu processamento, que lidar com esses tipos de dados, são eles:\n",
    "\n",
    "* **string (str)** - valores textuais, representados por aspas (simples ou duplas) ou criados através da função str()\n",
    "* **integer (int)** - valores númericos inteiros, criados através da função int()\n",
    "* **float (float)** - valores numéricos fracionários, também chamados de valores flutuantes, criados através da função float()\n",
    "* **boolean (bool)** - valores booleanos, só assumem dois valores possíveis True e False. Computacionalmente True pode ser representado pelo valor 1 e False por 0.\n",
    "\n",
    "É possível descrobrir o tipo de um dado usando a função type()."
   ]
  },
  {
   "cell_type": "code",
   "execution_count": 16,
   "metadata": {},
   "outputs": [
    {
     "data": {
      "text/plain": [
       "str"
      ]
     },
     "execution_count": 16,
     "metadata": {},
     "output_type": "execute_result"
    }
   ],
   "source": [
    "## uma string\n",
    "\n",
    "x = 'Nasser'\n",
    "type(x)"
   ]
  },
  {
   "cell_type": "code",
   "execution_count": 17,
   "metadata": {},
   "outputs": [
    {
     "data": {
      "text/plain": [
       "int"
      ]
     },
     "execution_count": 17,
     "metadata": {},
     "output_type": "execute_result"
    }
   ],
   "source": [
    "## um integer\n",
    "\n",
    "x = 150\n",
    "type(x)"
   ]
  },
  {
   "cell_type": "code",
   "execution_count": 18,
   "metadata": {},
   "outputs": [
    {
     "data": {
      "text/plain": [
       "float"
      ]
     },
     "execution_count": 18,
     "metadata": {},
     "output_type": "execute_result"
    }
   ],
   "source": [
    "## um float\n",
    "\n",
    "x = 3.75\n",
    "type(x)"
   ]
  },
  {
   "cell_type": "code",
   "execution_count": 19,
   "metadata": {},
   "outputs": [
    {
     "data": {
      "text/plain": [
       "bool"
      ]
     },
     "execution_count": 19,
     "metadata": {},
     "output_type": "execute_result"
    }
   ],
   "source": [
    "## um boolean\n",
    "\n",
    "x = True\n",
    "type(x)"
   ]
  },
  {
   "cell_type": "markdown",
   "metadata": {},
   "source": [
    "É interessante notar que o simples fato de atribuirmos um valor a uma variável o tipo do dado já é reconhecido, ou seja, não há necessidade de declarar a variável ou o tipo de dados que será guardado."
   ]
  },
  {
   "cell_type": "markdown",
   "metadata": {},
   "source": [
    "# Operadores Aritiméticos\n",
    "___\n",
    "\n",
    "Operações aritiméticas são necessárias para qualquer trabalho de processamento, utilizando variáveis podemos executar operações matemáticas de forma dinâmica. Esses são os operadores matemáticos utilizados em python.\n",
    "\n",
    "| Operador |            Ação            |\n",
    "|:--------:|:--------------------------:|\n",
    "|     -    |          subtração         |\n",
    "|     +    |           adição           |\n",
    "|     *    |        multiplicação       |\n",
    "|     /    |        divisão       |\n",
    "|     %    |  módulo da divisão (resto) |\n",
    "|    **    |         potenciação        |\n",
    "|    +=    |      incremento (soma)     |\n",
    "|    *=    | incremento (multiplicação) |\n",
    "|    -=    |   decremento (subtração)   |\n",
    "\n",
    "Para utilizar qualquer uma das operações demonstradas acima, basta escrever o operador associado com as variáveis, bem similar a uma fórmula matemática comum."
   ]
  },
  {
   "cell_type": "code",
   "execution_count": null,
   "metadata": {},
   "outputs": [],
   "source": [
    "## subtração\n",
    "\n",
    "28 - 3"
   ]
  },
  {
   "cell_type": "code",
   "execution_count": null,
   "metadata": {},
   "outputs": [],
   "source": [
    "## adição\n",
    "\n",
    "28 + 28"
   ]
  },
  {
   "cell_type": "code",
   "execution_count": null,
   "metadata": {},
   "outputs": [],
   "source": [
    "## multiplicação\n",
    "\n",
    "28 * 1.5"
   ]
  },
  {
   "cell_type": "code",
   "execution_count": null,
   "metadata": {},
   "outputs": [],
   "source": [
    "## módulo\n",
    "\n",
    "55 % 10"
   ]
  },
  {
   "cell_type": "code",
   "execution_count": null,
   "metadata": {},
   "outputs": [],
   "source": [
    "## potências\n",
    "\n",
    "10**2"
   ]
  },
  {
   "cell_type": "code",
   "execution_count": null,
   "metadata": {},
   "outputs": [],
   "source": [
    "## incremento\n",
    "\n",
    "x = 10\n",
    "x += 5\n",
    "print(x)"
   ]
  },
  {
   "cell_type": "code",
   "execution_count": null,
   "metadata": {},
   "outputs": [],
   "source": [
    "## incremento (multiplicação)\n",
    "\n",
    "x = 10\n",
    "x *= 2.2\n",
    "print(x)"
   ]
  },
  {
   "cell_type": "code",
   "execution_count": null,
   "metadata": {},
   "outputs": [],
   "source": [
    "## decremento\n",
    "\n",
    "x = 10\n",
    "x -= 2.5\n",
    "print(x)"
   ]
  },
  {
   "cell_type": "markdown",
   "metadata": {},
   "source": [
    "# f-string\n",
    "___\n",
    "\n",
    "Existe um recurso em python chamado de f-string, sua principal função é adicionar variáveis junto a texto de uma forma fácil. Esse recurso funciona muito bem com a função ```print()```, mas também pode ser utilizado em strings puras e até docstrings (strings de documentação).Para utiliza-la basta colocar a letra ```f``` antes de abrir as aspas de uma string e colocar a variável desejada entre ```{}``` (chaves)."
   ]
  },
  {
   "cell_type": "code",
   "execution_count": 20,
   "metadata": {},
   "outputs": [
    {
     "name": "stdout",
     "output_type": "stream",
     "text": [
      "A idade digitada foi 21 anos!\n"
     ]
    }
   ],
   "source": [
    "idade_do_cliente = 21\n",
    "\n",
    "print(f'A idade digitada foi {idade_do_cliente} anos!')"
   ]
  },
  {
   "cell_type": "markdown",
   "metadata": {},
   "source": [
    "# Estrutura de Dados\n",
    "___\n",
    "\n",
    "Estruturas de dados são uma forma de organizar e armazenar dados para que possam ser acessados e trabalhados de forma eficiente. Elas definem a relação entre os dados e as operações que podem ser executadas neles. Existem vários tipos de estruturas de dados definidas que tornam mais fácil para os cientistas de dados se concentrarem na solução de problemas maiores, em vez de se perderem nos detalhes da descrição e acesso aos dados.\n",
    "\n",
    "Em python existem as seguintes estruturas de dados: listas, tuplas, dicionários, coleções (sets). As mais utilizadas no dia-a-dia de um cientista de dados são as listas, tuplas, dicionários e são nelas que esta matéria irá focar.\n",
    "\n",
    "## Listas\n",
    "___\n",
    "\n",
    "A lista é, provavelmente, a estrutura de dados mais utilizada e mais básica em python. Ela é uma coleção ordenada, mutável e iterável também podendo ser heterogênea, ou seja, receber diversos tipos de dados. Ela tem vários métodos (funcionalidades do objeto lista) que podem auxiliar na organização e manipulação de dados. Alguns exemplos de lista:"
   ]
  },
  {
   "cell_type": "code",
   "execution_count": 24,
   "metadata": {},
   "outputs": [],
   "source": [
    "lista_de_inteiros = [1,2,3,4,5] ## lista de integers\n",
    "lista_heterogenea = ['nasser',1.71,100, True]\n",
    "lista_de_lista = [[1,2,3,4],[5,6,7,8]]"
   ]
  },
  {
   "cell_type": "markdown",
   "metadata": {},
   "source": [
    "Podemos encontrar o tamanho de uma lista utilizando a função ```len()```"
   ]
  },
  {
   "cell_type": "code",
   "execution_count": 25,
   "metadata": {},
   "outputs": [
    {
     "name": "stdout",
     "output_type": "stream",
     "text": [
      "5\n",
      "4\n",
      "2\n"
     ]
    }
   ],
   "source": [
    "print(len(lista_de_inteiros))\n",
    "print(len(lista_heterogenea))\n",
    "print(len(lista_de_lista))"
   ]
  },
  {
   "cell_type": "markdown",
   "metadata": {},
   "source": [
    "Também é possivel criar listas vazias!"
   ]
  },
  {
   "cell_type": "code",
   "execution_count": 27,
   "metadata": {},
   "outputs": [
    {
     "data": {
      "text/plain": [
       "[]"
      ]
     },
     "execution_count": 27,
     "metadata": {},
     "output_type": "execute_result"
    }
   ],
   "source": [
    "cidades_que_visitei = []\n",
    "cidades_que_visitei"
   ]
  },
  {
   "cell_type": "code",
   "execution_count": 29,
   "metadata": {},
   "outputs": [
    {
     "data": {
      "text/plain": [
       "['Brasília', 'Cairo', 'Tel-Aviv', 'Paris', 'Jerusalem', 'Eilat']"
      ]
     },
     "execution_count": 29,
     "metadata": {},
     "output_type": "execute_result"
    }
   ],
   "source": [
    "cidades_que_visitei = ['Brasília','Cairo','Tel-Aviv','Paris','Jerusalem','Eilat']\n",
    "cidades_que_visitei"
   ]
  },
  {
   "cell_type": "markdown",
   "metadata": {},
   "source": [
    "Podemos acessar dados de uma lista utilizando a localização do dado a ser recuperado, iniciando a conta por ```zero```!\n",
    "\n",
    "![lista](imgs/lista.png)\n",
    "\n",
    "Ou seja, o primeiro valor tem o índice ```0 (zero)``` e os próximos seguem normalmente a contagem."
   ]
  },
  {
   "cell_type": "code",
   "execution_count": null,
   "metadata": {},
   "outputs": [],
   "source": [
    "## acessando o primeiro valor\n",
    "\n",
    "cidades_que_visitei[0]"
   ]
  },
  {
   "cell_type": "code",
   "execution_count": null,
   "metadata": {},
   "outputs": [],
   "source": [
    "## acessando o segundo valor\n",
    "\n",
    "cidades_que_visitei[1]"
   ]
  },
  {
   "cell_type": "code",
   "execution_count": null,
   "metadata": {},
   "outputs": [],
   "source": [
    "## acessando o quarto valor\n",
    "\n",
    "cidades_que_visitei[3]"
   ]
  },
  {
   "cell_type": "markdown",
   "metadata": {},
   "source": [
    "É possível reatribuir o valor em qualquer posição de uma lista, para isso basta selecionar o índica da lista que deseja alterar e atribuir um novo valor a ela."
   ]
  },
  {
   "cell_type": "code",
   "execution_count": null,
   "metadata": {},
   "outputs": [],
   "source": [
    "cidades_que_visitei[4]"
   ]
  },
  {
   "cell_type": "code",
   "execution_count": null,
   "metadata": {},
   "outputs": [],
   "source": [
    "cidades_que_visitei[4] = 'Jerusalém'"
   ]
  },
  {
   "cell_type": "code",
   "execution_count": null,
   "metadata": {},
   "outputs": [],
   "source": [
    "cidades_que_visitei[4]"
   ]
  },
  {
   "cell_type": "markdown",
   "metadata": {},
   "source": [
    "Uma forma simples e bastante poderosa de selecionar valores dentro de uma lista é utilizando a técnica de fatiamento. Ela permite que a seleção de valores dentro de uma janela com início e fim, para isso basta utilizar ```:``` ."
   ]
  },
  {
   "cell_type": "code",
   "execution_count": 32,
   "metadata": {},
   "outputs": [],
   "source": [
    "## a função range(n) cria uma lista com valores de zero até n.\n",
    "\n",
    "lista_100 = list(range(100))"
   ]
  },
  {
   "cell_type": "code",
   "execution_count": 33,
   "metadata": {},
   "outputs": [
    {
     "data": {
      "text/plain": [
       "[0, 1, 2]"
      ]
     },
     "execution_count": 33,
     "metadata": {},
     "output_type": "execute_result"
    }
   ],
   "source": [
    "## usando fatiamento\n",
    "\n",
    "primeiros_3 = lista_100[:3]\n",
    "primeiros_3"
   ]
  },
  {
   "cell_type": "code",
   "execution_count": null,
   "metadata": {},
   "outputs": [],
   "source": [
    "cidades_que_visitei[0:2]"
   ]
  },
  {
   "cell_type": "code",
   "execution_count": null,
   "metadata": {},
   "outputs": [],
   "source": [
    "cidades_que_visitei[:2]"
   ]
  },
  {
   "cell_type": "code",
   "execution_count": null,
   "metadata": {},
   "outputs": [],
   "source": [
    "cidades_que_visitei[:]"
   ]
  },
  {
   "cell_type": "code",
   "execution_count": null,
   "metadata": {},
   "outputs": [],
   "source": [
    "cidades_que_visitei[2:]"
   ]
  },
  {
   "cell_type": "code",
   "execution_count": null,
   "metadata": {},
   "outputs": [],
   "source": [
    "cidades_que_visitei[3:5]"
   ]
  },
  {
   "cell_type": "markdown",
   "metadata": {},
   "source": [
    "Perceba que o indice no lado esquerdo o sinal de dois-pontos é inclusivo e do lado direito é exclusivo (ou seja, não retorna o valor). Também é possível selecionar os valores começando a contagem do final da lista porém, nessa situação, a contagem começa com 1 e é negativa."
   ]
  },
  {
   "cell_type": "code",
   "execution_count": null,
   "metadata": {},
   "outputs": [],
   "source": [
    "cidades_que_visitei[-1]"
   ]
  },
  {
   "cell_type": "code",
   "execution_count": null,
   "metadata": {},
   "outputs": [],
   "source": [
    "cidades_que_visitei[-5:-2]"
   ]
  },
  {
   "cell_type": "markdown",
   "metadata": {},
   "source": [
    "Listas podem ser heterogeneas, ou seja, podemos colocar outras listas dentro dela, outras estruturas de dados e até objetos mais complexos."
   ]
  },
  {
   "cell_type": "code",
   "execution_count": 34,
   "metadata": {},
   "outputs": [],
   "source": [
    "paises_que_visitei = ['Brasil',{'Jerusalem':5,'Tel-Aviv':2,'Eilat':1},('França','Paris')]"
   ]
  },
  {
   "cell_type": "code",
   "execution_count": null,
   "metadata": {},
   "outputs": [],
   "source": [
    "len(paises_que_visitei)"
   ]
  },
  {
   "cell_type": "code",
   "execution_count": null,
   "metadata": {},
   "outputs": [],
   "source": [
    "type(paises_que_visitei[0])"
   ]
  },
  {
   "cell_type": "code",
   "execution_count": null,
   "metadata": {},
   "outputs": [],
   "source": [
    "type(paises_que_visitei[1])"
   ]
  },
  {
   "cell_type": "code",
   "execution_count": null,
   "metadata": {},
   "outputs": [],
   "source": [
    "type(paises_que_visitei[2])"
   ]
  },
  {
   "cell_type": "markdown",
   "metadata": {},
   "source": [
    "### Métodos de Listas\n",
    "\n",
    "Métodos são pequenos funcionalidades de um objeto que podemos utilizar para manipular os dados desse objeto. Todo objeto igual, independente do seu conteúdo, possui os mesmos métodos. Os métodos de um objeto podem ser acessados colocar um ```.``` ao final do variável e escrevendo seu nome.\n",
    "\n",
    "Os métodos de listas mais utilizados são os seguintes:\n",
    "\n",
    "![](imgs/lista3.png)"
   ]
  },
  {
   "cell_type": "code",
   "execution_count": null,
   "metadata": {},
   "outputs": [],
   "source": [
    "cidades_que_visitei"
   ]
  },
  {
   "cell_type": "code",
   "execution_count": null,
   "metadata": {},
   "outputs": [],
   "source": [
    "## adicionando a cidade Araxá ao final da lista\n",
    "\n",
    "cidades_que_visitei.append('Araxá')"
   ]
  },
  {
   "cell_type": "code",
   "execution_count": null,
   "metadata": {},
   "outputs": [],
   "source": [
    "## contando quantas vezes a palavra 'Eilat' aparece na lista\n",
    "\n",
    "cidades_que_visitei.count('Eilat')"
   ]
  },
  {
   "cell_type": "code",
   "execution_count": null,
   "metadata": {},
   "outputs": [],
   "source": [
    "## encontrando o índice da palavra 'Paris'\n",
    "\n",
    "cidades_que_visitei.index('Paris')"
   ]
  },
  {
   "cell_type": "code",
   "execution_count": null,
   "metadata": {},
   "outputs": [],
   "source": [
    "## alterando a ordem da lista (invertendo)\n",
    "\n",
    "cidades_que_visitei.reverse()\n",
    "cidades_que_visitei"
   ]
  },
  {
   "cell_type": "code",
   "execution_count": null,
   "metadata": {},
   "outputs": [],
   "source": [
    "## organizando a lista\n",
    "\n",
    "cidades_que_visitei.sort()\n",
    "cidades_que_visitei"
   ]
  },
  {
   "cell_type": "code",
   "execution_count": null,
   "metadata": {},
   "outputs": [],
   "source": [
    "## extraindo um valor da lista\n",
    "\n",
    "cidades_que_visitei.pop(2)\n",
    "cidades_que_visitei"
   ]
  },
  {
   "cell_type": "code",
   "execution_count": null,
   "metadata": {},
   "outputs": [],
   "source": [
    "## removendo um valor da lista\n",
    "\n",
    "cidades_que_visitei.remove('Brasília')\n",
    "cidades_que_visitei"
   ]
  },
  {
   "cell_type": "markdown",
   "metadata": {},
   "source": [
    "Imagine que você possui a lista abaixo. Ela possui valores inteiros, porém, existe um impostor no meio dela, a string '88', encontre o índice dessa string e a substitua pelo valor inteiro 88."
   ]
  },
  {
   "cell_type": "code",
   "execution_count": null,
   "metadata": {},
   "outputs": [],
   "source": [
    "lista_exercicio = [125,175,785,4,89,25,41,58,56,2,45,4,5,13,65,469,8,8974,654,65,564,2547,87,987,6454,516,54,654,98,7,77,'88',54,7,8,54,5,1,4,7,8,25,4,5,7,8,8,8,5,6,6,6,3,2,5,4,5]"
   ]
  },
  {
   "cell_type": "markdown",
   "metadata": {},
   "source": [
    "## Tuplas\n",
    "___\n",
    "\n",
    "As tuplas são como listas porém imutáveis, ou seja, não podemos alterar nenhum valor depois que ela for designada. Normalmente é utilizada para guardar informações que em momento algum podem mudar (endereço, cpf, id de usuário). Podemos usar parênteses para definir uma tupla ou a função ```tuple()```."
   ]
  },
  {
   "cell_type": "code",
   "execution_count": null,
   "metadata": {},
   "outputs": [],
   "source": [
    "fundo_imob = ('ALZR11','BBF011','BLMG11','BLCP11','BRCO11')\n",
    "fundo_imob"
   ]
  },
  {
   "cell_type": "code",
   "execution_count": null,
   "metadata": {},
   "outputs": [],
   "source": [
    "## as tuplas são indexadas da mesma forma que as listas\n",
    "\n",
    "print(fundo_imob[0])\n",
    "print(fundo_imob[1])\n",
    "print(fundo_imob[2])"
   ]
  },
  {
   "cell_type": "code",
   "execution_count": null,
   "metadata": {},
   "outputs": [],
   "source": [
    "## tuplas não suportam alteração de valores\n",
    "\n",
    "fundo_imob[0] = 'BACON11'"
   ]
  },
  {
   "cell_type": "code",
   "execution_count": null,
   "metadata": {},
   "outputs": [],
   "source": [
    "## tuplas também podem ser heterogeneas\n",
    "\n",
    "fundo_imob = tuple(['ALZR11',11,{'BLMG11':97.30},15.2,['BRCO11',16]])\n",
    "fundo_imob"
   ]
  },
  {
   "cell_type": "markdown",
   "metadata": {},
   "source": [
    "### Métodos de Tuplas\n",
    "\n",
    "Devido a sua característica imutável, tuplas possuem poucos métodos."
   ]
  },
  {
   "cell_type": "code",
   "execution_count": null,
   "metadata": {},
   "outputs": [],
   "source": [
    "## contando quantos valores aparecem\n",
    "\n",
    "fundo_imob.count(['BRCO11',15])"
   ]
  },
  {
   "cell_type": "code",
   "execution_count": null,
   "metadata": {},
   "outputs": [],
   "source": [
    "fundo_imob.count(11)"
   ]
  },
  {
   "cell_type": "code",
   "execution_count": null,
   "metadata": {},
   "outputs": [],
   "source": [
    "## encontrando o índice do valor 15.2\n",
    "\n",
    "fundo_imob.index(15.2)"
   ]
  },
  {
   "cell_type": "markdown",
   "metadata": {},
   "source": [
    "## Dicionários\n",
    "___\n",
    "\n",
    "Os dicionários são outra estrutura de dados em python que também são conhecidas como “memória associativas” ou “vetores associativos”, diferentemente das listas e tuplas, os dicionários são indexados utilizando chaves (keys) e não números. Construímos um dicionário utilizando chaves ```{}``` ou a função ```dict()```. Os dicionários são mutáveis e iteráveis."
   ]
  },
  {
   "cell_type": "code",
   "execution_count": 35,
   "metadata": {},
   "outputs": [
    {
     "data": {
      "text/plain": [
       "dict"
      ]
     },
     "execution_count": 35,
     "metadata": {},
     "output_type": "execute_result"
    }
   ],
   "source": [
    "meu_dict = {}\n",
    "type(meu_dict)"
   ]
  },
  {
   "cell_type": "code",
   "execution_count": 36,
   "metadata": {},
   "outputs": [
    {
     "data": {
      "text/plain": [
       "{'clientes': ['Maria', 'João', 'Gilberto', 'Gabriela', 'Marcelo']}"
      ]
     },
     "execution_count": 36,
     "metadata": {},
     "output_type": "execute_result"
    }
   ],
   "source": [
    "meu_dict['clientes'] = ['Maria','João','Gilberto','Gabriela','Marcelo']\n",
    "meu_dict"
   ]
  },
  {
   "cell_type": "markdown",
   "metadata": {},
   "source": [
    "Perceba que para adicionar um par ```chave:valor``` basta utilizar uma sintaxe de indexação com atribuição."
   ]
  },
  {
   "cell_type": "code",
   "execution_count": 37,
   "metadata": {},
   "outputs": [
    {
     "data": {
      "text/plain": [
       "{'clientes': ['Maria', 'João', 'Gilberto', 'Gabriela', 'Marcelo'],\n",
       " 'endereços': {'maria': 'águas claras',\n",
       "  'joão': 'asa norte',\n",
       "  'gilberto': 'asa sul',\n",
       "  'gabriela': 'samambaia',\n",
       "  'marcelo': 'planaltina'}}"
      ]
     },
     "execution_count": 37,
     "metadata": {},
     "output_type": "execute_result"
    }
   ],
   "source": [
    "meu_dict['endereços'] = {\n",
    "    'maria':'águas claras',\n",
    "    'joão':'asa norte',\n",
    "    'gilberto':'asa sul',\n",
    "    'gabriela':'samambaia',\n",
    "    'marcelo':'planaltina'\n",
    "}\n",
    "\n",
    "meu_dict"
   ]
  },
  {
   "cell_type": "markdown",
   "metadata": {},
   "source": [
    "Podemos também colocar dicionários dentro de dicionários. Perceba que todo objeto designado como valor ainda mantém seus métodos originais. Então para modifica-lo basta referenciar a chave e utilizar o método deseja do objeto em valor."
   ]
  },
  {
   "cell_type": "code",
   "execution_count": 38,
   "metadata": {},
   "outputs": [
    {
     "data": {
      "text/plain": [
       "{'clientes': ['Maria', 'João', 'Gilberto', 'Gabriela', 'Marcelo'],\n",
       " 'endereços': {'maria': 'águas claras',\n",
       "  'joão': 'asa norte',\n",
       "  'gilberto': 'asa sul',\n",
       "  'gabriela': 'samambaia',\n",
       "  'marcelo': 'planaltina'},\n",
       " 'valor_total_faturado': 50000}"
      ]
     },
     "execution_count": 38,
     "metadata": {},
     "output_type": "execute_result"
    }
   ],
   "source": [
    "meu_dict['valor_total_faturado'] = 50000\n",
    "meu_dict"
   ]
  },
  {
   "cell_type": "code",
   "execution_count": 39,
   "metadata": {},
   "outputs": [
    {
     "data": {
      "text/plain": [
       "{'clientes': ['Maria', 'João', 'Gilberto', 'Gabriela', 'Marcelo'],\n",
       " 'endereços': {'maria': 'águas claras',\n",
       "  'joão': 'asa norte',\n",
       "  'gilberto': 'asa sul',\n",
       "  'gabriela': 'samambaia',\n",
       "  'marcelo': 'planaltina'},\n",
       " 'valor_total_faturado': 122658}"
      ]
     },
     "execution_count": 39,
     "metadata": {},
     "output_type": "execute_result"
    }
   ],
   "source": [
    "## alterando o valor associado a uma chave já criada\n",
    "\n",
    "meu_dict['valor_total_faturado'] = 122658\n",
    "meu_dict"
   ]
  },
  {
   "cell_type": "code",
   "execution_count": 42,
   "metadata": {},
   "outputs": [
    {
     "data": {
      "text/plain": [
       "['Maria', 'João', 'Gilberto', 'Gabriela', 'Marcelo']"
      ]
     },
     "execution_count": 42,
     "metadata": {},
     "output_type": "execute_result"
    }
   ],
   "source": [
    "## acessando a lista de clientes\n",
    "\n",
    "meu_dict['clientes']"
   ]
  },
  {
   "cell_type": "code",
   "execution_count": 43,
   "metadata": {},
   "outputs": [
    {
     "data": {
      "text/plain": [
       "'Maria'"
      ]
     },
     "execution_count": 43,
     "metadata": {},
     "output_type": "execute_result"
    }
   ],
   "source": [
    "## acessando o primeiro valor da lista de clientes\n",
    "\n",
    "meu_dict['clientes'][0]"
   ]
  },
  {
   "cell_type": "code",
   "execution_count": 44,
   "metadata": {},
   "outputs": [
    {
     "data": {
      "text/plain": [
       "{'clientes': ['Maria', 'João', 'Gilberto', 'Gabriela', 'Marcelo', 'Nasser'],\n",
       " 'endereços': {'maria': 'águas claras',\n",
       "  'joão': 'asa norte',\n",
       "  'gilberto': 'asa sul',\n",
       "  'gabriela': 'samambaia',\n",
       "  'marcelo': 'planaltina'},\n",
       " 'valor_total_faturado': 122658}"
      ]
     },
     "execution_count": 44,
     "metadata": {},
     "output_type": "execute_result"
    }
   ],
   "source": [
    "## usando um método de lista para alterar um dicionário\n",
    "\n",
    "meu_dict['clientes'].append('Nasser')\n",
    "meu_dict"
   ]
  },
  {
   "cell_type": "code",
   "execution_count": 48,
   "metadata": {},
   "outputs": [
    {
     "data": {
      "text/plain": [
       "{'clientes': ['Maria', 'João', 'Gilberto', 'Gabriela', 'Marcelo', 'Nasser'],\n",
       " 'endereços': {'maria': 'águas claras',\n",
       "  'joão': 'asa norte',\n",
       "  'gilberto': 'asa sul',\n",
       "  'gabriela': 'samambaia',\n",
       "  'marcelo': 'planaltina',\n",
       "  'nassser': 0,\n",
       "  'nasser': 0},\n",
       " 'valor_total_faturado': 122658}"
      ]
     },
     "execution_count": 48,
     "metadata": {},
     "output_type": "execute_result"
    }
   ],
   "source": [
    "## criando um endereço para nasser\n",
    "\n",
    "meu_dict['endereços']['nassser'] = 0\n",
    "meu_dict"
   ]
  },
  {
   "cell_type": "code",
   "execution_count": 50,
   "metadata": {},
   "outputs": [
    {
     "ename": "KeyError",
     "evalue": "'nassser'",
     "output_type": "error",
     "traceback": [
      "\u001b[0;31m---------------------------------------------------------------------------\u001b[0m",
      "\u001b[0;31mKeyError\u001b[0m                                  Traceback (most recent call last)",
      "\u001b[0;32m<ipython-input-50-63b9dde74238>\u001b[0m in \u001b[0;36m<module>\u001b[0;34m\u001b[0m\n\u001b[0;32m----> 1\u001b[0;31m \u001b[0;32mdel\u001b[0m \u001b[0mmeu_dict\u001b[0m\u001b[0;34m[\u001b[0m\u001b[0;34m'endereços'\u001b[0m\u001b[0;34m]\u001b[0m\u001b[0;34m[\u001b[0m\u001b[0;34m'nassser'\u001b[0m\u001b[0;34m]\u001b[0m\u001b[0;34m\u001b[0m\u001b[0;34m\u001b[0m\u001b[0m\n\u001b[0m\u001b[1;32m      2\u001b[0m \u001b[0mmeu_dict\u001b[0m\u001b[0;34m\u001b[0m\u001b[0;34m\u001b[0m\u001b[0m\n",
      "\u001b[0;31mKeyError\u001b[0m: 'nassser'"
     ]
    }
   ],
   "source": [
    "del meu_dict['endereços']['nassser']\n",
    "meu_dict"
   ]
  },
  {
   "cell_type": "code",
   "execution_count": 51,
   "metadata": {},
   "outputs": [
    {
     "data": {
      "text/plain": [
       "{'clientes': ['Maria', 'João', 'Gilberto', 'Gabriela', 'Marcelo', 'Nasser'],\n",
       " 'endereços': {'maria': 'águas claras',\n",
       "  'joão': 'asa norte',\n",
       "  'gilberto': 'asa sul',\n",
       "  'gabriela': 'samambaia',\n",
       "  'marcelo': 'planaltina',\n",
       "  'nasser': 'águas claras'},\n",
       " 'valor_total_faturado': 122658}"
      ]
     },
     "execution_count": 51,
     "metadata": {},
     "output_type": "execute_result"
    }
   ],
   "source": [
    "meu_dict['endereços']['nasser'] = 'águas claras'\n",
    "meu_dict"
   ]
  },
  {
   "cell_type": "markdown",
   "metadata": {},
   "source": [
    "### Metodos de Dicionários\n",
    "\n",
    "Dicionários possuem uma série de métodos que podemos utilizar para acessar partes específicas (chaves ou valores)."
   ]
  },
  {
   "cell_type": "code",
   "execution_count": 53,
   "metadata": {},
   "outputs": [
    {
     "data": {
      "text/plain": [
       "dict_keys(['clientes', 'endereços', 'valor_total_faturado'])"
      ]
     },
     "execution_count": 53,
     "metadata": {},
     "output_type": "execute_result"
    }
   ],
   "source": [
    "## acessando chaves\n",
    "\n",
    "meu_dict.keys()"
   ]
  },
  {
   "cell_type": "code",
   "execution_count": 54,
   "metadata": {},
   "outputs": [
    {
     "data": {
      "text/plain": [
       "dict_values([['Maria', 'João', 'Gilberto', 'Gabriela', 'Marcelo', 'Nasser'], {'maria': 'águas claras', 'joão': 'asa norte', 'gilberto': 'asa sul', 'gabriela': 'samambaia', 'marcelo': 'planaltina', 'nasser': 'águas claras'}, 122658])"
      ]
     },
     "execution_count": 54,
     "metadata": {},
     "output_type": "execute_result"
    }
   ],
   "source": [
    "## acessando valores\n",
    "\n",
    "meu_dict.values()"
   ]
  },
  {
   "cell_type": "code",
   "execution_count": 55,
   "metadata": {},
   "outputs": [
    {
     "data": {
      "text/plain": [
       "dict_items([('clientes', ['Maria', 'João', 'Gilberto', 'Gabriela', 'Marcelo', 'Nasser']), ('endereços', {'maria': 'águas claras', 'joão': 'asa norte', 'gilberto': 'asa sul', 'gabriela': 'samambaia', 'marcelo': 'planaltina', 'nasser': 'águas claras'}), ('valor_total_faturado', 122658)])"
      ]
     },
     "execution_count": 55,
     "metadata": {},
     "output_type": "execute_result"
    }
   ],
   "source": [
    "## acessando chaves e valores\n",
    "\n",
    "meu_dict.items()"
   ]
  },
  {
   "cell_type": "code",
   "execution_count": 56,
   "metadata": {},
   "outputs": [],
   "source": [
    "## extraindo um valor e jogando fora a chave\n",
    "\n",
    "valor_total_faturado = meu_dict.pop('valor_total_faturado')"
   ]
  },
  {
   "cell_type": "code",
   "execution_count": 57,
   "metadata": {},
   "outputs": [
    {
     "name": "stdout",
     "output_type": "stream",
     "text": [
      "122658\n"
     ]
    },
    {
     "data": {
      "text/plain": [
       "{'clientes': ['Maria', 'João', 'Gilberto', 'Gabriela', 'Marcelo', 'Nasser'],\n",
       " 'endereços': {'maria': 'águas claras',\n",
       "  'joão': 'asa norte',\n",
       "  'gilberto': 'asa sul',\n",
       "  'gabriela': 'samambaia',\n",
       "  'marcelo': 'planaltina',\n",
       "  'nasser': 'águas claras'}}"
      ]
     },
     "execution_count": 57,
     "metadata": {},
     "output_type": "execute_result"
    }
   ],
   "source": [
    "print(valor_total_faturado)\n",
    "meu_dict"
   ]
  },
  {
   "cell_type": "code",
   "execution_count": 58,
   "metadata": {},
   "outputs": [],
   "source": [
    "## usando get para acessar um valor\n",
    "\n",
    "meu_dict.get('valor_total_de_venda')"
   ]
  },
  {
   "cell_type": "code",
   "execution_count": 59,
   "metadata": {},
   "outputs": [
    {
     "ename": "KeyError",
     "evalue": "'valor_total_de_venda'",
     "output_type": "error",
     "traceback": [
      "\u001b[0;31m---------------------------------------------------------------------------\u001b[0m",
      "\u001b[0;31mKeyError\u001b[0m                                  Traceback (most recent call last)",
      "\u001b[0;32m<ipython-input-59-18724fd015c0>\u001b[0m in \u001b[0;36m<module>\u001b[0;34m\u001b[0m\n\u001b[0;32m----> 1\u001b[0;31m \u001b[0mmeu_dict\u001b[0m\u001b[0;34m[\u001b[0m\u001b[0;34m'valor_total_de_venda'\u001b[0m\u001b[0;34m]\u001b[0m\u001b[0;34m\u001b[0m\u001b[0;34m\u001b[0m\u001b[0m\n\u001b[0m",
      "\u001b[0;31mKeyError\u001b[0m: 'valor_total_de_venda'"
     ]
    }
   ],
   "source": [
    "meu_dict['valor_total_de_venda']"
   ]
  },
  {
   "cell_type": "markdown",
   "metadata": {},
   "source": [
    "O método ```.get()``` retorna o valor associado a uma chave, porém se essa chave não existir ele não levanta nenhuma mensagem de erro como a indexação tradicional faria. Entender esse comportamento é muito importante para montar algoritmos que possam atuar sem intervenção humana."
   ]
  },
  {
   "cell_type": "markdown",
   "metadata": {},
   "source": [
    "# Operadores Lógicos e Relacionais\n",
    "___\n",
    "\n",
    "Os operadores relacionais são utilizados para testar condições utilizando variáveis. O retorno de uma condição sempre será avaliado com True (verdadeiro) ou False (falso). \n",
    "\n",
    "| Descrição         | Símbolo |\n",
    "|-------------------|---------|\n",
    "| Igual a           | ==       |\n",
    "| Diferente de      | <> ou # |\n",
    "| Maior que         | >       |\n",
    "| Menor que         | <       |\n",
    "| Maior ou igual a  | >=      |\n",
    "| Menor ou igual a  | <=      |\n",
    "\n",
    "\n",
    "Podemos utilizar operadores lógicos para criar condições mais complexas. Os operadores lógicos utilizados em python são os seguintes.\n",
    "\n",
    "| Operador Lógico | Operador em python |\n",
    "|-----------------|--------------------|\n",
    "| E               | and                |\n",
    "| OU              | or                 |\n",
    "| NÃO             | not                |"
   ]
  },
  {
   "cell_type": "code",
   "execution_count": null,
   "metadata": {},
   "outputs": [],
   "source": [
    "10 > 2"
   ]
  },
  {
   "cell_type": "code",
   "execution_count": null,
   "metadata": {},
   "outputs": [],
   "source": [
    "5 > 5"
   ]
  },
  {
   "cell_type": "code",
   "execution_count": null,
   "metadata": {},
   "outputs": [],
   "source": [
    "5 >= 5"
   ]
  },
  {
   "cell_type": "code",
   "execution_count": null,
   "metadata": {},
   "outputs": [],
   "source": [
    "a = 25\n",
    "b = 32\n",
    "\n",
    "a/2 > b**0.5"
   ]
  },
  {
   "cell_type": "code",
   "execution_count": null,
   "metadata": {},
   "outputs": [],
   "source": [
    "## multiplas condições\n",
    "\n",
    "(a/5 > 4) and (b > 50)"
   ]
  },
  {
   "cell_type": "markdown",
   "metadata": {},
   "source": [
    "Veja que a primeira parte da condição é avaliada como True (verdadeira) e a segunda parte é avaliada como False (falso). Utilizando o operador lógico ```and``` para unir as duas partes da condição acima chegamos no resultado False."
   ]
  },
  {
   "cell_type": "code",
   "execution_count": null,
   "metadata": {},
   "outputs": [],
   "source": [
    "## multiplas condições\n",
    "a = 10\n",
    "b = 5\n",
    "\n",
    "(a > 100) or (b == 5)"
   ]
  },
  {
   "cell_type": "markdown",
   "metadata": {},
   "source": [
    "# Estruturas condicionais\n",
    "___\n",
    "\n",
    "Tendo a capacidade de avaliar condições pode-se criar algoritmos mais dinâmicos e que tenham saídas dependentes das entradas. Utiliza-se estruturas condicionais para criar caminhos alternativos dentro de um algoritmo, esses caminhos alternativos podem (ou não) serem ativados de acordo com a condição avaliada.\n",
    "\n",
    "Imagine que, para passar de uma matéria na faculdade, é necessário uma nota final maior do que 5. Podemos montar um algoritmo para definir se um aluno passou ou não. O diagrama desse algoritmo ficaria da seguinte forma:\n",
    "\n",
    "![aluno](imgs/aluno_if.png)\n",
    "\n",
    "Existem duas saídas possíveis, para criar esse caminho alternativo utilizamos a sintaxe ```if ... else``` (se então, senão). Essa estrutura avalia a condição entregue e segue pelo caminho determinado pelo resultado da condição. Ou seja, ```se (if)``` o aluno tiver uma média maior ou igual a 5 ele é aprovado ```senão (else)``` ele é reprovado. Em python o algoritmo acima ficaria da seguinte forma:"
   ]
  },
  {
   "cell_type": "code",
   "execution_count": null,
   "metadata": {},
   "outputs": [],
   "source": [
    "media = 4.99\n",
    "\n",
    "if media >= 5.0:\n",
    "    print('Aluno Aprovado')\n",
    "else:\n",
    "    print('Aluno Reprovado')"
   ]
  },
  {
   "cell_type": "code",
   "execution_count": null,
   "metadata": {},
   "outputs": [],
   "source": [
    "media = 9.5\n",
    "\n",
    "if media >= 5.0:\n",
    "    print('Aluno Aprovado')\n",
    "else:\n",
    "    print('Aluno Reprovado')"
   ]
  },
  {
   "cell_type": "markdown",
   "metadata": {},
   "source": [
    "Perceba o bloco de código a ser executado fica abaixo da condição testada como verdadeira e é antecedida por 4 espaços (1 TAB). Podemos adicionar mais estruturas condicionais dentro de outras de forma aninhada. Para isso, imagine o mesmo problema demonstrado acima, porém após avaliar alunos com média acima de 5 devemos entender se estes possuem média também maior ou igual a 7, em caso positivo eles serão aprovados, para notas menores do que 7 e maiores do que 5 o aluno deverá realizar outra avaliação. O diagrama para essa situação fica da seguinte forma:\n",
    "\n",
    "![aluno2](imgs/algoritmo2.png)\n",
    "\n",
    "Em python:"
   ]
  },
  {
   "cell_type": "code",
   "execution_count": null,
   "metadata": {},
   "outputs": [],
   "source": [
    "media = 6.8\n",
    "\n",
    "if media >= 5:\n",
    "    if media >= 7:\n",
    "        print('Aluno Aprovado!')\n",
    "    else:\n",
    "        print('Fazer outra avaliação!')\n",
    "else:\n",
    "    print('Aluno Reprovado')"
   ]
  },
  {
   "cell_type": "code",
   "execution_count": null,
   "metadata": {},
   "outputs": [],
   "source": [
    "media = 9\n",
    "\n",
    "if media >= 5:\n",
    "    if media >= 7:\n",
    "        print('Aluno Aprovado!')\n",
    "    else:\n",
    "        print('Fazer outra avaliação!')\n",
    "else:\n",
    "    print('Aluno Reprovado')"
   ]
  },
  {
   "cell_type": "code",
   "execution_count": null,
   "metadata": {},
   "outputs": [],
   "source": [
    "media = 4\n",
    "\n",
    "if media >= 5:\n",
    "    if media >= 7:\n",
    "        print('Aluno Aprovado!')\n",
    "    else:\n",
    "        print('Fazer outra avaliação!')\n",
    "else:\n",
    "    print('Aluno Reprovado')"
   ]
  },
  {
   "cell_type": "markdown",
   "metadata": {},
   "source": [
    "Porém existem casos que não são facilmente descritos por condições binárias sendo necessário um cojunto maior de condições a serem avaliadas. Para isso utilizamos a sintaxe ```elif``` que singnifica ``` else if ``` ou seja, quando a condição anterior for avaliada como ```False``` o código deverá avaliar mais uma condição antes da saída do algoritmo.\n",
    "\n",
    "A avaliação de velocidade de uma música pode receber alguns nomes, em casos de músicas com bpm (batida por minuto) maior ou igual a 40 usa-se o termo 'Largo', para músicas com bpm maior do que 60 utiliza-se 'Adagio', para músicas com bpm maior ou igual a 140 e menor ou igual a 200 utiliza-se 'Presto'. Como esse algoritmo avaliaria 4 músicas com bpms, 41, 75, 112 e 189?"
   ]
  },
  {
   "cell_type": "code",
   "execution_count": 1,
   "metadata": {},
   "outputs": [
    {
     "name": "stdout",
     "output_type": "stream",
     "text": [
      "Largo\n"
     ]
    }
   ],
   "source": [
    "bpm = 41\n",
    "\n",
    "if bpm >= 40 and bpm <= 60:\n",
    "    print('Largo')\n",
    "elif bpm > 60 and bpm <= 80:\n",
    "    print('Adagio')\n",
    "elif bpm >= 140 and bpm <= 200:\n",
    "    print('Presto')\n",
    "else:\n",
    "    print('BPM não determinado!')"
   ]
  },
  {
   "cell_type": "markdown",
   "metadata": {},
   "source": [
    "# Estruturas de Repetição\n",
    "___\n",
    "\n",
    "As estruturas de repetição (ou loops) são bastante utilizadas quando queremos executar um bloco de código até atingirmos uma condição específica, que pode ser o final de um objeto (final de lista), ou uma condição expressamente descrita. Existem duas estruturas de repretição que são utilizadas em códigos python. O loop ```for``` e o ```while```.\n",
    "\n",
    "## for\n",
    "\n",
    "O loop ```for``` percorre todo um objeto iterável e executa um bloco de código para cada um dos valores associados a uma variável determinada no próprio loop. Um exemplo de loop for aplicado a listas:"
   ]
  },
  {
   "cell_type": "code",
   "execution_count": 2,
   "metadata": {},
   "outputs": [
    {
     "name": "stdout",
     "output_type": "stream",
     "text": [
      "1\n",
      "2\n",
      "3\n",
      "4\n",
      "5\n",
      "6\n",
      "7\n",
      "8\n",
      "9\n",
      "10\n"
     ]
    }
   ],
   "source": [
    "ls = [1,2,3,4,5,6,7,8,9,10]\n",
    "\n",
    "for valor in ls:\n",
    "    print(valor)"
   ]
  },
  {
   "cell_type": "markdown",
   "metadata": {},
   "source": [
    "A sintaxe do loop começa com a palavra reservada seguida de uma variável temporária que é criada e utilizada durante a execução do loop, outra palavra reservada e o objeto iterável. A variável temporária é atualizada a cada iteração do loop, ou seja, a cada execução essa variável recebe um novo valor."
   ]
  },
  {
   "cell_type": "code",
   "execution_count": 3,
   "metadata": {},
   "outputs": [
    {
     "name": "stdout",
     "output_type": "stream",
     "text": [
      "1\n",
      "8\n",
      "27\n",
      "64\n",
      "125\n",
      "216\n",
      "343\n",
      "512\n",
      "729\n",
      "1000\n"
     ]
    }
   ],
   "source": [
    "for valor in ls:\n",
    "    print(valor**3)"
   ]
  },
  {
   "cell_type": "code",
   "execution_count": null,
   "metadata": {},
   "outputs": [],
   "source": [
    "## for com if\n",
    "\n",
    "for valor in ls:\n",
    "    if valor % 2 == 0:\n",
    "        print('Valor Múltiplo de 2')\n",
    "    else:\n",
    "        print(valor)"
   ]
  },
  {
   "cell_type": "markdown",
   "metadata": {},
   "source": [
    "Podemos utilizar a palavra reservada ```break``` para interromper o processo de iteração e execução do código. Vamos criar um algoritmo que avalie se cada valor de um lista é ou não divisível por 2, em caso positivo ele pega esse valor e o adiciona à variável ```soma``` quando a variável ```soma``` for maior do que 300 devemos para a execução."
   ]
  },
  {
   "cell_type": "code",
   "execution_count": null,
   "metadata": {},
   "outputs": [],
   "source": [
    "## for com break\n",
    "\n",
    "new_ls = list(range(1,500))\n",
    "\n",
    "soma = 0\n",
    "\n",
    "for valor in new_ls:\n",
    "  \n",
    "    if soma > 300:\n",
    "        break\n",
    "    \n",
    "    if valor % 2 == 0:\n",
    "        print(f\"O valor {valor} é válido!\")\n",
    "        print(f\"SOMA antes\", soma)\n",
    "        soma += valor\n",
    "        print(f\"SOMA depois {soma}\\n----------\")"
   ]
  },
  {
   "cell_type": "markdown",
   "metadata": {},
   "source": [
    "Podemos estruturas de repetição com strings. Elas são iteráveis a nível de caractere, ou seja, cada iteração será feita com um caractere do texto."
   ]
  },
  {
   "cell_type": "code",
   "execution_count": 4,
   "metadata": {},
   "outputs": [],
   "source": [
    "tweet = \"Bom dia, ótima semana a todos ...\""
   ]
  },
  {
   "cell_type": "code",
   "execution_count": null,
   "metadata": {},
   "outputs": [],
   "source": [
    "for x in tweet:\n",
    "    print(x)"
   ]
  },
  {
   "cell_type": "code",
   "execution_count": null,
   "metadata": {},
   "outputs": [],
   "source": [
    "ls_unidades = [1,2,3]\n",
    "ls_dezenas = [10,20,30]\n",
    "\n",
    "for unidade in ls_unidades:\n",
    "    for dezena in ls_dezenas:\n",
    "        print(dezena,unidade)"
   ]
  },
  {
   "cell_type": "markdown",
   "metadata": {},
   "source": [
    "É possível utilizar a palavra reservada ```else``` associada ao loop for.Quando ambas aparecem em um mesmo nível o bloco de código abaixo do ```else``` será executado ao final do loop for."
   ]
  },
  {
   "cell_type": "code",
   "execution_count": 5,
   "metadata": {},
   "outputs": [
    {
     "name": "stdout",
     "output_type": "stream",
     "text": [
      "Brasília\n",
      "Bananal\n",
      "São Paulo\n",
      "São Luís\n",
      "Acabaram as cidades\n"
     ]
    }
   ],
   "source": [
    "## for com else\n",
    "cidades = [\"Brasília\", \"Bananal\", \"São Paulo\", \"São Luís\"]\n",
    "\n",
    "for cidade in cidades:\n",
    "    print(cidade)\n",
    "\n",
    "else:\n",
    "    print(\"Acabaram as cidades\")"
   ]
  },
  {
   "cell_type": "markdown",
   "metadata": {},
   "source": [
    "Ao iterar (utilizando loop for) sobre listas é possível utilizar-se de uma sintaxe reduzida **chamada de compreensão de lista.** Ela é particularmente útil quando o resultado necessário também uma lista."
   ]
  },
  {
   "cell_type": "code",
   "execution_count": null,
   "metadata": {},
   "outputs": [],
   "source": [
    "## compreensão de lista\n",
    "\n",
    "ls = [1,2,3,4,5]\n",
    "new_ls = []\n",
    "\n",
    "for valor in ls:\n",
    "    new_ls.append(valor**3)"
   ]
  },
  {
   "cell_type": "code",
   "execution_count": null,
   "metadata": {},
   "outputs": [],
   "source": [
    "new_ls"
   ]
  },
  {
   "cell_type": "markdown",
   "metadata": {},
   "source": [
    "No exemplo acima, para termos o cubo de todos os valores de uma lista em outra é necessário iterar sobre cada um dos valores da lista ```ls```, instanciar uma lista vazia chamada ```new_ls``` e criarmos um ```loop for``` onde a cada iteração o cubo do valor é adicionado a ```new_ls```. Utilizando compreensão de lista conseguimos o mesmo resultado, porém com somente uma linha."
   ]
  },
  {
   "cell_type": "code",
   "execution_count": null,
   "metadata": {},
   "outputs": [],
   "source": [
    "## compreensão de lista\n",
    "\n",
    "new_ls = [valor**3 for valor in ls]\n",
    "new_ls"
   ]
  },
  {
   "cell_type": "markdown",
   "metadata": {},
   "source": [
    "Também é possível utilizar condições dentro de uma compreensão de lista."
   ]
  },
  {
   "cell_type": "code",
   "execution_count": null,
   "metadata": {},
   "outputs": [],
   "source": [
    "ls = [1,2,3,4,5]\n",
    "new_ls = []\n",
    "\n",
    "for valor in ls:\n",
    "    if valor % 2 == 0:\n",
    "        new_ls.append(valor**3)\n",
    "\n",
    "new_ls"
   ]
  },
  {
   "cell_type": "code",
   "execution_count": 6,
   "metadata": {},
   "outputs": [
    {
     "data": {
      "text/plain": [
       "[8, 64, 216, 512, 1000]"
      ]
     },
     "execution_count": 6,
     "metadata": {},
     "output_type": "execute_result"
    }
   ],
   "source": [
    "## usando somente if\n",
    "\n",
    "new_ls = [valor ** 3 for valor in ls if valor%2==0]\n",
    "new_ls"
   ]
  },
  {
   "cell_type": "code",
   "execution_count": 7,
   "metadata": {},
   "outputs": [
    {
     "data": {
      "text/plain": [
       "[0, 8, 0, 64, 0, 216, 0, 512, 0, 1000]"
      ]
     },
     "execution_count": 7,
     "metadata": {},
     "output_type": "execute_result"
    }
   ],
   "source": [
    "## usando if else\n",
    "\n",
    "new_ls = [valor ** 3 if valor%2==0 else 0 for valor in ls]\n",
    "new_ls"
   ]
  },
  {
   "cell_type": "markdown",
   "metadata": {},
   "source": [
    "Perceba que a sintaxe da compreensão de lista se altera de acordo com o uso somente do ```if``` ou do ```if ... else```."
   ]
  },
  {
   "cell_type": "markdown",
   "metadata": {},
   "source": [
    "### while\n",
    "\n",
    "Outra estrutura de repetição é o ```while``` que executa o bloco de código inúmeras vezes até que sua condição criadora se torne falsa ou que ele seja parado com ```break```."
   ]
  },
  {
   "cell_type": "code",
   "execution_count": null,
   "metadata": {},
   "outputs": [],
   "source": [
    "i = 10\n",
    "\n",
    "while i <= 100:\n",
    "    print(f\"O valor de 'i' é {i}.\")\n",
    "    i += 10"
   ]
  },
  {
   "cell_type": "markdown",
   "metadata": {},
   "source": [
    "O algoritmo acima printa o valor da variável ```i``` até que esse valor ultrapasse 100. A cada iteração a condição ```i <= 100``` é avaliada se o resultado dessa condição for ```True``` o código abaixo é executado, se for ```False``` o código não será executado e o algoritmo para."
   ]
  },
  {
   "cell_type": "code",
   "execution_count": null,
   "metadata": {},
   "outputs": [],
   "source": [
    "i = 10\n",
    "\n",
    "while i <= 100:\n",
    "    print(f\"O valor de 'i' é {i}.\")\n",
    "  \n",
    "    if i == 60:\n",
    "        print('Cheguei a 60, parando o loop.')\n",
    "        break\n",
    "\n",
    "    i += 10"
   ]
  },
  {
   "cell_type": "markdown",
   "metadata": {},
   "source": [
    "Podemos antecipadamente para a execução de um loop ```while``` com a palavra ```break```, nesse caso a condição pode continuar verdadeira, mas a execução foi interrompida."
   ]
  },
  {
   "cell_type": "code",
   "execution_count": null,
   "metadata": {},
   "outputs": [],
   "source": [
    "contador = 0\n",
    "soma = 0\n",
    "\n",
    "while contador <= 100:\n",
    "  \n",
    "    if soma >= 2600:\n",
    "        print(\"iteração \",contador)\n",
    "        print(\"soma \", soma)\n",
    "        break\n",
    "    else:\n",
    "        soma += contador\n",
    "    \n",
    "    contador += 1"
   ]
  },
  {
   "cell_type": "code",
   "execution_count": null,
   "metadata": {},
   "outputs": [],
   "source": [
    "clientes = 0\n",
    "valor_recebido = 0\n",
    "\n",
    "while valor_recebido < 100:\n",
    "    print('Venda mais!')\n",
    "    clientes += 1\n",
    "    valor_recebido = clientes * 4.99\n",
    "else:\n",
    "    print('Meta alcançada!!')\n",
    "    print('QTD DE CLIENTES',clientes)"
   ]
  },
  {
   "cell_type": "code",
   "execution_count": 8,
   "metadata": {},
   "outputs": [
    {
     "data": {
      "text/plain": [
       "50"
      ]
     },
     "execution_count": 8,
     "metadata": {},
     "output_type": "execute_result"
    }
   ],
   "source": [
    "primeira_lista = [1,2,3,4,5]\n",
    "\n",
    "i = 0\n",
    "\n",
    "ls = []\n",
    "\n",
    "while i < 10:\n",
    "    for valor in primeira_lista:\n",
    "        ls.append(valor)\n",
    "\n",
    "    i += 1\n",
    "\n",
    "len(ls)"
   ]
  },
  {
   "cell_type": "markdown",
   "metadata": {},
   "source": [
    "# Funções\n",
    "___\n",
    "\n",
    "Uma função é um bloco de código que só é executado quando chamado. Cada função tem um identificador e assim que definido estará sempre associado ao bloco de código. O ato de definir uma função não executa o seu código. Para criar um função basta utilizarmos a palavra reservada ```def```.\n",
    "\n",
    "Um cientista de dados define várias funções ao longo do seu dia-a-dia de trabalho. Em sua maioria, as funções criadas executam uma atividade única que será utilizadas uma grande quantidade de vezes. Funções de avaliação de métricas, tratamento de dados, avaliação de modelos, são exemplos de funcionalidades normalmente utilizadas para funções personalizadas."
   ]
  },
  {
   "cell_type": "code",
   "execution_count": null,
   "metadata": {},
   "outputs": [],
   "source": [
    "def minha_primeira_funcao():\n",
    "    print('O início de um sonho!')\n",
    "    for _ in range(5):\n",
    "        print('.')\n",
    "    print('Deu tudo certo!')"
   ]
  },
  {
   "cell_type": "code",
   "execution_count": null,
   "metadata": {},
   "outputs": [],
   "source": [
    "minha_primeira_funcao()"
   ]
  },
  {
   "cell_type": "code",
   "execution_count": null,
   "metadata": {},
   "outputs": [],
   "source": [
    "def hello_world():\n",
    "    print('Hello World!')\n",
    "\n",
    "hello_world()"
   ]
  },
  {
   "cell_type": "markdown",
   "metadata": {},
   "source": [
    "Funções podem receber valores pre-determinados chamados de parâmetros, cada parâmetro irá receber um argumento e esses argumentos podem ser enviados pelo usuário ou pode ser previamente determinado."
   ]
  },
  {
   "cell_type": "code",
   "execution_count": null,
   "metadata": {},
   "outputs": [],
   "source": [
    "def hello_person(nome):\n",
    "    print(f'Hello {nome}!')"
   ]
  },
  {
   "cell_type": "code",
   "execution_count": null,
   "metadata": {},
   "outputs": [],
   "source": [
    "hello_person(nome = 'Maria')"
   ]
  },
  {
   "cell_type": "code",
   "execution_count": null,
   "metadata": {},
   "outputs": [],
   "source": [
    "def calculadora(valor1,valor2,operacao):\n",
    "    if operacao == 'soma':\n",
    "        print(valor1+valor2)\n",
    "    elif operacao == 'divisao':\n",
    "        print(valor1/valor2)\n",
    "    elif operacao == 'multiplicacao':\n",
    "        print(valor1*valor2)\n",
    "    elif operacao == 'subtracao':\n",
    "        print(valor1-valor2)"
   ]
  },
  {
   "cell_type": "code",
   "execution_count": null,
   "metadata": {},
   "outputs": [],
   "source": [
    "calculadora(valor1=15,valor2=16)"
   ]
  },
  {
   "cell_type": "markdown",
   "metadata": {},
   "source": [
    "Na construção da função ```calculadora()``` existe o parâmetro ```operacao``` que não foi passado, logo recebemos o erro acima."
   ]
  },
  {
   "cell_type": "code",
   "execution_count": null,
   "metadata": {},
   "outputs": [],
   "source": [
    "calculadora(valor1=15,valor2=16,operacao='soma')"
   ]
  },
  {
   "cell_type": "code",
   "execution_count": null,
   "metadata": {},
   "outputs": [],
   "source": [
    "calculadora(15,16,'soma')"
   ]
  },
  {
   "cell_type": "code",
   "execution_count": null,
   "metadata": {},
   "outputs": [],
   "source": [
    "calculadora(operacao='soma',10,8)"
   ]
  },
  {
   "cell_type": "markdown",
   "metadata": {},
   "source": [
    "Os parâmetros de uma função podem ser passadas de forma posicional, ou seja, o primeiro valor será entregue ao primeiro parâmetro, o segundo valor ao segundo parâmetro e assim por diante. Porém, se iniciarmos a chamada de uma função de forma posicional não podemos alterar a forma de chamada."
   ]
  },
  {
   "cell_type": "code",
   "execution_count": null,
   "metadata": {},
   "outputs": [],
   "source": [
    "## criando valores padrões para argumentos\n",
    "\n",
    "def calculadora(valor1, valor2, operacao='soma'):\n",
    "\n",
    "    if operacao == 'soma':\n",
    "        print(valor1+valor2)\n",
    "    elif operacao == 'divisao':\n",
    "        print(valor1/valor2)\n",
    "    elif operacao == 'multiplicacao':\n",
    "        print(valor1*valor2)\n",
    "    elif operacao == 'subtracao':\n",
    "        print(valor1-valor2)"
   ]
  },
  {
   "cell_type": "code",
   "execution_count": 9,
   "metadata": {},
   "outputs": [
    {
     "ename": "NameError",
     "evalue": "name 'calculadora' is not defined",
     "output_type": "error",
     "traceback": [
      "\u001b[0;31m---------------------------------------------------------------------------\u001b[0m",
      "\u001b[0;31mNameError\u001b[0m                                 Traceback (most recent call last)",
      "\u001b[0;32m<ipython-input-9-8c961d9e6519>\u001b[0m in \u001b[0;36m<module>\u001b[0;34m\u001b[0m\n\u001b[0;32m----> 1\u001b[0;31m \u001b[0mcalculadora\u001b[0m\u001b[0;34m(\u001b[0m\u001b[0;36m100\u001b[0m\u001b[0;34m,\u001b[0m\u001b[0;36m10\u001b[0m\u001b[0;34m)\u001b[0m\u001b[0;34m\u001b[0m\u001b[0;34m\u001b[0m\u001b[0m\n\u001b[0m",
      "\u001b[0;31mNameError\u001b[0m: name 'calculadora' is not defined"
     ]
    }
   ],
   "source": [
    "calculadora(100,10)"
   ]
  },
  {
   "cell_type": "markdown",
   "metadata": {},
   "source": [
    "O resultado de uma função pode ser guardado em variáveis, porém para que isso ocorra precisamos expressar claramente o que será retornado pela função usando a palavra reservada ```return```. É bastante recomendado criar funções que tenham ```return```."
   ]
  },
  {
   "cell_type": "code",
   "execution_count": 10,
   "metadata": {},
   "outputs": [],
   "source": [
    "def minha_soma(valor1,valor2):\n",
    "    valor1+valor2\n",
    "\n",
    "def minha_soma_return(valor1,valor2):\n",
    "    resultado = valor1 + valor2\n",
    "\n",
    "    return resultado"
   ]
  },
  {
   "cell_type": "code",
   "execution_count": 11,
   "metadata": {},
   "outputs": [
    {
     "name": "stdout",
     "output_type": "stream",
     "text": [
      "None\n",
      "<class 'NoneType'>\n"
     ]
    }
   ],
   "source": [
    "x = minha_soma(10,10)\n",
    "print(x)\n",
    "print(type(x))"
   ]
  },
  {
   "cell_type": "code",
   "execution_count": 12,
   "metadata": {},
   "outputs": [
    {
     "name": "stdout",
     "output_type": "stream",
     "text": [
      "20\n",
      "<class 'int'>\n"
     ]
    }
   ],
   "source": [
    "x = minha_soma_return(10,10)\n",
    "print(x)\n",
    "print(type(x))"
   ]
  },
  {
   "cell_type": "markdown",
   "metadata": {},
   "source": [
    "Também é possivel criar arquivos ```.py``` com as nossas funções e utiliza-las após importação. O arquivo ```minhas_funcs.py``` na pasta ```src``` tem a função ```func1```. Podemos utilizar essa função neste notebook mesmo que ela não tenha sido criada aqui, para isso utilizamos a palavra reservada ```import``` passando o nome da pasta e do arquivo onde a função desejada etá."
   ]
  },
  {
   "cell_type": "code",
   "execution_count": 13,
   "metadata": {},
   "outputs": [],
   "source": [
    "from src.minhas_funcs import func1"
   ]
  },
  {
   "cell_type": "code",
   "execution_count": 14,
   "metadata": {},
   "outputs": [
    {
     "data": {
      "text/plain": [
       "3.1622776601683795"
      ]
     },
     "execution_count": 14,
     "metadata": {},
     "output_type": "execute_result"
    }
   ],
   "source": [
    "func1(10,12)"
   ]
  },
  {
   "cell_type": "code",
   "execution_count": 15,
   "metadata": {},
   "outputs": [
    {
     "data": {
      "text/plain": [
       "144"
      ]
     },
     "execution_count": 15,
     "metadata": {},
     "output_type": "execute_result"
    }
   ],
   "source": [
    "func1(12,10)"
   ]
  }
 ],
 "metadata": {
  "colab": {
   "collapsed_sections": [
    "XrxnotkOffp6",
    "6U8ou0VTJdtq"
   ],
   "name": "FUNDAMENTOS-PYTHON-ANATEL.ipynb",
   "provenance": []
  },
  "kernelspec": {
   "display_name": "Python 3",
   "language": "python",
   "name": "python3"
  },
  "language_info": {
   "codemirror_mode": {
    "name": "ipython",
    "version": 3
   },
   "file_extension": ".py",
   "mimetype": "text/x-python",
   "name": "python",
   "nbconvert_exporter": "python",
   "pygments_lexer": "ipython3",
   "version": "3.8.5"
  }
 },
 "nbformat": 4,
 "nbformat_minor": 4
}
