{
 "cells": [
  {
   "cell_type": "markdown",
   "id": "27cc3ec0",
   "metadata": {},
   "source": [
    "# Pandas\n",
    "___\n",
    "\n",
    "O Pandas é uma das principais bibliotecas utilizadas nos trabalhos de ciência de dados no dia-a-dia. Ele trabalha com dados de forma tabular e é bastante comparado ao excel. Suas duas principais estruturas de dados são a ```series``` e o ```dataframe (df)```, o primeiro é criado através de um array de uma dimensão e o segundo com arrays de duas dimensões.\n",
    "\n",
    "O Pandas tem seus prós e contras, dentre seus prós temos a quantidade enorme de funções para criar, ler, salvar. transformar e tratar dados tabulares, tem uma sintaxe fácil e permite o encadeamento de métodos (method chaining). Dentre seus contras temos a ineficiência de memória para se trabalhar com grandes datasets (big data), porém existem outras bibliotecas parecidas com sintaxe parecida que trabalham com grandes quantidades de dados (Vaex e Dask).\n",
    "\n",
    "Entender Pandas é totalmente necessário visto que é bem mais normal trabalharmos com massas de dados não tão grandes e todas as bibliotecas que trabalham com bigdata em python possuem uma classe chamada dataframe. A familiaridade com pandas é necessária para cientistas de dados iniciantes até para os mais sêniores."
   ]
  },
  {
   "cell_type": "markdown",
   "id": "7ea4c0ca",
   "metadata": {},
   "source": [
    "# Importação\n",
    "___\n",
    "\n",
    "Para importar o pandas basta utilizar o código:\n",
    "\n",
    "```python\n",
    "import pandas as pd \n",
    "```\n",
    "\n",
    "O alias ``pd`` é comumente utilizado e por convenção se mantém consistente ao longo de códigos escritos em python nas mais diversas formas."
   ]
  },
  {
   "cell_type": "code",
   "execution_count": 1,
   "id": "8c730f0b",
   "metadata": {},
   "outputs": [],
   "source": [
    "## importando o pandas\n",
    "\n",
    "import pandas as pd\n",
    "\n",
    "## importando o numpy e definindo a seed aleatória\n",
    "\n",
    "import numpy as np\n",
    "np.random.seed(42)"
   ]
  },
  {
   "cell_type": "markdown",
   "id": "2e6e7794",
   "metadata": {
    "tags": []
   },
   "source": [
    "# Dados\n",
    "___\n",
    "\n",
    "Para executar nosso trabalho iremos utilizar o dataset ```crime_data_from_2020_to_present.csv```. A referência para o entendimento de cada colunas pode ser encontrado em [kaggle](https://www.kaggle.com/susant4learning/crime-in-los-angeles-data-from-2020-to-present)."
   ]
  },
  {
   "cell_type": "markdown",
   "id": "c71cd11e",
   "metadata": {},
   "source": [
    "# Series\n",
    "___\n",
    "\n",
    "Series são conjuntos de dados de uma dimensão criados a partir de arrays (também de uma dimensão), são a base do pandas e possuem 4 características básicas:\n",
    "\n",
    "* dados (data)\n",
    "* indíces (index)\n",
    "* tipo do dado (dtype)\n",
    "* nome (name)\n",
    "\n",
    "As várias funções e métodos do pandas podem ser utilizados em séries, dataframes ou em ambos, basta consultar a a [documentação de referência](https://pandas.pydata.org/docs/reference/index.html#api) para entender.\n",
    "\n",
    "Para criar uma série basta utilizar a função:\n",
    "\n",
    "```python \n",
    "pd.Series(data,index,dtype,name)\n",
    "```"
   ]
  },
  {
   "cell_type": "code",
   "execution_count": 2,
   "id": "bb52b6d6",
   "metadata": {},
   "outputs": [
    {
     "data": {
      "text/plain": [
       "array([88, 78, 64, 92, 57, 70, 88, 68, 72, 60, 60, 73, 85, 89, 73, 52, 71,\n",
       "       51, 73, 93, 79, 87, 51, 70])"
      ]
     },
     "execution_count": 2,
     "metadata": {},
     "output_type": "execute_result"
    }
   ],
   "source": [
    "## criando um array\n",
    "\n",
    "arr = np.random.randint(50,100,size=24)\n",
    "arr"
   ]
  },
  {
   "cell_type": "code",
   "execution_count": 3,
   "id": "d94c8b51",
   "metadata": {},
   "outputs": [
    {
     "data": {
      "text/plain": [
       "0     88\n",
       "1     78\n",
       "2     64\n",
       "3     92\n",
       "4     57\n",
       "5     70\n",
       "6     88\n",
       "7     68\n",
       "8     72\n",
       "9     60\n",
       "10    60\n",
       "11    73\n",
       "12    85\n",
       "13    89\n",
       "14    73\n",
       "15    52\n",
       "16    71\n",
       "17    51\n",
       "18    73\n",
       "19    93\n",
       "20    79\n",
       "21    87\n",
       "22    51\n",
       "23    70\n",
       "Name: pesos, dtype: int64"
      ]
     },
     "execution_count": 3,
     "metadata": {},
     "output_type": "execute_result"
    }
   ],
   "source": [
    "## criando uma série\n",
    "\n",
    "pesos =  pd.Series(data=arr, index=range(0,24), dtype=int, name='pesos')\n",
    "pesos"
   ]
  },
  {
   "cell_type": "markdown",
   "id": "459ff1b3",
   "metadata": {},
   "source": [
    "É possível acessar cada uma das características de uma série através dos métodos com seus respectivos nomes."
   ]
  },
  {
   "cell_type": "code",
   "execution_count": 4,
   "id": "909b797f",
   "metadata": {},
   "outputs": [
    {
     "data": {
      "text/plain": [
       "array([88, 78, 64, 92, 57, 70, 88, 68, 72, 60, 60, 73, 85, 89, 73, 52, 71,\n",
       "       51, 73, 93, 79, 87, 51, 70])"
      ]
     },
     "execution_count": 4,
     "metadata": {},
     "output_type": "execute_result"
    }
   ],
   "source": [
    "## acessando os dados da série\n",
    "\n",
    "pesos.values"
   ]
  },
  {
   "cell_type": "code",
   "execution_count": 5,
   "id": "bde76f77",
   "metadata": {},
   "outputs": [
    {
     "data": {
      "text/plain": [
       "RangeIndex(start=0, stop=24, step=1)"
      ]
     },
     "execution_count": 5,
     "metadata": {},
     "output_type": "execute_result"
    }
   ],
   "source": [
    "## acessando os indices da série\n",
    "\n",
    "pesos.index"
   ]
  },
  {
   "cell_type": "code",
   "execution_count": 6,
   "id": "a2a700a8",
   "metadata": {},
   "outputs": [
    {
     "data": {
      "text/plain": [
       "dtype('int64')"
      ]
     },
     "execution_count": 6,
     "metadata": {},
     "output_type": "execute_result"
    }
   ],
   "source": [
    "## acessando o tipo dos dados da série\n",
    "\n",
    "pesos.dtype"
   ]
  },
  {
   "cell_type": "code",
   "execution_count": 7,
   "id": "40c87003",
   "metadata": {},
   "outputs": [
    {
     "data": {
      "text/plain": [
       "'pesos'"
      ]
     },
     "execution_count": 7,
     "metadata": {},
     "output_type": "execute_result"
    }
   ],
   "source": [
    "## acessando o nome da série\n",
    "\n",
    "pesos.name"
   ]
  },
  {
   "cell_type": "markdown",
   "id": "e0c294ae",
   "metadata": {},
   "source": [
    "# Operações com Séries\n",
    "___\n",
    "\n",
    "As operações com séries funcionam da mesma forma das operações com arrays. Toda a comodidade dos arrays é replicada para séries."
   ]
  },
  {
   "cell_type": "code",
   "execution_count": 8,
   "id": "b84f922d",
   "metadata": {},
   "outputs": [
    {
     "data": {
      "text/plain": [
       "0     50\n",
       "1     61\n",
       "2     61\n",
       "3     66\n",
       "4     59\n",
       "5     65\n",
       "6     64\n",
       "7     64\n",
       "8     68\n",
       "9     61\n",
       "10    69\n",
       "11    52\n",
       "12    54\n",
       "13    68\n",
       "14    56\n",
       "15    58\n",
       "16    56\n",
       "17    67\n",
       "18    53\n",
       "19    63\n",
       "20    67\n",
       "21    58\n",
       "22    51\n",
       "23    69\n",
       "Name: height*10(foot), dtype: int64"
      ]
     },
     "execution_count": 8,
     "metadata": {},
     "output_type": "execute_result"
    }
   ],
   "source": [
    "## criando um array dos alturas e sua respectiva série\n",
    "\n",
    "arr_alturas = np.random.randint(50,70,size=24)\n",
    "alturas = pd.Series(arr_alturas,name='height*10(foot)')\n",
    "alturas"
   ]
  },
  {
   "cell_type": "code",
   "execution_count": 9,
   "id": "6df042f6",
   "metadata": {},
   "outputs": [
    {
     "data": {
      "text/plain": [
       "0     152.400\n",
       "1     185.928\n",
       "2     185.928\n",
       "3     201.168\n",
       "4     179.832\n",
       "5     198.120\n",
       "6     195.072\n",
       "7     195.072\n",
       "8     207.264\n",
       "9     185.928\n",
       "10    210.312\n",
       "11    158.496\n",
       "12    164.592\n",
       "13    207.264\n",
       "14    170.688\n",
       "15    176.784\n",
       "16    170.688\n",
       "17    204.216\n",
       "18    161.544\n",
       "19    192.024\n",
       "20    204.216\n",
       "21    176.784\n",
       "22    155.448\n",
       "23    210.312\n",
       "Name: altura(cm), dtype: float64"
      ]
     },
     "execution_count": 9,
     "metadata": {},
     "output_type": "execute_result"
    }
   ],
   "source": [
    "## transformando a altura de foot para cm\n",
    "\n",
    "alturas = (alturas/10)*30.48\n",
    "alturas.name = 'altura(cm)'\n",
    "alturas"
   ]
  },
  {
   "cell_type": "markdown",
   "id": "3e21085f",
   "metadata": {},
   "source": [
    "Para executar operações entre duas séries é necessário que ambas possuam o mesmo shape. Nos casos de operações entre séries com shapes diferentes é criado um valor nulo no local."
   ]
  },
  {
   "cell_type": "code",
   "execution_count": 10,
   "id": "c5ee9871",
   "metadata": {},
   "outputs": [
    {
     "data": {
      "text/plain": [
       "0     0.779193\n",
       "1    -1.101098\n",
       "2     1.130228\n",
       "3     0.373119\n",
       "4    -0.386473\n",
       "5    -1.158770\n",
       "6     0.566113\n",
       "7    -0.704453\n",
       "8    -1.377939\n",
       "9    -0.353117\n",
       "10   -0.461466\n",
       "11    0.066657\n",
       "Name: correcao_altura(cm), dtype: float64"
      ]
     },
     "execution_count": 10,
     "metadata": {},
     "output_type": "execute_result"
    }
   ],
   "source": [
    "## criando a série com a correção das alturas\n",
    "\n",
    "correcao_altura = pd.Series(np.random.normal(size=12),name='correcao_altura(cm)')\n",
    "correcao_altura"
   ]
  },
  {
   "cell_type": "code",
   "execution_count": 11,
   "id": "f2992880",
   "metadata": {},
   "outputs": [
    {
     "data": {
      "text/plain": [
       "0     153.179193\n",
       "1     184.826902\n",
       "2     187.058228\n",
       "3     201.541119\n",
       "4     179.445527\n",
       "5     196.961230\n",
       "6     195.638113\n",
       "7     194.367547\n",
       "8     205.886061\n",
       "9     185.574883\n",
       "10    209.850534\n",
       "11    158.562657\n",
       "12           NaN\n",
       "13           NaN\n",
       "14           NaN\n",
       "15           NaN\n",
       "16           NaN\n",
       "17           NaN\n",
       "18           NaN\n",
       "19           NaN\n",
       "20           NaN\n",
       "21           NaN\n",
       "22           NaN\n",
       "23           NaN\n",
       "dtype: float64"
      ]
     },
     "execution_count": 11,
     "metadata": {},
     "output_type": "execute_result"
    }
   ],
   "source": [
    "alturas + correcao_altura"
   ]
  },
  {
   "cell_type": "markdown",
   "id": "7e4ada7b",
   "metadata": {},
   "source": [
    "Caso exista necessidade de adicionar valores a uma série, podemos utilizar o método:\n",
    "\n",
    "```python\n",
    ".append()\n",
    "```\n",
    "\n",
    "Vale notar que o método acima só aceita outra série e não arrays ou listas."
   ]
  },
  {
   "cell_type": "code",
   "execution_count": 12,
   "id": "f168641d",
   "metadata": {},
   "outputs": [
    {
     "data": {
      "text/plain": [
       "0     0.779193\n",
       "1    -1.101098\n",
       "2     1.130228\n",
       "3     0.373119\n",
       "4    -0.386473\n",
       "5    -1.158770\n",
       "6     0.566113\n",
       "7    -0.704453\n",
       "8    -1.377939\n",
       "9    -0.353117\n",
       "10   -0.461466\n",
       "11    0.066657\n",
       "12   -0.176286\n",
       "13    1.200893\n",
       "14    0.698399\n",
       "15   -0.171629\n",
       "16   -0.907187\n",
       "17    1.188626\n",
       "18    0.785532\n",
       "19    2.656010\n",
       "20    0.263486\n",
       "21    1.641771\n",
       "22    0.460816\n",
       "23    0.085923\n",
       "dtype: float64"
      ]
     },
     "execution_count": 12,
     "metadata": {},
     "output_type": "execute_result"
    }
   ],
   "source": [
    "## criando a série para append\n",
    "serie_para_append = pd.Series(np.random.normal(size=12))\n",
    "\n",
    "\n",
    "## dando append na série correcao_altura ignorando os índices\n",
    "\n",
    "correcao_altura = correcao_altura.append(serie_para_append,ignore_index=True)\n",
    "correcao_altura"
   ]
  },
  {
   "cell_type": "code",
   "execution_count": 13,
   "id": "a2b42034",
   "metadata": {},
   "outputs": [
    {
     "data": {
      "text/plain": [
       "0     153.179193\n",
       "1     184.826902\n",
       "2     187.058228\n",
       "3     201.541119\n",
       "4     179.445527\n",
       "5     196.961230\n",
       "6     195.638113\n",
       "7     194.367547\n",
       "8     205.886061\n",
       "9     185.574883\n",
       "10    209.850534\n",
       "11    158.562657\n",
       "12    164.415714\n",
       "13    208.464893\n",
       "14    171.386399\n",
       "15    176.612371\n",
       "16    169.780813\n",
       "17    205.404626\n",
       "18    162.329532\n",
       "19    194.680010\n",
       "20    204.479486\n",
       "21    178.425771\n",
       "22    155.908816\n",
       "23    210.397923\n",
       "dtype: float64"
      ]
     },
     "execution_count": 13,
     "metadata": {},
     "output_type": "execute_result"
    }
   ],
   "source": [
    "## corrigindo alturas\n",
    "\n",
    "alturas = alturas + correcao_altura\n",
    "alturas"
   ]
  },
  {
   "cell_type": "markdown",
   "id": "530c3ac1",
   "metadata": {},
   "source": [
    "Também é possível executar operações lógicas com séries e o retorno são também series de valores booleanos."
   ]
  },
  {
   "cell_type": "code",
   "execution_count": 17,
   "id": "bd86b0f8",
   "metadata": {},
   "outputs": [
    {
     "data": {
      "text/plain": [
       "0     False\n",
       "1     False\n",
       "2     False\n",
       "3      True\n",
       "4     False\n",
       "5      True\n",
       "6      True\n",
       "7      True\n",
       "8      True\n",
       "9     False\n",
       "10     True\n",
       "11    False\n",
       "12    False\n",
       "13     True\n",
       "14    False\n",
       "15    False\n",
       "16    False\n",
       "17     True\n",
       "18    False\n",
       "19     True\n",
       "20     True\n",
       "21    False\n",
       "22    False\n",
       "23     True\n",
       "dtype: bool"
      ]
     },
     "execution_count": 17,
     "metadata": {},
     "output_type": "execute_result"
    }
   ],
   "source": [
    "alturas > 190"
   ]
  },
  {
   "cell_type": "code",
   "execution_count": 21,
   "id": "c180113c",
   "metadata": {},
   "outputs": [
    {
     "ename": "ValueError",
     "evalue": "The truth value of a Series is ambiguous. Use a.empty, a.bool(), a.item(), a.any() or a.all().",
     "output_type": "error",
     "traceback": [
      "\u001b[0;31m---------------------------------------------------------------------------\u001b[0m",
      "\u001b[0;31mValueError\u001b[0m                                Traceback (most recent call last)",
      "\u001b[0;32m<ipython-input-21-87a081125f3c>\u001b[0m in \u001b[0;36m<module>\u001b[0;34m\u001b[0m\n\u001b[1;32m      1\u001b[0m \u001b[0;31m## utilizando condições lógicas mais complexas\u001b[0m\u001b[0;34m\u001b[0m\u001b[0;34m\u001b[0m\u001b[0;34m\u001b[0m\u001b[0m\n\u001b[1;32m      2\u001b[0m \u001b[0;34m\u001b[0m\u001b[0m\n\u001b[0;32m----> 3\u001b[0;31m \u001b[0malturas\u001b[0m \u001b[0;34m>\u001b[0m \u001b[0;36m190\u001b[0m \u001b[0;32mand\u001b[0m \u001b[0;32mnot\u001b[0m \u001b[0malturas\u001b[0m \u001b[0;34m<\u001b[0m \u001b[0;36m200\u001b[0m\u001b[0;34m\u001b[0m\u001b[0;34m\u001b[0m\u001b[0m\n\u001b[0m",
      "\u001b[0;32m~/miniconda3/lib/python3.8/site-packages/pandas/core/generic.py\u001b[0m in \u001b[0;36m__nonzero__\u001b[0;34m(self)\u001b[0m\n\u001b[1;32m   1440\u001b[0m     \u001b[0;34m@\u001b[0m\u001b[0mfinal\u001b[0m\u001b[0;34m\u001b[0m\u001b[0;34m\u001b[0m\u001b[0m\n\u001b[1;32m   1441\u001b[0m     \u001b[0;32mdef\u001b[0m \u001b[0m__nonzero__\u001b[0m\u001b[0;34m(\u001b[0m\u001b[0mself\u001b[0m\u001b[0;34m)\u001b[0m\u001b[0;34m:\u001b[0m\u001b[0;34m\u001b[0m\u001b[0;34m\u001b[0m\u001b[0m\n\u001b[0;32m-> 1442\u001b[0;31m         raise ValueError(\n\u001b[0m\u001b[1;32m   1443\u001b[0m             \u001b[0;34mf\"The truth value of a {type(self).__name__} is ambiguous. \"\u001b[0m\u001b[0;34m\u001b[0m\u001b[0;34m\u001b[0m\u001b[0m\n\u001b[1;32m   1444\u001b[0m             \u001b[0;34m\"Use a.empty, a.bool(), a.item(), a.any() or a.all().\"\u001b[0m\u001b[0;34m\u001b[0m\u001b[0;34m\u001b[0m\u001b[0m\n",
      "\u001b[0;31mValueError\u001b[0m: The truth value of a Series is ambiguous. Use a.empty, a.bool(), a.item(), a.any() or a.all()."
     ]
    }
   ],
   "source": [
    "## utilizando condições lógicas mais complexas\n",
    "\n",
    "alturas > 190 and alturas < 200"
   ]
  },
  {
   "cell_type": "markdown",
   "id": "17348b3b",
   "metadata": {},
   "source": [
    "As condições lógicas mais complexas utilizando ```not and or``` no pandas são representadas por outros operadores, respectivamente ```~ & \\```."
   ]
  },
  {
   "cell_type": "code",
   "execution_count": 25,
   "id": "418ef0ee",
   "metadata": {},
   "outputs": [
    {
     "data": {
      "text/plain": [
       "0     False\n",
       "1     False\n",
       "2     False\n",
       "3     False\n",
       "4     False\n",
       "5      True\n",
       "6      True\n",
       "7      True\n",
       "8     False\n",
       "9     False\n",
       "10    False\n",
       "11    False\n",
       "12    False\n",
       "13    False\n",
       "14    False\n",
       "15    False\n",
       "16    False\n",
       "17    False\n",
       "18    False\n",
       "19     True\n",
       "20    False\n",
       "21    False\n",
       "22    False\n",
       "23    False\n",
       "dtype: bool"
      ]
     },
     "execution_count": 25,
     "metadata": {},
     "output_type": "execute_result"
    }
   ],
   "source": [
    "## utilizando and &\n",
    "\n",
    "(alturas > 190) & (alturas < 200)"
   ]
  },
  {
   "cell_type": "code",
   "execution_count": 29,
   "id": "880ccbec",
   "metadata": {},
   "outputs": [
    {
     "data": {
      "text/plain": [
       "0      True\n",
       "1      True\n",
       "2      True\n",
       "3      True\n",
       "4      True\n",
       "5     False\n",
       "6     False\n",
       "7     False\n",
       "8      True\n",
       "9      True\n",
       "10     True\n",
       "11     True\n",
       "12     True\n",
       "13     True\n",
       "14     True\n",
       "15     True\n",
       "16     True\n",
       "17     True\n",
       "18     True\n",
       "19    False\n",
       "20     True\n",
       "21     True\n",
       "22     True\n",
       "23     True\n",
       "dtype: bool"
      ]
     },
     "execution_count": 29,
     "metadata": {},
     "output_type": "execute_result"
    }
   ],
   "source": [
    "~( (alturas > 190) & (alturas < 200) )"
   ]
  }
 ],
 "metadata": {
  "kernelspec": {
   "display_name": "Python 3",
   "language": "python",
   "name": "python3"
  },
  "language_info": {
   "codemirror_mode": {
    "name": "ipython",
    "version": 3
   },
   "file_extension": ".py",
   "mimetype": "text/x-python",
   "name": "python",
   "nbconvert_exporter": "python",
   "pygments_lexer": "ipython3",
   "version": "3.8.5"
  }
 },
 "nbformat": 4,
 "nbformat_minor": 5
}
