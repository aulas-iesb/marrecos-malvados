{
 "cells": [
  {
   "cell_type": "markdown",
   "id": "5772ccce",
   "metadata": {},
   "source": [
    "# Pandas\n",
    "___\n",
    "\n",
    "O Pandas é uma das principais bibliotecas utilizadas nos trabalhos de ciência de dados no dia-a-dia. Ele trabalha com dados de forma tabular e é bastante comparado ao excel. Suas duas principais estruturas de dados são a ```series``` e o ```dataframe (df)```, o primeiro é criado através de um array de uma dimensão e o segundo com arrays de duas dimensões.\n",
    "\n",
    "O Pandas tem seus prós e contras, dentre seus prós temos a quantidade enorme de funções para criar, ler, salvar. transformar e tratar dados tabulares, tem uma sintaxe fácil e permite o encadeamento de métodos (method chaining). Dentre seus contras temos a ineficiência de memória para se trabalhar com grandes datasets (big data), porém existem outras bibliotecas parecidas com sintaxe parecida que trabalham com grandes quantidades de dados (Vaex e Dask).\n",
    "\n",
    "Entender Pandas é totalmente necessário visto que é bem mais normal trabalharmos com massas de dados não tão grandes e todas as bibliotecas que trabalham com bigdata em python possuem uma classe chamada dataframe. A familiaridade com pandas é necessária para cientistas de dados iniciantes até para os mais sêniores."
   ]
  },
  {
   "cell_type": "markdown",
   "id": "e38e3dec",
   "metadata": {},
   "source": [
    "# Importação\n",
    "___\n",
    "\n",
    "Para importar o pandas basta utilizar o código:\n",
    "\n",
    "```python\n",
    "import pandas as pd \n",
    "```\n",
    "\n",
    "O alias ``pd`` é comumente utilizado e por convenção se mantém consistente ao longo de códigos escritos em python nas mais diversas formas."
   ]
  },
  {
   "cell_type": "code",
   "execution_count": 1,
   "id": "0d53bac5",
   "metadata": {},
   "outputs": [],
   "source": [
    "## importando o pandas\n",
    "\n",
    "import pandas as pd\n",
    "\n",
    "## importando o numpy e definindo a seed aleatória\n",
    "\n",
    "import numpy as np\n",
    "np.random.seed(42)\n",
    "\n",
    "## ignorando alguns warnings\n",
    "\n",
    "import warnings\n",
    "warnings.filterwarnings(\"ignore\")"
   ]
  },
  {
   "cell_type": "markdown",
   "id": "6f4bb520",
   "metadata": {
    "tags": []
   },
   "source": [
    "# Dados\n",
    "___\n",
    "\n",
    "Para executar nosso trabalho iremos utilizar os datasets:\n",
    "\n",
    "> ```crime_data_from_2020_to_present.csv```. A referência para o entendimento de cada colunas pode ser encontrado em [kaggle](https://www.kaggle.com/susant4learning/crime-in-los-angeles-data-from-2020-to-present). \n",
    "\n",
    ">```carros.csv``` que descreve as características de alguns carros juntamente com seus preços de venda (esse dataset foi adaptado de [kaggle](https://www.kaggle.com/adityadesai13/used-car-dataset-ford-and-mercedes)).\n",
    "\n",
    "> ```titanic.csv``` que descreve cada um dos passageiros do Titanic e se sobreviveram ou não ao seu desastre. A referência com a descrição de cada coluna pode ser encontrada em [kaggle](https://www.kaggle.com/c/titanic/data).\n",
    "\n",
    "\n",
    "> ```googleplaystore_user_reviews.csv``` contendo as avaliações e resultados da análise de sentimento de 1074 aplicativos diferentes da loja de aplicativos da google. [kaggle](https://www.kaggle.com/lava18/google-play-store-apps?select=googleplaystore_user_reviews.csv)."
   ]
  },
  {
   "cell_type": "markdown",
   "id": "7ac57203",
   "metadata": {},
   "source": [
    "# Series\n",
    "___\n",
    "\n",
    "Series são conjuntos de dados de uma dimensão criados a partir de arrays (também de uma dimensão), são a base do pandas e possuem 4 características básicas:\n",
    "\n",
    "* dados (data)\n",
    "* indíces (index)\n",
    "* tipo do dado (dtype)\n",
    "* nome (name)\n",
    "\n",
    "As várias funções e métodos do pandas podem ser utilizados em séries, dataframes ou em ambos, basta consultar a a [documentação de referência](https://pandas.pydata.org/docs/reference/index.html#api) para entender.\n",
    "\n",
    "Para criar uma série basta utilizar a função:\n",
    "\n",
    "```python \n",
    "pd.Series(data,index,dtype,name)\n",
    "```"
   ]
  },
  {
   "cell_type": "code",
   "execution_count": 15,
   "id": "1d2294e7",
   "metadata": {},
   "outputs": [
    {
     "data": {
      "text/plain": [
       "array([53, 85, 55, 80, 68, 93, 88, 76, 59, 75, 68, 88, 52, 94, 62, 99, 77,\n",
       "       69, 77, 57, 90, 88, 50, 52])"
      ]
     },
     "execution_count": 15,
     "metadata": {},
     "output_type": "execute_result"
    }
   ],
   "source": [
    "## criando um array\n",
    "\n",
    "arr = np.random.randint(50,100,size=24)\n",
    "arr"
   ]
  },
  {
   "cell_type": "code",
   "execution_count": 16,
   "id": "6033ec62",
   "metadata": {},
   "outputs": [
    {
     "data": {
      "text/plain": [
       "0     53\n",
       "1     85\n",
       "2     55\n",
       "3     80\n",
       "4     68\n",
       "5     93\n",
       "6     88\n",
       "7     76\n",
       "8     59\n",
       "9     75\n",
       "10    68\n",
       "11    88\n",
       "12    52\n",
       "13    94\n",
       "14    62\n",
       "15    99\n",
       "16    77\n",
       "17    69\n",
       "18    77\n",
       "19    57\n",
       "20    90\n",
       "21    88\n",
       "22    50\n",
       "23    52\n",
       "Name: pesos, dtype: int64"
      ]
     },
     "execution_count": 16,
     "metadata": {},
     "output_type": "execute_result"
    }
   ],
   "source": [
    "## criando uma série\n",
    "\n",
    "pesos =  pd.Series(data=arr, index=range(0,24), dtype=int, name='pesos')\n",
    "pesos"
   ]
  },
  {
   "cell_type": "markdown",
   "id": "21cfd16d",
   "metadata": {},
   "source": [
    "É possível acessar cada uma das características de uma série através dos métodos com seus respectivos nomes."
   ]
  },
  {
   "cell_type": "code",
   "execution_count": 17,
   "id": "33a28b81",
   "metadata": {},
   "outputs": [
    {
     "data": {
      "text/plain": [
       "array([53, 85, 55, 80, 68, 93, 88, 76, 59, 75, 68, 88, 52, 94, 62, 99, 77,\n",
       "       69, 77, 57, 90, 88, 50, 52])"
      ]
     },
     "execution_count": 17,
     "metadata": {},
     "output_type": "execute_result"
    }
   ],
   "source": [
    "## acessando os dados da série\n",
    "\n",
    "pesos.values"
   ]
  },
  {
   "cell_type": "code",
   "execution_count": 18,
   "id": "633bdde5",
   "metadata": {},
   "outputs": [
    {
     "data": {
      "text/plain": [
       "RangeIndex(start=0, stop=24, step=1)"
      ]
     },
     "execution_count": 18,
     "metadata": {},
     "output_type": "execute_result"
    }
   ],
   "source": [
    "## acessando os indices da série\n",
    "\n",
    "pesos.index"
   ]
  },
  {
   "cell_type": "code",
   "execution_count": 19,
   "id": "529bb241",
   "metadata": {},
   "outputs": [
    {
     "data": {
      "text/plain": [
       "dtype('int64')"
      ]
     },
     "execution_count": 19,
     "metadata": {},
     "output_type": "execute_result"
    }
   ],
   "source": [
    "## acessando o tipo dos dados da série\n",
    "\n",
    "pesos.dtype"
   ]
  },
  {
   "cell_type": "code",
   "execution_count": 20,
   "id": "7c5f3826",
   "metadata": {},
   "outputs": [
    {
     "data": {
      "text/plain": [
       "'pesos'"
      ]
     },
     "execution_count": 20,
     "metadata": {},
     "output_type": "execute_result"
    }
   ],
   "source": [
    "## acessando o nome da série\n",
    "\n",
    "pesos.name"
   ]
  },
  {
   "cell_type": "markdown",
   "id": "6299e37b",
   "metadata": {},
   "source": [
    "# Operações com Séries\n",
    "___\n",
    "\n",
    "As operações com séries funcionam da mesma forma das operações com arrays. Toda a comodidade dos arrays é replicada para séries."
   ]
  },
  {
   "cell_type": "code",
   "execution_count": 58,
   "id": "04583935",
   "metadata": {},
   "outputs": [
    {
     "data": {
      "text/plain": [
       "0     53\n",
       "1     59\n",
       "2     52\n",
       "3     58\n",
       "4     62\n",
       "5     67\n",
       "6     64\n",
       "7     53\n",
       "8     64\n",
       "9     51\n",
       "10    64\n",
       "11    57\n",
       "12    57\n",
       "13    66\n",
       "14    61\n",
       "15    68\n",
       "16    59\n",
       "17    58\n",
       "18    54\n",
       "19    55\n",
       "20    69\n",
       "21    51\n",
       "22    62\n",
       "23    55\n",
       "Name: height*10(foot), dtype: int64"
      ]
     },
     "execution_count": 58,
     "metadata": {},
     "output_type": "execute_result"
    }
   ],
   "source": [
    "## criando um array dos alturas e sua respectiva série\n",
    "\n",
    "arr_alturas = np.random.randint(50,70,size=24)\n",
    "alturas = pd.Series(arr_alturas,name='height*10(foot)')\n",
    "alturas"
   ]
  },
  {
   "cell_type": "code",
   "execution_count": 59,
   "id": "099187d2",
   "metadata": {},
   "outputs": [
    {
     "data": {
      "text/plain": [
       "0     161.544\n",
       "1     179.832\n",
       "2     158.496\n",
       "3     176.784\n",
       "4     188.976\n",
       "5     204.216\n",
       "6     195.072\n",
       "7     161.544\n",
       "8     195.072\n",
       "9     155.448\n",
       "10    195.072\n",
       "11    173.736\n",
       "12    173.736\n",
       "13    201.168\n",
       "14    185.928\n",
       "15    207.264\n",
       "16    179.832\n",
       "17    176.784\n",
       "18    164.592\n",
       "19    167.640\n",
       "20    210.312\n",
       "21    155.448\n",
       "22    188.976\n",
       "23    167.640\n",
       "Name: altura(cm), dtype: float64"
      ]
     },
     "execution_count": 59,
     "metadata": {},
     "output_type": "execute_result"
    }
   ],
   "source": [
    "## transformando a altura de foot para cm\n",
    "\n",
    "alturas = (alturas/10)*30.48\n",
    "alturas.name = 'altura(cm)'\n",
    "alturas"
   ]
  },
  {
   "cell_type": "markdown",
   "id": "5f239b46",
   "metadata": {},
   "source": [
    "Para executar operações entre duas séries é necessário que ambas possuam o mesmo shape. Nos casos de operações entre séries com shapes diferentes é criado um valor nulo no local."
   ]
  },
  {
   "cell_type": "code",
   "execution_count": 60,
   "id": "6b9c6e42",
   "metadata": {},
   "outputs": [
    {
     "data": {
      "text/plain": [
       "0    -1.398568\n",
       "1     0.562969\n",
       "2    -0.650643\n",
       "3    -0.487125\n",
       "4    -0.592394\n",
       "5    -0.863991\n",
       "6     0.048522\n",
       "7    -0.830950\n",
       "8     0.270457\n",
       "9    -0.050238\n",
       "10   -0.238948\n",
       "11   -0.907564\n",
       "Name: correcao_altura(cm), dtype: float64"
      ]
     },
     "execution_count": 60,
     "metadata": {},
     "output_type": "execute_result"
    }
   ],
   "source": [
    "## criando a série com a correção das alturas\n",
    "\n",
    "correcao_altura = pd.Series(np.random.normal(size=12),name='correcao_altura(cm)')\n",
    "correcao_altura"
   ]
  },
  {
   "cell_type": "code",
   "execution_count": 61,
   "id": "3aa53e45",
   "metadata": {},
   "outputs": [
    {
     "data": {
      "text/plain": [
       "0     160.145432\n",
       "1     180.394969\n",
       "2     157.845357\n",
       "3     176.296875\n",
       "4     188.383606\n",
       "5     203.352009\n",
       "6     195.120522\n",
       "7     160.713050\n",
       "8     195.342457\n",
       "9     155.397762\n",
       "10    194.833052\n",
       "11    172.828436\n",
       "12           NaN\n",
       "13           NaN\n",
       "14           NaN\n",
       "15           NaN\n",
       "16           NaN\n",
       "17           NaN\n",
       "18           NaN\n",
       "19           NaN\n",
       "20           NaN\n",
       "21           NaN\n",
       "22           NaN\n",
       "23           NaN\n",
       "dtype: float64"
      ]
     },
     "execution_count": 61,
     "metadata": {},
     "output_type": "execute_result"
    }
   ],
   "source": [
    "alturas + correcao_altura"
   ]
  },
  {
   "cell_type": "markdown",
   "id": "d27e1947",
   "metadata": {},
   "source": [
    "Caso exista necessidade de adicionar valores a uma série, podemos utilizar o método:\n",
    "\n",
    "```python\n",
    ".append()\n",
    "```\n",
    "\n",
    "Vale notar que o método acima só aceita outra série e não arrays ou listas."
   ]
  },
  {
   "cell_type": "code",
   "execution_count": 62,
   "id": "2111c582",
   "metadata": {},
   "outputs": [
    {
     "data": {
      "text/plain": [
       "0     0\n",
       "1     0\n",
       "2     0\n",
       "3     0\n",
       "4     0\n",
       "5     0\n",
       "6     0\n",
       "7     0\n",
       "8     0\n",
       "9     0\n",
       "10    0\n",
       "11    0\n",
       "dtype: int64"
      ]
     },
     "execution_count": 62,
     "metadata": {},
     "output_type": "execute_result"
    }
   ],
   "source": [
    "## criando a série para append\n",
    "serie_para_append = pd.Series(np.array([0 for _ in range(12)]))\n",
    "serie_para_append"
   ]
  },
  {
   "cell_type": "code",
   "execution_count": 63,
   "id": "a68101f7",
   "metadata": {},
   "outputs": [
    {
     "data": {
      "text/plain": [
       "0    -1.398568\n",
       "1     0.562969\n",
       "2    -0.650643\n",
       "3    -0.487125\n",
       "4    -0.592394\n",
       "5    -0.863991\n",
       "6     0.048522\n",
       "7    -0.830950\n",
       "8     0.270457\n",
       "9    -0.050238\n",
       "10   -0.238948\n",
       "11   -0.907564\n",
       "12    0.000000\n",
       "13    0.000000\n",
       "14    0.000000\n",
       "15    0.000000\n",
       "16    0.000000\n",
       "17    0.000000\n",
       "18    0.000000\n",
       "19    0.000000\n",
       "20    0.000000\n",
       "21    0.000000\n",
       "22    0.000000\n",
       "23    0.000000\n",
       "dtype: float64"
      ]
     },
     "execution_count": 63,
     "metadata": {},
     "output_type": "execute_result"
    }
   ],
   "source": [
    "## dando append na série correcao_altura ignorando os índices\n",
    "correcao_altura = correcao_altura.append(serie_para_append,ignore_index=True)\n",
    "correcao_altura"
   ]
  },
  {
   "cell_type": "code",
   "execution_count": 64,
   "id": "e9fc3782",
   "metadata": {},
   "outputs": [
    {
     "data": {
      "text/plain": [
       "0     160.145432\n",
       "1     180.394969\n",
       "2     157.845357\n",
       "3     176.296875\n",
       "4     188.383606\n",
       "5     203.352009\n",
       "6     195.120522\n",
       "7     160.713050\n",
       "8     195.342457\n",
       "9     155.397762\n",
       "10    194.833052\n",
       "11    172.828436\n",
       "12    173.736000\n",
       "13    201.168000\n",
       "14    185.928000\n",
       "15    207.264000\n",
       "16    179.832000\n",
       "17    176.784000\n",
       "18    164.592000\n",
       "19    167.640000\n",
       "20    210.312000\n",
       "21    155.448000\n",
       "22    188.976000\n",
       "23    167.640000\n",
       "dtype: float64"
      ]
     },
     "execution_count": 64,
     "metadata": {},
     "output_type": "execute_result"
    }
   ],
   "source": [
    "## corrigindo alturas\n",
    "\n",
    "alturas = alturas + correcao_altura\n",
    "alturas"
   ]
  },
  {
   "cell_type": "markdown",
   "id": "a89c73f9",
   "metadata": {},
   "source": [
    "Também é possível executar operações lógicas com séries e o retorno são também series de valores booleanos."
   ]
  },
  {
   "cell_type": "code",
   "execution_count": 65,
   "id": "bbbfd0e0",
   "metadata": {},
   "outputs": [
    {
     "data": {
      "text/plain": [
       "0     False\n",
       "1     False\n",
       "2     False\n",
       "3     False\n",
       "4     False\n",
       "5      True\n",
       "6      True\n",
       "7     False\n",
       "8      True\n",
       "9     False\n",
       "10     True\n",
       "11    False\n",
       "12    False\n",
       "13     True\n",
       "14    False\n",
       "15     True\n",
       "16    False\n",
       "17    False\n",
       "18    False\n",
       "19    False\n",
       "20     True\n",
       "21    False\n",
       "22    False\n",
       "23    False\n",
       "dtype: bool"
      ]
     },
     "execution_count": 65,
     "metadata": {},
     "output_type": "execute_result"
    }
   ],
   "source": [
    "alturas > 190"
   ]
  },
  {
   "cell_type": "code",
   "execution_count": 66,
   "id": "d395c398",
   "metadata": {},
   "outputs": [
    {
     "ename": "ValueError",
     "evalue": "The truth value of a Series is ambiguous. Use a.empty, a.bool(), a.item(), a.any() or a.all().",
     "output_type": "error",
     "traceback": [
      "\u001b[0;31m---------------------------------------------------------------------------\u001b[0m",
      "\u001b[0;31mValueError\u001b[0m                                Traceback (most recent call last)",
      "\u001b[0;32m<ipython-input-66-2fd5b16c08b1>\u001b[0m in \u001b[0;36m<module>\u001b[0;34m\u001b[0m\n\u001b[1;32m      1\u001b[0m \u001b[0;31m## utilizando condições lógicas mais complexas\u001b[0m\u001b[0;34m\u001b[0m\u001b[0;34m\u001b[0m\u001b[0;34m\u001b[0m\u001b[0m\n\u001b[1;32m      2\u001b[0m \u001b[0;34m\u001b[0m\u001b[0m\n\u001b[0;32m----> 3\u001b[0;31m \u001b[0malturas\u001b[0m \u001b[0;34m>\u001b[0m \u001b[0;36m190\u001b[0m \u001b[0;32mand\u001b[0m \u001b[0malturas\u001b[0m \u001b[0;34m<\u001b[0m \u001b[0;36m200\u001b[0m\u001b[0;34m\u001b[0m\u001b[0;34m\u001b[0m\u001b[0m\n\u001b[0m",
      "\u001b[0;32m~/miniconda3/lib/python3.8/site-packages/pandas/core/generic.py\u001b[0m in \u001b[0;36m__nonzero__\u001b[0;34m(self)\u001b[0m\n\u001b[1;32m   1440\u001b[0m     \u001b[0;34m@\u001b[0m\u001b[0mfinal\u001b[0m\u001b[0;34m\u001b[0m\u001b[0;34m\u001b[0m\u001b[0m\n\u001b[1;32m   1441\u001b[0m     \u001b[0;32mdef\u001b[0m \u001b[0m__nonzero__\u001b[0m\u001b[0;34m(\u001b[0m\u001b[0mself\u001b[0m\u001b[0;34m)\u001b[0m\u001b[0;34m:\u001b[0m\u001b[0;34m\u001b[0m\u001b[0;34m\u001b[0m\u001b[0m\n\u001b[0;32m-> 1442\u001b[0;31m         raise ValueError(\n\u001b[0m\u001b[1;32m   1443\u001b[0m             \u001b[0;34mf\"The truth value of a {type(self).__name__} is ambiguous. \"\u001b[0m\u001b[0;34m\u001b[0m\u001b[0;34m\u001b[0m\u001b[0m\n\u001b[1;32m   1444\u001b[0m             \u001b[0;34m\"Use a.empty, a.bool(), a.item(), a.any() or a.all().\"\u001b[0m\u001b[0;34m\u001b[0m\u001b[0;34m\u001b[0m\u001b[0m\n",
      "\u001b[0;31mValueError\u001b[0m: The truth value of a Series is ambiguous. Use a.empty, a.bool(), a.item(), a.any() or a.all()."
     ]
    }
   ],
   "source": [
    "## utilizando condições lógicas mais complexas\n",
    "\n",
    "alturas > 190 and alturas < 200"
   ]
  },
  {
   "cell_type": "markdown",
   "id": "9ab7991a",
   "metadata": {},
   "source": [
    "As condições lógicas mais complexas utilizando ```not and or``` no pandas são representadas por outros operadores, respectivamente ```~ & \\```."
   ]
  },
  {
   "cell_type": "code",
   "execution_count": 67,
   "id": "c944fc56",
   "metadata": {},
   "outputs": [
    {
     "data": {
      "text/plain": [
       "0     False\n",
       "1     False\n",
       "2     False\n",
       "3     False\n",
       "4     False\n",
       "5     False\n",
       "6      True\n",
       "7     False\n",
       "8      True\n",
       "9     False\n",
       "10     True\n",
       "11    False\n",
       "12    False\n",
       "13    False\n",
       "14    False\n",
       "15    False\n",
       "16    False\n",
       "17    False\n",
       "18    False\n",
       "19    False\n",
       "20    False\n",
       "21    False\n",
       "22    False\n",
       "23    False\n",
       "dtype: bool"
      ]
     },
     "execution_count": 67,
     "metadata": {},
     "output_type": "execute_result"
    }
   ],
   "source": [
    "## utilizando and &\n",
    "\n",
    "(alturas > 190) & (alturas < 200)"
   ]
  },
  {
   "cell_type": "code",
   "execution_count": 68,
   "id": "50c79353",
   "metadata": {},
   "outputs": [
    {
     "data": {
      "text/plain": [
       "0      True\n",
       "1      True\n",
       "2      True\n",
       "3      True\n",
       "4      True\n",
       "5      True\n",
       "6     False\n",
       "7      True\n",
       "8     False\n",
       "9      True\n",
       "10    False\n",
       "11     True\n",
       "12     True\n",
       "13     True\n",
       "14     True\n",
       "15     True\n",
       "16     True\n",
       "17     True\n",
       "18     True\n",
       "19     True\n",
       "20     True\n",
       "21     True\n",
       "22     True\n",
       "23     True\n",
       "dtype: bool"
      ]
     },
     "execution_count": 68,
     "metadata": {},
     "output_type": "execute_result"
    }
   ],
   "source": [
    "~( (alturas > 190) & (alturas < 200) )"
   ]
  },
  {
   "cell_type": "code",
   "execution_count": 70,
   "id": "bca50584",
   "metadata": {},
   "outputs": [
    {
     "data": {
      "text/plain": [
       "6     195.120522\n",
       "8     195.342457\n",
       "10    194.833052\n",
       "dtype: float64"
      ]
     },
     "execution_count": 70,
     "metadata": {},
     "output_type": "execute_result"
    }
   ],
   "source": [
    "alturas[(alturas > 190) & (alturas < 200)]"
   ]
  },
  {
   "cell_type": "code",
   "execution_count": 78,
   "id": "65e89eaf",
   "metadata": {},
   "outputs": [],
   "source": [
    "serie_index_str = pd.Series(np.array([10,12,15]),index=['valorA','valorB','valorC'])"
   ]
  },
  {
   "cell_type": "code",
   "execution_count": 86,
   "id": "aad215ec",
   "metadata": {},
   "outputs": [
    {
     "data": {
      "text/plain": [
       "True"
      ]
     },
     "execution_count": 86,
     "metadata": {},
     "output_type": "execute_result"
    }
   ],
   "source": [
    "serie_index_str['valorC'] == serie_index_str[-1] == serie_index_str[2]"
   ]
  },
  {
   "cell_type": "markdown",
   "id": "dcdb1a13",
   "metadata": {},
   "source": [
    "# DataFrame\n",
    "___\n",
    "\n",
    "O dataframe nada mais é do que um conjunto de series organizadas como colunas. Ele possui a maior gama de métodos e funções, possui características e pode ser indexado facilmente. Ele é a principal estrutura de dados utilizada no pandas e torna o trabalho de manipulação de dados muito mais simples. Para criar um dataframe basta utilizar um array de duas dimensões através do código:\n",
    "\n",
    "```python\n",
    "pd.DataFrame(data,index,columns,dtype)\n",
    "```\n",
    "\n",
    "Diferente da criação das séries, ao invés de nome o dataframe tem ```columns``` que é uma lista com os nomes de cada coluna."
   ]
  },
  {
   "cell_type": "code",
   "execution_count": 88,
   "id": "97819fe7",
   "metadata": {},
   "outputs": [
    {
     "data": {
      "text/plain": [
       "array([[160.14543243,  53.        ],\n",
       "       [180.39496924,  85.        ],\n",
       "       [157.84535743,  55.        ],\n",
       "       [176.29687462,  80.        ],\n",
       "       [188.38360608,  68.        ],\n",
       "       [203.35200923,  93.        ],\n",
       "       [195.12052163,  88.        ],\n",
       "       [160.71304988,  76.        ],\n",
       "       [195.34245683,  59.        ],\n",
       "       [155.39776189,  75.        ],\n",
       "       [194.83305195,  68.        ],\n",
       "       [172.82843634,  88.        ],\n",
       "       [173.736     ,  52.        ],\n",
       "       [201.168     ,  94.        ],\n",
       "       [185.928     ,  62.        ],\n",
       "       [207.264     ,  99.        ],\n",
       "       [179.832     ,  77.        ],\n",
       "       [176.784     ,  69.        ],\n",
       "       [164.592     ,  77.        ],\n",
       "       [167.64      ,  57.        ],\n",
       "       [210.312     ,  90.        ],\n",
       "       [155.448     ,  88.        ],\n",
       "       [188.976     ,  50.        ],\n",
       "       [167.64      ,  52.        ]])"
      ]
     },
     "execution_count": 88,
     "metadata": {},
     "output_type": "execute_result"
    }
   ],
   "source": [
    "## criando um array de duas dimensões utilizando os já criados\n",
    "\n",
    "arr_2d = np.column_stack([alturas,pesos])\n",
    "arr_2d"
   ]
  },
  {
   "cell_type": "code",
   "execution_count": 91,
   "id": "b4efc553",
   "metadata": {},
   "outputs": [
    {
     "data": {
      "text/html": [
       "<div>\n",
       "<style scoped>\n",
       "    .dataframe tbody tr th:only-of-type {\n",
       "        vertical-align: middle;\n",
       "    }\n",
       "\n",
       "    .dataframe tbody tr th {\n",
       "        vertical-align: top;\n",
       "    }\n",
       "\n",
       "    .dataframe thead th {\n",
       "        text-align: right;\n",
       "    }\n",
       "</style>\n",
       "<table border=\"1\" class=\"dataframe\">\n",
       "  <thead>\n",
       "    <tr style=\"text-align: right;\">\n",
       "      <th></th>\n",
       "      <th>ALTURAS DOS JOGADORES</th>\n",
       "      <th>PESOS DOS JOGADORES</th>\n",
       "    </tr>\n",
       "  </thead>\n",
       "  <tbody>\n",
       "    <tr>\n",
       "      <th>0</th>\n",
       "      <td>160.145432</td>\n",
       "      <td>53.0</td>\n",
       "    </tr>\n",
       "    <tr>\n",
       "      <th>1</th>\n",
       "      <td>180.394969</td>\n",
       "      <td>85.0</td>\n",
       "    </tr>\n",
       "    <tr>\n",
       "      <th>2</th>\n",
       "      <td>157.845357</td>\n",
       "      <td>55.0</td>\n",
       "    </tr>\n",
       "    <tr>\n",
       "      <th>3</th>\n",
       "      <td>176.296875</td>\n",
       "      <td>80.0</td>\n",
       "    </tr>\n",
       "    <tr>\n",
       "      <th>4</th>\n",
       "      <td>188.383606</td>\n",
       "      <td>68.0</td>\n",
       "    </tr>\n",
       "    <tr>\n",
       "      <th>5</th>\n",
       "      <td>203.352009</td>\n",
       "      <td>93.0</td>\n",
       "    </tr>\n",
       "    <tr>\n",
       "      <th>6</th>\n",
       "      <td>195.120522</td>\n",
       "      <td>88.0</td>\n",
       "    </tr>\n",
       "    <tr>\n",
       "      <th>7</th>\n",
       "      <td>160.713050</td>\n",
       "      <td>76.0</td>\n",
       "    </tr>\n",
       "    <tr>\n",
       "      <th>8</th>\n",
       "      <td>195.342457</td>\n",
       "      <td>59.0</td>\n",
       "    </tr>\n",
       "    <tr>\n",
       "      <th>9</th>\n",
       "      <td>155.397762</td>\n",
       "      <td>75.0</td>\n",
       "    </tr>\n",
       "    <tr>\n",
       "      <th>10</th>\n",
       "      <td>194.833052</td>\n",
       "      <td>68.0</td>\n",
       "    </tr>\n",
       "    <tr>\n",
       "      <th>11</th>\n",
       "      <td>172.828436</td>\n",
       "      <td>88.0</td>\n",
       "    </tr>\n",
       "    <tr>\n",
       "      <th>12</th>\n",
       "      <td>173.736000</td>\n",
       "      <td>52.0</td>\n",
       "    </tr>\n",
       "    <tr>\n",
       "      <th>13</th>\n",
       "      <td>201.168000</td>\n",
       "      <td>94.0</td>\n",
       "    </tr>\n",
       "    <tr>\n",
       "      <th>14</th>\n",
       "      <td>185.928000</td>\n",
       "      <td>62.0</td>\n",
       "    </tr>\n",
       "    <tr>\n",
       "      <th>15</th>\n",
       "      <td>207.264000</td>\n",
       "      <td>99.0</td>\n",
       "    </tr>\n",
       "    <tr>\n",
       "      <th>16</th>\n",
       "      <td>179.832000</td>\n",
       "      <td>77.0</td>\n",
       "    </tr>\n",
       "    <tr>\n",
       "      <th>17</th>\n",
       "      <td>176.784000</td>\n",
       "      <td>69.0</td>\n",
       "    </tr>\n",
       "    <tr>\n",
       "      <th>18</th>\n",
       "      <td>164.592000</td>\n",
       "      <td>77.0</td>\n",
       "    </tr>\n",
       "    <tr>\n",
       "      <th>19</th>\n",
       "      <td>167.640000</td>\n",
       "      <td>57.0</td>\n",
       "    </tr>\n",
       "    <tr>\n",
       "      <th>20</th>\n",
       "      <td>210.312000</td>\n",
       "      <td>90.0</td>\n",
       "    </tr>\n",
       "    <tr>\n",
       "      <th>21</th>\n",
       "      <td>155.448000</td>\n",
       "      <td>88.0</td>\n",
       "    </tr>\n",
       "    <tr>\n",
       "      <th>22</th>\n",
       "      <td>188.976000</td>\n",
       "      <td>50.0</td>\n",
       "    </tr>\n",
       "    <tr>\n",
       "      <th>23</th>\n",
       "      <td>167.640000</td>\n",
       "      <td>52.0</td>\n",
       "    </tr>\n",
       "  </tbody>\n",
       "</table>\n",
       "</div>"
      ],
      "text/plain": [
       "    ALTURAS DOS JOGADORES  PESOS DOS JOGADORES\n",
       "0              160.145432                 53.0\n",
       "1              180.394969                 85.0\n",
       "2              157.845357                 55.0\n",
       "3              176.296875                 80.0\n",
       "4              188.383606                 68.0\n",
       "5              203.352009                 93.0\n",
       "6              195.120522                 88.0\n",
       "7              160.713050                 76.0\n",
       "8              195.342457                 59.0\n",
       "9              155.397762                 75.0\n",
       "10             194.833052                 68.0\n",
       "11             172.828436                 88.0\n",
       "12             173.736000                 52.0\n",
       "13             201.168000                 94.0\n",
       "14             185.928000                 62.0\n",
       "15             207.264000                 99.0\n",
       "16             179.832000                 77.0\n",
       "17             176.784000                 69.0\n",
       "18             164.592000                 77.0\n",
       "19             167.640000                 57.0\n",
       "20             210.312000                 90.0\n",
       "21             155.448000                 88.0\n",
       "22             188.976000                 50.0\n",
       "23             167.640000                 52.0"
      ]
     },
     "execution_count": 91,
     "metadata": {},
     "output_type": "execute_result"
    }
   ],
   "source": [
    "## criando um dataframe\n",
    "\n",
    "df = pd.DataFrame(data=arr_2d, columns=['ALTURAS DOS JOGADORES','PESOS DOS JOGADORES'])\n",
    "df"
   ]
  },
  {
   "cell_type": "markdown",
   "id": "11f6db22",
   "metadata": {},
   "source": [
    "O dataframe possui uma série de características que podem ser acessadas e algumas até alteradas."
   ]
  },
  {
   "cell_type": "code",
   "execution_count": 92,
   "id": "3d74c9bc",
   "metadata": {},
   "outputs": [
    {
     "data": {
      "text/plain": [
       "(24, 2)"
      ]
     },
     "execution_count": 92,
     "metadata": {},
     "output_type": "execute_result"
    }
   ],
   "source": [
    "## shape\n",
    "\n",
    "df.shape"
   ]
  },
  {
   "cell_type": "markdown",
   "id": "f14f78b9",
   "metadata": {},
   "source": [
    "O shape do dataframe é igual ao do array que o criou, caso o dataframe seja alterado o shape também é alterado."
   ]
  },
  {
   "cell_type": "code",
   "execution_count": 93,
   "id": "33b3a0c3",
   "metadata": {},
   "outputs": [
    {
     "data": {
      "text/plain": [
       "48"
      ]
     },
     "execution_count": 93,
     "metadata": {},
     "output_type": "execute_result"
    }
   ],
   "source": [
    "## size\n",
    "\n",
    "df.size"
   ]
  },
  {
   "cell_type": "code",
   "execution_count": 94,
   "id": "5379c7af",
   "metadata": {},
   "outputs": [
    {
     "data": {
      "text/plain": [
       "Index(['ALTURAS DOS JOGADORES', 'PESOS DOS JOGADORES'], dtype='object')"
      ]
     },
     "execution_count": 94,
     "metadata": {},
     "output_type": "execute_result"
    }
   ],
   "source": [
    "## columns\n",
    "\n",
    "df.columns"
   ]
  },
  {
   "cell_type": "markdown",
   "id": "d7953e4f",
   "metadata": {},
   "source": [
    "É possível alterar os nomes das colunas sobreescrevendo os valores associados a ```df.columns```"
   ]
  },
  {
   "cell_type": "code",
   "execution_count": 97,
   "id": "05129806",
   "metadata": {},
   "outputs": [
    {
     "data": {
      "text/plain": [
       "Index(['alturas_dos_jogadores', 'pesos_dos_jogadores'], dtype='object')"
      ]
     },
     "execution_count": 97,
     "metadata": {},
     "output_type": "execute_result"
    }
   ],
   "source": [
    "## alterando o nome das colunas de forma rápida\n",
    "\n",
    "df.columns = [x.lower().replace(' ','_') for x in df.columns]\n",
    "df.columns"
   ]
  },
  {
   "cell_type": "code",
   "execution_count": 98,
   "id": "c237217a",
   "metadata": {},
   "outputs": [
    {
     "data": {
      "text/html": [
       "<div>\n",
       "<style scoped>\n",
       "    .dataframe tbody tr th:only-of-type {\n",
       "        vertical-align: middle;\n",
       "    }\n",
       "\n",
       "    .dataframe tbody tr th {\n",
       "        vertical-align: top;\n",
       "    }\n",
       "\n",
       "    .dataframe thead th {\n",
       "        text-align: right;\n",
       "    }\n",
       "</style>\n",
       "<table border=\"1\" class=\"dataframe\">\n",
       "  <thead>\n",
       "    <tr style=\"text-align: right;\">\n",
       "      <th></th>\n",
       "      <th>alturas_dos_jogadores</th>\n",
       "      <th>pesos_dos_jogadores</th>\n",
       "    </tr>\n",
       "  </thead>\n",
       "  <tbody>\n",
       "    <tr>\n",
       "      <th>0</th>\n",
       "      <td>160.145432</td>\n",
       "      <td>53.0</td>\n",
       "    </tr>\n",
       "    <tr>\n",
       "      <th>1</th>\n",
       "      <td>180.394969</td>\n",
       "      <td>85.0</td>\n",
       "    </tr>\n",
       "    <tr>\n",
       "      <th>2</th>\n",
       "      <td>157.845357</td>\n",
       "      <td>55.0</td>\n",
       "    </tr>\n",
       "    <tr>\n",
       "      <th>3</th>\n",
       "      <td>176.296875</td>\n",
       "      <td>80.0</td>\n",
       "    </tr>\n",
       "    <tr>\n",
       "      <th>4</th>\n",
       "      <td>188.383606</td>\n",
       "      <td>68.0</td>\n",
       "    </tr>\n",
       "    <tr>\n",
       "      <th>5</th>\n",
       "      <td>203.352009</td>\n",
       "      <td>93.0</td>\n",
       "    </tr>\n",
       "    <tr>\n",
       "      <th>6</th>\n",
       "      <td>195.120522</td>\n",
       "      <td>88.0</td>\n",
       "    </tr>\n",
       "    <tr>\n",
       "      <th>7</th>\n",
       "      <td>160.713050</td>\n",
       "      <td>76.0</td>\n",
       "    </tr>\n",
       "    <tr>\n",
       "      <th>8</th>\n",
       "      <td>195.342457</td>\n",
       "      <td>59.0</td>\n",
       "    </tr>\n",
       "    <tr>\n",
       "      <th>9</th>\n",
       "      <td>155.397762</td>\n",
       "      <td>75.0</td>\n",
       "    </tr>\n",
       "    <tr>\n",
       "      <th>10</th>\n",
       "      <td>194.833052</td>\n",
       "      <td>68.0</td>\n",
       "    </tr>\n",
       "    <tr>\n",
       "      <th>11</th>\n",
       "      <td>172.828436</td>\n",
       "      <td>88.0</td>\n",
       "    </tr>\n",
       "    <tr>\n",
       "      <th>12</th>\n",
       "      <td>173.736000</td>\n",
       "      <td>52.0</td>\n",
       "    </tr>\n",
       "    <tr>\n",
       "      <th>13</th>\n",
       "      <td>201.168000</td>\n",
       "      <td>94.0</td>\n",
       "    </tr>\n",
       "    <tr>\n",
       "      <th>14</th>\n",
       "      <td>185.928000</td>\n",
       "      <td>62.0</td>\n",
       "    </tr>\n",
       "    <tr>\n",
       "      <th>15</th>\n",
       "      <td>207.264000</td>\n",
       "      <td>99.0</td>\n",
       "    </tr>\n",
       "    <tr>\n",
       "      <th>16</th>\n",
       "      <td>179.832000</td>\n",
       "      <td>77.0</td>\n",
       "    </tr>\n",
       "    <tr>\n",
       "      <th>17</th>\n",
       "      <td>176.784000</td>\n",
       "      <td>69.0</td>\n",
       "    </tr>\n",
       "    <tr>\n",
       "      <th>18</th>\n",
       "      <td>164.592000</td>\n",
       "      <td>77.0</td>\n",
       "    </tr>\n",
       "    <tr>\n",
       "      <th>19</th>\n",
       "      <td>167.640000</td>\n",
       "      <td>57.0</td>\n",
       "    </tr>\n",
       "    <tr>\n",
       "      <th>20</th>\n",
       "      <td>210.312000</td>\n",
       "      <td>90.0</td>\n",
       "    </tr>\n",
       "    <tr>\n",
       "      <th>21</th>\n",
       "      <td>155.448000</td>\n",
       "      <td>88.0</td>\n",
       "    </tr>\n",
       "    <tr>\n",
       "      <th>22</th>\n",
       "      <td>188.976000</td>\n",
       "      <td>50.0</td>\n",
       "    </tr>\n",
       "    <tr>\n",
       "      <th>23</th>\n",
       "      <td>167.640000</td>\n",
       "      <td>52.0</td>\n",
       "    </tr>\n",
       "  </tbody>\n",
       "</table>\n",
       "</div>"
      ],
      "text/plain": [
       "    alturas_dos_jogadores  pesos_dos_jogadores\n",
       "0              160.145432                 53.0\n",
       "1              180.394969                 85.0\n",
       "2              157.845357                 55.0\n",
       "3              176.296875                 80.0\n",
       "4              188.383606                 68.0\n",
       "5              203.352009                 93.0\n",
       "6              195.120522                 88.0\n",
       "7              160.713050                 76.0\n",
       "8              195.342457                 59.0\n",
       "9              155.397762                 75.0\n",
       "10             194.833052                 68.0\n",
       "11             172.828436                 88.0\n",
       "12             173.736000                 52.0\n",
       "13             201.168000                 94.0\n",
       "14             185.928000                 62.0\n",
       "15             207.264000                 99.0\n",
       "16             179.832000                 77.0\n",
       "17             176.784000                 69.0\n",
       "18             164.592000                 77.0\n",
       "19             167.640000                 57.0\n",
       "20             210.312000                 90.0\n",
       "21             155.448000                 88.0\n",
       "22             188.976000                 50.0\n",
       "23             167.640000                 52.0"
      ]
     },
     "execution_count": 98,
     "metadata": {},
     "output_type": "execute_result"
    }
   ],
   "source": [
    "df"
   ]
  },
  {
   "cell_type": "code",
   "execution_count": 99,
   "id": "1f287942",
   "metadata": {},
   "outputs": [
    {
     "data": {
      "text/plain": [
       "RangeIndex(start=0, stop=24, step=1)"
      ]
     },
     "execution_count": 99,
     "metadata": {},
     "output_type": "execute_result"
    }
   ],
   "source": [
    "## indíces\n",
    "\n",
    "df.index"
   ]
  },
  {
   "cell_type": "code",
   "execution_count": 100,
   "id": "6253eae0",
   "metadata": {},
   "outputs": [
    {
     "data": {
      "text/plain": [
       "[RangeIndex(start=0, stop=24, step=1),\n",
       " Index(['alturas_dos_jogadores', 'pesos_dos_jogadores'], dtype='object')]"
      ]
     },
     "execution_count": 100,
     "metadata": {},
     "output_type": "execute_result"
    }
   ],
   "source": [
    "## eixos\n",
    "\n",
    "df.axes"
   ]
  },
  {
   "cell_type": "markdown",
   "id": "1a033c92",
   "metadata": {},
   "source": [
    "Vale a pena notar que em várias funções do pandas existe o parâmetro ```axis``` podendo receber os valores 0 ou 1.\n",
    "\n",
    "![axis](imgs/axis.png)\n",
    "\n",
    "O racional é que no eixo 0 efetuamos uma operação **por toda a exntesão das linhas** e no eixo 1 efetuamos a operação **por toda a exntesão das colunas**."
   ]
  },
  {
   "cell_type": "markdown",
   "id": "cc2a1ce7",
   "metadata": {},
   "source": [
    "Para conseguir informações rápidas sobre o dataframe, podemos utilizara a função ```df.info()``` que mostra:\n",
    "\n",
    "* a classe do objeto em ```df```\n",
    "* informações sobre o índice\n",
    "* quantidade de colunas\n",
    "* tipos dos dados de cada coluna\n",
    "* quantidade de valores não nulos em cada coluna\n",
    "* uso de memória para guardar o dataframe"
   ]
  },
  {
   "cell_type": "code",
   "execution_count": 108,
   "id": "838cffc6",
   "metadata": {},
   "outputs": [
    {
     "name": "stdout",
     "output_type": "stream",
     "text": [
      "<class 'pandas.core.frame.DataFrame'>\n",
      "RangeIndex: 24 entries, 0 to 23\n",
      "Data columns (total 2 columns):\n",
      " #   Column                 Non-Null Count  Dtype  \n",
      "---  ------                 --------------  -----  \n",
      " 0   alturas_dos_jogadores  24 non-null     float64\n",
      " 1   pesos_dos_jogadores    24 non-null     float64\n",
      "dtypes: float64(2)\n",
      "memory usage: 512.0 bytes\n"
     ]
    }
   ],
   "source": [
    "df.info()"
   ]
  },
  {
   "cell_type": "markdown",
   "id": "70fb458a",
   "metadata": {},
   "source": [
    "Dataframes também podem ser criados através de dicionários através da função:\n",
    "\n",
    "```python\n",
    "pd.DataFrame.from_dict(data,orient,dtype,columns)\n",
    "```\n",
    "\n",
    "O parâmetro ```orient``` vai controlar o funcionamento da função e resultará em resultados diferentes."
   ]
  },
  {
   "cell_type": "code",
   "execution_count": 109,
   "id": "04382eb5",
   "metadata": {},
   "outputs": [],
   "source": [
    "data = {\n",
    "    'col_1': [3, 2, 1, 0], \n",
    "    'col_2': ['a', 'b', 'c', 'd']\n",
    "}"
   ]
  },
  {
   "cell_type": "code",
   "execution_count": 110,
   "id": "dad55e4b",
   "metadata": {},
   "outputs": [
    {
     "data": {
      "text/html": [
       "<div>\n",
       "<style scoped>\n",
       "    .dataframe tbody tr th:only-of-type {\n",
       "        vertical-align: middle;\n",
       "    }\n",
       "\n",
       "    .dataframe tbody tr th {\n",
       "        vertical-align: top;\n",
       "    }\n",
       "\n",
       "    .dataframe thead th {\n",
       "        text-align: right;\n",
       "    }\n",
       "</style>\n",
       "<table border=\"1\" class=\"dataframe\">\n",
       "  <thead>\n",
       "    <tr style=\"text-align: right;\">\n",
       "      <th></th>\n",
       "      <th>col_1</th>\n",
       "      <th>col_2</th>\n",
       "    </tr>\n",
       "  </thead>\n",
       "  <tbody>\n",
       "    <tr>\n",
       "      <th>0</th>\n",
       "      <td>3</td>\n",
       "      <td>a</td>\n",
       "    </tr>\n",
       "    <tr>\n",
       "      <th>1</th>\n",
       "      <td>2</td>\n",
       "      <td>b</td>\n",
       "    </tr>\n",
       "    <tr>\n",
       "      <th>2</th>\n",
       "      <td>1</td>\n",
       "      <td>c</td>\n",
       "    </tr>\n",
       "    <tr>\n",
       "      <th>3</th>\n",
       "      <td>0</td>\n",
       "      <td>d</td>\n",
       "    </tr>\n",
       "  </tbody>\n",
       "</table>\n",
       "</div>"
      ],
      "text/plain": [
       "   col_1 col_2\n",
       "0      3     a\n",
       "1      2     b\n",
       "2      1     c\n",
       "3      0     d"
      ]
     },
     "execution_count": 110,
     "metadata": {},
     "output_type": "execute_result"
    }
   ],
   "source": [
    "## utilizando a orientação por colunas\n",
    "\n",
    "pd.DataFrame.from_dict(data,orient='columns')"
   ]
  },
  {
   "cell_type": "code",
   "execution_count": 111,
   "id": "b499a1b0",
   "metadata": {},
   "outputs": [
    {
     "data": {
      "text/html": [
       "<div>\n",
       "<style scoped>\n",
       "    .dataframe tbody tr th:only-of-type {\n",
       "        vertical-align: middle;\n",
       "    }\n",
       "\n",
       "    .dataframe tbody tr th {\n",
       "        vertical-align: top;\n",
       "    }\n",
       "\n",
       "    .dataframe thead th {\n",
       "        text-align: right;\n",
       "    }\n",
       "</style>\n",
       "<table border=\"1\" class=\"dataframe\">\n",
       "  <thead>\n",
       "    <tr style=\"text-align: right;\">\n",
       "      <th></th>\n",
       "      <th>0</th>\n",
       "      <th>1</th>\n",
       "      <th>2</th>\n",
       "      <th>3</th>\n",
       "    </tr>\n",
       "  </thead>\n",
       "  <tbody>\n",
       "    <tr>\n",
       "      <th>col_1</th>\n",
       "      <td>3</td>\n",
       "      <td>2</td>\n",
       "      <td>1</td>\n",
       "      <td>0</td>\n",
       "    </tr>\n",
       "    <tr>\n",
       "      <th>col_2</th>\n",
       "      <td>a</td>\n",
       "      <td>b</td>\n",
       "      <td>c</td>\n",
       "      <td>d</td>\n",
       "    </tr>\n",
       "  </tbody>\n",
       "</table>\n",
       "</div>"
      ],
      "text/plain": [
       "       0  1  2  3\n",
       "col_1  3  2  1  0\n",
       "col_2  a  b  c  d"
      ]
     },
     "execution_count": 111,
     "metadata": {},
     "output_type": "execute_result"
    }
   ],
   "source": [
    "## utilizando a orientação por indices\n",
    "\n",
    "pd.DataFrame.from_dict(data,orient='index')"
   ]
  },
  {
   "cell_type": "markdown",
   "id": "c27c089c",
   "metadata": {},
   "source": [
    "Perceba que ```orient``` controla a interpretação das chaves do dicionário e sua transformação em linhas (index) ou colunas (columns)."
   ]
  },
  {
   "cell_type": "markdown",
   "id": "06b9c10a",
   "metadata": {},
   "source": [
    "# Input e Output\n",
    "___\n",
    "\n",
    "O pandas oferece várias funções ler dados de vários formatos e escrever também em vários formatos. O formato mais comum de dados que utilizamos são os ```csv``` e o ```xlsx```, mas o pandas está preparado também para ler arquivos com os seguintes formatos:\n",
    "\n",
    "* texto (extensão .txt)\n",
    "* .json\n",
    "* html\n",
    "* XML\n",
    "* área de transferência\n",
    "* HDF5\n",
    "* .parquet\n",
    "* stata\n",
    "* sas\n",
    "* spss\n",
    "\n",
    "Para a leitura de arquivos basta utilizarmos o sintaxe ```read_<tipo do arquivo>``` da seguinte forma:\n",
    "\n",
    "```python\n",
    "pd.read_csv()\n",
    "pd.read_excel()\n",
    "pd.read_json()\n",
    "pd.read_xml()\n",
    "pd.read_hdf()\n",
    "pd.read_html()\n",
    "```\n",
    "\n",
    "Para a escrita de arquivos basta utilizarmos o sintaxe ```to_<tipo do arquivo>``` da seguinte forma:\n",
    "\n",
    "```python\n",
    "df.to_csv()\n",
    "df.to_excel()\n",
    "df.to_json()\n",
    "df.to_xml()\n",
    "df.to_hdf()\n",
    "df.to_html()\n",
    "```"
   ]
  },
  {
   "cell_type": "code",
   "execution_count": 138,
   "id": "9d3b890a",
   "metadata": {},
   "outputs": [
    {
     "data": {
      "text/plain": [
       "<AxesSubplot:>"
      ]
     },
     "execution_count": 138,
     "metadata": {},
     "output_type": "execute_result"
    },
    {
     "data": {
      "image/png": "[encoded data removed]",
      "text/plain": [
       "<Figure size 432x288 with 1 Axes>"
      ]
     },
     "metadata": {
      "needs_background": "light"
     },
     "output_type": "display_data"
    }
   ],
   "source": [
    "pd.read_html(\"https://en.wikipedia.org/wiki/Federative_units_of_Brazil\")[1]['Population(2019)[2]'].plot(kind='bar')"
   ]
  },
  {
   "cell_type": "code",
   "execution_count": 121,
   "id": "eb27ddd3",
   "metadata": {},
   "outputs": [
    {
     "data": {
      "text/html": [
       "<div>\n",
       "<style scoped>\n",
       "    .dataframe tbody tr th:only-of-type {\n",
       "        vertical-align: middle;\n",
       "    }\n",
       "\n",
       "    .dataframe tbody tr th {\n",
       "        vertical-align: top;\n",
       "    }\n",
       "\n",
       "    .dataframe thead th {\n",
       "        text-align: right;\n",
       "    }\n",
       "</style>\n",
       "<table border=\"1\" class=\"dataframe\">\n",
       "  <thead>\n",
       "    <tr style=\"text-align: right;\">\n",
       "      <th></th>\n",
       "      <th>Acre</th>\n",
       "      <th>AC</th>\n",
       "      <th>Rio Branco</th>\n",
       "      <th>164,124</th>\n",
       "      <th>881,935</th>\n",
       "      <th>5.37</th>\n",
       "      <th>13,751</th>\n",
       "      <th>0.719</th>\n",
       "    </tr>\n",
       "  </thead>\n",
       "  <tbody>\n",
       "    <tr>\n",
       "      <th>0</th>\n",
       "      <td>Alagoas</td>\n",
       "      <td>AL</td>\n",
       "      <td>Maceió</td>\n",
       "      <td>27,843</td>\n",
       "      <td>3,337,357</td>\n",
       "      <td>119.86</td>\n",
       "      <td>49,456</td>\n",
       "      <td>0.683</td>\n",
       "    </tr>\n",
       "    <tr>\n",
       "      <th>1</th>\n",
       "      <td>Amapá</td>\n",
       "      <td>AP</td>\n",
       "      <td>Macapá</td>\n",
       "      <td>142,471</td>\n",
       "      <td>845,731</td>\n",
       "      <td>5.94</td>\n",
       "      <td>14,339</td>\n",
       "      <td>0.740</td>\n",
       "    </tr>\n",
       "    <tr>\n",
       "      <th>2</th>\n",
       "      <td>Amazonas</td>\n",
       "      <td>AM</td>\n",
       "      <td>Manaus</td>\n",
       "      <td>1,559,168</td>\n",
       "      <td>4,144,597</td>\n",
       "      <td>2.66</td>\n",
       "      <td>89,017</td>\n",
       "      <td>0.733</td>\n",
       "    </tr>\n",
       "    <tr>\n",
       "      <th>3</th>\n",
       "      <td>Bahia</td>\n",
       "      <td>BA</td>\n",
       "      <td>Salvador</td>\n",
       "      <td>564,723</td>\n",
       "      <td>14,873,064</td>\n",
       "      <td>26.34</td>\n",
       "      <td>258,649</td>\n",
       "      <td>0.714</td>\n",
       "    </tr>\n",
       "    <tr>\n",
       "      <th>4</th>\n",
       "      <td>Ceará</td>\n",
       "      <td>CE</td>\n",
       "      <td>Fortaleza</td>\n",
       "      <td>148,895</td>\n",
       "      <td>9,132,078</td>\n",
       "      <td>61.33</td>\n",
       "      <td>138,379</td>\n",
       "      <td>0.735</td>\n",
       "    </tr>\n",
       "    <tr>\n",
       "      <th>5</th>\n",
       "      <td>Distrito Federal</td>\n",
       "      <td>DF</td>\n",
       "      <td>Brasília</td>\n",
       "      <td>5,761</td>\n",
       "      <td>3,015,268</td>\n",
       "      <td>523.41</td>\n",
       "      <td>235,497</td>\n",
       "      <td>0.850</td>\n",
       "    </tr>\n",
       "  </tbody>\n",
       "</table>\n",
       "</div>"
      ],
      "text/plain": [
       "                Acre  AC Rio Branco    164,124     881,935    5.37   13,751  \\\n",
       "0            Alagoas  AL     Maceió     27,843   3,337,357  119.86   49,456   \n",
       "1              Amapá  AP     Macapá    142,471     845,731    5.94   14,339   \n",
       "2           Amazonas  AM     Manaus  1,559,168   4,144,597    2.66   89,017   \n",
       "3              Bahia  BA   Salvador    564,723  14,873,064   26.34  258,649   \n",
       "4              Ceará  CE  Fortaleza    148,895   9,132,078   61.33  138,379   \n",
       "5   Distrito Federal  DF   Brasília      5,761   3,015,268  523.41  235,497   \n",
       "\n",
       "   0.719  \n",
       "0  0.683  \n",
       "1  0.740  \n",
       "2  0.733  \n",
       "3  0.714  \n",
       "4  0.735  \n",
       "5  0.850  "
      ]
     },
     "execution_count": 121,
     "metadata": {},
     "output_type": "execute_result"
    }
   ],
   "source": [
    "pd.read_clipboard()"
   ]
  },
  {
   "cell_type": "code",
   "execution_count": 141,
   "id": "776bfe83",
   "metadata": {},
   "outputs": [
    {
     "data": {
      "text/html": [
       "<div>\n",
       "<style scoped>\n",
       "    .dataframe tbody tr th:only-of-type {\n",
       "        vertical-align: middle;\n",
       "    }\n",
       "\n",
       "    .dataframe tbody tr th {\n",
       "        vertical-align: top;\n",
       "    }\n",
       "\n",
       "    .dataframe thead th {\n",
       "        text-align: right;\n",
       "    }\n",
       "</style>\n",
       "<table border=\"1\" class=\"dataframe\">\n",
       "  <thead>\n",
       "    <tr style=\"text-align: right;\">\n",
       "      <th></th>\n",
       "      <th>DR_NO</th>\n",
       "      <th>Date Rptd</th>\n",
       "      <th>DATE OCC</th>\n",
       "      <th>TIME OCC</th>\n",
       "      <th>AREA</th>\n",
       "      <th>AREA NAME</th>\n",
       "      <th>Rpt Dist No</th>\n",
       "      <th>Part 1-2</th>\n",
       "      <th>Crm Cd</th>\n",
       "      <th>Crm Cd Desc</th>\n",
       "      <th>...</th>\n",
       "      <th>Status</th>\n",
       "      <th>Status Desc</th>\n",
       "      <th>Crm Cd 1</th>\n",
       "      <th>Crm Cd 2</th>\n",
       "      <th>Crm Cd 3</th>\n",
       "      <th>Crm Cd 4</th>\n",
       "      <th>LOCATION</th>\n",
       "      <th>Cross Street</th>\n",
       "      <th>LAT</th>\n",
       "      <th>LON</th>\n",
       "    </tr>\n",
       "  </thead>\n",
       "  <tbody>\n",
       "    <tr>\n",
       "      <th>0</th>\n",
       "      <td>10304468</td>\n",
       "      <td>01/08/2020 12:00:00 AM</td>\n",
       "      <td>01/08/2020 12:00:00 AM</td>\n",
       "      <td>2230</td>\n",
       "      <td>3</td>\n",
       "      <td>Southwest</td>\n",
       "      <td>377</td>\n",
       "      <td>2</td>\n",
       "      <td>624</td>\n",
       "      <td>BATTERY - SIMPLE ASSAULT</td>\n",
       "      <td>...</td>\n",
       "      <td>AO</td>\n",
       "      <td>Adult Other</td>\n",
       "      <td>624.0</td>\n",
       "      <td>NaN</td>\n",
       "      <td>NaN</td>\n",
       "      <td>NaN</td>\n",
       "      <td>1100 W  39TH                         PL</td>\n",
       "      <td>NaN</td>\n",
       "      <td>34.0141</td>\n",
       "      <td>-118.2978</td>\n",
       "    </tr>\n",
       "    <tr>\n",
       "      <th>1</th>\n",
       "      <td>190101086</td>\n",
       "      <td>01/02/2020 12:00:00 AM</td>\n",
       "      <td>01/01/2020 12:00:00 AM</td>\n",
       "      <td>330</td>\n",
       "      <td>1</td>\n",
       "      <td>Central</td>\n",
       "      <td>163</td>\n",
       "      <td>2</td>\n",
       "      <td>624</td>\n",
       "      <td>BATTERY - SIMPLE ASSAULT</td>\n",
       "      <td>...</td>\n",
       "      <td>IC</td>\n",
       "      <td>Invest Cont</td>\n",
       "      <td>624.0</td>\n",
       "      <td>NaN</td>\n",
       "      <td>NaN</td>\n",
       "      <td>NaN</td>\n",
       "      <td>700 S  HILL                         ST</td>\n",
       "      <td>NaN</td>\n",
       "      <td>34.0459</td>\n",
       "      <td>-118.2545</td>\n",
       "    </tr>\n",
       "    <tr>\n",
       "      <th>2</th>\n",
       "      <td>201220752</td>\n",
       "      <td>09/16/2020 12:00:00 AM</td>\n",
       "      <td>09/16/2020 12:00:00 AM</td>\n",
       "      <td>1230</td>\n",
       "      <td>12</td>\n",
       "      <td>77th Street</td>\n",
       "      <td>1259</td>\n",
       "      <td>2</td>\n",
       "      <td>745</td>\n",
       "      <td>VANDALISM - MISDEAMEANOR ($399 OR UNDER)</td>\n",
       "      <td>...</td>\n",
       "      <td>IC</td>\n",
       "      <td>Invest Cont</td>\n",
       "      <td>745.0</td>\n",
       "      <td>NaN</td>\n",
       "      <td>NaN</td>\n",
       "      <td>NaN</td>\n",
       "      <td>700 E  73RD                         ST</td>\n",
       "      <td>NaN</td>\n",
       "      <td>33.9739</td>\n",
       "      <td>-118.2630</td>\n",
       "    </tr>\n",
       "    <tr>\n",
       "      <th>3</th>\n",
       "      <td>191501505</td>\n",
       "      <td>01/01/2020 12:00:00 AM</td>\n",
       "      <td>01/01/2020 12:00:00 AM</td>\n",
       "      <td>1730</td>\n",
       "      <td>15</td>\n",
       "      <td>N Hollywood</td>\n",
       "      <td>1543</td>\n",
       "      <td>2</td>\n",
       "      <td>745</td>\n",
       "      <td>VANDALISM - MISDEAMEANOR ($399 OR UNDER)</td>\n",
       "      <td>...</td>\n",
       "      <td>IC</td>\n",
       "      <td>Invest Cont</td>\n",
       "      <td>745.0</td>\n",
       "      <td>998.0</td>\n",
       "      <td>NaN</td>\n",
       "      <td>NaN</td>\n",
       "      <td>5400    CORTEEN                      PL</td>\n",
       "      <td>NaN</td>\n",
       "      <td>34.1685</td>\n",
       "      <td>-118.4019</td>\n",
       "    </tr>\n",
       "    <tr>\n",
       "      <th>4</th>\n",
       "      <td>191921269</td>\n",
       "      <td>01/01/2020 12:00:00 AM</td>\n",
       "      <td>01/01/2020 12:00:00 AM</td>\n",
       "      <td>415</td>\n",
       "      <td>19</td>\n",
       "      <td>Mission</td>\n",
       "      <td>1998</td>\n",
       "      <td>2</td>\n",
       "      <td>740</td>\n",
       "      <td>VANDALISM - FELONY ($400 &amp; OVER, ALL CHURCH VA...</td>\n",
       "      <td>...</td>\n",
       "      <td>IC</td>\n",
       "      <td>Invest Cont</td>\n",
       "      <td>740.0</td>\n",
       "      <td>NaN</td>\n",
       "      <td>NaN</td>\n",
       "      <td>NaN</td>\n",
       "      <td>14400    TITUS                        ST</td>\n",
       "      <td>NaN</td>\n",
       "      <td>34.2198</td>\n",
       "      <td>-118.4468</td>\n",
       "    </tr>\n",
       "  </tbody>\n",
       "</table>\n",
       "<p>5 rows × 28 columns</p>\n",
       "</div>"
      ],
      "text/plain": [
       "       DR_NO               Date Rptd                DATE OCC  TIME OCC  AREA  \\\n",
       "0   10304468  01/08/2020 12:00:00 AM  01/08/2020 12:00:00 AM      2230     3   \n",
       "1  190101086  01/02/2020 12:00:00 AM  01/01/2020 12:00:00 AM       330     1   \n",
       "2  201220752  09/16/2020 12:00:00 AM  09/16/2020 12:00:00 AM      1230    12   \n",
       "3  191501505  01/01/2020 12:00:00 AM  01/01/2020 12:00:00 AM      1730    15   \n",
       "4  191921269  01/01/2020 12:00:00 AM  01/01/2020 12:00:00 AM       415    19   \n",
       "\n",
       "     AREA NAME  Rpt Dist No  Part 1-2  Crm Cd  \\\n",
       "0    Southwest          377         2     624   \n",
       "1      Central          163         2     624   \n",
       "2  77th Street         1259         2     745   \n",
       "3  N Hollywood         1543         2     745   \n",
       "4      Mission         1998         2     740   \n",
       "\n",
       "                                         Crm Cd Desc  ... Status  Status Desc  \\\n",
       "0                           BATTERY - SIMPLE ASSAULT  ...     AO  Adult Other   \n",
       "1                           BATTERY - SIMPLE ASSAULT  ...     IC  Invest Cont   \n",
       "2           VANDALISM - MISDEAMEANOR ($399 OR UNDER)  ...     IC  Invest Cont   \n",
       "3           VANDALISM - MISDEAMEANOR ($399 OR UNDER)  ...     IC  Invest Cont   \n",
       "4  VANDALISM - FELONY ($400 & OVER, ALL CHURCH VA...  ...     IC  Invest Cont   \n",
       "\n",
       "  Crm Cd 1 Crm Cd 2  Crm Cd 3 Crm Cd 4  \\\n",
       "0    624.0      NaN       NaN      NaN   \n",
       "1    624.0      NaN       NaN      NaN   \n",
       "2    745.0      NaN       NaN      NaN   \n",
       "3    745.0    998.0       NaN      NaN   \n",
       "4    740.0      NaN       NaN      NaN   \n",
       "\n",
       "                                   LOCATION Cross Street      LAT       LON  \n",
       "0   1100 W  39TH                         PL          NaN  34.0141 -118.2978  \n",
       "1    700 S  HILL                         ST          NaN  34.0459 -118.2545  \n",
       "2    700 E  73RD                         ST          NaN  33.9739 -118.2630  \n",
       "3   5400    CORTEEN                      PL          NaN  34.1685 -118.4019  \n",
       "4  14400    TITUS                        ST          NaN  34.2198 -118.4468  \n",
       "\n",
       "[5 rows x 28 columns]"
      ]
     },
     "execution_count": 141,
     "metadata": {},
     "output_type": "execute_result"
    }
   ],
   "source": [
    "## abrindo arquivo csv\n",
    "\n",
    "pd.read_csv('data/crime_data_from_2020_to_present.csv').head()"
   ]
  },
  {
   "cell_type": "markdown",
   "id": "c46fbb44",
   "metadata": {},
   "source": [
    "A função\n",
    "\n",
    "```python\n",
    "pd.read_csv()\n",
    "```\n",
    "\n",
    "possui vários parâmetros, em sua grande maioria são opcionais, mas são extremamente úteis para nosso trabalho. Alguns dos mais utilizados:\n",
    "\n",
    "* encoding -> define o encoding dos dados de entrada\n",
    "* sep -> define o separador entre os dados\n",
    "* usecols -> recebe uma lista com o nome das colunas que devem ser carregadas\n",
    "* nrows -> define a quantidade de linhas a serem carregadas\n",
    "* decimal -> define o caracter utilizado para separação de decimais\n",
    "* converters -> recebe um dicionário contendo o nome das colunas e os tipos para conversão\n",
    "\n",
    "A utilização dos parâmetros de leitura de arquivos vai sempre variar de acordo com a necessidade de leitura. Em casos de dados muito grandes, podemos utilizar ```nrows``` para trabalhar inicialmente com uma pequena amostra dos dados e depois executar o código com o dataset completo, por exemplo."
   ]
  },
  {
   "cell_type": "code",
   "execution_count": 157,
   "id": "37d0b1fb",
   "metadata": {},
   "outputs": [
    {
     "data": {
      "text/html": [
       "<div>\n",
       "<style scoped>\n",
       "    .dataframe tbody tr th:only-of-type {\n",
       "        vertical-align: middle;\n",
       "    }\n",
       "\n",
       "    .dataframe tbody tr th {\n",
       "        vertical-align: top;\n",
       "    }\n",
       "\n",
       "    .dataframe thead th {\n",
       "        text-align: right;\n",
       "    }\n",
       "</style>\n",
       "<table border=\"1\" class=\"dataframe\">\n",
       "  <thead>\n",
       "    <tr style=\"text-align: right;\">\n",
       "      <th></th>\n",
       "      <th>DR_NO</th>\n",
       "      <th>LAT</th>\n",
       "      <th>LON</th>\n",
       "    </tr>\n",
       "  </thead>\n",
       "  <tbody>\n",
       "    <tr>\n",
       "      <th>0</th>\n",
       "      <td>010304468</td>\n",
       "      <td>34.0141</td>\n",
       "      <td>-118.2978</td>\n",
       "    </tr>\n",
       "    <tr>\n",
       "      <th>1</th>\n",
       "      <td>190101086</td>\n",
       "      <td>34.0459</td>\n",
       "      <td>-118.2545</td>\n",
       "    </tr>\n",
       "    <tr>\n",
       "      <th>2</th>\n",
       "      <td>201220752</td>\n",
       "      <td>33.9739</td>\n",
       "      <td>-118.263</td>\n",
       "    </tr>\n",
       "    <tr>\n",
       "      <th>3</th>\n",
       "      <td>191501505</td>\n",
       "      <td>34.1685</td>\n",
       "      <td>-118.4019</td>\n",
       "    </tr>\n",
       "    <tr>\n",
       "      <th>4</th>\n",
       "      <td>191921269</td>\n",
       "      <td>34.2198</td>\n",
       "      <td>-118.4468</td>\n",
       "    </tr>\n",
       "    <tr>\n",
       "      <th>...</th>\n",
       "      <td>...</td>\n",
       "      <td>...</td>\n",
       "      <td>...</td>\n",
       "    </tr>\n",
       "    <tr>\n",
       "      <th>95</th>\n",
       "      <td>200104135</td>\n",
       "      <td>34.053</td>\n",
       "      <td>-118.2513</td>\n",
       "    </tr>\n",
       "    <tr>\n",
       "      <th>96</th>\n",
       "      <td>200104136</td>\n",
       "      <td>34.039</td>\n",
       "      <td>-118.24</td>\n",
       "    </tr>\n",
       "    <tr>\n",
       "      <th>97</th>\n",
       "      <td>200709741</td>\n",
       "      <td>34.0835</td>\n",
       "      <td>-118.3734</td>\n",
       "    </tr>\n",
       "    <tr>\n",
       "      <th>98</th>\n",
       "      <td>200104138</td>\n",
       "      <td>34.0586</td>\n",
       "      <td>-118.2402</td>\n",
       "    </tr>\n",
       "    <tr>\n",
       "      <th>99</th>\n",
       "      <td>200104139</td>\n",
       "      <td>34.0487</td>\n",
       "      <td>-118.2588</td>\n",
       "    </tr>\n",
       "  </tbody>\n",
       "</table>\n",
       "<p>100 rows × 3 columns</p>\n",
       "</div>"
      ],
      "text/plain": [
       "        DR_NO      LAT        LON\n",
       "0   010304468  34.0141  -118.2978\n",
       "1   190101086  34.0459  -118.2545\n",
       "2   201220752  33.9739   -118.263\n",
       "3   191501505  34.1685  -118.4019\n",
       "4   191921269  34.2198  -118.4468\n",
       "..        ...      ...        ...\n",
       "95  200104135   34.053  -118.2513\n",
       "96  200104136   34.039    -118.24\n",
       "97  200709741  34.0835  -118.3734\n",
       "98  200104138  34.0586  -118.2402\n",
       "99  200104139  34.0487  -118.2588\n",
       "\n",
       "[100 rows x 3 columns]"
      ]
     },
     "execution_count": 157,
     "metadata": {},
     "output_type": "execute_result"
    }
   ],
   "source": [
    "## carregando todo o dataset\n",
    "\n",
    "pd.read_csv('data/crime_data_from_2020_to_present.csv',usecols=['DR_NO','LAT','LON'],nrows=100,decimal=',',converters={'DR_NO':str,'LAT':str,'LON':str})"
   ]
  },
  {
   "cell_type": "code",
   "execution_count": 158,
   "id": "df8f90ac",
   "metadata": {},
   "outputs": [
    {
     "name": "stdout",
     "output_type": "stream",
     "text": [
      "<class 'pandas.core.frame.DataFrame'>\n",
      "RangeIndex: 100 entries, 0 to 99\n",
      "Data columns (total 28 columns):\n",
      " #   Column          Non-Null Count  Dtype  \n",
      "---  ------          --------------  -----  \n",
      " 0   DR_NO           100 non-null    int64  \n",
      " 1   Date Rptd       100 non-null    object \n",
      " 2   DATE OCC        100 non-null    object \n",
      " 3   TIME OCC        100 non-null    int64  \n",
      " 4   AREA            100 non-null    int64  \n",
      " 5   AREA NAME       100 non-null    object \n",
      " 6   Rpt Dist No     100 non-null    int64  \n",
      " 7   Part 1-2        100 non-null    int64  \n",
      " 8   Crm Cd          100 non-null    int64  \n",
      " 9   Crm Cd Desc     100 non-null    object \n",
      " 10  Mocodes         92 non-null     object \n",
      " 11  Vict Age        100 non-null    int64  \n",
      " 12  Vict Sex        92 non-null     object \n",
      " 13  Vict Descent    92 non-null     object \n",
      " 14  Premis Cd       100 non-null    int64  \n",
      " 15  Premis Desc     100 non-null    object \n",
      " 16  Weapon Used Cd  45 non-null     float64\n",
      " 17  Weapon Desc     45 non-null     object \n",
      " 18  Status          100 non-null    object \n",
      " 19  Status Desc     100 non-null    object \n",
      " 20  Crm Cd 1        100 non-null    int64  \n",
      " 21  Crm Cd 2        15 non-null     float64\n",
      " 22  Crm Cd 3        0 non-null      float64\n",
      " 23  Crm Cd 4        0 non-null      float64\n",
      " 24  LOCATION        100 non-null    object \n",
      " 25  Cross Street    27 non-null     object \n",
      " 26  LAT             100 non-null    float64\n",
      " 27  LON             100 non-null    float64\n",
      "dtypes: float64(6), int64(9), object(13)\n",
      "memory usage: 22.0+ KB\n"
     ]
    }
   ],
   "source": [
    "## usando o nrows\n",
    "\n",
    "pd.read_csv('data/crime_data_from_2020_to_present.csv',nrows=100).info()"
   ]
  },
  {
   "cell_type": "markdown",
   "id": "382d4fb4",
   "metadata": {},
   "source": [
    "Também podemos usar o ```usecols``` para ler somente as colunas que queremos (e em conjunto com ```nrows```) e diminuir o consumo de memória."
   ]
  },
  {
   "cell_type": "code",
   "execution_count": 159,
   "id": "1b0db6a9",
   "metadata": {},
   "outputs": [
    {
     "name": "stdout",
     "output_type": "stream",
     "text": [
      "<class 'pandas.core.frame.DataFrame'>\n",
      "RangeIndex: 1000 entries, 0 to 999\n",
      "Data columns (total 3 columns):\n",
      " #   Column        Non-Null Count  Dtype \n",
      "---  ------        --------------  ----- \n",
      " 0   AREA          1000 non-null   int64 \n",
      " 1   Vict Sex      922 non-null    object\n",
      " 2   Vict Descent  922 non-null    object\n",
      "dtypes: int64(1), object(2)\n",
      "memory usage: 23.6+ KB\n"
     ]
    }
   ],
   "source": [
    "## utilizando nrows e usecols\n",
    "\n",
    "small_df =  pd.read_csv('data/crime_data_from_2020_to_present.csv',\n",
    "            nrows=1000,\n",
    "            usecols=['AREA','Vict Sex','Vict Descent'])\n",
    "\n",
    "small_df.info()"
   ]
  },
  {
   "cell_type": "markdown",
   "id": "a14d6831",
   "metadata": {},
   "source": [
    "# Indexing e Slicing\n",
    "___\n",
    "\n",
    "Já vimos anteriormente que todo dataframe possui algumas características (ou partes) que são importante. Um array de valores (dados), um conjunto de índices para as linhas e também um conjunto de índices para as colunas. Para acessarmos e modificarmos valores nos dataframes é necessário entendermos os conceitos por trás desses índices."
   ]
  },
  {
   "cell_type": "code",
   "execution_count": null,
   "id": "de7d235f",
   "metadata": {},
   "outputs": [],
   "source": [
    "df = pd.read_csv('data/crime_data_from_2020_to_present.csv')\n",
    "df.head()"
   ]
  },
  {
   "cell_type": "markdown",
   "id": "26de776e",
   "metadata": {},
   "source": [
    "Já vimos que é possível acessar os nomes dos índices e das colunas através dos códigos\n",
    "\n",
    "```python\n",
    "df.columns\n",
    "df.index\n",
    "```"
   ]
  },
  {
   "cell_type": "code",
   "execution_count": null,
   "id": "82731c40",
   "metadata": {},
   "outputs": [],
   "source": [
    "## nomes das colunas\n",
    "\n",
    "df.columns"
   ]
  },
  {
   "cell_type": "code",
   "execution_count": null,
   "id": "2b9a5c7b",
   "metadata": {},
   "outputs": [],
   "source": [
    "## indices das linhas\n",
    "\n",
    "df.index"
   ]
  },
  {
   "cell_type": "markdown",
   "id": "43fbbdcd",
   "metadata": {},
   "source": [
    "Podemos modificar os índices das linhas utilizando os valores de uma coluna inteira como novos índices. Para isso basta utilizar a função \n",
    "\n",
    "```python\n",
    "df.set_index('nome da coluna')\n",
    "```"
   ]
  },
  {
   "cell_type": "code",
   "execution_count": null,
   "id": "b95044f0",
   "metadata": {},
   "outputs": [],
   "source": [
    "## novo índice\n",
    "\n",
    "df = df.set_index('DR_NO')\n",
    "df.head()"
   ]
  },
  {
   "cell_type": "markdown",
   "id": "69df1a88",
   "metadata": {},
   "source": [
    "Podemos também resetar os índices, voltando a ter índices das linhas dentro de um range incremetal. Para isso basta utilizarmos o \n",
    "\n",
    "```python\n",
    "df.reset_index()\n",
    "```"
   ]
  },
  {
   "cell_type": "code",
   "execution_count": null,
   "id": "5c95f537",
   "metadata": {},
   "outputs": [],
   "source": [
    "df = df.reset_index()\n",
    "df.head()"
   ]
  },
  {
   "cell_type": "markdown",
   "id": "dfc3043a",
   "metadata": {},
   "source": [
    "Ao selecionar linhas ou colunas utilizamos seus índices, sejam eles números ou strings. Para selecionar colunas inteiras é basta utilizarmos a seguinte sintaxe\n",
    "\n",
    "```python\n",
    "df['nome da coluna']\n",
    "```"
   ]
  },
  {
   "cell_type": "code",
   "execution_count": null,
   "id": "cbd386f1",
   "metadata": {},
   "outputs": [],
   "source": [
    "## acessando todos os valores de uma colunas (selecionando a coluna)\n",
    "\n",
    "df['AREA']"
   ]
  },
  {
   "cell_type": "markdown",
   "id": "035178d5",
   "metadata": {},
   "source": [
    "Veja que ao acessar a coluna, estamos na verdade retornando uma série. Ela possui todas as características e métodos de uma série comum."
   ]
  },
  {
   "cell_type": "code",
   "execution_count": null,
   "id": "6d157c4f",
   "metadata": {},
   "outputs": [],
   "source": [
    "## verificando o tipo\n",
    "\n",
    "type(df['AREA'])"
   ]
  },
  {
   "cell_type": "markdown",
   "id": "c84fbaee",
   "metadata": {},
   "source": [
    "Ainda é possível utilizar outra sintaxe para acessar uma coluna!"
   ]
  },
  {
   "cell_type": "code",
   "execution_count": null,
   "id": "6b5ec23d",
   "metadata": {},
   "outputs": [],
   "source": [
    "## acessando a mesma coluna AREA\n",
    "\n",
    "df.AREA"
   ]
  },
  {
   "cell_type": "markdown",
   "id": "8a7b4f6a",
   "metadata": {},
   "source": [
    "É possível também retornar um grupo de colunas através do indexador ```[]``` basta que ele receba, ao invés de um único nome da coluna, uma lista de nomes."
   ]
  },
  {
   "cell_type": "code",
   "execution_count": null,
   "id": "9eb0cc49",
   "metadata": {},
   "outputs": [],
   "source": [
    "df[['DR_NO','AREA']]"
   ]
  },
  {
   "cell_type": "markdown",
   "id": "658f211f",
   "metadata": {},
   "source": [
    "Perceba que retorno da nossa indexação é um conjunto de séries formando um novo dataframe contendo somente aquilo que selecionamos. Essa sintaxe é bem simples para o acesso de informações guardadas em colunas, mas e para acessar somente linhas, para isso utilizamos os métodos ```.loc[]``` e ```.iloc[]```."
   ]
  },
  {
   "cell_type": "code",
   "execution_count": null,
   "id": "0b952700",
   "metadata": {},
   "outputs": [],
   "source": [
    "## acessando a linha com o indice zero\n",
    "\n",
    "df.loc[0]"
   ]
  },
  {
   "cell_type": "code",
   "execution_count": null,
   "id": "1201a110",
   "metadata": {},
   "outputs": [],
   "source": [
    "df = df.set_index('DR_NO')\n",
    "df.loc[0]"
   ]
  },
  {
   "cell_type": "markdown",
   "id": "73edb769",
   "metadata": {},
   "source": [
    "Ao alterarmos o índice de 0 para o valor na colunas DR_NO não conseguimos mais acessar a linha utilizando o índice 0, mas sim o índice 10304468"
   ]
  },
  {
   "cell_type": "code",
   "execution_count": null,
   "id": "833fecc1",
   "metadata": {},
   "outputs": [],
   "source": [
    "df.loc[10304468]"
   ]
  },
  {
   "cell_type": "markdown",
   "id": "de4773d6",
   "metadata": {},
   "source": [
    "É importante notar que a sintaxe ```.loc[]``` utiliza o identificador do índice, seja ele uma string ou um número. Se passarmos um índice que não existe para ```.loc[]``` teremos um erro de chaveamento."
   ]
  },
  {
   "cell_type": "code",
   "execution_count": null,
   "id": "b21bb506",
   "metadata": {},
   "outputs": [],
   "source": [
    "df.loc['nasser']"
   ]
  },
  {
   "cell_type": "markdown",
   "id": "61370441",
   "metadata": {},
   "source": [
    "É possível não utilizar o índice, mas a localização da linha de fato. Nesse sentido, ao invés de passarmos o nome do índice, passamos a localização do índice que queremos retornar. Para isso basta usar a sintaxe ```.iloc[]```"
   ]
  },
  {
   "cell_type": "code",
   "execution_count": null,
   "id": "538a1611",
   "metadata": {},
   "outputs": [],
   "source": [
    "df.loc[10304468]"
   ]
  },
  {
   "cell_type": "code",
   "execution_count": null,
   "id": "703ac6a1",
   "metadata": {},
   "outputs": [],
   "source": [
    "df.iloc[0]"
   ]
  },
  {
   "cell_type": "markdown",
   "id": "2b6f361d",
   "metadata": {},
   "source": [
    "Tanto o ```.loc[]``` quanto o ```.iloc[]``` suportam a também uma indexação mais completa passando também o identificador ou o número do índice da colunas.\n",
    "\n",
    "![axis](imgs/loc.png)"
   ]
  },
  {
   "cell_type": "code",
   "execution_count": null,
   "id": "f52f281c",
   "metadata": {},
   "outputs": [],
   "source": [
    "## acessando o valor de AREA NAME da linhas com índice 201220752\n",
    "\n",
    "df.loc[201220752,'AREA NAME']"
   ]
  },
  {
   "cell_type": "code",
   "execution_count": null,
   "id": "7fbee850",
   "metadata": {},
   "outputs": [],
   "source": [
    "## acessando o valor de AREA NAME da linhas com índice 201220752 utilizando iloc\n",
    "\n",
    "df.iloc[2,4]"
   ]
  },
  {
   "cell_type": "markdown",
   "id": "48084196",
   "metadata": {},
   "source": [
    "Se podemos acessar o valor, também podemos alterá-lo."
   ]
  },
  {
   "cell_type": "code",
   "execution_count": null,
   "id": "84a9eb96",
   "metadata": {},
   "outputs": [],
   "source": [
    "df.iloc[2,4] = 'Mission'\n",
    "df.iloc[2,4]"
   ]
  },
  {
   "cell_type": "code",
   "execution_count": null,
   "id": "c58c4cd6",
   "metadata": {},
   "outputs": [],
   "source": [
    "df.head()"
   ]
  },
  {
   "cell_type": "markdown",
   "id": "d81d5220",
   "metadata": {},
   "source": [
    "Tanto o ```.loc``` quanto o ```.iloc``` também trabalham com fatiamento através do ```:```"
   ]
  },
  {
   "cell_type": "code",
   "execution_count": null,
   "id": "d4c54432",
   "metadata": {},
   "outputs": [],
   "source": [
    "## usando iloc com fatiamento\n",
    "\n",
    "df.iloc[:10,:3]"
   ]
  },
  {
   "cell_type": "code",
   "execution_count": null,
   "id": "ac573037",
   "metadata": {},
   "outputs": [],
   "source": [
    "## usando o loc com fatiamento\n",
    "\n",
    "df.loc[201220752:201817357,'AREA':'Mocodes']"
   ]
  },
  {
   "cell_type": "code",
   "execution_count": null,
   "id": "07863431",
   "metadata": {},
   "outputs": [],
   "source": [
    "## usando o loc com listas\n",
    "\n",
    "df.loc[[191921269,200100507],['AREA','Vict Descent']]"
   ]
  },
  {
   "cell_type": "markdown",
   "id": "00c45ee7",
   "metadata": {},
   "source": [
    "Da mesma forma que podemos fazer indexação de listas e arrays utilizando máscaras de valores booleanos também conseguimos fazer isso com dataframes."
   ]
  },
  {
   "cell_type": "code",
   "execution_count": null,
   "id": "7d86ce25",
   "metadata": {},
   "outputs": [],
   "source": [
    "mascara = df['AREA'] == 12\n",
    "mascara"
   ]
  },
  {
   "cell_type": "code",
   "execution_count": null,
   "id": "e4e29510",
   "metadata": {},
   "outputs": [],
   "source": [
    "df.loc[mascara]"
   ]
  },
  {
   "cell_type": "markdown",
   "id": "46031df8",
   "metadata": {},
   "source": [
    "Se quisermos utilizar condições lógicas mais complicadas é possível, basta criar condições lógicas mais complexas também."
   ]
  },
  {
   "cell_type": "code",
   "execution_count": null,
   "id": "f761c479",
   "metadata": {},
   "outputs": [],
   "source": [
    "mascara = (df['AREA'] == 12) & (df['Status'] == 'IC')\n",
    "df.loc[mascara]"
   ]
  },
  {
   "cell_type": "markdown",
   "id": "f7335c6d",
   "metadata": {},
   "source": [
    "O método ```.isin()``` verifica uma condição frente a uma lista de valores."
   ]
  },
  {
   "cell_type": "code",
   "execution_count": null,
   "id": "ce25aa26",
   "metadata": {},
   "outputs": [],
   "source": [
    "lista_de_areas = [12,3,1]\n",
    "\n",
    "df.loc[df['AREA'].isin(lista_de_areas)]"
   ]
  },
  {
   "cell_type": "markdown",
   "id": "7e15b531",
   "metadata": {},
   "source": [
    "Criar um código com condições lógicas para o mesmo resultado ficaria mais complicado."
   ]
  },
  {
   "cell_type": "code",
   "execution_count": null,
   "id": "20537d59",
   "metadata": {},
   "outputs": [],
   "source": [
    "mascara = (df.AREA == 12)|(df.AREA == 3)|(df.AREA == 1)\n",
    "df.loc[mascara]"
   ]
  },
  {
   "cell_type": "markdown",
   "id": "241049ed",
   "metadata": {},
   "source": [
    "A indexação por colunas também nos ajuda a criar novas colunas. Basta usar a mesma sintaxe de indexação, passando o nome da nova coluna e os dados que devem estar nela."
   ]
  },
  {
   "cell_type": "code",
   "execution_count": null,
   "id": "5039eed0",
   "metadata": {},
   "outputs": [],
   "source": [
    "df['nova_coluna'] = df.AREA + 10"
   ]
  },
  {
   "cell_type": "code",
   "execution_count": null,
   "id": "7c61d202",
   "metadata": {},
   "outputs": [],
   "source": [
    "df.nova_coluna"
   ]
  },
  {
   "cell_type": "markdown",
   "id": "6f9c2c45",
   "metadata": {},
   "source": [
    "# Datas\n",
    "___\n",
    "\n",
    "Além dos tipos tradicionais de dados do python ainda temos o ```datetime``` que é um tipo de dados específico para trabalhar com datas e horas. Esse tipo de dado é bastante utilizado para criar novas colunas e extrair mais informações sobre os dados, finalmente também é possível fazer várias operações com datas que ajudam a nossa análise."
   ]
  },
  {
   "cell_type": "code",
   "execution_count": null,
   "id": "dca38131",
   "metadata": {},
   "outputs": [],
   "source": [
    "df.info()"
   ]
  },
  {
   "cell_type": "markdown",
   "id": "e67bb1ca",
   "metadata": {},
   "source": [
    "A coluna ```DATE OCC``` está como objeto, o correto seria transformá-la em ```datetime``` para isso podemos utilizar a função \n",
    "\n",
    "```python\n",
    "pd.to_datetime()\n",
    "```"
   ]
  },
  {
   "cell_type": "code",
   "execution_count": null,
   "id": "ba38a5ce",
   "metadata": {},
   "outputs": [],
   "source": [
    "pd.to_datetime(df['DATE OCC'])"
   ]
  },
  {
   "cell_type": "markdown",
   "id": "5d46ad3f",
   "metadata": {},
   "source": [
    "O ```datetime``` possui métodos para que possamos extrair informações mais específicas de cada data. Para acessar esses métodos temos que selecionar a coluna com o datetime e utilizar o método ```.dt```."
   ]
  },
  {
   "cell_type": "code",
   "execution_count": null,
   "id": "f70adfb9",
   "metadata": {},
   "outputs": [],
   "source": [
    "## extraindo o ano de cada data\n",
    "\n",
    "pd.to_datetime(df['DATE OCC']).dt.year"
   ]
  },
  {
   "cell_type": "code",
   "execution_count": null,
   "id": "f274bc77",
   "metadata": {},
   "outputs": [],
   "source": [
    "## extraindo o mês de cada data\n",
    "\n",
    "pd.to_datetime(df['DATE OCC']).dt.month"
   ]
  },
  {
   "cell_type": "code",
   "execution_count": null,
   "id": "5c4ceb5c",
   "metadata": {},
   "outputs": [],
   "source": [
    "## extraindo o número da semana\n",
    "\n",
    "pd.to_datetime(df['DATE OCC']).dt.isocalendar().week"
   ]
  },
  {
   "cell_type": "code",
   "execution_count": null,
   "id": "e4495470",
   "metadata": {},
   "outputs": [],
   "source": [
    "## extraindo o dia do mês\n",
    "\n",
    "pd.to_datetime(df['DATE OCC']).dt.day"
   ]
  },
  {
   "cell_type": "code",
   "execution_count": null,
   "id": "d3908644",
   "metadata": {},
   "outputs": [],
   "source": [
    "## extraindo o dia da semana (segunda == 0 até domingo == 6)\n",
    "\n",
    "pd.to_datetime(df['DATE OCC']).dt.dayofweek"
   ]
  },
  {
   "cell_type": "markdown",
   "id": "4d7c52fd",
   "metadata": {},
   "source": [
    "Para executar operações com as datas temos que utilizar a função ```pd.DateOffset```. Essa função é capaz criar um objeto de data que pode ser facilmente utilizado em operações."
   ]
  },
  {
   "cell_type": "code",
   "execution_count": null,
   "id": "a1e859b1",
   "metadata": {},
   "outputs": [],
   "source": [
    "## adicionando um dia\n",
    "\n",
    "pd.to_datetime(df['DATE OCC']) + 1"
   ]
  },
  {
   "cell_type": "code",
   "execution_count": null,
   "id": "f4cea515",
   "metadata": {},
   "outputs": [],
   "source": [
    "## adicionando um dia\n",
    "\n",
    "pd.to_datetime(df['DATE OCC']) + pd.DateOffset(days=1)"
   ]
  },
  {
   "cell_type": "code",
   "execution_count": null,
   "id": "570aaa05",
   "metadata": {},
   "outputs": [],
   "source": [
    "## subtraindo um dia\n",
    "\n",
    "pd.to_datetime(df['DATE OCC']) + pd.DateOffset(days=-1)"
   ]
  },
  {
   "cell_type": "markdown",
   "id": "dde068cb",
   "metadata": {},
   "source": [
    "As datas também aceitam serem alvos de operações lógicas! Através de strings, o que deixa as operações lógicas bem mais fáceis."
   ]
  },
  {
   "cell_type": "code",
   "execution_count": null,
   "id": "36a6167e",
   "metadata": {},
   "outputs": [],
   "source": [
    "mascara = pd.to_datetime(df['DATE OCC']) > '2021-01-01'\n",
    "df[mascara]"
   ]
  },
  {
   "cell_type": "markdown",
   "id": "af772b42",
   "metadata": {},
   "source": [
    "# Funções Estatísticas\n",
    "___\n",
    "\n",
    "Existem algumas funções já implementadas no pandas que nos ajudam a entender melhor as estatísticas do nosso dataframe. Algumas funções podem aplicadas a séries, em dataframes ou nas duas."
   ]
  },
  {
   "cell_type": "code",
   "execution_count": null,
   "id": "211b432f",
   "metadata": {},
   "outputs": [],
   "source": [
    "df = pd.read_csv('data/carros.csv')\n",
    "df.head()"
   ]
  },
  {
   "cell_type": "markdown",
   "id": "d7fd1320",
   "metadata": {},
   "source": [
    "Inicialmente é importante inspecionar nossos dados. A função ```.head()```, ```.tail()``` e ```.sample()``` são as principais para ter uma noção rápida a qualidade dos dados."
   ]
  },
  {
   "cell_type": "code",
   "execution_count": null,
   "id": "c1563709",
   "metadata": {},
   "outputs": [],
   "source": [
    "## tail pegando as últimas linhas\n",
    "\n",
    "df.tail()"
   ]
  },
  {
   "cell_type": "code",
   "execution_count": null,
   "id": "92625eb8",
   "metadata": {},
   "outputs": [],
   "source": [
    "## sample pegando uma amostra de 10 elementos\n",
    "\n",
    "df.sample(10)"
   ]
  },
  {
   "cell_type": "markdown",
   "id": "731103d8",
   "metadata": {},
   "source": [
    "As principais estatísticas descritivas podem ser facilmente calculadas utilizando funções e métodos já implementados nas classes do pandas."
   ]
  },
  {
   "cell_type": "code",
   "execution_count": null,
   "id": "92120caf",
   "metadata": {},
   "outputs": [],
   "source": [
    "## descobrindo a média de preço de venda dos carros\n",
    "\n",
    "df.price.mean()"
   ]
  },
  {
   "cell_type": "code",
   "execution_count": null,
   "id": "4a7055ef",
   "metadata": {},
   "outputs": [],
   "source": [
    "## descobrindo a mediana dos preços\n",
    "\n",
    "df.price.median()"
   ]
  },
  {
   "cell_type": "code",
   "execution_count": null,
   "id": "a308d690",
   "metadata": {},
   "outputs": [],
   "source": [
    "## descobrindo a variância dos preços\n",
    "\n",
    "df.price.var()"
   ]
  },
  {
   "cell_type": "code",
   "execution_count": null,
   "id": "3b8bb3cd",
   "metadata": {},
   "outputs": [],
   "source": [
    "## descobrindo o desvio padrão dos preços\n",
    "\n",
    "df.price.std()"
   ]
  },
  {
   "cell_type": "code",
   "execution_count": null,
   "id": "2a688644",
   "metadata": {},
   "outputs": [],
   "source": [
    "## descobrindo a contagem de preços\n",
    "\n",
    "df.price.count()"
   ]
  },
  {
   "cell_type": "code",
   "execution_count": null,
   "id": "170c39c0",
   "metadata": {},
   "outputs": [],
   "source": [
    "## descobrindo o valor mínimo e máximo\n",
    "\n",
    "print(df.price.min())\n",
    "print(df.price.max())"
   ]
  },
  {
   "cell_type": "markdown",
   "id": "1557a35c",
   "metadata": {},
   "source": [
    "Essas medidas são simples e podem ser facilmente calculadas utilizando a função ```.describe()```."
   ]
  },
  {
   "cell_type": "code",
   "execution_count": null,
   "id": "cae701d2",
   "metadata": {},
   "outputs": [],
   "source": [
    "## utilizando describe\n",
    "\n",
    "df.price.describe()"
   ]
  },
  {
   "cell_type": "markdown",
   "id": "6d56e82b",
   "metadata": {},
   "source": [
    "O ```.describe()``` também traz os valores associados ao primeiro quartil (25%), mediana (50%) e terceiro quartil (75%). É possível utilizar o parâmetro percentiles para personalizar quais valores de percentis gostaríamos que o describe devolva."
   ]
  },
  {
   "cell_type": "code",
   "execution_count": null,
   "id": "0cf49019",
   "metadata": {},
   "outputs": [],
   "source": [
    "## utilizando describe\n",
    "\n",
    "df.price.describe(percentiles=[0.25,0.5,0.75,0.99])"
   ]
  },
  {
   "cell_type": "markdown",
   "id": "35a9128e",
   "metadata": {},
   "source": [
    "O describe retorna uma série e podemos acessar os valores fazendo uma indexção simples"
   ]
  },
  {
   "cell_type": "code",
   "execution_count": null,
   "id": "cbeb137c",
   "metadata": {},
   "outputs": [],
   "source": [
    "type(df.price.describe(percentiles=[0.25,0.5,0.75,0.99]))"
   ]
  },
  {
   "cell_type": "code",
   "execution_count": null,
   "id": "f368bdeb",
   "metadata": {},
   "outputs": [],
   "source": [
    "df.price.describe(percentiles=[0.25,0.5,0.75,0.99]).loc['99%']"
   ]
  },
  {
   "cell_type": "markdown",
   "id": "21f70f92",
   "metadata": {},
   "source": [
    "Outra estatística que nos ajuda a entender mais sobre nossos dados é o IQR."
   ]
  },
  {
   "cell_type": "code",
   "execution_count": null,
   "id": "654b3f9b",
   "metadata": {},
   "outputs": [],
   "source": [
    "price_stats = df.price.describe()"
   ]
  },
  {
   "cell_type": "code",
   "execution_count": null,
   "id": "7d2eb017",
   "metadata": {},
   "outputs": [],
   "source": [
    "iqr = price_stats.loc['75%'] - price_stats.loc['25%']"
   ]
  },
  {
   "cell_type": "code",
   "execution_count": null,
   "id": "c805ce54",
   "metadata": {},
   "outputs": [],
   "source": [
    "iqr"
   ]
  },
  {
   "cell_type": "markdown",
   "id": "b559a1e9",
   "metadata": {},
   "source": [
    "Um IQR muito alto demonstra que existe uma variação também bem grande em pelo menos 50% dos dados, um IQR baixo demonstra uma maior consistência nos valores dos carros."
   ]
  },
  {
   "cell_type": "markdown",
   "id": "7fe27243",
   "metadata": {},
   "source": [
    "Outra função que, apesar de não ser estatística, ajuda demais nas análises do dia a dia é a ```pct_change()``` que retorna mudança percentual de um valor para o valor imediatamente abaixo."
   ]
  },
  {
   "cell_type": "code",
   "execution_count": null,
   "id": "a1d48ea3",
   "metadata": {},
   "outputs": [],
   "source": [
    "pd.Series([1,2,3])"
   ]
  },
  {
   "cell_type": "code",
   "execution_count": null,
   "id": "0ce65024",
   "metadata": {},
   "outputs": [],
   "source": [
    "## Qual é o aumento percentual na média dos preços ao longo dos anos de 2017 até 2020\n",
    "\n",
    "ls_anos = [2017,2018,2019,2020]\n",
    "mascara = (df.year.isin(ls_anos)) & (df.model == ' Corsa')\n",
    "media_de_preco = df[mascara].groupby('year').mean().price\n",
    "\n",
    "media_de_preco.pct_change()"
   ]
  },
  {
   "cell_type": "markdown",
   "id": "390cf55f",
   "metadata": {},
   "source": [
    "A função ```.rank()``` elabora um ranking dos valores."
   ]
  },
  {
   "cell_type": "code",
   "execution_count": null,
   "id": "3c23bc01",
   "metadata": {},
   "outputs": [],
   "source": [
    "pd.DataFrame({'price':df.price,'rank':df.price.rank(ascending=False)}).sort_values('rank')"
   ]
  },
  {
   "cell_type": "markdown",
   "id": "376840e4",
   "metadata": {},
   "source": [
    "Finalmente temos o ```.corr()``` que traz a correlação entre valores. A correlação padrão calculada é a de pearson, mas pode ser alterada e até criamos a nossa própria função e utilizar na função."
   ]
  },
  {
   "cell_type": "code",
   "execution_count": null,
   "id": "36bbbf9b",
   "metadata": {},
   "outputs": [],
   "source": [
    "## existe uma correlação entre preço e mileage\n",
    "\n",
    "df[['price','mileage']].corr()"
   ]
  },
  {
   "cell_type": "markdown",
   "id": "9c548f9f",
   "metadata": {},
   "source": [
    "# Transformações (reshaping)\n",
    "___\n",
    "\n",
    "O trabalho de um cientista de dados envolve, em sua grande maioria, criar datasets \"tidy\" esse é um termo utilizado para descriminar formatos de datasets que estão apropriados para análise ou sejam facilmente interpretados e lidos. Esse processo envolve a transformação e preparação de dados complexos e estruturados, algumas vezes, pensando somente em termos de armazenamento.\n",
    "\n",
    "Já sabemos que ```shape``` descreve o formato de um dataset."
   ]
  },
  {
   "cell_type": "code",
   "execution_count": null,
   "id": "667f189d",
   "metadata": {},
   "outputs": [],
   "source": [
    "## avaliando o dataset que temos\n",
    "\n",
    "df"
   ]
  },
  {
   "cell_type": "code",
   "execution_count": null,
   "id": "708b6f75",
   "metadata": {},
   "outputs": [],
   "source": [
    "df.shape"
   ]
  },
  {
   "cell_type": "markdown",
   "id": "9e652a75",
   "metadata": {},
   "source": [
    "Aqui sabemos que o dataset possui 13632 linhas e 9 colunas. Cada linha significa um carro diferente que foi vendido e suas características (features). Chamamos essa organização do dataset de ```wide```. Isso significa que cada linha é única, porém abrimos a oportunidade para termos valores nulos (faltantes) no dataset. Esse formato é interessante para análises estatísticas e até tratamento de valores nulos."
   ]
  },
  {
   "cell_type": "code",
   "execution_count": null,
   "id": "aed5793e",
   "metadata": {},
   "outputs": [],
   "source": [
    "df_long = df.groupby('model').mean().drop('year',axis=1).melt(ignore_index=False)\n",
    "df_long"
   ]
  },
  {
   "cell_type": "markdown",
   "id": "886e14e4",
   "metadata": {},
   "source": [
    "O dataset acima possui 110 linhas e 2 colunas. Aqui temos cada característica (feature) em uma linha e não mais em colunas, esse é o formato ```long```."
   ]
  },
  {
   "cell_type": "code",
   "execution_count": null,
   "id": "2247e1b4",
   "metadata": {},
   "outputs": [],
   "source": [
    "df_long.loc[' Adam']"
   ]
  },
  {
   "cell_type": "markdown",
   "id": "5e9aa7c1",
   "metadata": {},
   "source": [
    "Perceba que para o modelo de carro chamado \"Adam\" temos uma coluna que descreve qual é a variável e outra coluna que descreve o valor associado a variável. Se não tivessemos informação sobre \"engineSize\" desse modelo a linha que representa essa informação não existiria. Esse é o formato mais comum em dados chamados de \"tidy\", pois pode melhor sumarizar dados, torna a construção de gráficos mais fácil e também deixa o dataset pronto para análises mais complexas (através da sua comparação com dicionários, chave-valor)."
   ]
  },
  {
   "cell_type": "markdown",
   "id": "70af9e5b",
   "metadata": {},
   "source": [
    "A função ```.melt()``` transforma nosso dataset de ```wide``` para ```long```.<br>\n",
    "As funções ```.pivot()``` e ```.pivot_table()``` transforma nosso dataset de ```long``` para ```wide```."
   ]
  },
  {
   "cell_type": "markdown",
   "id": "050648ec",
   "metadata": {},
   "source": [
    "Outra transformação comum é transposição. Não tão eficiente, porém uma ferramenta a mais para vermos nossos dados. A transposição faz com que linhas sejam colunas e colunas sejam linhas."
   ]
  },
  {
   "cell_type": "code",
   "execution_count": null,
   "id": "9efa2c83",
   "metadata": {},
   "outputs": [],
   "source": [
    "df.head()"
   ]
  },
  {
   "cell_type": "code",
   "execution_count": null,
   "id": "5bab5f06",
   "metadata": {},
   "outputs": [],
   "source": [
    "## transpondo o dataset\n",
    "\n",
    "df.T"
   ]
  },
  {
   "cell_type": "markdown",
   "id": "d1bb28ef",
   "metadata": {},
   "source": [
    "É imporante entender o conceito de ```unidade de análise``` nos datasets de formato ```long``` a unidade de análise é cada característica de um carro, ou seja, estamos interessados nas características de cada carro e não no carro em si. No formato ```wide``` estamos preocupado com todas as caracaterísticas do carro ao mesmo tempo, nossa unidade de análise é o carro como um todo e não só uma característica dele.\n",
    "\n",
    "> wide:\n",
    "\n",
    "> * cada linhas tem várias features da mesma unidade de análise\n",
    "> * cada feature está representada em uma coluna diferente\n",
    "> * não contem observações repetidas\n",
    "> * pode conter um grande número de dados faltantes\n",
    "\n",
    "> long :\n",
    "\n",
    "> * precisa de uma coluna para identificar features da mesma observação\n",
    "> * cada linha representa uma feature\n",
    "> * existem múltiplas linhas para a mesma observação\n",
    "> * inexistência de valores nulos"
   ]
  },
  {
   "cell_type": "markdown",
   "id": "50b02e66",
   "metadata": {},
   "source": [
    "O formato long é o melhor para guardar dados limpos, porém se precisarmos demonstrar a relação entre algumas features, fazer operações com datas ou até fazer operações com colunas o formato wide vai ser necessário. Para isso utilizamos o ```.pivot()``` ou o ```.pivot_table()```."
   ]
  },
  {
   "cell_type": "markdown",
   "id": "c8133e09",
   "metadata": {},
   "source": [
    "O método \n",
    "\n",
    "```python\n",
    "df.pivot_table(index,columns,values,aggfunc)\n",
    "```\n",
    "\n",
    "possui quatro parâmetros, o primeiro discrimina qual deve ser a nova unidade de análise, o segundo recebe a coluna que deve ser explodida (e criará N colunas para N valores únicos na coluna passada), o terceiro parâmetro que recebe os valores que devem popular cada nova coluna criada e o último controla o comportamento de agregação que será feito quando encontrarmos índices iguais."
   ]
  },
  {
   "cell_type": "code",
   "execution_count": 3,
   "id": "cab737a3",
   "metadata": {},
   "outputs": [
    {
     "data": {
      "text/html": [
       "<div>\n",
       "<style scoped>\n",
       "    .dataframe tbody tr th:only-of-type {\n",
       "        vertical-align: middle;\n",
       "    }\n",
       "\n",
       "    .dataframe tbody tr th {\n",
       "        vertical-align: top;\n",
       "    }\n",
       "\n",
       "    .dataframe thead th {\n",
       "        text-align: right;\n",
       "    }\n",
       "</style>\n",
       "<table border=\"1\" class=\"dataframe\">\n",
       "  <thead>\n",
       "    <tr style=\"text-align: right;\">\n",
       "      <th></th>\n",
       "      <th>id</th>\n",
       "      <th>survived</th>\n",
       "      <th>pclass</th>\n",
       "      <th>name</th>\n",
       "      <th>sex</th>\n",
       "      <th>age</th>\n",
       "      <th>sibsp</th>\n",
       "      <th>parch</th>\n",
       "      <th>ticket</th>\n",
       "      <th>fare</th>\n",
       "      <th>cabin</th>\n",
       "      <th>embarked</th>\n",
       "    </tr>\n",
       "  </thead>\n",
       "  <tbody>\n",
       "    <tr>\n",
       "      <th>0</th>\n",
       "      <td>1</td>\n",
       "      <td>0</td>\n",
       "      <td>3</td>\n",
       "      <td>Braund, Mr. Owen Harris</td>\n",
       "      <td>male</td>\n",
       "      <td>22.0</td>\n",
       "      <td>1</td>\n",
       "      <td>0</td>\n",
       "      <td>A/5 21171</td>\n",
       "      <td>7.2500</td>\n",
       "      <td>NaN</td>\n",
       "      <td>S</td>\n",
       "    </tr>\n",
       "    <tr>\n",
       "      <th>1</th>\n",
       "      <td>2</td>\n",
       "      <td>1</td>\n",
       "      <td>1</td>\n",
       "      <td>Cumings, Mrs. John Bradley (Florence Briggs Th...</td>\n",
       "      <td>female</td>\n",
       "      <td>38.0</td>\n",
       "      <td>1</td>\n",
       "      <td>0</td>\n",
       "      <td>PC 17599</td>\n",
       "      <td>71.2833</td>\n",
       "      <td>C85</td>\n",
       "      <td>C</td>\n",
       "    </tr>\n",
       "    <tr>\n",
       "      <th>2</th>\n",
       "      <td>3</td>\n",
       "      <td>1</td>\n",
       "      <td>3</td>\n",
       "      <td>Heikkinen, Miss. Laina</td>\n",
       "      <td>female</td>\n",
       "      <td>26.0</td>\n",
       "      <td>0</td>\n",
       "      <td>0</td>\n",
       "      <td>STON/O2. 3101282</td>\n",
       "      <td>7.9250</td>\n",
       "      <td>NaN</td>\n",
       "      <td>S</td>\n",
       "    </tr>\n",
       "    <tr>\n",
       "      <th>3</th>\n",
       "      <td>4</td>\n",
       "      <td>1</td>\n",
       "      <td>1</td>\n",
       "      <td>Futrelle, Mrs. Jacques Heath (Lily May Peel)</td>\n",
       "      <td>female</td>\n",
       "      <td>35.0</td>\n",
       "      <td>1</td>\n",
       "      <td>0</td>\n",
       "      <td>113803</td>\n",
       "      <td>53.1000</td>\n",
       "      <td>C123</td>\n",
       "      <td>S</td>\n",
       "    </tr>\n",
       "    <tr>\n",
       "      <th>4</th>\n",
       "      <td>5</td>\n",
       "      <td>0</td>\n",
       "      <td>3</td>\n",
       "      <td>Allen, Mr. William Henry</td>\n",
       "      <td>male</td>\n",
       "      <td>35.0</td>\n",
       "      <td>0</td>\n",
       "      <td>0</td>\n",
       "      <td>373450</td>\n",
       "      <td>8.0500</td>\n",
       "      <td>NaN</td>\n",
       "      <td>S</td>\n",
       "    </tr>\n",
       "  </tbody>\n",
       "</table>\n",
       "</div>"
      ],
      "text/plain": [
       "   id  survived  pclass                                               name  \\\n",
       "0   1         0       3                            Braund, Mr. Owen Harris   \n",
       "1   2         1       1  Cumings, Mrs. John Bradley (Florence Briggs Th...   \n",
       "2   3         1       3                             Heikkinen, Miss. Laina   \n",
       "3   4         1       1       Futrelle, Mrs. Jacques Heath (Lily May Peel)   \n",
       "4   5         0       3                           Allen, Mr. William Henry   \n",
       "\n",
       "      sex   age  sibsp  parch            ticket     fare cabin embarked  \n",
       "0    male  22.0      1      0         A/5 21171   7.2500   NaN        S  \n",
       "1  female  38.0      1      0          PC 17599  71.2833   C85        C  \n",
       "2  female  26.0      0      0  STON/O2. 3101282   7.9250   NaN        S  \n",
       "3  female  35.0      1      0            113803  53.1000  C123        S  \n",
       "4    male  35.0      0      0            373450   8.0500   NaN        S  "
      ]
     },
     "execution_count": 3,
     "metadata": {},
     "output_type": "execute_result"
    }
   ],
   "source": [
    "## utilizando o dataset do titanic\n",
    "\n",
    "titanic = pd.read_csv('data/titanic.csv')\n",
    "titanic.columns = ['id' if x == 'PassengerId' else x.lower() for x in titanic.columns]\n",
    "titanic.head()"
   ]
  },
  {
   "cell_type": "markdown",
   "id": "34f288d6",
   "metadata": {},
   "source": [
    "Imagine que queremos analisar se a **idade e o sexo tiveram algum tipo influência na possibilidade de sobrevivência** de cada pessoa. Como executar essa análise?"
   ]
  },
  {
   "cell_type": "code",
   "execution_count": 4,
   "id": "b2934c0e",
   "metadata": {},
   "outputs": [
    {
     "data": {
      "text/html": [
       "<div>\n",
       "<style scoped>\n",
       "    .dataframe tbody tr th:only-of-type {\n",
       "        vertical-align: middle;\n",
       "    }\n",
       "\n",
       "    .dataframe tbody tr th {\n",
       "        vertical-align: top;\n",
       "    }\n",
       "\n",
       "    .dataframe thead th {\n",
       "        text-align: right;\n",
       "    }\n",
       "</style>\n",
       "<table border=\"1\" class=\"dataframe\">\n",
       "  <thead>\n",
       "    <tr style=\"text-align: right;\">\n",
       "      <th></th>\n",
       "      <th>sex</th>\n",
       "      <th>survived</th>\n",
       "      <th>age</th>\n",
       "      <th>id</th>\n",
       "    </tr>\n",
       "  </thead>\n",
       "  <tbody>\n",
       "    <tr>\n",
       "      <th>0</th>\n",
       "      <td>male</td>\n",
       "      <td>0</td>\n",
       "      <td>22.0</td>\n",
       "      <td>1</td>\n",
       "    </tr>\n",
       "    <tr>\n",
       "      <th>1</th>\n",
       "      <td>female</td>\n",
       "      <td>1</td>\n",
       "      <td>38.0</td>\n",
       "      <td>2</td>\n",
       "    </tr>\n",
       "    <tr>\n",
       "      <th>2</th>\n",
       "      <td>female</td>\n",
       "      <td>1</td>\n",
       "      <td>26.0</td>\n",
       "      <td>3</td>\n",
       "    </tr>\n",
       "    <tr>\n",
       "      <th>3</th>\n",
       "      <td>female</td>\n",
       "      <td>1</td>\n",
       "      <td>35.0</td>\n",
       "      <td>4</td>\n",
       "    </tr>\n",
       "    <tr>\n",
       "      <th>4</th>\n",
       "      <td>male</td>\n",
       "      <td>0</td>\n",
       "      <td>35.0</td>\n",
       "      <td>5</td>\n",
       "    </tr>\n",
       "  </tbody>\n",
       "</table>\n",
       "</div>"
      ],
      "text/plain": [
       "      sex  survived   age  id\n",
       "0    male         0  22.0   1\n",
       "1  female         1  38.0   2\n",
       "2  female         1  26.0   3\n",
       "3  female         1  35.0   4\n",
       "4    male         0  35.0   5"
      ]
     },
     "execution_count": 4,
     "metadata": {},
     "output_type": "execute_result"
    }
   ],
   "source": [
    "## primeiro vamos selecionar somente os dados necessários\n",
    "\n",
    "data = titanic[['sex','survived','age','id']]\n",
    "data.head()"
   ]
  },
  {
   "cell_type": "code",
   "execution_count": 5,
   "id": "e3e29c8f",
   "metadata": {},
   "outputs": [
    {
     "data": {
      "text/html": [
       "<div>\n",
       "<style scoped>\n",
       "    .dataframe tbody tr th:only-of-type {\n",
       "        vertical-align: middle;\n",
       "    }\n",
       "\n",
       "    .dataframe tbody tr th {\n",
       "        vertical-align: top;\n",
       "    }\n",
       "\n",
       "    .dataframe thead tr th {\n",
       "        text-align: left;\n",
       "    }\n",
       "\n",
       "    .dataframe thead tr:last-of-type th {\n",
       "        text-align: right;\n",
       "    }\n",
       "</style>\n",
       "<table border=\"1\" class=\"dataframe\">\n",
       "  <thead>\n",
       "    <tr>\n",
       "      <th>sex</th>\n",
       "      <th colspan=\"10\" halign=\"left\">female</th>\n",
       "      <th>...</th>\n",
       "      <th colspan=\"10\" halign=\"left\">male</th>\n",
       "    </tr>\n",
       "    <tr>\n",
       "      <th>age</th>\n",
       "      <th>0.75</th>\n",
       "      <th>1.00</th>\n",
       "      <th>2.00</th>\n",
       "      <th>3.00</th>\n",
       "      <th>4.00</th>\n",
       "      <th>5.00</th>\n",
       "      <th>6.00</th>\n",
       "      <th>7.00</th>\n",
       "      <th>8.00</th>\n",
       "      <th>9.00</th>\n",
       "      <th>...</th>\n",
       "      <th>61.00</th>\n",
       "      <th>62.00</th>\n",
       "      <th>64.00</th>\n",
       "      <th>65.00</th>\n",
       "      <th>66.00</th>\n",
       "      <th>70.00</th>\n",
       "      <th>70.50</th>\n",
       "      <th>71.00</th>\n",
       "      <th>74.00</th>\n",
       "      <th>80.00</th>\n",
       "    </tr>\n",
       "    <tr>\n",
       "      <th>survived</th>\n",
       "      <th></th>\n",
       "      <th></th>\n",
       "      <th></th>\n",
       "      <th></th>\n",
       "      <th></th>\n",
       "      <th></th>\n",
       "      <th></th>\n",
       "      <th></th>\n",
       "      <th></th>\n",
       "      <th></th>\n",
       "      <th></th>\n",
       "      <th></th>\n",
       "      <th></th>\n",
       "      <th></th>\n",
       "      <th></th>\n",
       "      <th></th>\n",
       "      <th></th>\n",
       "      <th></th>\n",
       "      <th></th>\n",
       "      <th></th>\n",
       "      <th></th>\n",
       "    </tr>\n",
       "  </thead>\n",
       "  <tbody>\n",
       "    <tr>\n",
       "      <th>0</th>\n",
       "      <td>NaN</td>\n",
       "      <td>NaN</td>\n",
       "      <td>4.0</td>\n",
       "      <td>1.0</td>\n",
       "      <td>NaN</td>\n",
       "      <td>NaN</td>\n",
       "      <td>1.0</td>\n",
       "      <td>NaN</td>\n",
       "      <td>1.0</td>\n",
       "      <td>4.0</td>\n",
       "      <td>...</td>\n",
       "      <td>3.0</td>\n",
       "      <td>2.0</td>\n",
       "      <td>2.0</td>\n",
       "      <td>3.0</td>\n",
       "      <td>1.0</td>\n",
       "      <td>2.0</td>\n",
       "      <td>1.0</td>\n",
       "      <td>2.0</td>\n",
       "      <td>1.0</td>\n",
       "      <td>NaN</td>\n",
       "    </tr>\n",
       "    <tr>\n",
       "      <th>1</th>\n",
       "      <td>2.0</td>\n",
       "      <td>2.0</td>\n",
       "      <td>2.0</td>\n",
       "      <td>1.0</td>\n",
       "      <td>5.0</td>\n",
       "      <td>4.0</td>\n",
       "      <td>1.0</td>\n",
       "      <td>1.0</td>\n",
       "      <td>1.0</td>\n",
       "      <td>NaN</td>\n",
       "      <td>...</td>\n",
       "      <td>NaN</td>\n",
       "      <td>1.0</td>\n",
       "      <td>NaN</td>\n",
       "      <td>NaN</td>\n",
       "      <td>NaN</td>\n",
       "      <td>NaN</td>\n",
       "      <td>NaN</td>\n",
       "      <td>NaN</td>\n",
       "      <td>NaN</td>\n",
       "      <td>1.0</td>\n",
       "    </tr>\n",
       "  </tbody>\n",
       "</table>\n",
       "<p>2 rows × 145 columns</p>\n",
       "</div>"
      ],
      "text/plain": [
       "sex      female                                                        ...  \\\n",
       "age       0.75  1.00  2.00  3.00  4.00  5.00  6.00  7.00  8.00  9.00   ...   \n",
       "survived                                                               ...   \n",
       "0           NaN   NaN   4.0   1.0   NaN   NaN   1.0   NaN   1.0   4.0  ...   \n",
       "1           2.0   2.0   2.0   1.0   5.0   4.0   1.0   1.0   1.0   NaN  ...   \n",
       "\n",
       "sex       male                                                        \n",
       "age      61.00 62.00 64.00 65.00 66.00 70.00 70.50 71.00 74.00 80.00  \n",
       "survived                                                              \n",
       "0          3.0   2.0   2.0   3.0   1.0   2.0   1.0   2.0   1.0   NaN  \n",
       "1          NaN   1.0   NaN   NaN   NaN   NaN   NaN   NaN   NaN   1.0  \n",
       "\n",
       "[2 rows x 145 columns]"
      ]
     },
     "execution_count": 5,
     "metadata": {},
     "output_type": "execute_result"
    }
   ],
   "source": [
    "## agora basta utilizar pivot_table\n",
    "\n",
    "data.pivot_table(index='survived',columns=['sex','age'],values='id',aggfunc='count')"
   ]
  },
  {
   "cell_type": "markdown",
   "id": "d72cb2d2",
   "metadata": {},
   "source": [
    "A vizualização acima não é interssante pois é ilegível."
   ]
  },
  {
   "cell_type": "code",
   "execution_count": 6,
   "id": "29bb6b89",
   "metadata": {},
   "outputs": [
    {
     "data": {
      "text/html": [
       "<div>\n",
       "<style scoped>\n",
       "    .dataframe tbody tr th:only-of-type {\n",
       "        vertical-align: middle;\n",
       "    }\n",
       "\n",
       "    .dataframe tbody tr th {\n",
       "        vertical-align: top;\n",
       "    }\n",
       "\n",
       "    .dataframe thead th {\n",
       "        text-align: right;\n",
       "    }\n",
       "</style>\n",
       "<table border=\"1\" class=\"dataframe\">\n",
       "  <thead>\n",
       "    <tr style=\"text-align: right;\">\n",
       "      <th></th>\n",
       "      <th>survived</th>\n",
       "      <th>0</th>\n",
       "      <th>1</th>\n",
       "    </tr>\n",
       "    <tr>\n",
       "      <th>sex</th>\n",
       "      <th>age</th>\n",
       "      <th></th>\n",
       "      <th></th>\n",
       "    </tr>\n",
       "  </thead>\n",
       "  <tbody>\n",
       "    <tr>\n",
       "      <th rowspan=\"5\" valign=\"top\">female</th>\n",
       "      <th>0.75</th>\n",
       "      <td>NaN</td>\n",
       "      <td>2.0</td>\n",
       "    </tr>\n",
       "    <tr>\n",
       "      <th>1.00</th>\n",
       "      <td>NaN</td>\n",
       "      <td>2.0</td>\n",
       "    </tr>\n",
       "    <tr>\n",
       "      <th>2.00</th>\n",
       "      <td>4.0</td>\n",
       "      <td>2.0</td>\n",
       "    </tr>\n",
       "    <tr>\n",
       "      <th>3.00</th>\n",
       "      <td>1.0</td>\n",
       "      <td>1.0</td>\n",
       "    </tr>\n",
       "    <tr>\n",
       "      <th>4.00</th>\n",
       "      <td>NaN</td>\n",
       "      <td>5.0</td>\n",
       "    </tr>\n",
       "    <tr>\n",
       "      <th>...</th>\n",
       "      <th>...</th>\n",
       "      <td>...</td>\n",
       "      <td>...</td>\n",
       "    </tr>\n",
       "    <tr>\n",
       "      <th rowspan=\"5\" valign=\"top\">male</th>\n",
       "      <th>70.00</th>\n",
       "      <td>2.0</td>\n",
       "      <td>NaN</td>\n",
       "    </tr>\n",
       "    <tr>\n",
       "      <th>70.50</th>\n",
       "      <td>1.0</td>\n",
       "      <td>NaN</td>\n",
       "    </tr>\n",
       "    <tr>\n",
       "      <th>71.00</th>\n",
       "      <td>2.0</td>\n",
       "      <td>NaN</td>\n",
       "    </tr>\n",
       "    <tr>\n",
       "      <th>74.00</th>\n",
       "      <td>1.0</td>\n",
       "      <td>NaN</td>\n",
       "    </tr>\n",
       "    <tr>\n",
       "      <th>80.00</th>\n",
       "      <td>NaN</td>\n",
       "      <td>1.0</td>\n",
       "    </tr>\n",
       "  </tbody>\n",
       "</table>\n",
       "<p>145 rows × 2 columns</p>\n",
       "</div>"
      ],
      "text/plain": [
       "survived        0    1\n",
       "sex    age            \n",
       "female 0.75   NaN  2.0\n",
       "       1.00   NaN  2.0\n",
       "       2.00   4.0  2.0\n",
       "       3.00   1.0  1.0\n",
       "       4.00   NaN  5.0\n",
       "...           ...  ...\n",
       "male   70.00  2.0  NaN\n",
       "       70.50  1.0  NaN\n",
       "       71.00  2.0  NaN\n",
       "       74.00  1.0  NaN\n",
       "       80.00  NaN  1.0\n",
       "\n",
       "[145 rows x 2 columns]"
      ]
     },
     "execution_count": 6,
     "metadata": {},
     "output_type": "execute_result"
    }
   ],
   "source": [
    "## executando um tranpose\n",
    "\n",
    "data.pivot_table(index='survived',columns=['sex','age'],values='id',aggfunc='count').T"
   ]
  },
  {
   "cell_type": "markdown",
   "id": "9d64c25e",
   "metadata": {},
   "source": [
    "Mesmo com o transpose é complicado entender os dados, isso acontece porque a variável 'age' é numérica e pode assumir vários valores diferentes, talvez tê-la separado em grupos seja mais interessante. Vamos criar uma coluna nova que descreve se aquela pessoa está acima 65 anos ou abaixo de 14, para isso precisaremos de uma função."
   ]
  },
  {
   "cell_type": "code",
   "execution_count": 7,
   "id": "4bcc314d",
   "metadata": {},
   "outputs": [],
   "source": [
    "def bin_idade(value):\n",
    "    if value >= 65 or value < 14:\n",
    "        return 'prioridade'\n",
    "    else:\n",
    "        return 'n_prioridade'"
   ]
  },
  {
   "cell_type": "markdown",
   "id": "4a051fdd",
   "metadata": {},
   "source": [
    "Agora podemos aplicar a função ```bin_idade``` por todas as idades dos passageiros criando uma nova coluna ```prioridade```"
   ]
  },
  {
   "cell_type": "code",
   "execution_count": 8,
   "id": "83a2c996",
   "metadata": {},
   "outputs": [
    {
     "ename": "ValueError",
     "evalue": "The truth value of a Series is ambiguous. Use a.empty, a.bool(), a.item(), a.any() or a.all().",
     "output_type": "error",
     "traceback": [
      "\u001b[0;31m---------------------------------------------------------------------------\u001b[0m",
      "\u001b[0;31mValueError\u001b[0m                                Traceback (most recent call last)",
      "\u001b[0;32m<ipython-input-8-088d1d2bb5c1>\u001b[0m in \u001b[0;36m<module>\u001b[0;34m\u001b[0m\n\u001b[0;32m----> 1\u001b[0;31m \u001b[0mdata\u001b[0m\u001b[0;34m[\u001b[0m\u001b[0;34m'prioridade'\u001b[0m\u001b[0;34m]\u001b[0m \u001b[0;34m=\u001b[0m \u001b[0mbin_idade\u001b[0m\u001b[0;34m(\u001b[0m\u001b[0mdata\u001b[0m\u001b[0;34m.\u001b[0m\u001b[0mage\u001b[0m\u001b[0;34m)\u001b[0m\u001b[0;34m\u001b[0m\u001b[0;34m\u001b[0m\u001b[0m\n\u001b[0m",
      "\u001b[0;32m<ipython-input-7-2ebb874b8ad1>\u001b[0m in \u001b[0;36mbin_idade\u001b[0;34m(value)\u001b[0m\n\u001b[1;32m      1\u001b[0m \u001b[0;32mdef\u001b[0m \u001b[0mbin_idade\u001b[0m\u001b[0;34m(\u001b[0m\u001b[0mvalue\u001b[0m\u001b[0;34m)\u001b[0m\u001b[0;34m:\u001b[0m\u001b[0;34m\u001b[0m\u001b[0;34m\u001b[0m\u001b[0m\n\u001b[0;32m----> 2\u001b[0;31m     \u001b[0;32mif\u001b[0m \u001b[0mvalue\u001b[0m \u001b[0;34m>=\u001b[0m \u001b[0;36m65\u001b[0m \u001b[0;32mor\u001b[0m \u001b[0mvalue\u001b[0m \u001b[0;34m<\u001b[0m \u001b[0;36m14\u001b[0m\u001b[0;34m:\u001b[0m\u001b[0;34m\u001b[0m\u001b[0;34m\u001b[0m\u001b[0m\n\u001b[0m\u001b[1;32m      3\u001b[0m         \u001b[0;32mreturn\u001b[0m \u001b[0;34m'prioridade'\u001b[0m\u001b[0;34m\u001b[0m\u001b[0;34m\u001b[0m\u001b[0m\n\u001b[1;32m      4\u001b[0m     \u001b[0;32melse\u001b[0m\u001b[0;34m:\u001b[0m\u001b[0;34m\u001b[0m\u001b[0;34m\u001b[0m\u001b[0m\n\u001b[1;32m      5\u001b[0m         \u001b[0;32mreturn\u001b[0m \u001b[0;34m'n_prioridade'\u001b[0m\u001b[0;34m\u001b[0m\u001b[0;34m\u001b[0m\u001b[0m\n",
      "\u001b[0;32m~/miniconda3/lib/python3.8/site-packages/pandas/core/generic.py\u001b[0m in \u001b[0;36m__nonzero__\u001b[0;34m(self)\u001b[0m\n\u001b[1;32m   1440\u001b[0m     \u001b[0;34m@\u001b[0m\u001b[0mfinal\u001b[0m\u001b[0;34m\u001b[0m\u001b[0;34m\u001b[0m\u001b[0m\n\u001b[1;32m   1441\u001b[0m     \u001b[0;32mdef\u001b[0m \u001b[0m__nonzero__\u001b[0m\u001b[0;34m(\u001b[0m\u001b[0mself\u001b[0m\u001b[0;34m)\u001b[0m\u001b[0;34m:\u001b[0m\u001b[0;34m\u001b[0m\u001b[0;34m\u001b[0m\u001b[0m\n\u001b[0;32m-> 1442\u001b[0;31m         raise ValueError(\n\u001b[0m\u001b[1;32m   1443\u001b[0m             \u001b[0;34mf\"The truth value of a {type(self).__name__} is ambiguous. \"\u001b[0m\u001b[0;34m\u001b[0m\u001b[0;34m\u001b[0m\u001b[0m\n\u001b[1;32m   1444\u001b[0m             \u001b[0;34m\"Use a.empty, a.bool(), a.item(), a.any() or a.all().\"\u001b[0m\u001b[0;34m\u001b[0m\u001b[0;34m\u001b[0m\u001b[0m\n",
      "\u001b[0;31mValueError\u001b[0m: The truth value of a Series is ambiguous. Use a.empty, a.bool(), a.item(), a.any() or a.all()."
     ]
    }
   ],
   "source": [
    "data['prioridade'] = bin_idade(data.age)"
   ]
  },
  {
   "cell_type": "markdown",
   "id": "37d9de87",
   "metadata": {},
   "source": [
    "Ao utilizar a sintaxe acima a função, ao invés de receber um valor único, recebe uma série inteira e não está preparada para isso. Uma opção seria buscarmos cada valor de 'age' e de forma iterativa passarmos ele para ```bin_idade```."
   ]
  },
  {
   "cell_type": "code",
   "execution_count": 9,
   "id": "bddabfcd",
   "metadata": {},
   "outputs": [],
   "source": [
    "ls_prioridades = []\n",
    "\n",
    "for idade in data.age.values:\n",
    "    ls_prioridades.append(bin_idade(idade))\n",
    "else:\n",
    "    ls_prioridades = np.array(ls_prioridades)"
   ]
  },
  {
   "cell_type": "code",
   "execution_count": 10,
   "id": "b43c4291",
   "metadata": {},
   "outputs": [
    {
     "data": {
      "text/html": [
       "<div>\n",
       "<style scoped>\n",
       "    .dataframe tbody tr th:only-of-type {\n",
       "        vertical-align: middle;\n",
       "    }\n",
       "\n",
       "    .dataframe tbody tr th {\n",
       "        vertical-align: top;\n",
       "    }\n",
       "\n",
       "    .dataframe thead th {\n",
       "        text-align: right;\n",
       "    }\n",
       "</style>\n",
       "<table border=\"1\" class=\"dataframe\">\n",
       "  <thead>\n",
       "    <tr style=\"text-align: right;\">\n",
       "      <th></th>\n",
       "      <th>sex</th>\n",
       "      <th>survived</th>\n",
       "      <th>age</th>\n",
       "      <th>id</th>\n",
       "      <th>prioridade</th>\n",
       "    </tr>\n",
       "  </thead>\n",
       "  <tbody>\n",
       "    <tr>\n",
       "      <th>0</th>\n",
       "      <td>male</td>\n",
       "      <td>0</td>\n",
       "      <td>22.0</td>\n",
       "      <td>1</td>\n",
       "      <td>n_prioridade</td>\n",
       "    </tr>\n",
       "    <tr>\n",
       "      <th>1</th>\n",
       "      <td>female</td>\n",
       "      <td>1</td>\n",
       "      <td>38.0</td>\n",
       "      <td>2</td>\n",
       "      <td>n_prioridade</td>\n",
       "    </tr>\n",
       "    <tr>\n",
       "      <th>2</th>\n",
       "      <td>female</td>\n",
       "      <td>1</td>\n",
       "      <td>26.0</td>\n",
       "      <td>3</td>\n",
       "      <td>n_prioridade</td>\n",
       "    </tr>\n",
       "    <tr>\n",
       "      <th>3</th>\n",
       "      <td>female</td>\n",
       "      <td>1</td>\n",
       "      <td>35.0</td>\n",
       "      <td>4</td>\n",
       "      <td>n_prioridade</td>\n",
       "    </tr>\n",
       "    <tr>\n",
       "      <th>4</th>\n",
       "      <td>male</td>\n",
       "      <td>0</td>\n",
       "      <td>35.0</td>\n",
       "      <td>5</td>\n",
       "      <td>n_prioridade</td>\n",
       "    </tr>\n",
       "    <tr>\n",
       "      <th>...</th>\n",
       "      <td>...</td>\n",
       "      <td>...</td>\n",
       "      <td>...</td>\n",
       "      <td>...</td>\n",
       "      <td>...</td>\n",
       "    </tr>\n",
       "    <tr>\n",
       "      <th>886</th>\n",
       "      <td>male</td>\n",
       "      <td>0</td>\n",
       "      <td>27.0</td>\n",
       "      <td>887</td>\n",
       "      <td>n_prioridade</td>\n",
       "    </tr>\n",
       "    <tr>\n",
       "      <th>887</th>\n",
       "      <td>female</td>\n",
       "      <td>1</td>\n",
       "      <td>19.0</td>\n",
       "      <td>888</td>\n",
       "      <td>n_prioridade</td>\n",
       "    </tr>\n",
       "    <tr>\n",
       "      <th>888</th>\n",
       "      <td>female</td>\n",
       "      <td>0</td>\n",
       "      <td>NaN</td>\n",
       "      <td>889</td>\n",
       "      <td>n_prioridade</td>\n",
       "    </tr>\n",
       "    <tr>\n",
       "      <th>889</th>\n",
       "      <td>male</td>\n",
       "      <td>1</td>\n",
       "      <td>26.0</td>\n",
       "      <td>890</td>\n",
       "      <td>n_prioridade</td>\n",
       "    </tr>\n",
       "    <tr>\n",
       "      <th>890</th>\n",
       "      <td>male</td>\n",
       "      <td>0</td>\n",
       "      <td>32.0</td>\n",
       "      <td>891</td>\n",
       "      <td>n_prioridade</td>\n",
       "    </tr>\n",
       "  </tbody>\n",
       "</table>\n",
       "<p>891 rows × 5 columns</p>\n",
       "</div>"
      ],
      "text/plain": [
       "        sex  survived   age   id    prioridade\n",
       "0      male         0  22.0    1  n_prioridade\n",
       "1    female         1  38.0    2  n_prioridade\n",
       "2    female         1  26.0    3  n_prioridade\n",
       "3    female         1  35.0    4  n_prioridade\n",
       "4      male         0  35.0    5  n_prioridade\n",
       "..      ...       ...   ...  ...           ...\n",
       "886    male         0  27.0  887  n_prioridade\n",
       "887  female         1  19.0  888  n_prioridade\n",
       "888  female         0   NaN  889  n_prioridade\n",
       "889    male         1  26.0  890  n_prioridade\n",
       "890    male         0  32.0  891  n_prioridade\n",
       "\n",
       "[891 rows x 5 columns]"
      ]
     },
     "execution_count": 10,
     "metadata": {},
     "output_type": "execute_result"
    }
   ],
   "source": [
    "data['prioridade'] = ls_prioridades\n",
    "data"
   ]
  },
  {
   "cell_type": "markdown",
   "id": "eda486aa",
   "metadata": {},
   "source": [
    "A resolução utilizada acima não está incorreta, porém não é a mais adequada, o pandas já nos oferece uma forma mais pythonica de executar tarefas desse tipo e sem a necessidade de loops. Para isso basta utilizar o método ```.apply()``` que recebe uma função e passa cada valor de uma coluna específica para esta função."
   ]
  },
  {
   "cell_type": "code",
   "execution_count": 11,
   "id": "ffcd8fff",
   "metadata": {},
   "outputs": [
    {
     "data": {
      "text/html": [
       "<div>\n",
       "<style scoped>\n",
       "    .dataframe tbody tr th:only-of-type {\n",
       "        vertical-align: middle;\n",
       "    }\n",
       "\n",
       "    .dataframe tbody tr th {\n",
       "        vertical-align: top;\n",
       "    }\n",
       "\n",
       "    .dataframe thead th {\n",
       "        text-align: right;\n",
       "    }\n",
       "</style>\n",
       "<table border=\"1\" class=\"dataframe\">\n",
       "  <thead>\n",
       "    <tr style=\"text-align: right;\">\n",
       "      <th></th>\n",
       "      <th>sex</th>\n",
       "      <th>survived</th>\n",
       "      <th>age</th>\n",
       "      <th>id</th>\n",
       "    </tr>\n",
       "  </thead>\n",
       "  <tbody>\n",
       "    <tr>\n",
       "      <th>0</th>\n",
       "      <td>male</td>\n",
       "      <td>0</td>\n",
       "      <td>22.0</td>\n",
       "      <td>1</td>\n",
       "    </tr>\n",
       "    <tr>\n",
       "      <th>1</th>\n",
       "      <td>female</td>\n",
       "      <td>1</td>\n",
       "      <td>38.0</td>\n",
       "      <td>2</td>\n",
       "    </tr>\n",
       "    <tr>\n",
       "      <th>2</th>\n",
       "      <td>female</td>\n",
       "      <td>1</td>\n",
       "      <td>26.0</td>\n",
       "      <td>3</td>\n",
       "    </tr>\n",
       "    <tr>\n",
       "      <th>3</th>\n",
       "      <td>female</td>\n",
       "      <td>1</td>\n",
       "      <td>35.0</td>\n",
       "      <td>4</td>\n",
       "    </tr>\n",
       "    <tr>\n",
       "      <th>4</th>\n",
       "      <td>male</td>\n",
       "      <td>0</td>\n",
       "      <td>35.0</td>\n",
       "      <td>5</td>\n",
       "    </tr>\n",
       "  </tbody>\n",
       "</table>\n",
       "</div>"
      ],
      "text/plain": [
       "      sex  survived   age  id\n",
       "0    male         0  22.0   1\n",
       "1  female         1  38.0   2\n",
       "2  female         1  26.0   3\n",
       "3  female         1  35.0   4\n",
       "4    male         0  35.0   5"
      ]
     },
     "execution_count": 11,
     "metadata": {},
     "output_type": "execute_result"
    }
   ],
   "source": [
    "## redefinindo data\n",
    "data = titanic[['sex','survived','age','id']]\n",
    "data.head()"
   ]
  },
  {
   "cell_type": "code",
   "execution_count": 12,
   "id": "17d0daa8",
   "metadata": {},
   "outputs": [
    {
     "data": {
      "text/plain": [
       "0      n_prioridade\n",
       "1      n_prioridade\n",
       "2      n_prioridade\n",
       "3      n_prioridade\n",
       "4      n_prioridade\n",
       "           ...     \n",
       "886    n_prioridade\n",
       "887    n_prioridade\n",
       "888    n_prioridade\n",
       "889    n_prioridade\n",
       "890    n_prioridade\n",
       "Name: age, Length: 891, dtype: object"
      ]
     },
     "execution_count": 12,
     "metadata": {},
     "output_type": "execute_result"
    }
   ],
   "source": [
    "data.age.apply(bin_idade)"
   ]
  },
  {
   "cell_type": "markdown",
   "id": "fa2db235",
   "metadata": {},
   "source": [
    "Veja que ao utilizar o apply ele já retorna uma série contendo o resultado da aplicação da função a cada um dos valores da coluna 'age'."
   ]
  },
  {
   "cell_type": "code",
   "execution_count": 13,
   "id": "37936ef7",
   "metadata": {},
   "outputs": [],
   "source": [
    "## criando a coluna\n",
    "\n",
    "data['prioridade'] = data.age.apply(bin_idade)"
   ]
  },
  {
   "cell_type": "code",
   "execution_count": 14,
   "id": "d74b3292",
   "metadata": {},
   "outputs": [
    {
     "data": {
      "text/html": [
       "<div>\n",
       "<style scoped>\n",
       "    .dataframe tbody tr th:only-of-type {\n",
       "        vertical-align: middle;\n",
       "    }\n",
       "\n",
       "    .dataframe tbody tr th {\n",
       "        vertical-align: top;\n",
       "    }\n",
       "\n",
       "    .dataframe thead tr th {\n",
       "        text-align: left;\n",
       "    }\n",
       "\n",
       "    .dataframe thead tr:last-of-type th {\n",
       "        text-align: right;\n",
       "    }\n",
       "</style>\n",
       "<table border=\"1\" class=\"dataframe\">\n",
       "  <thead>\n",
       "    <tr>\n",
       "      <th>sex</th>\n",
       "      <th colspan=\"2\" halign=\"left\">female</th>\n",
       "      <th colspan=\"2\" halign=\"left\">male</th>\n",
       "    </tr>\n",
       "    <tr>\n",
       "      <th>prioridade</th>\n",
       "      <th>n_prioridade</th>\n",
       "      <th>prioridade</th>\n",
       "      <th>n_prioridade</th>\n",
       "      <th>prioridade</th>\n",
       "    </tr>\n",
       "    <tr>\n",
       "      <th>survived</th>\n",
       "      <th></th>\n",
       "      <th></th>\n",
       "      <th></th>\n",
       "      <th></th>\n",
       "    </tr>\n",
       "  </thead>\n",
       "  <tbody>\n",
       "    <tr>\n",
       "      <th>0</th>\n",
       "      <td>68</td>\n",
       "      <td>13</td>\n",
       "      <td>442</td>\n",
       "      <td>26</td>\n",
       "    </tr>\n",
       "    <tr>\n",
       "      <th>1</th>\n",
       "      <td>212</td>\n",
       "      <td>21</td>\n",
       "      <td>87</td>\n",
       "      <td>22</td>\n",
       "    </tr>\n",
       "  </tbody>\n",
       "</table>\n",
       "</div>"
      ],
      "text/plain": [
       "sex              female                    male           \n",
       "prioridade n_prioridade prioridade n_prioridade prioridade\n",
       "survived                                                  \n",
       "0                    68         13          442         26\n",
       "1                   212         21           87         22"
      ]
     },
     "execution_count": 14,
     "metadata": {},
     "output_type": "execute_result"
    }
   ],
   "source": [
    "## executando a análise necessária\n",
    "\n",
    "result = data.pivot_table(index='survived',columns=['sex','prioridade'],values='id',aggfunc='count')\n",
    "result"
   ]
  },
  {
   "cell_type": "markdown",
   "id": "00b43b1e",
   "metadata": {},
   "source": [
    "Agora podemos inferir algumas coisas com a tabela resultante."
   ]
  },
  {
   "cell_type": "code",
   "execution_count": 15,
   "id": "62c0f9d9",
   "metadata": {},
   "outputs": [
    {
     "data": {
      "text/plain": [
       "0.6751592356687898"
      ]
     },
     "execution_count": 15,
     "metadata": {},
     "output_type": "execute_result"
    }
   ],
   "source": [
    "## chance de sobrevivência feminina n_prioridade\n",
    "## 212/(68+212+23+21)\n",
    "\n",
    "surv_fem_np = result.iloc[1,0] / result.iloc[:,0:2].sum().sum()\n",
    "surv_fem_np"
   ]
  },
  {
   "cell_type": "code",
   "execution_count": 16,
   "id": "ec88cf9f",
   "metadata": {},
   "outputs": [
    {
     "data": {
      "text/plain": [
       "0.15077989601386482"
      ]
     },
     "execution_count": 16,
     "metadata": {},
     "output_type": "execute_result"
    }
   ],
   "source": [
    "## chance de sobrevivência masculina n_prioridade\n",
    "## 87/(442+87+26+22)\n",
    "\n",
    "surv_masc_np = result.iloc[1,2] / result.iloc[:,2:].sum().sum()\n",
    "surv_masc_np"
   ]
  },
  {
   "cell_type": "code",
   "execution_count": 17,
   "id": "07641e05",
   "metadata": {},
   "outputs": [
    {
     "name": "stdout",
     "output_type": "stream",
     "text": [
      "Entre os passageiros sem prioridade as mulheres possuem uma probabilidade de 347.78% maior de sobrevivência do que os homens no mesmo grupo.\n"
     ]
    }
   ],
   "source": [
    "chance = round(pd.Series(np.array([surv_masc_np,surv_fem_np]),index=['masc','fem']).pct_change().fem*100,2)\n",
    "print(f'Entre os passageiros sem prioridade as mulheres possuem uma probabilidade de {chance}% maior de sobrevivência do que os homens no mesmo grupo.')"
   ]
  },
  {
   "cell_type": "markdown",
   "id": "e29872da",
   "metadata": {},
   "source": [
    "# Agrupamento e sorting\n",
    "___\n",
    "\n",
    "Uma das ferramentas mais importantes e usadas quando lidamos com dados categóricos é o agrupamento, utilizando um agrupamento podemos descrobrir tendências e organizar melhor dados que, de outra forma, seriam impossíveis de analisar manualmente. A principal função de agrupamento é o ```.groupby()```, mas também aprenderemos o ```.value_counts()``` que também agrega dados de uma única série um forma simples."
   ]
  },
  {
   "cell_type": "code",
   "execution_count": 33,
   "id": "0fe1aad2",
   "metadata": {},
   "outputs": [
    {
     "data": {
      "text/plain": [
       "88"
      ]
     },
     "execution_count": 33,
     "metadata": {},
     "output_type": "execute_result"
    }
   ],
   "source": [
    "## Quantas idades diferentes existem no titanic?\n",
    "\n",
    "titanic.age.nunique()"
   ]
  },
  {
   "cell_type": "code",
   "execution_count": 34,
   "id": "81f1fb80",
   "metadata": {},
   "outputs": [
    {
     "data": {
      "text/plain": [
       "array([22.  , 38.  , 26.  , 35.  ,   nan, 54.  ,  2.  , 27.  , 14.  ,\n",
       "        4.  , 58.  , 20.  , 39.  , 55.  , 31.  , 34.  , 15.  , 28.  ,\n",
       "        8.  , 19.  , 40.  , 66.  , 42.  , 21.  , 18.  ,  3.  ,  7.  ,\n",
       "       49.  , 29.  , 65.  , 28.5 ,  5.  , 11.  , 45.  , 17.  , 32.  ,\n",
       "       16.  , 25.  ,  0.83, 30.  , 33.  , 23.  , 24.  , 46.  , 59.  ,\n",
       "       71.  , 37.  , 47.  , 14.5 , 70.5 , 32.5 , 12.  ,  9.  , 36.5 ,\n",
       "       51.  , 55.5 , 40.5 , 44.  ,  1.  , 61.  , 56.  , 50.  , 36.  ,\n",
       "       45.5 , 20.5 , 62.  , 41.  , 52.  , 63.  , 23.5 ,  0.92, 43.  ,\n",
       "       60.  , 10.  , 64.  , 13.  , 48.  ,  0.75, 53.  , 57.  , 80.  ,\n",
       "       70.  , 24.5 ,  6.  ,  0.67, 30.5 ,  0.42, 34.5 , 74.  ])"
      ]
     },
     "execution_count": 34,
     "metadata": {},
     "output_type": "execute_result"
    }
   ],
   "source": [
    "## Quais idades são essas?\n",
    "\n",
    "titanic.age.unique()"
   ]
  },
  {
   "cell_type": "markdown",
   "id": "c8f73d32",
   "metadata": {},
   "source": [
    "A função .nunique() nos dá a quantidade de valores únicos em uma determinada série, já a função .unique() nós dá os valores únicos dessa série. Veja que utilizamos ambas para descrever uma variável numérica, também podemos utilizá-las para variáveis categóricas."
   ]
  },
  {
   "cell_type": "code",
   "execution_count": 35,
   "id": "f8f6f275",
   "metadata": {},
   "outputs": [
    {
     "data": {
      "text/plain": [
       "3"
      ]
     },
     "execution_count": 35,
     "metadata": {},
     "output_type": "execute_result"
    }
   ],
   "source": [
    "## Em quantos portos diferentes o titanic parou para receber passageiros?\n",
    "\n",
    "titanic.embarked.nunique()"
   ]
  },
  {
   "cell_type": "code",
   "execution_count": 36,
   "id": "678bb6ab",
   "metadata": {},
   "outputs": [
    {
     "data": {
      "text/plain": [
       "array(['S', 'C', 'Q', nan], dtype=object)"
      ]
     },
     "execution_count": 36,
     "metadata": {},
     "output_type": "execute_result"
    }
   ],
   "source": [
    "## Quais são esses portos?\n",
    "\n",
    "titanic.embarked.unique()"
   ]
  },
  {
   "cell_type": "code",
   "execution_count": 54,
   "id": "45cf01f5",
   "metadata": {},
   "outputs": [
    {
     "data": {
      "text/plain": [
       "{'S': 644, 'C': 168, 'Q': 77, nan: 2}"
      ]
     },
     "execution_count": 54,
     "metadata": {},
     "output_type": "execute_result"
    }
   ],
   "source": [
    "## Quantas pessoas embarcaram em cada porto?\n",
    "\n",
    "embarked = {}\n",
    "\n",
    "for porto in titanic.embarked:\n",
    "    if porto in embarked.keys():\n",
    "        embarked[porto] += 1\n",
    "    else:\n",
    "        embarked[porto]  = 1\n",
    "        \n",
    "embarked"
   ]
  },
  {
   "cell_type": "code",
   "execution_count": 81,
   "id": "493e6706",
   "metadata": {},
   "outputs": [
    {
     "data": {
      "text/plain": [
       "array([72.27833895, 18.85521886,  8.64197531,  0.22446689])"
      ]
     },
     "execution_count": 81,
     "metadata": {},
     "output_type": "execute_result"
    }
   ],
   "source": [
    "## Quanto isso significa em porcentagem?\n",
    "\n",
    "(np.array(list(embarked.values())) / sum(embarked.values()))*100"
   ]
  },
  {
   "cell_type": "markdown",
   "id": "f77b48ac",
   "metadata": {},
   "source": [
    "Apesar de não estarem incorretas as formas acima não são tão utilizadas. O mais comum para situações desse tipo é a utilização de ```.value_counts()```. Essa função conta quantos valores existem para cada possibilidade de valor em uma determinada série."
   ]
  },
  {
   "cell_type": "code",
   "execution_count": 83,
   "id": "bc5994c6",
   "metadata": {},
   "outputs": [
    {
     "data": {
      "text/plain": [
       "S    644\n",
       "C    168\n",
       "Q     77\n",
       "Name: embarked, dtype: int64"
      ]
     },
     "execution_count": 83,
     "metadata": {},
     "output_type": "execute_result"
    }
   ],
   "source": [
    "## Quantas pessoas embarcaram em cada porto?\n",
    "\n",
    "titanic.embarked.value_counts()"
   ]
  },
  {
   "cell_type": "code",
   "execution_count": 84,
   "id": "f865211c",
   "metadata": {},
   "outputs": [
    {
     "data": {
      "text/plain": [
       "S      644\n",
       "C      168\n",
       "Q       77\n",
       "NaN      2\n",
       "Name: embarked, dtype: int64"
      ]
     },
     "execution_count": 84,
     "metadata": {},
     "output_type": "execute_result"
    }
   ],
   "source": [
    "## Quantas pessoas embarcaram em cada porto?\n",
    "\n",
    "titanic.embarked.value_counts(dropna=False)"
   ]
  },
  {
   "cell_type": "code",
   "execution_count": 86,
   "id": "46c59a9f",
   "metadata": {},
   "outputs": [
    {
     "data": {
      "text/plain": [
       "S    0.724409\n",
       "C    0.188976\n",
       "Q    0.086614\n",
       "Name: embarked, dtype: float64"
      ]
     },
     "execution_count": 86,
     "metadata": {},
     "output_type": "execute_result"
    }
   ],
   "source": [
    "## Quanto isso significa em porcentagem?\n",
    "\n",
    "titanic.embarked.value_counts(normalize=True)"
   ]
  },
  {
   "cell_type": "code",
   "execution_count": 88,
   "id": "ba2911e0",
   "metadata": {},
   "outputs": [
    {
     "data": {
      "text/plain": [
       "S      72.278339\n",
       "C      18.855219\n",
       "Q       8.641975\n",
       "NaN     0.224467\n",
       "Name: embarked, dtype: float64"
      ]
     },
     "execution_count": 88,
     "metadata": {},
     "output_type": "execute_result"
    }
   ],
   "source": [
    "## Quanto isso significa em porcentagem?\n",
    "\n",
    "titanic.embarked.value_counts(normalize=True,dropna=False) * 100"
   ]
  },
  {
   "cell_type": "markdown",
   "id": "ab0111f9",
   "metadata": {},
   "source": [
    "O ```.value_counts()``` efetua somente operações de contagem, elas são extremamente importantes para nosso trabalho e para o entendimento do comportamento de algumas variáveis, porém somente contagem não é o suficiente para extrairmos todas a informações que podemos de um dataset. O trabalho de agrupamento juntamente com outras operações é feita através do ```.groupby()```"
   ]
  },
  {
   "cell_type": "markdown",
   "id": "f84139f4",
   "metadata": {},
   "source": [
    "O ```.groupby()``` é uma função que funciona em 3 grandes passos:\n",
    "\n",
    "![](imgs/groupby.png)"
   ]
  },
  {
   "cell_type": "code",
   "execution_count": 99,
   "id": "2aa369ed",
   "metadata": {},
   "outputs": [
    {
     "data": {
      "text/plain": [
       "30.62617924528302"
      ]
     },
     "execution_count": 99,
     "metadata": {},
     "output_type": "execute_result"
    }
   ],
   "source": [
    "## Qual é a média de idade das pessoas que sobreviveram e não sobreviveram?\n",
    "\n",
    "titanic[titanic.survived == 0].age.mean()"
   ]
  },
  {
   "cell_type": "code",
   "execution_count": 100,
   "id": "dd859ac5",
   "metadata": {},
   "outputs": [
    {
     "data": {
      "text/plain": [
       "28.343689655172415"
      ]
     },
     "execution_count": 100,
     "metadata": {},
     "output_type": "execute_result"
    }
   ],
   "source": [
    "titanic[titanic.survived == 1].age.mean()"
   ]
  },
  {
   "cell_type": "code",
   "execution_count": 102,
   "id": "00490d93",
   "metadata": {},
   "outputs": [
    {
     "data": {
      "text/html": [
       "<div>\n",
       "<style scoped>\n",
       "    .dataframe tbody tr th:only-of-type {\n",
       "        vertical-align: middle;\n",
       "    }\n",
       "\n",
       "    .dataframe tbody tr th {\n",
       "        vertical-align: top;\n",
       "    }\n",
       "\n",
       "    .dataframe thead th {\n",
       "        text-align: right;\n",
       "    }\n",
       "</style>\n",
       "<table border=\"1\" class=\"dataframe\">\n",
       "  <thead>\n",
       "    <tr style=\"text-align: right;\">\n",
       "      <th></th>\n",
       "      <th>age</th>\n",
       "    </tr>\n",
       "    <tr>\n",
       "      <th>survived</th>\n",
       "      <th></th>\n",
       "    </tr>\n",
       "  </thead>\n",
       "  <tbody>\n",
       "    <tr>\n",
       "      <th>0</th>\n",
       "      <td>30.626179</td>\n",
       "    </tr>\n",
       "    <tr>\n",
       "      <th>1</th>\n",
       "      <td>28.343690</td>\n",
       "    </tr>\n",
       "  </tbody>\n",
       "</table>\n",
       "</div>"
      ],
      "text/plain": [
       "                age\n",
       "survived           \n",
       "0         30.626179\n",
       "1         28.343690"
      ]
     },
     "execution_count": 102,
     "metadata": {},
     "output_type": "execute_result"
    }
   ],
   "source": [
    "## Utilizando a sintaxe do groupby\n",
    "\n",
    "titanic[['age','survived']].groupby('survived').mean()"
   ]
  },
  {
   "cell_type": "markdown",
   "id": "5b656904",
   "metadata": {},
   "source": [
    "Perceba que utilizamos o nome da coluna pela qual gostaríamos de agrupar, os valores únicos dessa coluna viram os índices do dataframe resultante. O dataframe resultante agora tem uma unidade de análise diferente. Podemos ainda utilizar mais de uma coluna para agrupamento, criando um agrupamento com múltiplos índices de linhas e colunas."
   ]
  },
  {
   "cell_type": "code",
   "execution_count": 103,
   "id": "93d9b349",
   "metadata": {},
   "outputs": [
    {
     "data": {
      "text/html": [
       "<div>\n",
       "<style scoped>\n",
       "    .dataframe tbody tr th:only-of-type {\n",
       "        vertical-align: middle;\n",
       "    }\n",
       "\n",
       "    .dataframe tbody tr th {\n",
       "        vertical-align: top;\n",
       "    }\n",
       "\n",
       "    .dataframe thead th {\n",
       "        text-align: right;\n",
       "    }\n",
       "</style>\n",
       "<table border=\"1\" class=\"dataframe\">\n",
       "  <thead>\n",
       "    <tr style=\"text-align: right;\">\n",
       "      <th></th>\n",
       "      <th></th>\n",
       "      <th>age</th>\n",
       "    </tr>\n",
       "    <tr>\n",
       "      <th>survived</th>\n",
       "      <th>sex</th>\n",
       "      <th></th>\n",
       "    </tr>\n",
       "  </thead>\n",
       "  <tbody>\n",
       "    <tr>\n",
       "      <th rowspan=\"2\" valign=\"top\">0</th>\n",
       "      <th>female</th>\n",
       "      <td>25.046875</td>\n",
       "    </tr>\n",
       "    <tr>\n",
       "      <th>male</th>\n",
       "      <td>31.618056</td>\n",
       "    </tr>\n",
       "    <tr>\n",
       "      <th rowspan=\"2\" valign=\"top\">1</th>\n",
       "      <th>female</th>\n",
       "      <td>28.847716</td>\n",
       "    </tr>\n",
       "    <tr>\n",
       "      <th>male</th>\n",
       "      <td>27.276022</td>\n",
       "    </tr>\n",
       "  </tbody>\n",
       "</table>\n",
       "</div>"
      ],
      "text/plain": [
       "                       age\n",
       "survived sex              \n",
       "0        female  25.046875\n",
       "         male    31.618056\n",
       "1        female  28.847716\n",
       "         male    27.276022"
      ]
     },
     "execution_count": 103,
     "metadata": {},
     "output_type": "execute_result"
    }
   ],
   "source": [
    "## Qual é a media de idade das pessoas que sobreviveram e não sobreviveram levando em consideração também o sexo como dimensão?\n",
    "\n",
    "titanic[['age','survived','sex']].groupby(['survived','sex']).mean()"
   ]
  },
  {
   "cell_type": "code",
   "execution_count": 105,
   "id": "a0f5ab91",
   "metadata": {},
   "outputs": [
    {
     "data": {
      "text/html": [
       "<div>\n",
       "<style scoped>\n",
       "    .dataframe tbody tr th:only-of-type {\n",
       "        vertical-align: middle;\n",
       "    }\n",
       "\n",
       "    .dataframe tbody tr th {\n",
       "        vertical-align: top;\n",
       "    }\n",
       "\n",
       "    .dataframe thead th {\n",
       "        text-align: right;\n",
       "    }\n",
       "</style>\n",
       "<table border=\"1\" class=\"dataframe\">\n",
       "  <thead>\n",
       "    <tr style=\"text-align: right;\">\n",
       "      <th></th>\n",
       "      <th></th>\n",
       "      <th>age</th>\n",
       "    </tr>\n",
       "    <tr>\n",
       "      <th>survived</th>\n",
       "      <th>sex</th>\n",
       "      <th></th>\n",
       "    </tr>\n",
       "  </thead>\n",
       "  <tbody>\n",
       "    <tr>\n",
       "      <th rowspan=\"2\" valign=\"top\">0</th>\n",
       "      <th>female</th>\n",
       "      <td>24.5</td>\n",
       "    </tr>\n",
       "    <tr>\n",
       "      <th>male</th>\n",
       "      <td>29.0</td>\n",
       "    </tr>\n",
       "    <tr>\n",
       "      <th rowspan=\"2\" valign=\"top\">1</th>\n",
       "      <th>female</th>\n",
       "      <td>28.0</td>\n",
       "    </tr>\n",
       "    <tr>\n",
       "      <th>male</th>\n",
       "      <td>28.0</td>\n",
       "    </tr>\n",
       "  </tbody>\n",
       "</table>\n",
       "</div>"
      ],
      "text/plain": [
       "                  age\n",
       "survived sex         \n",
       "0        female  24.5\n",
       "         male    29.0\n",
       "1        female  28.0\n",
       "         male    28.0"
      ]
     },
     "execution_count": 105,
     "metadata": {},
     "output_type": "execute_result"
    }
   ],
   "source": [
    "## E a mediana?\n",
    "\n",
    "titanic[['age','survived','sex']].groupby(['survived','sex']).median()"
   ]
  },
  {
   "cell_type": "code",
   "execution_count": 106,
   "id": "d121f383",
   "metadata": {},
   "outputs": [
    {
     "data": {
      "text/html": [
       "<div>\n",
       "<style scoped>\n",
       "    .dataframe tbody tr th:only-of-type {\n",
       "        vertical-align: middle;\n",
       "    }\n",
       "\n",
       "    .dataframe tbody tr th {\n",
       "        vertical-align: top;\n",
       "    }\n",
       "\n",
       "    .dataframe thead th {\n",
       "        text-align: right;\n",
       "    }\n",
       "</style>\n",
       "<table border=\"1\" class=\"dataframe\">\n",
       "  <thead>\n",
       "    <tr style=\"text-align: right;\">\n",
       "      <th></th>\n",
       "      <th></th>\n",
       "      <th>age</th>\n",
       "    </tr>\n",
       "    <tr>\n",
       "      <th>survived</th>\n",
       "      <th>sex</th>\n",
       "      <th></th>\n",
       "    </tr>\n",
       "  </thead>\n",
       "  <tbody>\n",
       "    <tr>\n",
       "      <th rowspan=\"2\" valign=\"top\">0</th>\n",
       "      <th>female</th>\n",
       "      <td>64</td>\n",
       "    </tr>\n",
       "    <tr>\n",
       "      <th>male</th>\n",
       "      <td>360</td>\n",
       "    </tr>\n",
       "    <tr>\n",
       "      <th rowspan=\"2\" valign=\"top\">1</th>\n",
       "      <th>female</th>\n",
       "      <td>197</td>\n",
       "    </tr>\n",
       "    <tr>\n",
       "      <th>male</th>\n",
       "      <td>93</td>\n",
       "    </tr>\n",
       "  </tbody>\n",
       "</table>\n",
       "</div>"
      ],
      "text/plain": [
       "                 age\n",
       "survived sex        \n",
       "0        female   64\n",
       "         male    360\n",
       "1        female  197\n",
       "         male     93"
      ]
     },
     "execution_count": 106,
     "metadata": {},
     "output_type": "execute_result"
    }
   ],
   "source": [
    "## E a quantidade (contagem)?\n",
    "\n",
    "titanic[['age','survived','sex']].groupby(['survived','sex']).count()"
   ]
  },
  {
   "cell_type": "code",
   "execution_count": 37,
   "id": "0a101d04",
   "metadata": {},
   "outputs": [
    {
     "data": {
      "text/html": [
       "<div>\n",
       "<style scoped>\n",
       "    .dataframe tbody tr th:only-of-type {\n",
       "        vertical-align: middle;\n",
       "    }\n",
       "\n",
       "    .dataframe tbody tr th {\n",
       "        vertical-align: top;\n",
       "    }\n",
       "\n",
       "    .dataframe thead th {\n",
       "        text-align: right;\n",
       "    }\n",
       "</style>\n",
       "<table border=\"1\" class=\"dataframe\">\n",
       "  <thead>\n",
       "    <tr style=\"text-align: right;\">\n",
       "      <th></th>\n",
       "      <th>App</th>\n",
       "      <th>Translated_Review</th>\n",
       "      <th>Sentiment</th>\n",
       "      <th>Sentiment_Polarity</th>\n",
       "      <th>Sentiment_Subjectivity</th>\n",
       "    </tr>\n",
       "  </thead>\n",
       "  <tbody>\n",
       "    <tr>\n",
       "      <th>0</th>\n",
       "      <td>10 Best Foods for You</td>\n",
       "      <td>I like eat delicious food. That's I'm cooking ...</td>\n",
       "      <td>Positive</td>\n",
       "      <td>1.00</td>\n",
       "      <td>0.533333</td>\n",
       "    </tr>\n",
       "    <tr>\n",
       "      <th>1</th>\n",
       "      <td>10 Best Foods for You</td>\n",
       "      <td>This help eating healthy exercise regular basis</td>\n",
       "      <td>Positive</td>\n",
       "      <td>0.25</td>\n",
       "      <td>0.288462</td>\n",
       "    </tr>\n",
       "    <tr>\n",
       "      <th>2</th>\n",
       "      <td>10 Best Foods for You</td>\n",
       "      <td>NaN</td>\n",
       "      <td>NaN</td>\n",
       "      <td>NaN</td>\n",
       "      <td>NaN</td>\n",
       "    </tr>\n",
       "    <tr>\n",
       "      <th>3</th>\n",
       "      <td>10 Best Foods for You</td>\n",
       "      <td>Works great especially going grocery store</td>\n",
       "      <td>Positive</td>\n",
       "      <td>0.40</td>\n",
       "      <td>0.875000</td>\n",
       "    </tr>\n",
       "    <tr>\n",
       "      <th>4</th>\n",
       "      <td>10 Best Foods for You</td>\n",
       "      <td>Best idea us</td>\n",
       "      <td>Positive</td>\n",
       "      <td>1.00</td>\n",
       "      <td>0.300000</td>\n",
       "    </tr>\n",
       "  </tbody>\n",
       "</table>\n",
       "</div>"
      ],
      "text/plain": [
       "                     App                                  Translated_Review  \\\n",
       "0  10 Best Foods for You  I like eat delicious food. That's I'm cooking ...   \n",
       "1  10 Best Foods for You    This help eating healthy exercise regular basis   \n",
       "2  10 Best Foods for You                                                NaN   \n",
       "3  10 Best Foods for You         Works great especially going grocery store   \n",
       "4  10 Best Foods for You                                       Best idea us   \n",
       "\n",
       "  Sentiment  Sentiment_Polarity  Sentiment_Subjectivity  \n",
       "0  Positive                1.00                0.533333  \n",
       "1  Positive                0.25                0.288462  \n",
       "2       NaN                 NaN                     NaN  \n",
       "3  Positive                0.40                0.875000  \n",
       "4  Positive                1.00                0.300000  "
      ]
     },
     "execution_count": 37,
     "metadata": {},
     "output_type": "execute_result"
    }
   ],
   "source": [
    "aval = pd.read_csv('data/googleplaystore_user_reviews.csv')\n",
    "aval.head()"
   ]
  },
  {
   "cell_type": "markdown",
   "id": "832a5f8c",
   "metadata": {},
   "source": [
    "## Exercícios Pandas\n",
    "\n",
    "Quanto ao dataset acima, responda:\n",
    "\n",
    "1. Quantos e quais são os tipos diferentes de sentimento existem?\n",
    "2. Quantos apps diferentes existem?\n",
    "3. Quais são os 5 apps com maior quantidade de avaliações positivas?\n",
    "4. Quais são os 5 apps com menor quantidade de avaliações neutras?\n",
    "5. Quantas avaliações positivas existem com uma polaridade acima de 0.5?\n",
    "6. Crie um dataframe onde cada linhas é um app, cada coluna é um tipo diferente de sentimento e os valores são as quantidades de reviews (contagem), passando 0 para o parâmetro fill_value. Chame esse dataframe de aval_wide.\n",
    "7. Crie uma função que recebe uma string, a transforma (colocando em minúsculo) e avalie seu conteúdo. Se a string tiver a palavra 'hotel' retorne a string 'hotel', se a string tiver a palavra 'food' retorne a string 'food' para todos os outros casos retorne a string 'outro'. Aplique essa função aos nomes de app do dataframe aval_wide e guarde o resultado na coluna 'tipo'.\n",
    "8. Quais são os 5 apps de hotel com a maior quantidade de avaliações positivas?\n",
    "9. Quais são os 5 apps de hotel com a maior quantidade relativa de avaliações positivas?\n",
    "10. Os apps 'food' recebem, em média, uma quantidade maior de avaliações do que os apps 'hotel'. Verdadeiro ou Falso?\n",
    "11. Siga o passos e responda (utilize o dataframe original):\n",
    "\n",
    "    11.1 Separe a coluna 'Sentiment_Subjectivity' em 8 grupos igualmente espaçados, guarde o resultado em uma nova coluna chamada 'sub_groups'.\n",
    "    \n",
    "    11.2 Separe a coluna 'Sentiment_Polarity' em 8 grupos igualmente espaçados, guarde o resultado em uma nova coluna chamada 'sent_groups'.\n",
    "    \n",
    "    11.3 Crie um dataframe onde cada linha é um 'sub_group', cada coluna é um 'sent_group' e os valores são a contagem de apps.\n",
    "    \n",
    "    11.4 Divida todos os valores desse dataframe pelo total (para encontrar as porcentagens).\n",
    "    \n",
    "    11.5 Importe a função plot_topo de src.minhas_funcs e aplique-a ao dataframe com as porcentagens.\n",
    "    \n",
    "    11.6 Existe um probabilidade aproximada de 25% de uma avaliação pouco subjetiva (até ~0.51) ser posivitva ( >= 0.025). Verdadeiro ou Falso?"
   ]
  },
  {
   "cell_type": "markdown",
   "id": "f0a54fd9",
   "metadata": {},
   "source": [
    "### Gabarito"
   ]
  },
  {
   "cell_type": "code",
   "execution_count": 38,
   "id": "a0cce189",
   "metadata": {
    "collapsed": true,
    "jupyter": {
     "outputs_hidden": true,
     "source_hidden": true
    },
    "tags": []
   },
   "outputs": [
    {
     "data": {
      "text/plain": [
       "(array(['Positive', nan, 'Neutral', 'Negative'], dtype=object), 3)"
      ]
     },
     "execution_count": 38,
     "metadata": {},
     "output_type": "execute_result"
    }
   ],
   "source": [
    "# 1\n",
    "aval.Sentiment.unique(),aval.Sentiment.nunique()"
   ]
  },
  {
   "cell_type": "code",
   "execution_count": 39,
   "id": "4d80e743",
   "metadata": {
    "collapsed": true,
    "jupyter": {
     "outputs_hidden": true,
     "source_hidden": true
    }
   },
   "outputs": [
    {
     "data": {
      "text/plain": [
       "1074"
      ]
     },
     "execution_count": 39,
     "metadata": {},
     "output_type": "execute_result"
    }
   ],
   "source": [
    "# 2\n",
    "aval.App.nunique()"
   ]
  },
  {
   "cell_type": "code",
   "execution_count": 40,
   "id": "35c62068",
   "metadata": {
    "collapsed": true,
    "jupyter": {
     "outputs_hidden": true,
     "source_hidden": true
    }
   },
   "outputs": [
    {
     "data": {
      "text/html": [
       "<div>\n",
       "<style scoped>\n",
       "    .dataframe tbody tr th:only-of-type {\n",
       "        vertical-align: middle;\n",
       "    }\n",
       "\n",
       "    .dataframe tbody tr th {\n",
       "        vertical-align: top;\n",
       "    }\n",
       "\n",
       "    .dataframe thead th {\n",
       "        text-align: right;\n",
       "    }\n",
       "</style>\n",
       "<table border=\"1\" class=\"dataframe\">\n",
       "  <thead>\n",
       "    <tr style=\"text-align: right;\">\n",
       "      <th>Sentiment</th>\n",
       "      <th>Negative</th>\n",
       "      <th>Neutral</th>\n",
       "      <th>Positive</th>\n",
       "    </tr>\n",
       "    <tr>\n",
       "      <th>App</th>\n",
       "      <th></th>\n",
       "      <th></th>\n",
       "      <th></th>\n",
       "    </tr>\n",
       "  </thead>\n",
       "  <tbody>\n",
       "    <tr>\n",
       "      <th>Helix Jump</th>\n",
       "      <td>58</td>\n",
       "      <td>6</td>\n",
       "      <td>209</td>\n",
       "    </tr>\n",
       "    <tr>\n",
       "      <th>Duolingo: Learn Languages Free</th>\n",
       "      <td>34</td>\n",
       "      <td>6</td>\n",
       "      <td>200</td>\n",
       "    </tr>\n",
       "    <tr>\n",
       "      <th>Calorie Counter - Macros</th>\n",
       "      <td>20</td>\n",
       "      <td>6</td>\n",
       "      <td>174</td>\n",
       "    </tr>\n",
       "    <tr>\n",
       "      <th>Bowmasters</th>\n",
       "      <td>119</td>\n",
       "      <td>24</td>\n",
       "      <td>169</td>\n",
       "    </tr>\n",
       "    <tr>\n",
       "      <th>Calorie Counter - MyFitnessPal</th>\n",
       "      <td>52</td>\n",
       "      <td>33</td>\n",
       "      <td>169</td>\n",
       "    </tr>\n",
       "  </tbody>\n",
       "</table>\n",
       "</div>"
      ],
      "text/plain": [
       "Sentiment                       Negative  Neutral  Positive\n",
       "App                                                        \n",
       "Helix Jump                            58        6       209\n",
       "Duolingo: Learn Languages Free        34        6       200\n",
       "Calorie Counter - Macros              20        6       174\n",
       "Bowmasters                           119       24       169\n",
       "Calorie Counter - MyFitnessPal        52       33       169"
      ]
     },
     "execution_count": 40,
     "metadata": {},
     "output_type": "execute_result"
    }
   ],
   "source": [
    "# 3\n",
    "aval_pivot = aval.pivot_table(index='App',columns='Sentiment',values='Translated_Review',aggfunc='count',fill_value=0,dropna=False)\n",
    "aval_pivot.nlargest(5,'Positive')"
   ]
  },
  {
   "cell_type": "code",
   "execution_count": 41,
   "id": "f75a973c",
   "metadata": {
    "collapsed": true,
    "jupyter": {
     "outputs_hidden": true,
     "source_hidden": true
    }
   },
   "outputs": [
    {
     "data": {
      "text/html": [
       "<div>\n",
       "<style scoped>\n",
       "    .dataframe tbody tr th:only-of-type {\n",
       "        vertical-align: middle;\n",
       "    }\n",
       "\n",
       "    .dataframe tbody tr th {\n",
       "        vertical-align: top;\n",
       "    }\n",
       "\n",
       "    .dataframe thead th {\n",
       "        text-align: right;\n",
       "    }\n",
       "</style>\n",
       "<table border=\"1\" class=\"dataframe\">\n",
       "  <thead>\n",
       "    <tr style=\"text-align: right;\">\n",
       "      <th>Sentiment</th>\n",
       "      <th>Negative</th>\n",
       "      <th>Neutral</th>\n",
       "      <th>Positive</th>\n",
       "    </tr>\n",
       "    <tr>\n",
       "      <th>App</th>\n",
       "      <th></th>\n",
       "      <th></th>\n",
       "      <th></th>\n",
       "    </tr>\n",
       "  </thead>\n",
       "  <tbody>\n",
       "    <tr>\n",
       "      <th>3D Live Neon Weed Launcher</th>\n",
       "      <td>0</td>\n",
       "      <td>0</td>\n",
       "      <td>2</td>\n",
       "    </tr>\n",
       "    <tr>\n",
       "      <th>4 in a Row</th>\n",
       "      <td>3</td>\n",
       "      <td>0</td>\n",
       "      <td>17</td>\n",
       "    </tr>\n",
       "    <tr>\n",
       "      <th>4K Wallpapers and Ultra HD Backgrounds</th>\n",
       "      <td>2</td>\n",
       "      <td>0</td>\n",
       "      <td>7</td>\n",
       "    </tr>\n",
       "    <tr>\n",
       "      <th>7 Cups: Anxiety &amp; Stress Chat</th>\n",
       "      <td>1</td>\n",
       "      <td>0</td>\n",
       "      <td>7</td>\n",
       "    </tr>\n",
       "    <tr>\n",
       "      <th>7 Day Food Journal Challenge</th>\n",
       "      <td>0</td>\n",
       "      <td>0</td>\n",
       "      <td>9</td>\n",
       "    </tr>\n",
       "  </tbody>\n",
       "</table>\n",
       "</div>"
      ],
      "text/plain": [
       "Sentiment                               Negative  Neutral  Positive\n",
       "App                                                                \n",
       "3D Live Neon Weed Launcher                     0        0         2\n",
       "4 in a Row                                     3        0        17\n",
       "4K Wallpapers and Ultra HD Backgrounds         2        0         7\n",
       "7 Cups: Anxiety & Stress Chat                  1        0         7\n",
       "7 Day Food Journal Challenge                   0        0         9"
      ]
     },
     "execution_count": 41,
     "metadata": {},
     "output_type": "execute_result"
    }
   ],
   "source": [
    "# 4\n",
    "aval_pivot.nsmallest(5,'Neutral')"
   ]
  },
  {
   "cell_type": "code",
   "execution_count": 42,
   "id": "ec77cdea",
   "metadata": {
    "collapsed": true,
    "jupyter": {
     "outputs_hidden": true,
     "source_hidden": true
    }
   },
   "outputs": [
    {
     "data": {
      "text/plain": [
       "5982"
      ]
     },
     "execution_count": 42,
     "metadata": {},
     "output_type": "execute_result"
    }
   ],
   "source": [
    "#5\n",
    "aval[aval.Sentiment_Polarity > 0.5].shape[0]"
   ]
  },
  {
   "cell_type": "code",
   "execution_count": 44,
   "id": "9b83f675",
   "metadata": {
    "collapsed": true,
    "jupyter": {
     "outputs_hidden": true,
     "source_hidden": true
    }
   },
   "outputs": [
    {
     "data": {
      "text/html": [
       "<div>\n",
       "<style scoped>\n",
       "    .dataframe tbody tr th:only-of-type {\n",
       "        vertical-align: middle;\n",
       "    }\n",
       "\n",
       "    .dataframe tbody tr th {\n",
       "        vertical-align: top;\n",
       "    }\n",
       "\n",
       "    .dataframe thead th {\n",
       "        text-align: right;\n",
       "    }\n",
       "</style>\n",
       "<table border=\"1\" class=\"dataframe\">\n",
       "  <thead>\n",
       "    <tr style=\"text-align: right;\">\n",
       "      <th>Sentiment</th>\n",
       "      <th>App</th>\n",
       "      <th>Negative</th>\n",
       "      <th>Neutral</th>\n",
       "      <th>Positive</th>\n",
       "    </tr>\n",
       "  </thead>\n",
       "  <tbody>\n",
       "    <tr>\n",
       "      <th>0</th>\n",
       "      <td>10 Best Foods for You</td>\n",
       "      <td>10</td>\n",
       "      <td>22</td>\n",
       "      <td>162</td>\n",
       "    </tr>\n",
       "    <tr>\n",
       "      <th>1</th>\n",
       "      <td>104 找工作 - 找工作 找打工 找兼職 履歷健檢 履歷診療室</td>\n",
       "      <td>1</td>\n",
       "      <td>8</td>\n",
       "      <td>31</td>\n",
       "    </tr>\n",
       "    <tr>\n",
       "      <th>2</th>\n",
       "      <td>11st</td>\n",
       "      <td>7</td>\n",
       "      <td>9</td>\n",
       "      <td>23</td>\n",
       "    </tr>\n",
       "    <tr>\n",
       "      <th>3</th>\n",
       "      <td>1800 Contacts - Lens Store</td>\n",
       "      <td>6</td>\n",
       "      <td>10</td>\n",
       "      <td>64</td>\n",
       "    </tr>\n",
       "    <tr>\n",
       "      <th>4</th>\n",
       "      <td>1LINE – One Line with One Touch</td>\n",
       "      <td>8</td>\n",
       "      <td>3</td>\n",
       "      <td>27</td>\n",
       "    </tr>\n",
       "    <tr>\n",
       "      <th>...</th>\n",
       "      <td>...</td>\n",
       "      <td>...</td>\n",
       "      <td>...</td>\n",
       "      <td>...</td>\n",
       "    </tr>\n",
       "    <tr>\n",
       "      <th>860</th>\n",
       "      <td>Hotels.com: Book Hotel Rooms &amp; Find Vacation D...</td>\n",
       "      <td>21</td>\n",
       "      <td>8</td>\n",
       "      <td>39</td>\n",
       "    </tr>\n",
       "    <tr>\n",
       "      <th>861</th>\n",
       "      <td>Hotspot Shield Free VPN Proxy &amp; Wi-Fi Security</td>\n",
       "      <td>3</td>\n",
       "      <td>14</td>\n",
       "      <td>17</td>\n",
       "    </tr>\n",
       "    <tr>\n",
       "      <th>862</th>\n",
       "      <td>Hotstar</td>\n",
       "      <td>14</td>\n",
       "      <td>4</td>\n",
       "      <td>14</td>\n",
       "    </tr>\n",
       "    <tr>\n",
       "      <th>863</th>\n",
       "      <td>Hotwire Hotel &amp; Car Rental App</td>\n",
       "      <td>6</td>\n",
       "      <td>11</td>\n",
       "      <td>16</td>\n",
       "    </tr>\n",
       "    <tr>\n",
       "      <th>864</th>\n",
       "      <td>Housing-Real Estate &amp; Property</td>\n",
       "      <td>10</td>\n",
       "      <td>3</td>\n",
       "      <td>8</td>\n",
       "    </tr>\n",
       "  </tbody>\n",
       "</table>\n",
       "<p>865 rows × 4 columns</p>\n",
       "</div>"
      ],
      "text/plain": [
       "Sentiment                                                App  Negative  \\\n",
       "0                                      10 Best Foods for You        10   \n",
       "1                           104 找工作 - 找工作 找打工 找兼職 履歷健檢 履歷診療室         1   \n",
       "2                                                       11st         7   \n",
       "3                                 1800 Contacts - Lens Store         6   \n",
       "4                            1LINE – One Line with One Touch         8   \n",
       "..                                                       ...       ...   \n",
       "860        Hotels.com: Book Hotel Rooms & Find Vacation D...        21   \n",
       "861           Hotspot Shield Free VPN Proxy & Wi-Fi Security         3   \n",
       "862                                                  Hotstar        14   \n",
       "863                           Hotwire Hotel & Car Rental App         6   \n",
       "864                           Housing-Real Estate & Property        10   \n",
       "\n",
       "Sentiment  Neutral  Positive  \n",
       "0               22       162  \n",
       "1                8        31  \n",
       "2                9        23  \n",
       "3               10        64  \n",
       "4                3        27  \n",
       "..             ...       ...  \n",
       "860              8        39  \n",
       "861             14        17  \n",
       "862              4        14  \n",
       "863             11        16  \n",
       "864              3         8  \n",
       "\n",
       "[865 rows x 4 columns]"
      ]
     },
     "execution_count": 44,
     "metadata": {},
     "output_type": "execute_result"
    }
   ],
   "source": [
    "# 6\n",
    "aval_wide = aval.pivot_table(index='App',columns='Sentiment',values='Translated_Review',aggfunc='count',fill_value=0).reset_index()\n",
    "aval_wide"
   ]
  },
  {
   "cell_type": "code",
   "execution_count": 48,
   "id": "65277e15",
   "metadata": {
    "collapsed": true,
    "jupyter": {
     "outputs_hidden": true,
     "source_hidden": true
    }
   },
   "outputs": [
    {
     "data": {
      "text/html": [
       "<div>\n",
       "<style scoped>\n",
       "    .dataframe tbody tr th:only-of-type {\n",
       "        vertical-align: middle;\n",
       "    }\n",
       "\n",
       "    .dataframe tbody tr th {\n",
       "        vertical-align: top;\n",
       "    }\n",
       "\n",
       "    .dataframe thead th {\n",
       "        text-align: right;\n",
       "    }\n",
       "</style>\n",
       "<table border=\"1\" class=\"dataframe\">\n",
       "  <thead>\n",
       "    <tr style=\"text-align: right;\">\n",
       "      <th>Sentiment</th>\n",
       "      <th>App</th>\n",
       "      <th>Negative</th>\n",
       "      <th>Neutral</th>\n",
       "      <th>Positive</th>\n",
       "      <th>tipo</th>\n",
       "    </tr>\n",
       "  </thead>\n",
       "  <tbody>\n",
       "    <tr>\n",
       "      <th>0</th>\n",
       "      <td>10 Best Foods for You</td>\n",
       "      <td>10</td>\n",
       "      <td>22</td>\n",
       "      <td>162</td>\n",
       "      <td>food</td>\n",
       "    </tr>\n",
       "    <tr>\n",
       "      <th>1</th>\n",
       "      <td>104 找工作 - 找工作 找打工 找兼職 履歷健檢 履歷診療室</td>\n",
       "      <td>1</td>\n",
       "      <td>8</td>\n",
       "      <td>31</td>\n",
       "      <td>outro</td>\n",
       "    </tr>\n",
       "    <tr>\n",
       "      <th>2</th>\n",
       "      <td>11st</td>\n",
       "      <td>7</td>\n",
       "      <td>9</td>\n",
       "      <td>23</td>\n",
       "      <td>outro</td>\n",
       "    </tr>\n",
       "    <tr>\n",
       "      <th>3</th>\n",
       "      <td>1800 Contacts - Lens Store</td>\n",
       "      <td>6</td>\n",
       "      <td>10</td>\n",
       "      <td>64</td>\n",
       "      <td>outro</td>\n",
       "    </tr>\n",
       "    <tr>\n",
       "      <th>4</th>\n",
       "      <td>1LINE – One Line with One Touch</td>\n",
       "      <td>8</td>\n",
       "      <td>3</td>\n",
       "      <td>27</td>\n",
       "      <td>outro</td>\n",
       "    </tr>\n",
       "    <tr>\n",
       "      <th>...</th>\n",
       "      <td>...</td>\n",
       "      <td>...</td>\n",
       "      <td>...</td>\n",
       "      <td>...</td>\n",
       "      <td>...</td>\n",
       "    </tr>\n",
       "    <tr>\n",
       "      <th>860</th>\n",
       "      <td>Hotels.com: Book Hotel Rooms &amp; Find Vacation D...</td>\n",
       "      <td>21</td>\n",
       "      <td>8</td>\n",
       "      <td>39</td>\n",
       "      <td>hotel</td>\n",
       "    </tr>\n",
       "    <tr>\n",
       "      <th>861</th>\n",
       "      <td>Hotspot Shield Free VPN Proxy &amp; Wi-Fi Security</td>\n",
       "      <td>3</td>\n",
       "      <td>14</td>\n",
       "      <td>17</td>\n",
       "      <td>outro</td>\n",
       "    </tr>\n",
       "    <tr>\n",
       "      <th>862</th>\n",
       "      <td>Hotstar</td>\n",
       "      <td>14</td>\n",
       "      <td>4</td>\n",
       "      <td>14</td>\n",
       "      <td>outro</td>\n",
       "    </tr>\n",
       "    <tr>\n",
       "      <th>863</th>\n",
       "      <td>Hotwire Hotel &amp; Car Rental App</td>\n",
       "      <td>6</td>\n",
       "      <td>11</td>\n",
       "      <td>16</td>\n",
       "      <td>hotel</td>\n",
       "    </tr>\n",
       "    <tr>\n",
       "      <th>864</th>\n",
       "      <td>Housing-Real Estate &amp; Property</td>\n",
       "      <td>10</td>\n",
       "      <td>3</td>\n",
       "      <td>8</td>\n",
       "      <td>outro</td>\n",
       "    </tr>\n",
       "  </tbody>\n",
       "</table>\n",
       "<p>865 rows × 5 columns</p>\n",
       "</div>"
      ],
      "text/plain": [
       "Sentiment                                                App  Negative  \\\n",
       "0                                      10 Best Foods for You        10   \n",
       "1                           104 找工作 - 找工作 找打工 找兼職 履歷健檢 履歷診療室         1   \n",
       "2                                                       11st         7   \n",
       "3                                 1800 Contacts - Lens Store         6   \n",
       "4                            1LINE – One Line with One Touch         8   \n",
       "..                                                       ...       ...   \n",
       "860        Hotels.com: Book Hotel Rooms & Find Vacation D...        21   \n",
       "861           Hotspot Shield Free VPN Proxy & Wi-Fi Security         3   \n",
       "862                                                  Hotstar        14   \n",
       "863                           Hotwire Hotel & Car Rental App         6   \n",
       "864                           Housing-Real Estate & Property        10   \n",
       "\n",
       "Sentiment  Neutral  Positive   tipo  \n",
       "0               22       162   food  \n",
       "1                8        31  outro  \n",
       "2                9        23  outro  \n",
       "3               10        64  outro  \n",
       "4                3        27  outro  \n",
       "..             ...       ...    ...  \n",
       "860              8        39  hotel  \n",
       "861             14        17  outro  \n",
       "862              4        14  outro  \n",
       "863             11        16  hotel  \n",
       "864              3         8  outro  \n",
       "\n",
       "[865 rows x 5 columns]"
      ]
     },
     "execution_count": 48,
     "metadata": {},
     "output_type": "execute_result"
    }
   ],
   "source": [
    "# 7\n",
    "def hotel_food_binning(value:str) -> str:\n",
    "    \"\"\"\n",
    "    recebe um nome de app e procura as palavras `hotel` e `food` retornando uma string para binning.\n",
    "    params:\n",
    "    -------\n",
    "        value : string contendo o nome do app\n",
    "    \"\"\"\n",
    "\n",
    "    value = value.lower()\n",
    "    \n",
    "    if value.find('hotel') != -1:\n",
    "        return 'hotel'\n",
    "    elif value.find('food') != -1:\n",
    "        return 'food'\n",
    "    else:\n",
    "        return 'outro'\n",
    "    \n",
    "\n",
    "aval_wide['tipo'] = aval_wide.App.apply(hotel_food_binning)"
   ]
  },
  {
   "cell_type": "code",
   "execution_count": 50,
   "id": "fac7f880",
   "metadata": {
    "collapsed": true,
    "jupyter": {
     "outputs_hidden": true,
     "source_hidden": true
    }
   },
   "outputs": [
    {
     "data": {
      "text/html": [
       "<div>\n",
       "<style scoped>\n",
       "    .dataframe tbody tr th:only-of-type {\n",
       "        vertical-align: middle;\n",
       "    }\n",
       "\n",
       "    .dataframe tbody tr th {\n",
       "        vertical-align: top;\n",
       "    }\n",
       "\n",
       "    .dataframe thead th {\n",
       "        text-align: right;\n",
       "    }\n",
       "</style>\n",
       "<table border=\"1\" class=\"dataframe\">\n",
       "  <thead>\n",
       "    <tr style=\"text-align: right;\">\n",
       "      <th>Sentiment</th>\n",
       "      <th>App</th>\n",
       "      <th>Negative</th>\n",
       "      <th>Neutral</th>\n",
       "      <th>Positive</th>\n",
       "      <th>tipo</th>\n",
       "    </tr>\n",
       "  </thead>\n",
       "  <tbody>\n",
       "    <tr>\n",
       "      <th>858</th>\n",
       "      <td>HotelTonight: Book amazing deals at great hotels</td>\n",
       "      <td>17</td>\n",
       "      <td>17</td>\n",
       "      <td>93</td>\n",
       "      <td>hotel</td>\n",
       "    </tr>\n",
       "    <tr>\n",
       "      <th>549</th>\n",
       "      <td>Expedia Hotels, Flights &amp; Car Rental Travel Deals</td>\n",
       "      <td>55</td>\n",
       "      <td>15</td>\n",
       "      <td>58</td>\n",
       "      <td>hotel</td>\n",
       "    </tr>\n",
       "    <tr>\n",
       "      <th>856</th>\n",
       "      <td>Hostelworld: Hostels &amp; Cheap Hotels Travel App</td>\n",
       "      <td>12</td>\n",
       "      <td>11</td>\n",
       "      <td>42</td>\n",
       "      <td>hotel</td>\n",
       "    </tr>\n",
       "    <tr>\n",
       "      <th>860</th>\n",
       "      <td>Hotels.com: Book Hotel Rooms &amp; Find Vacation D...</td>\n",
       "      <td>21</td>\n",
       "      <td>8</td>\n",
       "      <td>39</td>\n",
       "      <td>hotel</td>\n",
       "    </tr>\n",
       "    <tr>\n",
       "      <th>70</th>\n",
       "      <td>Agoda – Hotel Booking Deals</td>\n",
       "      <td>2</td>\n",
       "      <td>3</td>\n",
       "      <td>30</td>\n",
       "      <td>hotel</td>\n",
       "    </tr>\n",
       "  </tbody>\n",
       "</table>\n",
       "</div>"
      ],
      "text/plain": [
       "Sentiment                                                App  Negative  \\\n",
       "858         HotelTonight: Book amazing deals at great hotels        17   \n",
       "549        Expedia Hotels, Flights & Car Rental Travel Deals        55   \n",
       "856           Hostelworld: Hostels & Cheap Hotels Travel App        12   \n",
       "860        Hotels.com: Book Hotel Rooms & Find Vacation D...        21   \n",
       "70                               Agoda – Hotel Booking Deals         2   \n",
       "\n",
       "Sentiment  Neutral  Positive   tipo  \n",
       "858             17        93  hotel  \n",
       "549             15        58  hotel  \n",
       "856             11        42  hotel  \n",
       "860              8        39  hotel  \n",
       "70               3        30  hotel  "
      ]
     },
     "execution_count": 50,
     "metadata": {},
     "output_type": "execute_result"
    }
   ],
   "source": [
    "# 8\n",
    "aval_wide[aval_wide.tipo == 'hotel'].nlargest(5,'Positive')"
   ]
  },
  {
   "cell_type": "code",
   "execution_count": 58,
   "id": "c8856bc5",
   "metadata": {
    "collapsed": true,
    "jupyter": {
     "outputs_hidden": true,
     "source_hidden": true
    }
   },
   "outputs": [
    {
     "data": {
      "text/html": [
       "<div>\n",
       "<style scoped>\n",
       "    .dataframe tbody tr th:only-of-type {\n",
       "        vertical-align: middle;\n",
       "    }\n",
       "\n",
       "    .dataframe tbody tr th {\n",
       "        vertical-align: top;\n",
       "    }\n",
       "\n",
       "    .dataframe thead th {\n",
       "        text-align: right;\n",
       "    }\n",
       "</style>\n",
       "<table border=\"1\" class=\"dataframe\">\n",
       "  <thead>\n",
       "    <tr style=\"text-align: right;\">\n",
       "      <th>Sentiment</th>\n",
       "      <th>App</th>\n",
       "      <th>Negative</th>\n",
       "      <th>Neutral</th>\n",
       "      <th>Positive</th>\n",
       "      <th>tipo</th>\n",
       "      <th>total</th>\n",
       "      <th>pos_rel</th>\n",
       "    </tr>\n",
       "  </thead>\n",
       "  <tbody>\n",
       "    <tr>\n",
       "      <th>70</th>\n",
       "      <td>Agoda – Hotel Booking Deals</td>\n",
       "      <td>2</td>\n",
       "      <td>3</td>\n",
       "      <td>30</td>\n",
       "      <td>hotel</td>\n",
       "      <td>35</td>\n",
       "      <td>0.857143</td>\n",
       "    </tr>\n",
       "    <tr>\n",
       "      <th>836</th>\n",
       "      <td>Hipmunk Hotels &amp; Flights</td>\n",
       "      <td>1</td>\n",
       "      <td>4</td>\n",
       "      <td>30</td>\n",
       "      <td>hotel</td>\n",
       "      <td>35</td>\n",
       "      <td>0.857143</td>\n",
       "    </tr>\n",
       "    <tr>\n",
       "      <th>858</th>\n",
       "      <td>HotelTonight: Book amazing deals at great hotels</td>\n",
       "      <td>17</td>\n",
       "      <td>17</td>\n",
       "      <td>93</td>\n",
       "      <td>hotel</td>\n",
       "      <td>127</td>\n",
       "      <td>0.732283</td>\n",
       "    </tr>\n",
       "    <tr>\n",
       "      <th>352</th>\n",
       "      <td>CheapTickets – Hotels, Flights &amp; Travel Deals</td>\n",
       "      <td>6</td>\n",
       "      <td>4</td>\n",
       "      <td>27</td>\n",
       "      <td>hotel</td>\n",
       "      <td>37</td>\n",
       "      <td>0.729730</td>\n",
       "    </tr>\n",
       "    <tr>\n",
       "      <th>729</th>\n",
       "      <td>Goibibo - Flight Hotel Bus Car IRCTC Booking App</td>\n",
       "      <td>4</td>\n",
       "      <td>7</td>\n",
       "      <td>27</td>\n",
       "      <td>hotel</td>\n",
       "      <td>38</td>\n",
       "      <td>0.710526</td>\n",
       "    </tr>\n",
       "  </tbody>\n",
       "</table>\n",
       "</div>"
      ],
      "text/plain": [
       "Sentiment                                               App  Negative  \\\n",
       "70                              Agoda – Hotel Booking Deals         2   \n",
       "836                                Hipmunk Hotels & Flights         1   \n",
       "858        HotelTonight: Book amazing deals at great hotels        17   \n",
       "352           CheapTickets – Hotels, Flights & Travel Deals         6   \n",
       "729        Goibibo - Flight Hotel Bus Car IRCTC Booking App         4   \n",
       "\n",
       "Sentiment  Neutral  Positive   tipo  total   pos_rel  \n",
       "70               3        30  hotel     35  0.857143  \n",
       "836              4        30  hotel     35  0.857143  \n",
       "858             17        93  hotel    127  0.732283  \n",
       "352              4        27  hotel     37  0.729730  \n",
       "729              7        27  hotel     38  0.710526  "
      ]
     },
     "execution_count": 58,
     "metadata": {},
     "output_type": "execute_result"
    }
   ],
   "source": [
    "# 9\n",
    "\n",
    "aval_wide['total'] = aval_wide.iloc[:,1:4].sum(axis=1)\n",
    "aval_wide['pos_rel'] = aval_wide.Positive / aval_wide.total\n",
    "aval_wide[aval_wide.tipo == 'hotel'].nlargest(5,'pos_rel')"
   ]
  },
  {
   "cell_type": "code",
   "execution_count": 75,
   "id": "4ce965ff",
   "metadata": {
    "collapsed": true,
    "jupyter": {
     "outputs_hidden": true,
     "source_hidden": true
    }
   },
   "outputs": [
    {
     "name": "stdout",
     "output_type": "stream",
     "text": [
      "A média de avaliações de apps \"food\" é maior que a média de avaliações dos apps \"hotel\".\n"
     ]
    }
   ],
   "source": [
    "# 10\n",
    "\n",
    "resp = aval_wide[['total','tipo']].groupby('tipo',as_index=False).mean()\n",
    "resp = resp.loc[resp.tipo == 'food','total'].values[0] > resp.loc[resp.tipo == 'hotel','total'].values[0]\n",
    "\n",
    "if resp:\n",
    "    print('A média de avaliações de apps \"food\" é maior que a média de avaliações dos apps \"hotel\".')\n",
    "else:\n",
    "    print('A média de avaliações de apps \"hotel\" é maior que a média de avaliações dos apps \"food\".')"
   ]
  },
  {
   "cell_type": "code",
   "execution_count": 95,
   "id": "6eb5fccc",
   "metadata": {
    "collapsed": true,
    "jupyter": {
     "outputs_hidden": true,
     "source_hidden": true
    },
    "tags": []
   },
   "outputs": [
    {
     "name": "stderr",
     "output_type": "stream",
     "text": [
      "/home/nzboan/projetos/marrecos-malvados/src/minhas_funcs.py:30: UserWarning: FixedFormatter should only be used together with FixedLocator\n",
      "  ax.set_yticklabels(data.index)\n",
      "/home/nzboan/projetos/marrecos-malvados/src/minhas_funcs.py:31: UserWarning: FixedFormatter should only be used together with FixedLocator\n",
      "  ax.set_xticklabels(data.columns,rotation=90)\n"
     ]
    },
    {
     "data": {
      "image/png": "[encoded data removed]",
      "text/plain": [
       "<Figure size 432x288 with 1 Axes>"
      ]
     },
     "metadata": {
      "needs_background": "light"
     },
     "output_type": "display_data"
    },
    {
     "data": {
      "text/plain": [
       "25.00534302201325"
      ]
     },
     "execution_count": 95,
     "metadata": {},
     "output_type": "execute_result"
    }
   ],
   "source": [
    "# 11\n",
    "\n",
    "## 11.1\n",
    "aval['sub_groups'] = pd.qcut(aval.Sentiment_Subjectivity,q=8)\n",
    "\n",
    "## 11.2\n",
    "aval['sent_groups'] = pd.qcut(aval.Sentiment_Polarity,q=8)\n",
    "\n",
    "## 11.3\n",
    "density = aval.pivot_table(index='sub_groups',columns='sent_groups',values='App',aggfunc='count')\n",
    "\n",
    "## 11.4\n",
    "density = (density / density.sum().sum())*100\n",
    "\n",
    "## 11.5\n",
    "from src.minhas_funcs import plot_topo\n",
    "plot_topo(density)\n",
    "\n",
    "## 11.6\n",
    "density.iloc[:4,3:].sum().sum()"
   ]
  },
  {
   "cell_type": "markdown",
   "id": "955fa7ac",
   "metadata": {},
   "source": [
    "# Juntando dataframes\n",
    "___\n",
    "\n",
    "É bem comum termos mais de um conjunto de dados ou características da mesma unidade de análise em dataframes diferentes. Muitas vezes temos vários dataframes onde cada um contém as vendas de um determinado mês ou um dataframe com as vendas do ano inteiro e no outro as características de cada loja. Em ambas as situações é interessante juntar os dataframes para termos mais informações e enriquecermos nossa análise. Em pandas utilizamos as funções ```.concat()``` e a função ```.merge()``` para realizar esses tipos de operação."
   ]
  },
  {
   "cell_type": "code",
   "execution_count": 4,
   "id": "9e23ccad",
   "metadata": {},
   "outputs": [
    {
     "data": {
      "text/html": [
       "<div>\n",
       "<style scoped>\n",
       "    .dataframe tbody tr th:only-of-type {\n",
       "        vertical-align: middle;\n",
       "    }\n",
       "\n",
       "    .dataframe tbody tr th {\n",
       "        vertical-align: top;\n",
       "    }\n",
       "\n",
       "    .dataframe thead th {\n",
       "        text-align: right;\n",
       "    }\n",
       "</style>\n",
       "<table border=\"1\" class=\"dataframe\">\n",
       "  <thead>\n",
       "    <tr style=\"text-align: right;\">\n",
       "      <th></th>\n",
       "      <th>App</th>\n",
       "      <th>Translated_Review</th>\n",
       "      <th>Sentiment</th>\n",
       "      <th>Sentiment_Polarity</th>\n",
       "      <th>Sentiment_Subjectivity</th>\n",
       "    </tr>\n",
       "  </thead>\n",
       "  <tbody>\n",
       "    <tr>\n",
       "      <th>0</th>\n",
       "      <td>10 Best Foods for You</td>\n",
       "      <td>I like eat delicious food. That's I'm cooking ...</td>\n",
       "      <td>Positive</td>\n",
       "      <td>1.00</td>\n",
       "      <td>0.533333</td>\n",
       "    </tr>\n",
       "    <tr>\n",
       "      <th>1</th>\n",
       "      <td>10 Best Foods for You</td>\n",
       "      <td>This help eating healthy exercise regular basis</td>\n",
       "      <td>Positive</td>\n",
       "      <td>0.25</td>\n",
       "      <td>0.288462</td>\n",
       "    </tr>\n",
       "    <tr>\n",
       "      <th>2</th>\n",
       "      <td>10 Best Foods for You</td>\n",
       "      <td>NaN</td>\n",
       "      <td>NaN</td>\n",
       "      <td>NaN</td>\n",
       "      <td>NaN</td>\n",
       "    </tr>\n",
       "    <tr>\n",
       "      <th>3</th>\n",
       "      <td>10 Best Foods for You</td>\n",
       "      <td>Works great especially going grocery store</td>\n",
       "      <td>Positive</td>\n",
       "      <td>0.40</td>\n",
       "      <td>0.875000</td>\n",
       "    </tr>\n",
       "    <tr>\n",
       "      <th>4</th>\n",
       "      <td>10 Best Foods for You</td>\n",
       "      <td>Best idea us</td>\n",
       "      <td>Positive</td>\n",
       "      <td>1.00</td>\n",
       "      <td>0.300000</td>\n",
       "    </tr>\n",
       "  </tbody>\n",
       "</table>\n",
       "</div>"
      ],
      "text/plain": [
       "                     App                                  Translated_Review  \\\n",
       "0  10 Best Foods for You  I like eat delicious food. That's I'm cooking ...   \n",
       "1  10 Best Foods for You    This help eating healthy exercise regular basis   \n",
       "2  10 Best Foods for You                                                NaN   \n",
       "3  10 Best Foods for You         Works great especially going grocery store   \n",
       "4  10 Best Foods for You                                       Best idea us   \n",
       "\n",
       "  Sentiment  Sentiment_Polarity  Sentiment_Subjectivity  \n",
       "0  Positive                1.00                0.533333  \n",
       "1  Positive                0.25                0.288462  \n",
       "2       NaN                 NaN                     NaN  \n",
       "3  Positive                0.40                0.875000  \n",
       "4  Positive                1.00                0.300000  "
      ]
     },
     "execution_count": 4,
     "metadata": {},
     "output_type": "execute_result"
    }
   ],
   "source": [
    "## carregando novamente o dataframe de avaliações\n",
    "aval = pd.read_csv('data/googleplaystore_user_reviews.csv')\n",
    "aval.head()"
   ]
  },
  {
   "cell_type": "code",
   "execution_count": 5,
   "id": "b788933c",
   "metadata": {},
   "outputs": [
    {
     "data": {
      "text/html": [
       "<div>\n",
       "<style scoped>\n",
       "    .dataframe tbody tr th:only-of-type {\n",
       "        vertical-align: middle;\n",
       "    }\n",
       "\n",
       "    .dataframe tbody tr th {\n",
       "        vertical-align: top;\n",
       "    }\n",
       "\n",
       "    .dataframe thead th {\n",
       "        text-align: right;\n",
       "    }\n",
       "</style>\n",
       "<table border=\"1\" class=\"dataframe\">\n",
       "  <thead>\n",
       "    <tr style=\"text-align: right;\">\n",
       "      <th></th>\n",
       "      <th>App</th>\n",
       "      <th>Category</th>\n",
       "      <th>Rating</th>\n",
       "      <th>Reviews</th>\n",
       "      <th>Size</th>\n",
       "      <th>Installs</th>\n",
       "      <th>Type</th>\n",
       "      <th>Price</th>\n",
       "      <th>Content Rating</th>\n",
       "      <th>Genres</th>\n",
       "      <th>Last Updated</th>\n",
       "      <th>Current Ver</th>\n",
       "      <th>Android Ver</th>\n",
       "    </tr>\n",
       "  </thead>\n",
       "  <tbody>\n",
       "    <tr>\n",
       "      <th>0</th>\n",
       "      <td>Photo Editor &amp; Candy Camera &amp; Grid &amp; ScrapBook</td>\n",
       "      <td>ART_AND_DESIGN</td>\n",
       "      <td>4.1</td>\n",
       "      <td>159</td>\n",
       "      <td>19M</td>\n",
       "      <td>10,000+</td>\n",
       "      <td>Free</td>\n",
       "      <td>0</td>\n",
       "      <td>Everyone</td>\n",
       "      <td>Art &amp; Design</td>\n",
       "      <td>January 7, 2018</td>\n",
       "      <td>1.0.0</td>\n",
       "      <td>4.0.3 and up</td>\n",
       "    </tr>\n",
       "    <tr>\n",
       "      <th>1</th>\n",
       "      <td>Coloring book moana</td>\n",
       "      <td>ART_AND_DESIGN</td>\n",
       "      <td>3.9</td>\n",
       "      <td>967</td>\n",
       "      <td>14M</td>\n",
       "      <td>500,000+</td>\n",
       "      <td>Free</td>\n",
       "      <td>0</td>\n",
       "      <td>Everyone</td>\n",
       "      <td>Art &amp; Design;Pretend Play</td>\n",
       "      <td>January 15, 2018</td>\n",
       "      <td>2.0.0</td>\n",
       "      <td>4.0.3 and up</td>\n",
       "    </tr>\n",
       "    <tr>\n",
       "      <th>2</th>\n",
       "      <td>U Launcher Lite – FREE Live Cool Themes, Hide ...</td>\n",
       "      <td>ART_AND_DESIGN</td>\n",
       "      <td>4.7</td>\n",
       "      <td>87510</td>\n",
       "      <td>8.7M</td>\n",
       "      <td>5,000,000+</td>\n",
       "      <td>Free</td>\n",
       "      <td>0</td>\n",
       "      <td>Everyone</td>\n",
       "      <td>Art &amp; Design</td>\n",
       "      <td>August 1, 2018</td>\n",
       "      <td>1.2.4</td>\n",
       "      <td>4.0.3 and up</td>\n",
       "    </tr>\n",
       "    <tr>\n",
       "      <th>3</th>\n",
       "      <td>Sketch - Draw &amp; Paint</td>\n",
       "      <td>ART_AND_DESIGN</td>\n",
       "      <td>4.5</td>\n",
       "      <td>215644</td>\n",
       "      <td>25M</td>\n",
       "      <td>50,000,000+</td>\n",
       "      <td>Free</td>\n",
       "      <td>0</td>\n",
       "      <td>Teen</td>\n",
       "      <td>Art &amp; Design</td>\n",
       "      <td>June 8, 2018</td>\n",
       "      <td>Varies with device</td>\n",
       "      <td>4.2 and up</td>\n",
       "    </tr>\n",
       "    <tr>\n",
       "      <th>4</th>\n",
       "      <td>Pixel Draw - Number Art Coloring Book</td>\n",
       "      <td>ART_AND_DESIGN</td>\n",
       "      <td>4.3</td>\n",
       "      <td>967</td>\n",
       "      <td>2.8M</td>\n",
       "      <td>100,000+</td>\n",
       "      <td>Free</td>\n",
       "      <td>0</td>\n",
       "      <td>Everyone</td>\n",
       "      <td>Art &amp; Design;Creativity</td>\n",
       "      <td>June 20, 2018</td>\n",
       "      <td>1.1</td>\n",
       "      <td>4.4 and up</td>\n",
       "    </tr>\n",
       "  </tbody>\n",
       "</table>\n",
       "</div>"
      ],
      "text/plain": [
       "                                                 App        Category  Rating  \\\n",
       "0     Photo Editor & Candy Camera & Grid & ScrapBook  ART_AND_DESIGN     4.1   \n",
       "1                                Coloring book moana  ART_AND_DESIGN     3.9   \n",
       "2  U Launcher Lite – FREE Live Cool Themes, Hide ...  ART_AND_DESIGN     4.7   \n",
       "3                              Sketch - Draw & Paint  ART_AND_DESIGN     4.5   \n",
       "4              Pixel Draw - Number Art Coloring Book  ART_AND_DESIGN     4.3   \n",
       "\n",
       "  Reviews  Size     Installs  Type Price Content Rating  \\\n",
       "0     159   19M      10,000+  Free     0       Everyone   \n",
       "1     967   14M     500,000+  Free     0       Everyone   \n",
       "2   87510  8.7M   5,000,000+  Free     0       Everyone   \n",
       "3  215644   25M  50,000,000+  Free     0           Teen   \n",
       "4     967  2.8M     100,000+  Free     0       Everyone   \n",
       "\n",
       "                      Genres      Last Updated         Current Ver  \\\n",
       "0               Art & Design   January 7, 2018               1.0.0   \n",
       "1  Art & Design;Pretend Play  January 15, 2018               2.0.0   \n",
       "2               Art & Design    August 1, 2018               1.2.4   \n",
       "3               Art & Design      June 8, 2018  Varies with device   \n",
       "4    Art & Design;Creativity     June 20, 2018                 1.1   \n",
       "\n",
       "    Android Ver  \n",
       "0  4.0.3 and up  \n",
       "1  4.0.3 and up  \n",
       "2  4.0.3 and up  \n",
       "3    4.2 and up  \n",
       "4    4.4 and up  "
      ]
     },
     "execution_count": 5,
     "metadata": {},
     "output_type": "execute_result"
    }
   ],
   "source": [
    "## carregando o dataframe de apps\n",
    "apps = pd.read_csv('data/googleplaystore.csv')\n",
    "apps.head()"
   ]
  },
  {
   "cell_type": "code",
   "execution_count": 6,
   "id": "6236851a",
   "metadata": {},
   "outputs": [
    {
     "data": {
      "text/plain": [
       "ROBLOX                                               9\n",
       "CBS Sports App - Scores, News, Stats & Watch Live    8\n",
       "Candy Crush Saga                                     7\n",
       "8 Ball Pool                                          7\n",
       "ESPN                                                 7\n",
       "                                                    ..\n",
       "CQ-Mobile                                            1\n",
       "Katalogen.ax                                         1\n",
       "Learn English with Aco                               1\n",
       "Banana Kong                                          1\n",
       "Four In A Line Free                                  1\n",
       "Name: App, Length: 9660, dtype: int64"
      ]
     },
     "execution_count": 6,
     "metadata": {},
     "output_type": "execute_result"
    }
   ],
   "source": [
    "## inspecionando se existem apps repetidos\n",
    "\n",
    "apps.App.value_counts()"
   ]
  },
  {
   "cell_type": "code",
   "execution_count": 7,
   "id": "3bd8b375",
   "metadata": {},
   "outputs": [
    {
     "data": {
      "text/plain": [
       "798"
      ]
     },
     "execution_count": 7,
     "metadata": {},
     "output_type": "execute_result"
    }
   ],
   "source": [
    "(apps.App.value_counts() > 1).sum()"
   ]
  },
  {
   "cell_type": "code",
   "execution_count": 8,
   "id": "71b0ab44",
   "metadata": {},
   "outputs": [
    {
     "data": {
      "text/plain": [
       "0.08260869565217391"
      ]
     },
     "execution_count": 8,
     "metadata": {},
     "output_type": "execute_result"
    }
   ],
   "source": [
    "(apps.App.value_counts() > 1).sum() / apps.App.nunique()"
   ]
  },
  {
   "cell_type": "markdown",
   "id": "fe1c40e6",
   "metadata": {},
   "source": [
    "Existem 798 apps repetidos, o que representa, aproximadamente 8% do dataset. Vamos analisar esses dados."
   ]
  },
  {
   "cell_type": "code",
   "execution_count": 9,
   "id": "0c07ff21",
   "metadata": {},
   "outputs": [
    {
     "data": {
      "text/html": [
       "<div>\n",
       "<style scoped>\n",
       "    .dataframe tbody tr th:only-of-type {\n",
       "        vertical-align: middle;\n",
       "    }\n",
       "\n",
       "    .dataframe tbody tr th {\n",
       "        vertical-align: top;\n",
       "    }\n",
       "\n",
       "    .dataframe thead th {\n",
       "        text-align: right;\n",
       "    }\n",
       "</style>\n",
       "<table border=\"1\" class=\"dataframe\">\n",
       "  <thead>\n",
       "    <tr style=\"text-align: right;\">\n",
       "      <th></th>\n",
       "      <th>App</th>\n",
       "      <th>Category</th>\n",
       "      <th>Rating</th>\n",
       "      <th>Reviews</th>\n",
       "      <th>Size</th>\n",
       "      <th>Installs</th>\n",
       "      <th>Type</th>\n",
       "      <th>Price</th>\n",
       "      <th>Content Rating</th>\n",
       "      <th>Genres</th>\n",
       "      <th>Last Updated</th>\n",
       "      <th>Current Ver</th>\n",
       "      <th>Android Ver</th>\n",
       "    </tr>\n",
       "  </thead>\n",
       "  <tbody>\n",
       "    <tr>\n",
       "      <th>1393</th>\n",
       "      <td>10 Best Foods for You</td>\n",
       "      <td>HEALTH_AND_FITNESS</td>\n",
       "      <td>4.0</td>\n",
       "      <td>2490</td>\n",
       "      <td>3.8M</td>\n",
       "      <td>500,000+</td>\n",
       "      <td>Free</td>\n",
       "      <td>0</td>\n",
       "      <td>Everyone 10+</td>\n",
       "      <td>Health &amp; Fitness</td>\n",
       "      <td>February 17, 2017</td>\n",
       "      <td>1.9</td>\n",
       "      <td>2.3.3 and up</td>\n",
       "    </tr>\n",
       "    <tr>\n",
       "      <th>1407</th>\n",
       "      <td>10 Best Foods for You</td>\n",
       "      <td>HEALTH_AND_FITNESS</td>\n",
       "      <td>4.0</td>\n",
       "      <td>2490</td>\n",
       "      <td>3.8M</td>\n",
       "      <td>500,000+</td>\n",
       "      <td>Free</td>\n",
       "      <td>0</td>\n",
       "      <td>Everyone 10+</td>\n",
       "      <td>Health &amp; Fitness</td>\n",
       "      <td>February 17, 2017</td>\n",
       "      <td>1.9</td>\n",
       "      <td>2.3.3 and up</td>\n",
       "    </tr>\n",
       "    <tr>\n",
       "      <th>2543</th>\n",
       "      <td>1800 Contacts - Lens Store</td>\n",
       "      <td>MEDICAL</td>\n",
       "      <td>4.7</td>\n",
       "      <td>23160</td>\n",
       "      <td>26M</td>\n",
       "      <td>1,000,000+</td>\n",
       "      <td>Free</td>\n",
       "      <td>0</td>\n",
       "      <td>Everyone</td>\n",
       "      <td>Medical</td>\n",
       "      <td>July 27, 2018</td>\n",
       "      <td>7.4.1</td>\n",
       "      <td>5.0 and up</td>\n",
       "    </tr>\n",
       "    <tr>\n",
       "      <th>2322</th>\n",
       "      <td>1800 Contacts - Lens Store</td>\n",
       "      <td>MEDICAL</td>\n",
       "      <td>4.7</td>\n",
       "      <td>23160</td>\n",
       "      <td>26M</td>\n",
       "      <td>1,000,000+</td>\n",
       "      <td>Free</td>\n",
       "      <td>0</td>\n",
       "      <td>Everyone</td>\n",
       "      <td>Medical</td>\n",
       "      <td>July 27, 2018</td>\n",
       "      <td>7.4.1</td>\n",
       "      <td>5.0 and up</td>\n",
       "    </tr>\n",
       "    <tr>\n",
       "      <th>2385</th>\n",
       "      <td>2017 EMRA Antibiotic Guide</td>\n",
       "      <td>MEDICAL</td>\n",
       "      <td>4.4</td>\n",
       "      <td>12</td>\n",
       "      <td>3.8M</td>\n",
       "      <td>1,000+</td>\n",
       "      <td>Paid</td>\n",
       "      <td>$16.99</td>\n",
       "      <td>Everyone</td>\n",
       "      <td>Medical</td>\n",
       "      <td>January 27, 2017</td>\n",
       "      <td>1.0.5</td>\n",
       "      <td>4.0.3 and up</td>\n",
       "    </tr>\n",
       "    <tr>\n",
       "      <th>...</th>\n",
       "      <td>...</td>\n",
       "      <td>...</td>\n",
       "      <td>...</td>\n",
       "      <td>...</td>\n",
       "      <td>...</td>\n",
       "      <td>...</td>\n",
       "      <td>...</td>\n",
       "      <td>...</td>\n",
       "      <td>...</td>\n",
       "      <td>...</td>\n",
       "      <td>...</td>\n",
       "      <td>...</td>\n",
       "      <td>...</td>\n",
       "    </tr>\n",
       "    <tr>\n",
       "      <th>3202</th>\n",
       "      <td>trivago: Hotels &amp; Travel</td>\n",
       "      <td>TRAVEL_AND_LOCAL</td>\n",
       "      <td>4.2</td>\n",
       "      <td>219848</td>\n",
       "      <td>Varies with device</td>\n",
       "      <td>50,000,000+</td>\n",
       "      <td>Free</td>\n",
       "      <td>0</td>\n",
       "      <td>Everyone</td>\n",
       "      <td>Travel &amp; Local</td>\n",
       "      <td>August 2, 2018</td>\n",
       "      <td>Varies with device</td>\n",
       "      <td>Varies with device</td>\n",
       "    </tr>\n",
       "    <tr>\n",
       "      <th>3118</th>\n",
       "      <td>trivago: Hotels &amp; Travel</td>\n",
       "      <td>TRAVEL_AND_LOCAL</td>\n",
       "      <td>4.2</td>\n",
       "      <td>219848</td>\n",
       "      <td>Varies with device</td>\n",
       "      <td>50,000,000+</td>\n",
       "      <td>Free</td>\n",
       "      <td>0</td>\n",
       "      <td>Everyone</td>\n",
       "      <td>Travel &amp; Local</td>\n",
       "      <td>August 2, 2018</td>\n",
       "      <td>Varies with device</td>\n",
       "      <td>Varies with device</td>\n",
       "    </tr>\n",
       "    <tr>\n",
       "      <th>3103</th>\n",
       "      <td>trivago: Hotels &amp; Travel</td>\n",
       "      <td>TRAVEL_AND_LOCAL</td>\n",
       "      <td>4.2</td>\n",
       "      <td>219848</td>\n",
       "      <td>Varies with device</td>\n",
       "      <td>50,000,000+</td>\n",
       "      <td>Free</td>\n",
       "      <td>0</td>\n",
       "      <td>Everyone</td>\n",
       "      <td>Travel &amp; Local</td>\n",
       "      <td>August 2, 2018</td>\n",
       "      <td>Varies with device</td>\n",
       "      <td>Varies with device</td>\n",
       "    </tr>\n",
       "    <tr>\n",
       "      <th>8291</th>\n",
       "      <td>wetter.com - Weather and Radar</td>\n",
       "      <td>WEATHER</td>\n",
       "      <td>4.2</td>\n",
       "      <td>189310</td>\n",
       "      <td>38M</td>\n",
       "      <td>10,000,000+</td>\n",
       "      <td>Free</td>\n",
       "      <td>0</td>\n",
       "      <td>Everyone</td>\n",
       "      <td>Weather</td>\n",
       "      <td>August 6, 2018</td>\n",
       "      <td>Varies with device</td>\n",
       "      <td>Varies with device</td>\n",
       "    </tr>\n",
       "    <tr>\n",
       "      <th>3652</th>\n",
       "      <td>wetter.com - Weather and Radar</td>\n",
       "      <td>WEATHER</td>\n",
       "      <td>4.2</td>\n",
       "      <td>189313</td>\n",
       "      <td>38M</td>\n",
       "      <td>10,000,000+</td>\n",
       "      <td>Free</td>\n",
       "      <td>0</td>\n",
       "      <td>Everyone</td>\n",
       "      <td>Weather</td>\n",
       "      <td>August 6, 2018</td>\n",
       "      <td>Varies with device</td>\n",
       "      <td>Varies with device</td>\n",
       "    </tr>\n",
       "  </tbody>\n",
       "</table>\n",
       "<p>1979 rows × 13 columns</p>\n",
       "</div>"
      ],
      "text/plain": [
       "                                 App            Category  Rating Reviews  \\\n",
       "1393           10 Best Foods for You  HEALTH_AND_FITNESS     4.0    2490   \n",
       "1407           10 Best Foods for You  HEALTH_AND_FITNESS     4.0    2490   \n",
       "2543      1800 Contacts - Lens Store             MEDICAL     4.7   23160   \n",
       "2322      1800 Contacts - Lens Store             MEDICAL     4.7   23160   \n",
       "2385      2017 EMRA Antibiotic Guide             MEDICAL     4.4      12   \n",
       "...                              ...                 ...     ...     ...   \n",
       "3202        trivago: Hotels & Travel    TRAVEL_AND_LOCAL     4.2  219848   \n",
       "3118        trivago: Hotels & Travel    TRAVEL_AND_LOCAL     4.2  219848   \n",
       "3103        trivago: Hotels & Travel    TRAVEL_AND_LOCAL     4.2  219848   \n",
       "8291  wetter.com - Weather and Radar             WEATHER     4.2  189310   \n",
       "3652  wetter.com - Weather and Radar             WEATHER     4.2  189313   \n",
       "\n",
       "                    Size     Installs  Type   Price Content Rating  \\\n",
       "1393                3.8M     500,000+  Free       0   Everyone 10+   \n",
       "1407                3.8M     500,000+  Free       0   Everyone 10+   \n",
       "2543                 26M   1,000,000+  Free       0       Everyone   \n",
       "2322                 26M   1,000,000+  Free       0       Everyone   \n",
       "2385                3.8M       1,000+  Paid  $16.99       Everyone   \n",
       "...                  ...          ...   ...     ...            ...   \n",
       "3202  Varies with device  50,000,000+  Free       0       Everyone   \n",
       "3118  Varies with device  50,000,000+  Free       0       Everyone   \n",
       "3103  Varies with device  50,000,000+  Free       0       Everyone   \n",
       "8291                 38M  10,000,000+  Free       0       Everyone   \n",
       "3652                 38M  10,000,000+  Free       0       Everyone   \n",
       "\n",
       "                Genres       Last Updated         Current Ver  \\\n",
       "1393  Health & Fitness  February 17, 2017                 1.9   \n",
       "1407  Health & Fitness  February 17, 2017                 1.9   \n",
       "2543           Medical      July 27, 2018               7.4.1   \n",
       "2322           Medical      July 27, 2018               7.4.1   \n",
       "2385           Medical   January 27, 2017               1.0.5   \n",
       "...                ...                ...                 ...   \n",
       "3202    Travel & Local     August 2, 2018  Varies with device   \n",
       "3118    Travel & Local     August 2, 2018  Varies with device   \n",
       "3103    Travel & Local     August 2, 2018  Varies with device   \n",
       "8291           Weather     August 6, 2018  Varies with device   \n",
       "3652           Weather     August 6, 2018  Varies with device   \n",
       "\n",
       "             Android Ver  \n",
       "1393        2.3.3 and up  \n",
       "1407        2.3.3 and up  \n",
       "2543          5.0 and up  \n",
       "2322          5.0 and up  \n",
       "2385        4.0.3 and up  \n",
       "...                  ...  \n",
       "3202  Varies with device  \n",
       "3118  Varies with device  \n",
       "3103  Varies with device  \n",
       "8291  Varies with device  \n",
       "3652  Varies with device  \n",
       "\n",
       "[1979 rows x 13 columns]"
      ]
     },
     "execution_count": 9,
     "metadata": {},
     "output_type": "execute_result"
    }
   ],
   "source": [
    "mascara_duplicados = apps.duplicated(subset=['App'],keep=False)\n",
    "\n",
    "apps[mascara_duplicados].sort_values('App')"
   ]
  },
  {
   "cell_type": "markdown",
   "id": "21245eb6",
   "metadata": {},
   "source": [
    "Para lidarmos com valores duplicados existem duas funções bem importantes. A primeira é a ```.duplicated()``` que retorna uma série de valores booleanos onde os valores são repetidos, a segunda função é a ```.drop_duplicates()``` que remove os valores duplicados. Como gostaríamos somente de ter um app por linha, vamos dropar os valores duplicados."
   ]
  },
  {
   "cell_type": "code",
   "execution_count": 10,
   "id": "90b38292",
   "metadata": {},
   "outputs": [
    {
     "data": {
      "text/plain": [
       "ROBLOX                                            9\n",
       "8 Ball Pool                                       7\n",
       "Helix Jump                                        6\n",
       "Zombie Catchers                                   6\n",
       "Bubble Shooter                                    6\n",
       "                                                 ..\n",
       "EliteSingles – Dating for Single Professionals    1\n",
       "DK Virtual Reality                                1\n",
       "Narcos: Cartel Wars                               1\n",
       "Koi Live Wallpaper                                1\n",
       "Four In A Line Free                               1\n",
       "Name: App, Length: 9660, dtype: int64"
      ]
     },
     "execution_count": 10,
     "metadata": {},
     "output_type": "execute_result"
    }
   ],
   "source": [
    "apps.drop_duplicates().App.value_counts()"
   ]
  },
  {
   "cell_type": "code",
   "execution_count": 11,
   "id": "fa291064",
   "metadata": {},
   "outputs": [
    {
     "data": {
      "text/html": [
       "<div>\n",
       "<style scoped>\n",
       "    .dataframe tbody tr th:only-of-type {\n",
       "        vertical-align: middle;\n",
       "    }\n",
       "\n",
       "    .dataframe tbody tr th {\n",
       "        vertical-align: top;\n",
       "    }\n",
       "\n",
       "    .dataframe thead th {\n",
       "        text-align: right;\n",
       "    }\n",
       "</style>\n",
       "<table border=\"1\" class=\"dataframe\">\n",
       "  <thead>\n",
       "    <tr style=\"text-align: right;\">\n",
       "      <th></th>\n",
       "      <th>App</th>\n",
       "      <th>Category</th>\n",
       "      <th>Rating</th>\n",
       "      <th>Reviews</th>\n",
       "      <th>Size</th>\n",
       "      <th>Installs</th>\n",
       "      <th>Type</th>\n",
       "      <th>Price</th>\n",
       "      <th>Content Rating</th>\n",
       "      <th>Genres</th>\n",
       "      <th>Last Updated</th>\n",
       "      <th>Current Ver</th>\n",
       "      <th>Android Ver</th>\n",
       "    </tr>\n",
       "  </thead>\n",
       "  <tbody>\n",
       "    <tr>\n",
       "      <th>1653</th>\n",
       "      <td>ROBLOX</td>\n",
       "      <td>GAME</td>\n",
       "      <td>4.5</td>\n",
       "      <td>4447388</td>\n",
       "      <td>67M</td>\n",
       "      <td>100,000,000+</td>\n",
       "      <td>Free</td>\n",
       "      <td>0</td>\n",
       "      <td>Everyone 10+</td>\n",
       "      <td>Adventure;Action &amp; Adventure</td>\n",
       "      <td>July 31, 2018</td>\n",
       "      <td>2.347.225742</td>\n",
       "      <td>4.1 and up</td>\n",
       "    </tr>\n",
       "    <tr>\n",
       "      <th>1701</th>\n",
       "      <td>ROBLOX</td>\n",
       "      <td>GAME</td>\n",
       "      <td>4.5</td>\n",
       "      <td>4447346</td>\n",
       "      <td>67M</td>\n",
       "      <td>100,000,000+</td>\n",
       "      <td>Free</td>\n",
       "      <td>0</td>\n",
       "      <td>Everyone 10+</td>\n",
       "      <td>Adventure;Action &amp; Adventure</td>\n",
       "      <td>July 31, 2018</td>\n",
       "      <td>2.347.225742</td>\n",
       "      <td>4.1 and up</td>\n",
       "    </tr>\n",
       "    <tr>\n",
       "      <th>1748</th>\n",
       "      <td>ROBLOX</td>\n",
       "      <td>GAME</td>\n",
       "      <td>4.5</td>\n",
       "      <td>4448791</td>\n",
       "      <td>67M</td>\n",
       "      <td>100,000,000+</td>\n",
       "      <td>Free</td>\n",
       "      <td>0</td>\n",
       "      <td>Everyone 10+</td>\n",
       "      <td>Adventure;Action &amp; Adventure</td>\n",
       "      <td>July 31, 2018</td>\n",
       "      <td>2.347.225742</td>\n",
       "      <td>4.1 and up</td>\n",
       "    </tr>\n",
       "    <tr>\n",
       "      <th>1841</th>\n",
       "      <td>ROBLOX</td>\n",
       "      <td>GAME</td>\n",
       "      <td>4.5</td>\n",
       "      <td>4449882</td>\n",
       "      <td>67M</td>\n",
       "      <td>100,000,000+</td>\n",
       "      <td>Free</td>\n",
       "      <td>0</td>\n",
       "      <td>Everyone 10+</td>\n",
       "      <td>Adventure;Action &amp; Adventure</td>\n",
       "      <td>July 31, 2018</td>\n",
       "      <td>2.347.225742</td>\n",
       "      <td>4.1 and up</td>\n",
       "    </tr>\n",
       "    <tr>\n",
       "      <th>1870</th>\n",
       "      <td>ROBLOX</td>\n",
       "      <td>GAME</td>\n",
       "      <td>4.5</td>\n",
       "      <td>4449910</td>\n",
       "      <td>67M</td>\n",
       "      <td>100,000,000+</td>\n",
       "      <td>Free</td>\n",
       "      <td>0</td>\n",
       "      <td>Everyone 10+</td>\n",
       "      <td>Adventure;Action &amp; Adventure</td>\n",
       "      <td>July 31, 2018</td>\n",
       "      <td>2.347.225742</td>\n",
       "      <td>4.1 and up</td>\n",
       "    </tr>\n",
       "    <tr>\n",
       "      <th>2016</th>\n",
       "      <td>ROBLOX</td>\n",
       "      <td>FAMILY</td>\n",
       "      <td>4.5</td>\n",
       "      <td>4449910</td>\n",
       "      <td>67M</td>\n",
       "      <td>100,000,000+</td>\n",
       "      <td>Free</td>\n",
       "      <td>0</td>\n",
       "      <td>Everyone 10+</td>\n",
       "      <td>Adventure;Action &amp; Adventure</td>\n",
       "      <td>July 31, 2018</td>\n",
       "      <td>2.347.225742</td>\n",
       "      <td>4.1 and up</td>\n",
       "    </tr>\n",
       "    <tr>\n",
       "      <th>2088</th>\n",
       "      <td>ROBLOX</td>\n",
       "      <td>FAMILY</td>\n",
       "      <td>4.5</td>\n",
       "      <td>4450855</td>\n",
       "      <td>67M</td>\n",
       "      <td>100,000,000+</td>\n",
       "      <td>Free</td>\n",
       "      <td>0</td>\n",
       "      <td>Everyone 10+</td>\n",
       "      <td>Adventure;Action &amp; Adventure</td>\n",
       "      <td>July 31, 2018</td>\n",
       "      <td>2.347.225742</td>\n",
       "      <td>4.1 and up</td>\n",
       "    </tr>\n",
       "    <tr>\n",
       "      <th>2206</th>\n",
       "      <td>ROBLOX</td>\n",
       "      <td>FAMILY</td>\n",
       "      <td>4.5</td>\n",
       "      <td>4450890</td>\n",
       "      <td>67M</td>\n",
       "      <td>100,000,000+</td>\n",
       "      <td>Free</td>\n",
       "      <td>0</td>\n",
       "      <td>Everyone 10+</td>\n",
       "      <td>Adventure;Action &amp; Adventure</td>\n",
       "      <td>July 31, 2018</td>\n",
       "      <td>2.347.225742</td>\n",
       "      <td>4.1 and up</td>\n",
       "    </tr>\n",
       "    <tr>\n",
       "      <th>4527</th>\n",
       "      <td>ROBLOX</td>\n",
       "      <td>FAMILY</td>\n",
       "      <td>4.5</td>\n",
       "      <td>4443407</td>\n",
       "      <td>67M</td>\n",
       "      <td>100,000,000+</td>\n",
       "      <td>Free</td>\n",
       "      <td>0</td>\n",
       "      <td>Everyone 10+</td>\n",
       "      <td>Adventure;Action &amp; Adventure</td>\n",
       "      <td>July 31, 2018</td>\n",
       "      <td>2.347.225742</td>\n",
       "      <td>4.1 and up</td>\n",
       "    </tr>\n",
       "  </tbody>\n",
       "</table>\n",
       "</div>"
      ],
      "text/plain": [
       "         App Category  Rating  Reviews Size      Installs  Type Price  \\\n",
       "1653  ROBLOX     GAME     4.5  4447388  67M  100,000,000+  Free     0   \n",
       "1701  ROBLOX     GAME     4.5  4447346  67M  100,000,000+  Free     0   \n",
       "1748  ROBLOX     GAME     4.5  4448791  67M  100,000,000+  Free     0   \n",
       "1841  ROBLOX     GAME     4.5  4449882  67M  100,000,000+  Free     0   \n",
       "1870  ROBLOX     GAME     4.5  4449910  67M  100,000,000+  Free     0   \n",
       "2016  ROBLOX   FAMILY     4.5  4449910  67M  100,000,000+  Free     0   \n",
       "2088  ROBLOX   FAMILY     4.5  4450855  67M  100,000,000+  Free     0   \n",
       "2206  ROBLOX   FAMILY     4.5  4450890  67M  100,000,000+  Free     0   \n",
       "4527  ROBLOX   FAMILY     4.5  4443407  67M  100,000,000+  Free     0   \n",
       "\n",
       "     Content Rating                        Genres   Last Updated  \\\n",
       "1653   Everyone 10+  Adventure;Action & Adventure  July 31, 2018   \n",
       "1701   Everyone 10+  Adventure;Action & Adventure  July 31, 2018   \n",
       "1748   Everyone 10+  Adventure;Action & Adventure  July 31, 2018   \n",
       "1841   Everyone 10+  Adventure;Action & Adventure  July 31, 2018   \n",
       "1870   Everyone 10+  Adventure;Action & Adventure  July 31, 2018   \n",
       "2016   Everyone 10+  Adventure;Action & Adventure  July 31, 2018   \n",
       "2088   Everyone 10+  Adventure;Action & Adventure  July 31, 2018   \n",
       "2206   Everyone 10+  Adventure;Action & Adventure  July 31, 2018   \n",
       "4527   Everyone 10+  Adventure;Action & Adventure  July 31, 2018   \n",
       "\n",
       "       Current Ver Android Ver  \n",
       "1653  2.347.225742  4.1 and up  \n",
       "1701  2.347.225742  4.1 and up  \n",
       "1748  2.347.225742  4.1 and up  \n",
       "1841  2.347.225742  4.1 and up  \n",
       "1870  2.347.225742  4.1 and up  \n",
       "2016  2.347.225742  4.1 and up  \n",
       "2088  2.347.225742  4.1 and up  \n",
       "2206  2.347.225742  4.1 and up  \n",
       "4527  2.347.225742  4.1 and up  "
      ]
     },
     "execution_count": 11,
     "metadata": {},
     "output_type": "execute_result"
    }
   ],
   "source": [
    "apps[apps.App == 'ROBLOX']"
   ]
  },
  {
   "cell_type": "markdown",
   "id": "f4e4269a",
   "metadata": {},
   "source": [
    "Perceba que alguns apps não foram considerados duplicados porque em cada observação a coluna \"Reviews\" foi aumentando. Vamos modificar o comportamento do drop_duplicates para levar em consideração somente o nome do app e manter a linha com a maior quantidade de reviews."
   ]
  },
  {
   "cell_type": "code",
   "execution_count": 12,
   "id": "97308708",
   "metadata": {},
   "outputs": [],
   "source": [
    "apps = apps.sort_values(by=['App','Reviews']).drop_duplicates(subset=['App'],keep='last')"
   ]
  },
  {
   "cell_type": "code",
   "execution_count": 13,
   "id": "e2b61159",
   "metadata": {},
   "outputs": [
    {
     "data": {
      "text/plain": [
       "0"
      ]
     },
     "execution_count": 13,
     "metadata": {},
     "output_type": "execute_result"
    }
   ],
   "source": [
    "(apps.App.value_counts() > 1).sum()"
   ]
  },
  {
   "cell_type": "markdown",
   "id": "240c7f0d",
   "metadata": {},
   "source": [
    "É possível perceber, em uma inspeção rápida, que a unidade de análise de ambos é diferente. No primeiro dataframe cada linha significa uma avaliação podendo existir mais de uma avaliação para o mesmo app, já no segundo dataframe cada linha representa um app, não podendo existir apps duplicados. Vamos juntar os dois dataframes, trazendo a quantidade de reviews e seus sentimentos para o dataframe apps."
   ]
  },
  {
   "cell_type": "code",
   "execution_count": 14,
   "id": "9f9e518d",
   "metadata": {},
   "outputs": [
    {
     "data": {
      "text/html": [
       "<div>\n",
       "<style scoped>\n",
       "    .dataframe tbody tr th:only-of-type {\n",
       "        vertical-align: middle;\n",
       "    }\n",
       "\n",
       "    .dataframe tbody tr th {\n",
       "        vertical-align: top;\n",
       "    }\n",
       "\n",
       "    .dataframe thead th {\n",
       "        text-align: right;\n",
       "    }\n",
       "</style>\n",
       "<table border=\"1\" class=\"dataframe\">\n",
       "  <thead>\n",
       "    <tr style=\"text-align: right;\">\n",
       "      <th>Sentiment</th>\n",
       "      <th>App</th>\n",
       "      <th>Negative</th>\n",
       "      <th>Neutral</th>\n",
       "      <th>Positive</th>\n",
       "    </tr>\n",
       "  </thead>\n",
       "  <tbody>\n",
       "    <tr>\n",
       "      <th>0</th>\n",
       "      <td>10 Best Foods for You</td>\n",
       "      <td>10.0</td>\n",
       "      <td>22.0</td>\n",
       "      <td>162.0</td>\n",
       "    </tr>\n",
       "    <tr>\n",
       "      <th>1</th>\n",
       "      <td>104 找工作 - 找工作 找打工 找兼職 履歷健檢 履歷診療室</td>\n",
       "      <td>1.0</td>\n",
       "      <td>8.0</td>\n",
       "      <td>31.0</td>\n",
       "    </tr>\n",
       "    <tr>\n",
       "      <th>2</th>\n",
       "      <td>11st</td>\n",
       "      <td>7.0</td>\n",
       "      <td>10.0</td>\n",
       "      <td>23.0</td>\n",
       "    </tr>\n",
       "    <tr>\n",
       "      <th>3</th>\n",
       "      <td>1800 Contacts - Lens Store</td>\n",
       "      <td>6.0</td>\n",
       "      <td>10.0</td>\n",
       "      <td>64.0</td>\n",
       "    </tr>\n",
       "    <tr>\n",
       "      <th>4</th>\n",
       "      <td>1LINE – One Line with One Touch</td>\n",
       "      <td>8.0</td>\n",
       "      <td>3.0</td>\n",
       "      <td>27.0</td>\n",
       "    </tr>\n",
       "    <tr>\n",
       "      <th>...</th>\n",
       "      <td>...</td>\n",
       "      <td>...</td>\n",
       "      <td>...</td>\n",
       "      <td>...</td>\n",
       "    </tr>\n",
       "    <tr>\n",
       "      <th>860</th>\n",
       "      <td>Hotels.com: Book Hotel Rooms &amp; Find Vacation D...</td>\n",
       "      <td>21.0</td>\n",
       "      <td>8.0</td>\n",
       "      <td>39.0</td>\n",
       "    </tr>\n",
       "    <tr>\n",
       "      <th>861</th>\n",
       "      <td>Hotspot Shield Free VPN Proxy &amp; Wi-Fi Security</td>\n",
       "      <td>3.0</td>\n",
       "      <td>14.0</td>\n",
       "      <td>17.0</td>\n",
       "    </tr>\n",
       "    <tr>\n",
       "      <th>862</th>\n",
       "      <td>Hotstar</td>\n",
       "      <td>14.0</td>\n",
       "      <td>4.0</td>\n",
       "      <td>14.0</td>\n",
       "    </tr>\n",
       "    <tr>\n",
       "      <th>863</th>\n",
       "      <td>Hotwire Hotel &amp; Car Rental App</td>\n",
       "      <td>6.0</td>\n",
       "      <td>11.0</td>\n",
       "      <td>16.0</td>\n",
       "    </tr>\n",
       "    <tr>\n",
       "      <th>864</th>\n",
       "      <td>Housing-Real Estate &amp; Property</td>\n",
       "      <td>10.0</td>\n",
       "      <td>3.0</td>\n",
       "      <td>8.0</td>\n",
       "    </tr>\n",
       "  </tbody>\n",
       "</table>\n",
       "<p>865 rows × 4 columns</p>\n",
       "</div>"
      ],
      "text/plain": [
       "Sentiment                                                App  Negative  \\\n",
       "0                                      10 Best Foods for You      10.0   \n",
       "1                           104 找工作 - 找工作 找打工 找兼職 履歷健檢 履歷診療室       1.0   \n",
       "2                                                       11st       7.0   \n",
       "3                                 1800 Contacts - Lens Store       6.0   \n",
       "4                            1LINE – One Line with One Touch       8.0   \n",
       "..                                                       ...       ...   \n",
       "860        Hotels.com: Book Hotel Rooms & Find Vacation D...      21.0   \n",
       "861           Hotspot Shield Free VPN Proxy & Wi-Fi Security       3.0   \n",
       "862                                                  Hotstar      14.0   \n",
       "863                           Hotwire Hotel & Car Rental App       6.0   \n",
       "864                           Housing-Real Estate & Property      10.0   \n",
       "\n",
       "Sentiment  Neutral  Positive  \n",
       "0             22.0     162.0  \n",
       "1              8.0      31.0  \n",
       "2             10.0      23.0  \n",
       "3             10.0      64.0  \n",
       "4              3.0      27.0  \n",
       "..             ...       ...  \n",
       "860            8.0      39.0  \n",
       "861           14.0      17.0  \n",
       "862            4.0      14.0  \n",
       "863           11.0      16.0  \n",
       "864            3.0       8.0  \n",
       "\n",
       "[865 rows x 4 columns]"
      ]
     },
     "execution_count": 14,
     "metadata": {},
     "output_type": "execute_result"
    }
   ],
   "source": [
    "aval_wide = aval.pivot_table(index='App',columns='Sentiment',values='Sentiment_Polarity',aggfunc='count').reset_index()\n",
    "aval_wide"
   ]
  },
  {
   "cell_type": "markdown",
   "id": "39cd9078",
   "metadata": {},
   "source": [
    "Veja que temos colunas em aval_wide que gostaríamos de trazer para apps, para isso vamos utilizar a função ```.merge()```."
   ]
  },
  {
   "cell_type": "code",
   "execution_count": 15,
   "id": "e8113fc8",
   "metadata": {},
   "outputs": [
    {
     "data": {
      "text/html": [
       "<div>\n",
       "<style scoped>\n",
       "    .dataframe tbody tr th:only-of-type {\n",
       "        vertical-align: middle;\n",
       "    }\n",
       "\n",
       "    .dataframe tbody tr th {\n",
       "        vertical-align: top;\n",
       "    }\n",
       "\n",
       "    .dataframe thead th {\n",
       "        text-align: right;\n",
       "    }\n",
       "</style>\n",
       "<table border=\"1\" class=\"dataframe\">\n",
       "  <thead>\n",
       "    <tr style=\"text-align: right;\">\n",
       "      <th></th>\n",
       "      <th>App</th>\n",
       "      <th>Category</th>\n",
       "      <th>Rating</th>\n",
       "      <th>Reviews</th>\n",
       "      <th>Size</th>\n",
       "      <th>Installs</th>\n",
       "      <th>Type</th>\n",
       "      <th>Price</th>\n",
       "      <th>Content Rating</th>\n",
       "      <th>Genres</th>\n",
       "      <th>Last Updated</th>\n",
       "      <th>Current Ver</th>\n",
       "      <th>Android Ver</th>\n",
       "      <th>Negative</th>\n",
       "      <th>Neutral</th>\n",
       "      <th>Positive</th>\n",
       "    </tr>\n",
       "  </thead>\n",
       "  <tbody>\n",
       "    <tr>\n",
       "      <th>0</th>\n",
       "      <td>10 Best Foods for You</td>\n",
       "      <td>HEALTH_AND_FITNESS</td>\n",
       "      <td>4.0</td>\n",
       "      <td>2490</td>\n",
       "      <td>3.8M</td>\n",
       "      <td>500,000+</td>\n",
       "      <td>Free</td>\n",
       "      <td>0</td>\n",
       "      <td>Everyone 10+</td>\n",
       "      <td>Health &amp; Fitness</td>\n",
       "      <td>February 17, 2017</td>\n",
       "      <td>1.9</td>\n",
       "      <td>2.3.3 and up</td>\n",
       "      <td>10.0</td>\n",
       "      <td>22.0</td>\n",
       "      <td>162.0</td>\n",
       "    </tr>\n",
       "    <tr>\n",
       "      <th>1</th>\n",
       "      <td>11st</td>\n",
       "      <td>SHOPPING</td>\n",
       "      <td>3.8</td>\n",
       "      <td>48732</td>\n",
       "      <td>20M</td>\n",
       "      <td>10,000,000+</td>\n",
       "      <td>Free</td>\n",
       "      <td>0</td>\n",
       "      <td>Everyone</td>\n",
       "      <td>Shopping</td>\n",
       "      <td>July 31, 2018</td>\n",
       "      <td>7.8.1</td>\n",
       "      <td>4.0 and up</td>\n",
       "      <td>7.0</td>\n",
       "      <td>10.0</td>\n",
       "      <td>23.0</td>\n",
       "    </tr>\n",
       "    <tr>\n",
       "      <th>2</th>\n",
       "      <td>1800 Contacts - Lens Store</td>\n",
       "      <td>MEDICAL</td>\n",
       "      <td>4.7</td>\n",
       "      <td>23160</td>\n",
       "      <td>26M</td>\n",
       "      <td>1,000,000+</td>\n",
       "      <td>Free</td>\n",
       "      <td>0</td>\n",
       "      <td>Everyone</td>\n",
       "      <td>Medical</td>\n",
       "      <td>July 27, 2018</td>\n",
       "      <td>7.4.1</td>\n",
       "      <td>5.0 and up</td>\n",
       "      <td>6.0</td>\n",
       "      <td>10.0</td>\n",
       "      <td>64.0</td>\n",
       "    </tr>\n",
       "    <tr>\n",
       "      <th>3</th>\n",
       "      <td>1LINE – One Line with One Touch</td>\n",
       "      <td>GAME</td>\n",
       "      <td>4.6</td>\n",
       "      <td>214878</td>\n",
       "      <td>10M</td>\n",
       "      <td>10,000,000+</td>\n",
       "      <td>Free</td>\n",
       "      <td>0</td>\n",
       "      <td>Everyone</td>\n",
       "      <td>Board</td>\n",
       "      <td>August 3, 2018</td>\n",
       "      <td>2.0.4</td>\n",
       "      <td>4.1 and up</td>\n",
       "      <td>8.0</td>\n",
       "      <td>3.0</td>\n",
       "      <td>27.0</td>\n",
       "    </tr>\n",
       "    <tr>\n",
       "      <th>4</th>\n",
       "      <td>2018Emoji Keyboard 😂 Emoticons Lite -sticker&amp;gif</td>\n",
       "      <td>PERSONALIZATION</td>\n",
       "      <td>4.2</td>\n",
       "      <td>115773</td>\n",
       "      <td>Varies with device</td>\n",
       "      <td>10,000,000+</td>\n",
       "      <td>Free</td>\n",
       "      <td>0</td>\n",
       "      <td>Everyone</td>\n",
       "      <td>Personalization</td>\n",
       "      <td>May 22, 2018</td>\n",
       "      <td>Varies with device</td>\n",
       "      <td>4.1 and up</td>\n",
       "      <td>1.0</td>\n",
       "      <td>6.0</td>\n",
       "      <td>25.0</td>\n",
       "    </tr>\n",
       "  </tbody>\n",
       "</table>\n",
       "</div>"
      ],
      "text/plain": [
       "                                                App            Category  \\\n",
       "0                             10 Best Foods for You  HEALTH_AND_FITNESS   \n",
       "1                                              11st            SHOPPING   \n",
       "2                        1800 Contacts - Lens Store             MEDICAL   \n",
       "3                   1LINE – One Line with One Touch                GAME   \n",
       "4  2018Emoji Keyboard 😂 Emoticons Lite -sticker&gif     PERSONALIZATION   \n",
       "\n",
       "   Rating Reviews                Size     Installs  Type Price Content Rating  \\\n",
       "0     4.0    2490                3.8M     500,000+  Free     0   Everyone 10+   \n",
       "1     3.8   48732                 20M  10,000,000+  Free     0       Everyone   \n",
       "2     4.7   23160                 26M   1,000,000+  Free     0       Everyone   \n",
       "3     4.6  214878                 10M  10,000,000+  Free     0       Everyone   \n",
       "4     4.2  115773  Varies with device  10,000,000+  Free     0       Everyone   \n",
       "\n",
       "             Genres       Last Updated         Current Ver   Android Ver  \\\n",
       "0  Health & Fitness  February 17, 2017                 1.9  2.3.3 and up   \n",
       "1          Shopping      July 31, 2018               7.8.1    4.0 and up   \n",
       "2           Medical      July 27, 2018               7.4.1    5.0 and up   \n",
       "3             Board     August 3, 2018               2.0.4    4.1 and up   \n",
       "4   Personalization       May 22, 2018  Varies with device    4.1 and up   \n",
       "\n",
       "   Negative  Neutral  Positive  \n",
       "0      10.0     22.0     162.0  \n",
       "1       7.0     10.0      23.0  \n",
       "2       6.0     10.0      64.0  \n",
       "3       8.0      3.0      27.0  \n",
       "4       1.0      6.0      25.0  "
      ]
     },
     "execution_count": 15,
     "metadata": {},
     "output_type": "execute_result"
    }
   ],
   "source": [
    "apps_extended = apps.merge(aval_wide,on='App',how='inner')\n",
    "apps_extended.head()"
   ]
  },
  {
   "cell_type": "markdown",
   "id": "aed31e09",
   "metadata": {},
   "source": [
    "O comportamento 'inner' traz somente aqueles apps que estão nos dois datasets. Outros comportamentos:\n",
    "\n",
    "![merge](imgs/merge.png)\n",
    "\n",
    "<br>\n",
    "\n",
    "![comportamentos](https://miro.medium.com/max/713/1*7a9Tzz6z8H6Cy7PRhHiJGQ.png)"
   ]
  },
  {
   "cell_type": "code",
   "execution_count": 16,
   "id": "45738c92",
   "metadata": {},
   "outputs": [
    {
     "data": {
      "text/html": [
       "<div>\n",
       "<style scoped>\n",
       "    .dataframe tbody tr th:only-of-type {\n",
       "        vertical-align: middle;\n",
       "    }\n",
       "\n",
       "    .dataframe tbody tr th {\n",
       "        vertical-align: top;\n",
       "    }\n",
       "\n",
       "    .dataframe thead th {\n",
       "        text-align: right;\n",
       "    }\n",
       "</style>\n",
       "<table border=\"1\" class=\"dataframe\">\n",
       "  <thead>\n",
       "    <tr style=\"text-align: right;\">\n",
       "      <th></th>\n",
       "      <th>Positive</th>\n",
       "    </tr>\n",
       "    <tr>\n",
       "      <th>Category</th>\n",
       "      <th></th>\n",
       "    </tr>\n",
       "  </thead>\n",
       "  <tbody>\n",
       "    <tr>\n",
       "      <th>GAME</th>\n",
       "      <td>3358.0</td>\n",
       "    </tr>\n",
       "    <tr>\n",
       "      <th>FAMILY</th>\n",
       "      <td>2206.0</td>\n",
       "    </tr>\n",
       "    <tr>\n",
       "      <th>HEALTH_AND_FITNESS</th>\n",
       "      <td>1754.0</td>\n",
       "    </tr>\n",
       "  </tbody>\n",
       "</table>\n",
       "</div>"
      ],
      "text/plain": [
       "                    Positive\n",
       "Category                    \n",
       "GAME                  3358.0\n",
       "FAMILY                2206.0\n",
       "HEALTH_AND_FITNESS    1754.0"
      ]
     },
     "execution_count": 16,
     "metadata": {},
     "output_type": "execute_result"
    }
   ],
   "source": [
    "maior_quantidade_de_pos = apps_extended[['Category','Positive']].groupby('Category').sum().nlargest(3,'Positive')\n",
    "maior_quantidade_de_pos"
   ]
  },
  {
   "cell_type": "code",
   "execution_count": 17,
   "id": "fdfdc591",
   "metadata": {},
   "outputs": [],
   "source": [
    "data = apps_extended[['Category','Rating','Positive']]\n",
    "data = data[data.Category.isin(maior_quantidade_de_pos.index)]"
   ]
  },
  {
   "cell_type": "code",
   "execution_count": 19,
   "id": "4e8c5620",
   "metadata": {},
   "outputs": [
    {
     "data": {
      "image/png": "[encoded data removed]",
      "text/plain": [
       "<Figure size 1080x360 with 3 Axes>"
      ]
     },
     "metadata": {
      "needs_background": "light"
     },
     "output_type": "display_data"
    }
   ],
   "source": [
    "from src.minhas_funcs import plot_lm\n",
    "plot_lm(data)"
   ]
  },
  {
   "cell_type": "code",
   "execution_count": 30,
   "id": "f1989c4f",
   "metadata": {},
   "outputs": [
    {
     "name": "stderr",
     "output_type": "stream",
     "text": [
      "100%|██████████| 20/20 [00:05<00:00,  3.63it/s]\n"
     ]
    }
   ],
   "source": [
    "## fazendo download dos dados\n",
    "import urllib\n",
    "from tqdm import tqdm\n",
    "for ano in tqdm(range(2000,2019)):\n",
    "    urllib.request.urlretrieve(f\"http://www.anp.gov.br/arquivos/dadosabertos/vc/vendas-gasolinac-municipio-{ano}.csv\", f\"data/gasolina/gasolina_{ano}.csv\")"
   ]
  }
 ],
 "metadata": {
  "kernelspec": {
   "display_name": "Python 3",
   "language": "python",
   "name": "python3"
  },
  "language_info": {
   "codemirror_mode": {
    "name": "ipython",
    "version": 3
   },
   "file_extension": ".py",
   "mimetype": "text/x-python",
   "name": "python",
   "nbconvert_exporter": "python",
   "pygments_lexer": "ipython3",
   "version": "3.8.5"
  }
 },
 "nbformat": 4,
 "nbformat_minor": 5
}
