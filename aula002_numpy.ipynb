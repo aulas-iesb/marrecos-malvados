{
 "cells": [
  {
   "cell_type": "markdown",
   "id": "8db9ecc0",
   "metadata": {},
   "source": [
    "# Numpy\n",
    "___\n",
    "\n",
    "Numpy (*numeric python*) é uma biblioteca usada principlamente para operações com ```arrays```. Arrays são como listas, mas que permitem uma série de operações mais complexas e que estas sejam feitas elemento a elemento eliminando a necessidade de loops no nosso código. Ela é a principal biblioteca utilizada por outras bibliotecas para lidar com dados, mais notoriamente o scikit-learn e o pandas trabalham com arrays a todo momento. Além disso, o numpy possui um conjunto vasto de funções para algebra linear, estatística e operações com matrizes.\n",
    "\n",
    "Vamos iniciar vendo o quanto um array pode ser mais poderoso que uma lista."
   ]
  },
  {
   "cell_type": "code",
   "execution_count": 7,
   "id": "0bf8f6ed",
   "metadata": {},
   "outputs": [],
   "source": [
    "lista_alturas = [1.4, 1.57, 1.87, 1.77, 1.71, 1.69, 1.93, 1.55]\n",
    "lista_pesos = [55, 65, 87, 90, 78, 65, 57, 60]"
   ]
  },
  {
   "cell_type": "code",
   "execution_count": 8,
   "id": "01634345",
   "metadata": {},
   "outputs": [
    {
     "data": {
      "text/plain": [
       "[28.061224489795922,\n",
       " 26.370238143535232,\n",
       " 24.879178701135288,\n",
       " 28.72737719046251,\n",
       " 26.674874320303687,\n",
       " 22.758306781975424,\n",
       " 15.302424226153724,\n",
       " 24.97398543184183]"
      ]
     },
     "execution_count": 8,
     "metadata": {},
     "output_type": "execute_result"
    }
   ],
   "source": [
    "## calculando IMC\n",
    "\n",
    "[peso/(altura**2) for peso, altura in zip(lista_pesos,lista_alturas)]"
   ]
  },
  {
   "cell_type": "code",
   "execution_count": 9,
   "id": "a731ca1b",
   "metadata": {},
   "outputs": [
    {
     "ename": "TypeError",
     "evalue": "unsupported operand type(s) for ** or pow(): 'list' and 'int'",
     "output_type": "error",
     "traceback": [
      "\u001b[0;31m---------------------------------------------------------------------------\u001b[0m",
      "\u001b[0;31mTypeError\u001b[0m                                 Traceback (most recent call last)",
      "\u001b[0;32m<ipython-input-9-505157c43a78>\u001b[0m in \u001b[0;36m<module>\u001b[0;34m\u001b[0m\n\u001b[0;32m----> 1\u001b[0;31m \u001b[0mlista_alturas\u001b[0m \u001b[0;34m/\u001b[0m \u001b[0;34m(\u001b[0m\u001b[0mlista_pesos\u001b[0m\u001b[0;34m**\u001b[0m\u001b[0;36m2\u001b[0m\u001b[0;34m)\u001b[0m\u001b[0;34m\u001b[0m\u001b[0;34m\u001b[0m\u001b[0m\n\u001b[0m",
      "\u001b[0;31mTypeError\u001b[0m: unsupported operand type(s) for ** or pow(): 'list' and 'int'"
     ]
    }
   ],
   "source": [
    "lista_alturas / (lista_pesos**2)"
   ]
  },
  {
   "cell_type": "markdown",
   "id": "ea320931",
   "metadata": {},
   "source": [
    "É possível efetuar a mesma operação sem a necessidade de syntaxe adicionais que remetem a loops, basta utilizarmos ```arrays```. Para criar um array no numpy, basta utilizar a função ```.array()```."
   ]
  },
  {
   "cell_type": "code",
   "execution_count": 10,
   "id": "b2749c70",
   "metadata": {},
   "outputs": [],
   "source": [
    "import numpy as np"
   ]
  },
  {
   "cell_type": "code",
   "execution_count": 11,
   "id": "8431cc62",
   "metadata": {},
   "outputs": [],
   "source": [
    "## criando os arrays\n",
    "\n",
    "pesos = np.array(lista_pesos)\n",
    "alturas = np.array(lista_alturas)"
   ]
  },
  {
   "cell_type": "code",
   "execution_count": 12,
   "id": "349bddcd",
   "metadata": {},
   "outputs": [
    {
     "data": {
      "text/plain": [
       "numpy.ndarray"
      ]
     },
     "execution_count": 12,
     "metadata": {},
     "output_type": "execute_result"
    }
   ],
   "source": [
    "## tipo\n",
    "\n",
    "type(pesos)"
   ]
  },
  {
   "cell_type": "code",
   "execution_count": 13,
   "id": "070ec986",
   "metadata": {},
   "outputs": [
    {
     "data": {
      "text/plain": [
       "array([55, 65, 87, 90, 78, 65, 57, 60])"
      ]
     },
     "execution_count": 13,
     "metadata": {},
     "output_type": "execute_result"
    }
   ],
   "source": [
    "pesos"
   ]
  },
  {
   "cell_type": "code",
   "execution_count": 14,
   "id": "e9df10e7",
   "metadata": {},
   "outputs": [
    {
     "data": {
      "text/plain": [
       "array([28.06122449, 26.37023814, 24.8791787 , 28.72737719, 26.67487432,\n",
       "       22.75830678, 15.30242423, 24.97398543])"
      ]
     },
     "execution_count": 14,
     "metadata": {},
     "output_type": "execute_result"
    }
   ],
   "source": [
    "imcs = pesos / (alturas**2)\n",
    "imcs"
   ]
  },
  {
   "cell_type": "markdown",
   "id": "581d0965",
   "metadata": {},
   "source": [
    "Perceba que o próprio numpy já se encarregou de fazer as operações elemento a elemento de cada array e como resultado nos foi dado também um array."
   ]
  },
  {
   "cell_type": "code",
   "execution_count": 19,
   "id": "4036c3a9",
   "metadata": {},
   "outputs": [
    {
     "data": {
      "text/plain": [
       "[28.061224489795922,\n",
       " 26.370238143535232,\n",
       " 24.879178701135288,\n",
       " 28.72737719046251,\n",
       " 26.674874320303687,\n",
       " 22.758306781975424,\n",
       " 15.302424226153724,\n",
       " 24.97398543184183]"
      ]
     },
     "execution_count": 19,
     "metadata": {},
     "output_type": "execute_result"
    }
   ],
   "source": [
    "[peso/(altura**2) for peso, altura in zip(lista_pesos,lista_alturas)]"
   ]
  },
  {
   "cell_type": "code",
   "execution_count": 20,
   "id": "77dce81a",
   "metadata": {},
   "outputs": [
    {
     "data": {
      "text/plain": [
       "array([28.06122449, 26.37023814, 24.8791787 , 28.72737719, 26.67487432,\n",
       "       22.75830678, 15.30242423, 24.97398543])"
      ]
     },
     "execution_count": 20,
     "metadata": {},
     "output_type": "execute_result"
    }
   ],
   "source": [
    "pesos / (alturas**2)"
   ]
  },
  {
   "cell_type": "markdown",
   "id": "38507a6d",
   "metadata": {},
   "source": [
    "O numpy é rápido! Mas ele funciona bem porque assume que todos os dados em seus arrays tem o mesmo tipo. Se você tentar criar um array com vários tipos de dados é provável que o numpy transforme todos os elementos em strings."
   ]
  },
  {
   "cell_type": "markdown",
   "id": "687080da",
   "metadata": {},
   "source": [
    "Todos os arrays possuem características e funções que são importantes em situações do dia-a-dia."
   ]
  },
  {
   "cell_type": "code",
   "execution_count": 21,
   "id": "c68abd59",
   "metadata": {},
   "outputs": [
    {
     "data": {
      "text/plain": [
       "8"
      ]
     },
     "execution_count": 21,
     "metadata": {},
     "output_type": "execute_result"
    }
   ],
   "source": [
    "## size nos dá a quantidade de elementos dentro de um array\n",
    "\n",
    "pesos.size"
   ]
  },
  {
   "cell_type": "code",
   "execution_count": 22,
   "id": "da9943cb",
   "metadata": {},
   "outputs": [
    {
     "data": {
      "text/plain": [
       "(8,)"
      ]
     },
     "execution_count": 22,
     "metadata": {},
     "output_type": "execute_result"
    }
   ],
   "source": [
    "## shape nos dá o formato de um array, nesta situação o array possui somente uma dimensão com 8 valores\n",
    "\n",
    "pesos.shape"
   ]
  },
  {
   "cell_type": "code",
   "execution_count": 23,
   "id": "1ca1407c",
   "metadata": {},
   "outputs": [
    {
     "data": {
      "text/plain": [
       "55"
      ]
     },
     "execution_count": 23,
     "metadata": {},
     "output_type": "execute_result"
    }
   ],
   "source": [
    "## min nos dá o valor mínimo dentro do array\n",
    "\n",
    "pesos.min()"
   ]
  },
  {
   "cell_type": "code",
   "execution_count": 24,
   "id": "864452a0",
   "metadata": {},
   "outputs": [
    {
     "data": {
      "text/plain": [
       "90"
      ]
     },
     "execution_count": 24,
     "metadata": {},
     "output_type": "execute_result"
    }
   ],
   "source": [
    "## max nos dá o valor máximo dentro do array\n",
    "\n",
    "pesos.max()"
   ]
  },
  {
   "cell_type": "code",
   "execution_count": 25,
   "id": "507c037d",
   "metadata": {},
   "outputs": [
    {
     "data": {
      "text/plain": [
       "0"
      ]
     },
     "execution_count": 25,
     "metadata": {},
     "output_type": "execute_result"
    }
   ],
   "source": [
    "## argmin nos dá a posição do valor mínimo\n",
    "\n",
    "pesos.argmin()"
   ]
  },
  {
   "cell_type": "code",
   "execution_count": 26,
   "id": "335c4c06",
   "metadata": {},
   "outputs": [
    {
     "data": {
      "text/plain": [
       "3"
      ]
     },
     "execution_count": 26,
     "metadata": {},
     "output_type": "execute_result"
    }
   ],
   "source": [
    "## argmin nos dá a posição do valor máximo\n",
    "\n",
    "pesos.argmax()"
   ]
  },
  {
   "cell_type": "code",
   "execution_count": 27,
   "id": "1d4373a8",
   "metadata": {},
   "outputs": [
    {
     "data": {
      "text/plain": [
       "dtype('int64')"
      ]
     },
     "execution_count": 27,
     "metadata": {},
     "output_type": "execute_result"
    }
   ],
   "source": [
    "## dtype nos dá o tipo do dado que está contido no array\n",
    "\n",
    "pesos.dtype"
   ]
  },
  {
   "cell_type": "markdown",
   "id": "5a0d1d39",
   "metadata": {},
   "source": [
    "# Operações com arrays\n",
    "___\n",
    "\n",
    "O comportamento das operações básicas são diferentes de acordo com o tipo de dado utilizado, por exemplo, operações com listas tem um comportamento diferentes de operações com arrays."
   ]
  },
  {
   "cell_type": "code",
   "execution_count": 28,
   "id": "26dd1820",
   "metadata": {},
   "outputs": [
    {
     "data": {
      "text/plain": [
       "[1, 2, 3, 4, 5, 6, 7, 8]"
      ]
     },
     "execution_count": 28,
     "metadata": {},
     "output_type": "execute_result"
    }
   ],
   "source": [
    "## o operador '+' concatena listas\n",
    "ls  = [1,2,3,4]\n",
    "ls2 = [5,6,7,8]\n",
    "\n",
    "ls+ls2"
   ]
  },
  {
   "cell_type": "code",
   "execution_count": 29,
   "id": "d9bc8173",
   "metadata": {},
   "outputs": [
    {
     "data": {
      "text/plain": [
       "array([ 6,  8, 10, 12])"
      ]
     },
     "execution_count": 29,
     "metadata": {},
     "output_type": "execute_result"
    }
   ],
   "source": [
    "## o operador '+' soma os valores de dois arrays\n",
    "\n",
    "arr  = np.array(ls)\n",
    "arr2 = np.array(ls2)\n",
    "\n",
    "arr+arr2"
   ]
  },
  {
   "cell_type": "code",
   "execution_count": 30,
   "id": "59b3c4b1",
   "metadata": {},
   "outputs": [
    {
     "data": {
      "text/plain": [
       "array([-4, -4, -4, -4])"
      ]
     },
     "execution_count": 30,
     "metadata": {},
     "output_type": "execute_result"
    }
   ],
   "source": [
    "## subtração\n",
    "\n",
    "arr-arr2"
   ]
  },
  {
   "cell_type": "code",
   "execution_count": 31,
   "id": "8a55ced7",
   "metadata": {},
   "outputs": [
    {
     "data": {
      "text/plain": [
       "array([ 5, 12, 21, 32])"
      ]
     },
     "execution_count": 31,
     "metadata": {},
     "output_type": "execute_result"
    }
   ],
   "source": [
    "## multiplicação\n",
    "\n",
    "arr*arr2"
   ]
  },
  {
   "cell_type": "code",
   "execution_count": 32,
   "id": "de9fd73e",
   "metadata": {},
   "outputs": [
    {
     "data": {
      "text/plain": [
       "array([    1,    64,  2187, 65536])"
      ]
     },
     "execution_count": 32,
     "metadata": {},
     "output_type": "execute_result"
    }
   ],
   "source": [
    "## potenciação\n",
    "\n",
    "arr**arr2"
   ]
  },
  {
   "cell_type": "code",
   "execution_count": 33,
   "id": "401c4c47",
   "metadata": {},
   "outputs": [],
   "source": [
    "## incremento\n",
    "\n",
    "arr += arr2"
   ]
  },
  {
   "cell_type": "markdown",
   "id": "4da4c003",
   "metadata": {},
   "source": [
    "Também é possível mesclar operações de arrays com valores inteiros."
   ]
  },
  {
   "cell_type": "code",
   "execution_count": 34,
   "id": "dd8bfbab",
   "metadata": {},
   "outputs": [
    {
     "data": {
      "text/plain": [
       "array([10, 12, 14, 16])"
      ]
     },
     "execution_count": 34,
     "metadata": {},
     "output_type": "execute_result"
    }
   ],
   "source": [
    "arr2*2"
   ]
  },
  {
   "cell_type": "code",
   "execution_count": 35,
   "id": "ab2647b7",
   "metadata": {},
   "outputs": [
    {
     "data": {
      "text/plain": [
       "array([25, 36, 49, 64])"
      ]
     },
     "execution_count": 35,
     "metadata": {},
     "output_type": "execute_result"
    }
   ],
   "source": [
    "arr2**2"
   ]
  },
  {
   "cell_type": "code",
   "execution_count": 36,
   "id": "d615941c",
   "metadata": {},
   "outputs": [
    {
     "data": {
      "text/plain": [
       "array([0.5, 0.6, 0.7, 0.8])"
      ]
     },
     "execution_count": 36,
     "metadata": {},
     "output_type": "execute_result"
    }
   ],
   "source": [
    "arr2/10"
   ]
  },
  {
   "cell_type": "markdown",
   "id": "3489d329",
   "metadata": {},
   "source": [
    "# Indexação de arrays\n",
    "___\n",
    "\n",
    "Indexar arrays é tão simples quanto indexar listas, porém arrays também recebem outros arrays booleanos para seleção e filtragem de vários valores ao mesmo tempo."
   ]
  },
  {
   "cell_type": "code",
   "execution_count": 37,
   "id": "0b4dfafd",
   "metadata": {},
   "outputs": [
    {
     "data": {
      "text/plain": [
       "array([28.06122449, 26.37023814, 24.8791787 , 28.72737719, 26.67487432,\n",
       "       22.75830678, 15.30242423, 24.97398543])"
      ]
     },
     "execution_count": 37,
     "metadata": {},
     "output_type": "execute_result"
    }
   ],
   "source": [
    "imcs"
   ]
  },
  {
   "cell_type": "code",
   "execution_count": 38,
   "id": "eaf5a331",
   "metadata": {},
   "outputs": [
    {
     "data": {
      "text/plain": [
       "24.879178701135288"
      ]
     },
     "execution_count": 38,
     "metadata": {},
     "output_type": "execute_result"
    }
   ],
   "source": [
    "imcs[2]"
   ]
  },
  {
   "cell_type": "markdown",
   "id": "11975363",
   "metadata": {},
   "source": [
    "Caso seja necessário selecionar somente os valores abaixo de 24 é possível utilizar arrays booleanos para isso, basta criar uma condição lógica e aplicar o resultado ao indexador do array original."
   ]
  },
  {
   "cell_type": "code",
   "execution_count": 39,
   "id": "2d72a9f0",
   "metadata": {},
   "outputs": [
    {
     "data": {
      "text/plain": [
       "array([False, False, False, False, False,  True,  True, False])"
      ]
     },
     "execution_count": 39,
     "metadata": {},
     "output_type": "execute_result"
    }
   ],
   "source": [
    "## criando a condição lógica\n",
    "\n",
    "imcs < 24"
   ]
  },
  {
   "cell_type": "code",
   "execution_count": 40,
   "id": "979c6b07",
   "metadata": {},
   "outputs": [
    {
     "data": {
      "text/plain": [
       "array([22.75830678, 15.30242423])"
      ]
     },
     "execution_count": 40,
     "metadata": {},
     "output_type": "execute_result"
    }
   ],
   "source": [
    "## passando ao array original\n",
    "\n",
    "imcs[imcs<24]"
   ]
  },
  {
   "cell_type": "markdown",
   "id": "c3e5d4c3",
   "metadata": {},
   "source": [
    "Existem somente dois imcs abaixo de 24, logo o array com o resultado da condição lógica possue somente dois valores ```True``` nas suas respectivas posições."
   ]
  },
  {
   "cell_type": "markdown",
   "id": "bda96665",
   "metadata": {},
   "source": [
    "# Arrays de duas dimensões\n",
    "___\n",
    "\n",
    "Arrays podem possuir mais de uma dimensão, isso significa que podem ter mais de um conjunto de informações. Até agora vimos alturas e pesos divididos em 2 arrays, cada peso e altura está associado a uma pessoa, porém, é possivel criar somente um array que demonstre as duas dimensões (pessoas e caractéristicas)"
   ]
  },
  {
   "cell_type": "code",
   "execution_count": 41,
   "id": "93aa5f4a",
   "metadata": {},
   "outputs": [
    {
     "data": {
      "text/plain": [
       "array([55, 65, 87, 90, 78, 65, 57, 60])"
      ]
     },
     "execution_count": 41,
     "metadata": {},
     "output_type": "execute_result"
    }
   ],
   "source": [
    "pesos"
   ]
  },
  {
   "cell_type": "code",
   "execution_count": 42,
   "id": "0705534e",
   "metadata": {},
   "outputs": [
    {
     "data": {
      "text/plain": [
       "array([1.4 , 1.57, 1.87, 1.77, 1.71, 1.69, 1.93, 1.55])"
      ]
     },
     "execution_count": 42,
     "metadata": {},
     "output_type": "execute_result"
    }
   ],
   "source": [
    "alturas"
   ]
  },
  {
   "cell_type": "code",
   "execution_count": 43,
   "id": "ef75da7e",
   "metadata": {},
   "outputs": [],
   "source": [
    "novo_arr = np.array([[55.  ,  1.4 ],\n",
    "                    [65.  ,  1.57],\n",
    "                    [87.  ,  1.87],\n",
    "                    [90.  ,  1.77],\n",
    "                    [78.  ,  1.71],\n",
    "                    [65.  ,  1.69],\n",
    "                    [57.  ,  1.93],\n",
    "                    [60.  ,  1.55]])"
   ]
  },
  {
   "cell_type": "markdown",
   "id": "2e655bc2",
   "metadata": {},
   "source": [
    "Veja que nesse novo array mudadmos a forma de pensar e agora temos um array contendo pessoas na primeira dimensão e na segunda dimensão as características de peso e altura de cada uma das pessoas."
   ]
  },
  {
   "cell_type": "code",
   "execution_count": 44,
   "id": "ee37b56f",
   "metadata": {},
   "outputs": [
    {
     "data": {
      "text/plain": [
       "numpy.ndarray"
      ]
     },
     "execution_count": 44,
     "metadata": {},
     "output_type": "execute_result"
    }
   ],
   "source": [
    "type(novo_arr)"
   ]
  },
  {
   "cell_type": "code",
   "execution_count": 45,
   "id": "afd9bc54",
   "metadata": {},
   "outputs": [
    {
     "data": {
      "text/plain": [
       "16"
      ]
     },
     "execution_count": 45,
     "metadata": {},
     "output_type": "execute_result"
    }
   ],
   "source": [
    "novo_arr.size"
   ]
  },
  {
   "cell_type": "code",
   "execution_count": 46,
   "id": "cc696b12",
   "metadata": {},
   "outputs": [
    {
     "data": {
      "text/plain": [
       "(8, 2)"
      ]
     },
     "execution_count": 46,
     "metadata": {},
     "output_type": "execute_result"
    }
   ],
   "source": [
    "novo_arr.shape"
   ]
  },
  {
   "cell_type": "markdown",
   "id": "ab243639",
   "metadata": {},
   "source": [
    "O array ```novo_arr``` possui um shape (8,2), ou seja, 16 de tamanho (size). É possível modificar o shape desse array para qualquer outro shape que também resulte em um size de 16. Para isso, bata utilizar a função ```reshape```."
   ]
  },
  {
   "cell_type": "code",
   "execution_count": 67,
   "id": "bd43b8ce",
   "metadata": {},
   "outputs": [
    {
     "data": {
      "text/plain": [
       "array([[55.  ,  1.4 , 65.  ,  1.57],\n",
       "       [87.  ,  1.87, 90.  ,  1.77],\n",
       "       [78.  ,  1.71, 65.  ,  1.69],\n",
       "       [57.  ,  1.93, 60.  ,  1.55]])"
      ]
     },
     "execution_count": 67,
     "metadata": {},
     "output_type": "execute_result"
    }
   ],
   "source": [
    "## (8,2) -> (4,4)\n",
    "\n",
    "novo_arr.reshape(4,4)"
   ]
  },
  {
   "cell_type": "code",
   "execution_count": 69,
   "id": "fbae4d0e",
   "metadata": {},
   "outputs": [
    {
     "data": {
      "text/plain": [
       "array([[55.  ,  1.4 , 65.  ,  1.57, 87.  ,  1.87, 90.  ,  1.77],\n",
       "       [78.  ,  1.71, 65.  ,  1.69, 57.  ,  1.93, 60.  ,  1.55]])"
      ]
     },
     "execution_count": 69,
     "metadata": {},
     "output_type": "execute_result"
    }
   ],
   "source": [
    "## (8,2) -> (2,8)\n",
    "\n",
    "novo_arr.reshape(2,8)"
   ]
  },
  {
   "cell_type": "code",
   "execution_count": 72,
   "id": "aa19d6df",
   "metadata": {},
   "outputs": [
    {
     "data": {
      "text/plain": [
       "array([[55.  ,  1.4 , 65.  ,  1.57, 87.  ,  1.87, 90.  ,  1.77, 78.  ,\n",
       "         1.71, 65.  ,  1.69, 57.  ,  1.93, 60.  ,  1.55]])"
      ]
     },
     "execution_count": 72,
     "metadata": {},
     "output_type": "execute_result"
    }
   ],
   "source": [
    "## (8,2) -> (1,16)\n",
    "\n",
    "novo_arr.reshape(1,16)"
   ]
  },
  {
   "cell_type": "markdown",
   "id": "2669cf7d",
   "metadata": {},
   "source": [
    "Também é possível utilizar o valor ```-1``` em alguma das dimensões na operação de reshape para \"completar\" o array até um size aceitável."
   ]
  },
  {
   "cell_type": "code",
   "execution_count": 77,
   "id": "d2068de8",
   "metadata": {},
   "outputs": [
    {
     "data": {
      "text/plain": [
       "array([[55.  ,  1.4 , 65.  ,  1.57],\n",
       "       [87.  ,  1.87, 90.  ,  1.77],\n",
       "       [78.  ,  1.71, 65.  ,  1.69],\n",
       "       [57.  ,  1.93, 60.  ,  1.55]])"
      ]
     },
     "execution_count": 77,
     "metadata": {},
     "output_type": "execute_result"
    }
   ],
   "source": [
    "novo_arr.reshape(-1,4)"
   ]
  },
  {
   "cell_type": "markdown",
   "id": "cd067622",
   "metadata": {},
   "source": [
    "O ```novo_arr``` possui agora duas dimensões: a primeira possui 8 elementos e a segunda possui 2 elementos. O que significa que temos um tamanho (size) de 16. Também é comum utilizar esse formato de array para representar ```matrizes```.\n",
    "\n",
    "Executar a indexação e fatiamento de arrays de duas dimensões é um pouco mais complexo, pois é necessário enviar ao indexador ```[]``` um índice para uma das dimensões, ou seja, duas dimensões, dois índices. Para exemplificar, veja o array ```jogadores``` contendo a altura e peso dos jogadores da NBA."
   ]
  },
  {
   "cell_type": "code",
   "execution_count": 78,
   "id": "b4172fbc",
   "metadata": {},
   "outputs": [
    {
     "data": {
      "text/plain": [
       "array([[213.36    , 106.59412 ],\n",
       "       [210.82    , 106.59412 ],\n",
       "       [208.28    , 106.59412 ],\n",
       "       ...,\n",
       "       [195.58    ,  97.52228 ],\n",
       "       [203.2     ,  98.883056],\n",
       "       [203.2     , 106.59412 ]])"
      ]
     },
     "execution_count": 78,
     "metadata": {},
     "output_type": "execute_result"
    }
   ],
   "source": [
    "jogadores = np.load('data/jogadores_nba.npy')\n",
    "jogadores"
   ]
  },
  {
   "cell_type": "code",
   "execution_count": 79,
   "id": "189f0b3b",
   "metadata": {},
   "outputs": [
    {
     "data": {
      "text/plain": [
       "23400"
      ]
     },
     "execution_count": 79,
     "metadata": {},
     "output_type": "execute_result"
    }
   ],
   "source": [
    "## verificando o tamanho do array jogadores\n",
    "\n",
    "jogadores.size"
   ]
  },
  {
   "cell_type": "code",
   "execution_count": 80,
   "id": "e473d172",
   "metadata": {},
   "outputs": [
    {
     "data": {
      "text/plain": [
       "(11700, 2)"
      ]
     },
     "execution_count": 80,
     "metadata": {},
     "output_type": "execute_result"
    }
   ],
   "source": [
    "## verificando o formato\n",
    "\n",
    "jogadores.shape"
   ]
  },
  {
   "cell_type": "markdown",
   "id": "788acf98",
   "metadata": {},
   "source": [
    "Existem nesse array, informações de duas características (altura e peso) de mais de 11700 atletas. Para selecionar somente a altura do segundo atleta do array é necessário utilizar uma indexação complexa."
   ]
  },
  {
   "cell_type": "code",
   "execution_count": 81,
   "id": "3dadc39b",
   "metadata": {},
   "outputs": [
    {
     "data": {
      "text/plain": [
       "106.59412"
      ]
     },
     "execution_count": 81,
     "metadata": {},
     "output_type": "execute_result"
    }
   ],
   "source": [
    "jogadores[1,1]"
   ]
  },
  {
   "cell_type": "markdown",
   "id": "2254f54d",
   "metadata": {},
   "source": [
    "Acima selecionamos o índice desejado em cada uma das dimensões.O primeiro número 1 significa que gostaríamos de acessar as informações do segundo jogador, e o segundo número 1 significa que gostaríamos de acessar a segunda característica dele (peso). Também é possível utilizar o ```:``` para indicar todas as informações de uma determinada dimensão."
   ]
  },
  {
   "cell_type": "code",
   "execution_count": 82,
   "id": "b140cda5",
   "metadata": {},
   "outputs": [
    {
     "data": {
      "text/plain": [
       "array([213.36, 210.82, 208.28, ..., 195.58, 203.2 , 203.2 ])"
      ]
     },
     "execution_count": 82,
     "metadata": {},
     "output_type": "execute_result"
    }
   ],
   "source": [
    "## selecionando a altura de todos os jogadores\n",
    "\n",
    "jogadores[:,0]"
   ]
  },
  {
   "cell_type": "code",
   "execution_count": 83,
   "id": "0a922626",
   "metadata": {},
   "outputs": [
    {
     "data": {
      "text/plain": [
       "array([106.59412 , 106.59412 , 106.59412 , ...,  97.52228 ,  98.883056,\n",
       "       106.59412 ])"
      ]
     },
     "execution_count": 83,
     "metadata": {},
     "output_type": "execute_result"
    }
   ],
   "source": [
    "## selecionando o peso de todos os jogadores\n",
    "\n",
    "jogadores[:,1]"
   ]
  },
  {
   "cell_type": "markdown",
   "id": "7d7cc627",
   "metadata": {},
   "source": [
    "É possível criar também condições lógicas e aplica-las a cada uma das dimensões necessárias."
   ]
  },
  {
   "cell_type": "code",
   "execution_count": 84,
   "id": "52975a3b",
   "metadata": {},
   "outputs": [
    {
     "data": {
      "text/plain": [
       "array([[208.28    ,  99.79024 ],\n",
       "       [182.88    ,  81.64656 ],\n",
       "       [190.5     ,  83.91452 ],\n",
       "       ...,\n",
       "       [200.66    ,  99.79024 ],\n",
       "       [195.58    ,  97.52228 ],\n",
       "       [203.2     ,  98.883056]])"
      ]
     },
     "execution_count": 84,
     "metadata": {},
     "output_type": "execute_result"
    }
   ],
   "source": [
    "## selecionando jogadores que possuem um peso menor que 100 kilos\n",
    "\n",
    "jogadores[jogadores[:,1] < 100]"
   ]
  },
  {
   "cell_type": "code",
   "execution_count": 85,
   "id": "00acd7c1",
   "metadata": {},
   "outputs": [
    {
     "data": {
      "text/plain": [
       "array([[208.28    ,  99.79024 ],\n",
       "       [205.74    ,  99.79024 ],\n",
       "       [200.66    ,  95.25432 ],\n",
       "       ...,\n",
       "       [200.66    ,  92.98636 ],\n",
       "       [200.66    ,  99.79024 ],\n",
       "       [203.2     ,  98.883056]])"
      ]
     },
     "execution_count": 85,
     "metadata": {},
     "output_type": "execute_result"
    }
   ],
   "source": [
    "## selecionando jogadores que possuem altura maior que 200 e peso menor que 100 kilos\n",
    "\n",
    "jogadores[(jogadores[:,0] > 200) & (jogadores[:,1] < 100)]"
   ]
  },
  {
   "cell_type": "markdown",
   "id": "535234c9",
   "metadata": {},
   "source": [
    "Utilizando esse método de indexação também é possível executar operações."
   ]
  },
  {
   "cell_type": "code",
   "execution_count": 86,
   "id": "0e07d88b",
   "metadata": {},
   "outputs": [
    {
     "data": {
      "text/plain": [
       "array([[  7.0003416, 106.59412  ],\n",
       "       [  6.9170042, 106.59412  ],\n",
       "       [  6.8336668, 106.59412  ],\n",
       "       ...,\n",
       "       [  6.4169798,  97.52228  ],\n",
       "       [  6.666992 ,  98.883056 ],\n",
       "       [  6.666992 , 106.59412  ]])"
      ]
     },
     "execution_count": 86,
     "metadata": {},
     "output_type": "execute_result"
    }
   ],
   "source": [
    "## transformando as alturas de metros para pés\n",
    "\n",
    "jogadores[:,0] = (jogadores[:,0]/100)*3.281\n",
    "jogadores"
   ]
  },
  {
   "cell_type": "markdown",
   "id": "ea9a0510",
   "metadata": {},
   "source": [
    "# Funções estatísticas\n",
    "___\n",
    "\n",
    "Em seu dia-a-dia, um cientista de dados trabalho com vários conjuntos de milhares, milhões e até bilhões de observações, entender algumas características desses dados é de extrema importância para etapas inferenciais e descritivas. O numpy oferece um conjunto de funções estatísticas para nos ajudar a descrever melhor nossos conjuntos de dados."
   ]
  },
  {
   "cell_type": "code",
   "execution_count": 87,
   "id": "49323705",
   "metadata": {},
   "outputs": [
    {
     "data": {
      "text/plain": [
       "array([[213.36    , 106.59412 ],\n",
       "       [210.82    , 106.59412 ],\n",
       "       [208.28    , 106.59412 ],\n",
       "       ...,\n",
       "       [195.58    ,  97.52228 ],\n",
       "       [203.2     ,  98.883056],\n",
       "       [203.2     , 106.59412 ]])"
      ]
     },
     "execution_count": 87,
     "metadata": {},
     "output_type": "execute_result"
    }
   ],
   "source": [
    "jogadores = np.load('data/jogadores_nba.npy')\n",
    "jogadores"
   ]
  },
  {
   "cell_type": "code",
   "execution_count": 88,
   "id": "e112a3d0",
   "metadata": {},
   "outputs": [
    {
     "data": {
      "text/plain": [
       "200.72850085470085"
      ]
     },
     "execution_count": 88,
     "metadata": {},
     "output_type": "execute_result"
    }
   ],
   "source": [
    "## média\n",
    "\n",
    "np.mean(jogadores[:,0])"
   ]
  },
  {
   "cell_type": "code",
   "execution_count": 89,
   "id": "bf554611",
   "metadata": {},
   "outputs": [
    {
     "data": {
      "text/plain": [
       "200.72850085470085"
      ]
     },
     "execution_count": 89,
     "metadata": {},
     "output_type": "execute_result"
    }
   ],
   "source": [
    "## outra forma de calcular média\n",
    "\n",
    "jogadores[:,0].mean()"
   ]
  },
  {
   "cell_type": "code",
   "execution_count": 90,
   "id": "8bb95453",
   "metadata": {},
   "outputs": [
    {
     "data": {
      "text/plain": [
       "200.66"
      ]
     },
     "execution_count": 90,
     "metadata": {},
     "output_type": "execute_result"
    }
   ],
   "source": [
    "## mediana\n",
    "\n",
    "np.median(jogadores[:,0])"
   ]
  },
  {
   "cell_type": "code",
   "execution_count": 91,
   "id": "34ef28f4",
   "metadata": {},
   "outputs": [
    {
     "data": {
      "text/plain": [
       "array([[1.        , 0.82730131],\n",
       "       [0.82730131, 1.        ]])"
      ]
     },
     "execution_count": 91,
     "metadata": {},
     "output_type": "execute_result"
    }
   ],
   "source": [
    "## correlação\n",
    "\n",
    "np.corrcoef(jogadores[:,0],jogadores[:,1])"
   ]
  },
  {
   "cell_type": "code",
   "execution_count": 92,
   "id": "1fa6cda3",
   "metadata": {},
   "outputs": [
    {
     "data": {
      "text/plain": [
       "9.16943525418924"
      ]
     },
     "execution_count": 92,
     "metadata": {},
     "output_type": "execute_result"
    }
   ],
   "source": [
    "## desvio padrão\n",
    "\n",
    "jogadores[:,0].std()"
   ]
  },
  {
   "cell_type": "code",
   "execution_count": 93,
   "id": "550e990c",
   "metadata": {},
   "outputs": [
    {
     "data": {
      "text/plain": [
       "84.07854288076851"
      ]
     },
     "execution_count": 93,
     "metadata": {},
     "output_type": "execute_result"
    }
   ],
   "source": [
    "## variância\n",
    "\n",
    "jogadores[:,0].var()"
   ]
  }
 ],
 "metadata": {
  "kernelspec": {
   "display_name": "Python 3",
   "language": "python",
   "name": "python3"
  },
  "language_info": {
   "codemirror_mode": {
    "name": "ipython",
    "version": 3
   },
   "file_extension": ".py",
   "mimetype": "text/x-python",
   "name": "python",
   "nbconvert_exporter": "python",
   "pygments_lexer": "ipython3",
   "version": "3.8.5"
  }
 },
 "nbformat": 4,
 "nbformat_minor": 5
}
