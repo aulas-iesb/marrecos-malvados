{
 "cells": [
  {
   "cell_type": "markdown",
   "id": "c74dc8d0",
   "metadata": {},
   "source": [
    "# Numpy\n",
    "___\n",
    "\n",
    "Numpy (*numeric python*) é uma biblioteca usada principlamente para operações com ```arrays```. Arrays são como listas, mas que permitem uma série de operações mais complexas e que estas sejam feitas elemento a elemento eliminando a necessidade de loops no nosso código. Ela é a principal biblioteca utilizada por outras bibliotecas para lidar com dados, mais notoriamente o scikit-learn e o pandas trabalham com arrays a todo momento. Além disso, o numpy possui um conjunto vasto de funções para algebra linear, estatística e operações com matrizes.\n",
    "\n",
    "Vamos iniciar vendo o quanto um array pode ser mais poderoso que uma lista."
   ]
  },
  {
   "cell_type": "code",
   "execution_count": 4,
   "id": "353465b0",
   "metadata": {},
   "outputs": [],
   "source": [
    "lista_alturas = [1.4, 1.57, 1.87, 1.77, 1.71, 1.69, 1.93, 1.55]\n",
    "lista_pesos = [55, 65, 87, 90, 78, 65, 57, 60]"
   ]
  },
  {
   "cell_type": "code",
   "execution_count": 5,
   "id": "2e5504af",
   "metadata": {},
   "outputs": [
    {
     "data": {
      "text/plain": [
       "[28.061224489795922,\n",
       " 26.370238143535232,\n",
       " 24.879178701135288,\n",
       " 28.72737719046251,\n",
       " 26.674874320303687,\n",
       " 22.758306781975424,\n",
       " 15.302424226153724,\n",
       " 24.97398543184183]"
      ]
     },
     "execution_count": 5,
     "metadata": {},
     "output_type": "execute_result"
    }
   ],
   "source": [
    "## calculando IMC\n",
    "\n",
    "[peso/(altura**2) for peso, altura in zip(lista_pesos,lista_alturas)]"
   ]
  },
  {
   "cell_type": "code",
   "execution_count": 9,
   "id": "90b4e675",
   "metadata": {},
   "outputs": [
    {
     "data": {
      "text/plain": [
       "[28.061224489795922,\n",
       " 26.370238143535232,\n",
       " 24.879178701135288,\n",
       " 28.72737719046251,\n",
       " 26.674874320303687,\n",
       " 22.758306781975424,\n",
       " 15.302424226153724,\n",
       " 24.97398543184183]"
      ]
     },
     "execution_count": 9,
     "metadata": {},
     "output_type": "execute_result"
    }
   ],
   "source": [
    "imcs = []\n",
    "\n",
    "for peso,altura in zip(lista_pesos,lista_alturas):\n",
    "    imc = peso/(altura**2)\n",
    "    imcs.append(imc)\n",
    "\n",
    "imcs"
   ]
  },
  {
   "cell_type": "code",
   "execution_count": 10,
   "id": "e3a3a474",
   "metadata": {},
   "outputs": [
    {
     "ename": "TypeError",
     "evalue": "unsupported operand type(s) for ** or pow(): 'list' and 'int'",
     "output_type": "error",
     "traceback": [
      "\u001b[0;31m---------------------------------------------------------------------------\u001b[0m",
      "\u001b[0;31mTypeError\u001b[0m                                 Traceback (most recent call last)",
      "\u001b[0;32m<ipython-input-10-505157c43a78>\u001b[0m in \u001b[0;36m<module>\u001b[0;34m\u001b[0m\n\u001b[0;32m----> 1\u001b[0;31m \u001b[0mlista_alturas\u001b[0m \u001b[0;34m/\u001b[0m \u001b[0;34m(\u001b[0m\u001b[0mlista_pesos\u001b[0m\u001b[0;34m**\u001b[0m\u001b[0;36m2\u001b[0m\u001b[0;34m)\u001b[0m\u001b[0;34m\u001b[0m\u001b[0;34m\u001b[0m\u001b[0m\n\u001b[0m",
      "\u001b[0;31mTypeError\u001b[0m: unsupported operand type(s) for ** or pow(): 'list' and 'int'"
     ]
    }
   ],
   "source": [
    "lista_alturas / (lista_pesos**2)"
   ]
  },
  {
   "cell_type": "markdown",
   "id": "eac460b3",
   "metadata": {},
   "source": [
    "É possível efetuar a mesma operação sem a necessidade de syntaxe adicionais que remetem a loops, basta utilizarmos ```arrays```. Para criar um array no numpy, basta utilizar a função ```.array()```."
   ]
  },
  {
   "cell_type": "code",
   "execution_count": 15,
   "id": "ba6a5d9a",
   "metadata": {},
   "outputs": [],
   "source": [
    "import numpy as np"
   ]
  },
  {
   "cell_type": "code",
   "execution_count": 16,
   "id": "53ef26dd",
   "metadata": {},
   "outputs": [],
   "source": [
    "## criando os arrays\n",
    "\n",
    "pesos = np.array(lista_pesos)\n",
    "alturas = np.array(lista_alturas)"
   ]
  },
  {
   "cell_type": "code",
   "execution_count": 17,
   "id": "8d93eeed",
   "metadata": {},
   "outputs": [
    {
     "data": {
      "text/plain": [
       "array([55, 65, 87, 90, 78, 65, 57, 60])"
      ]
     },
     "execution_count": 17,
     "metadata": {},
     "output_type": "execute_result"
    }
   ],
   "source": [
    "pesos"
   ]
  },
  {
   "cell_type": "code",
   "execution_count": 19,
   "id": "468ed05c",
   "metadata": {},
   "outputs": [
    {
     "data": {
      "text/plain": [
       "array([1.4 , 1.57, 1.87, 1.77, 1.71, 1.69, 1.93, 1.55])"
      ]
     },
     "execution_count": 19,
     "metadata": {},
     "output_type": "execute_result"
    }
   ],
   "source": [
    "alturas"
   ]
  },
  {
   "cell_type": "code",
   "execution_count": 20,
   "id": "1ce08d9f",
   "metadata": {},
   "outputs": [
    {
     "data": {
      "text/plain": [
       "numpy.ndarray"
      ]
     },
     "execution_count": 20,
     "metadata": {},
     "output_type": "execute_result"
    }
   ],
   "source": [
    "## tipo\n",
    "\n",
    "type(pesos)"
   ]
  },
  {
   "cell_type": "code",
   "execution_count": 21,
   "id": "40c0a7b1",
   "metadata": {},
   "outputs": [
    {
     "data": {
      "text/plain": [
       "array([28.06122449, 26.37023814, 24.8791787 , 28.72737719, 26.67487432,\n",
       "       22.75830678, 15.30242423, 24.97398543])"
      ]
     },
     "execution_count": 21,
     "metadata": {},
     "output_type": "execute_result"
    }
   ],
   "source": [
    "imcs = pesos / (alturas**2)\n",
    "imcs"
   ]
  },
  {
   "cell_type": "markdown",
   "id": "f9d073bc",
   "metadata": {},
   "source": [
    "Perceba que o próprio numpy já se encarregou de fazer as operações elemento a elemento de cada array e como resultado nos foi dado também um array."
   ]
  },
  {
   "cell_type": "code",
   "execution_count": 26,
   "id": "03bfb792",
   "metadata": {},
   "outputs": [
    {
     "name": "stdout",
     "output_type": "stream",
     "text": [
      "1.18 µs ± 16.9 ns per loop (mean ± std. dev. of 7 runs, 1000000 loops each)\n"
     ]
    }
   ],
   "source": [
    "%%timeit\n",
    "[peso/(altura**2) for peso, altura in zip(lista_pesos,lista_alturas)]"
   ]
  },
  {
   "cell_type": "code",
   "execution_count": 27,
   "id": "c32d7c67",
   "metadata": {},
   "outputs": [
    {
     "name": "stdout",
     "output_type": "stream",
     "text": [
      "1.28 µs ± 14.1 ns per loop (mean ± std. dev. of 7 runs, 1000000 loops each)\n"
     ]
    }
   ],
   "source": [
    "%%timeit\n",
    "pesos / (alturas**2)"
   ]
  },
  {
   "cell_type": "markdown",
   "id": "e249189e",
   "metadata": {},
   "source": [
    "O numpy é rápido! Mas ele funciona bem porque assume que todos os dados em seus arrays tem o mesmo tipo. Se você tentar criar um array com vários tipos de dados é provável que o numpy transforme todos os elementos em strings."
   ]
  },
  {
   "cell_type": "markdown",
   "id": "c0aaead4",
   "metadata": {},
   "source": [
    "Todos os arrays possuem características e funções que são importantes em situações do dia-a-dia."
   ]
  },
  {
   "cell_type": "code",
   "execution_count": 28,
   "id": "c1789678",
   "metadata": {},
   "outputs": [
    {
     "data": {
      "text/plain": [
       "array([55, 65, 87, 90, 78, 65, 57, 60])"
      ]
     },
     "execution_count": 28,
     "metadata": {},
     "output_type": "execute_result"
    }
   ],
   "source": [
    "pesos"
   ]
  },
  {
   "cell_type": "code",
   "execution_count": 29,
   "id": "9aff730f",
   "metadata": {},
   "outputs": [
    {
     "data": {
      "text/plain": [
       "8"
      ]
     },
     "execution_count": 29,
     "metadata": {},
     "output_type": "execute_result"
    }
   ],
   "source": [
    "## size nos dá a quantidade de elementos dentro de um array\n",
    "\n",
    "pesos.size"
   ]
  },
  {
   "cell_type": "code",
   "execution_count": 30,
   "id": "5c7dded1",
   "metadata": {},
   "outputs": [
    {
     "data": {
      "text/plain": [
       "(8,)"
      ]
     },
     "execution_count": 30,
     "metadata": {},
     "output_type": "execute_result"
    }
   ],
   "source": [
    "## shape nos dá o formato de um array, nesta situação o array possui somente uma dimensão com 8 valores\n",
    "\n",
    "pesos.shape"
   ]
  },
  {
   "cell_type": "code",
   "execution_count": 31,
   "id": "0d2d41a3",
   "metadata": {},
   "outputs": [
    {
     "data": {
      "text/plain": [
       "55"
      ]
     },
     "execution_count": 31,
     "metadata": {},
     "output_type": "execute_result"
    }
   ],
   "source": [
    "## min nos dá o valor mínimo dentro do array\n",
    "\n",
    "pesos.min()"
   ]
  },
  {
   "cell_type": "code",
   "execution_count": 32,
   "id": "5754baf1",
   "metadata": {},
   "outputs": [
    {
     "data": {
      "text/plain": [
       "90"
      ]
     },
     "execution_count": 32,
     "metadata": {},
     "output_type": "execute_result"
    }
   ],
   "source": [
    "## max nos dá o valor máximo dentro do array\n",
    "\n",
    "pesos.max()"
   ]
  },
  {
   "cell_type": "code",
   "execution_count": 33,
   "id": "38c539ba",
   "metadata": {},
   "outputs": [
    {
     "data": {
      "text/plain": [
       "0"
      ]
     },
     "execution_count": 33,
     "metadata": {},
     "output_type": "execute_result"
    }
   ],
   "source": [
    "## argmin nos dá a posição do valor mínimo\n",
    "\n",
    "pesos.argmin()"
   ]
  },
  {
   "cell_type": "code",
   "execution_count": 34,
   "id": "2f146f82",
   "metadata": {},
   "outputs": [
    {
     "data": {
      "text/plain": [
       "3"
      ]
     },
     "execution_count": 34,
     "metadata": {},
     "output_type": "execute_result"
    }
   ],
   "source": [
    "## argmin nos dá a posição do valor máximo\n",
    "\n",
    "pesos.argmax()"
   ]
  },
  {
   "cell_type": "code",
   "execution_count": 35,
   "id": "39a6b68a",
   "metadata": {},
   "outputs": [
    {
     "data": {
      "text/plain": [
       "dtype('int64')"
      ]
     },
     "execution_count": 35,
     "metadata": {},
     "output_type": "execute_result"
    }
   ],
   "source": [
    "## dtype nos dá o tipo do dado que está contido no array\n",
    "\n",
    "pesos.dtype"
   ]
  },
  {
   "cell_type": "markdown",
   "id": "481763a1",
   "metadata": {},
   "source": [
    "# Operações com arrays\n",
    "___\n",
    "\n",
    "O comportamento das operações básicas são diferentes de acordo com o tipo de dado utilizado, por exemplo, operações com listas tem um comportamento diferentes de operações com arrays."
   ]
  },
  {
   "cell_type": "code",
   "execution_count": 37,
   "id": "88ef46a1",
   "metadata": {},
   "outputs": [
    {
     "data": {
      "text/plain": [
       "[1, 2, 3, 4, 5, 6, 7, 8]"
      ]
     },
     "execution_count": 37,
     "metadata": {},
     "output_type": "execute_result"
    }
   ],
   "source": [
    "## o operador '+' concatena listas\n",
    "ls  = [1,2,3,4]\n",
    "ls2 = [5,6,7,8]\n",
    "\n",
    "ls+ls2"
   ]
  },
  {
   "cell_type": "code",
   "execution_count": 38,
   "id": "c6917770",
   "metadata": {},
   "outputs": [
    {
     "data": {
      "text/plain": [
       "array([ 6,  8, 10, 12])"
      ]
     },
     "execution_count": 38,
     "metadata": {},
     "output_type": "execute_result"
    }
   ],
   "source": [
    "## o operador '+' soma os valores de dois arrays\n",
    "\n",
    "arr  = np.array(ls)\n",
    "arr2 = np.array(ls2)\n",
    "\n",
    "arr+arr2"
   ]
  },
  {
   "cell_type": "code",
   "execution_count": 39,
   "id": "ca8c6018",
   "metadata": {},
   "outputs": [
    {
     "data": {
      "text/plain": [
       "array([-4, -4, -4, -4])"
      ]
     },
     "execution_count": 39,
     "metadata": {},
     "output_type": "execute_result"
    }
   ],
   "source": [
    "## subtração\n",
    "\n",
    "arr-arr2"
   ]
  },
  {
   "cell_type": "code",
   "execution_count": 40,
   "id": "b92eab71",
   "metadata": {},
   "outputs": [
    {
     "data": {
      "text/plain": [
       "array([ 5, 12, 21, 32])"
      ]
     },
     "execution_count": 40,
     "metadata": {},
     "output_type": "execute_result"
    }
   ],
   "source": [
    "## multiplicação\n",
    "\n",
    "arr*arr2"
   ]
  },
  {
   "cell_type": "code",
   "execution_count": 41,
   "id": "5056d85b",
   "metadata": {},
   "outputs": [
    {
     "data": {
      "text/plain": [
       "array([    1,    64,  2187, 65536])"
      ]
     },
     "execution_count": 41,
     "metadata": {},
     "output_type": "execute_result"
    }
   ],
   "source": [
    "## potenciação\n",
    "\n",
    "arr**arr2"
   ]
  },
  {
   "cell_type": "code",
   "execution_count": 42,
   "id": "84712e69",
   "metadata": {},
   "outputs": [],
   "source": [
    "## incremento\n",
    "\n",
    "arr += arr2"
   ]
  },
  {
   "cell_type": "code",
   "execution_count": 44,
   "id": "68de8323",
   "metadata": {},
   "outputs": [
    {
     "data": {
      "text/plain": [
       "array([1, 2, 3, 4])"
      ]
     },
     "execution_count": 44,
     "metadata": {},
     "output_type": "execute_result"
    }
   ],
   "source": [
    "arr -= arr2\n",
    "arr"
   ]
  },
  {
   "cell_type": "markdown",
   "id": "fa2380c6",
   "metadata": {},
   "source": [
    "Também é possível mesclar operações de arrays com valores inteiros."
   ]
  },
  {
   "cell_type": "code",
   "execution_count": 46,
   "id": "e03ae0db",
   "metadata": {},
   "outputs": [
    {
     "data": {
      "text/plain": [
       "array([5, 6, 7, 8])"
      ]
     },
     "execution_count": 46,
     "metadata": {},
     "output_type": "execute_result"
    }
   ],
   "source": [
    "arr2"
   ]
  },
  {
   "cell_type": "code",
   "execution_count": 45,
   "id": "30d1f41f",
   "metadata": {},
   "outputs": [
    {
     "data": {
      "text/plain": [
       "array([10, 12, 14, 16])"
      ]
     },
     "execution_count": 45,
     "metadata": {},
     "output_type": "execute_result"
    }
   ],
   "source": [
    "arr2*2"
   ]
  },
  {
   "cell_type": "code",
   "execution_count": 47,
   "id": "c6a31463",
   "metadata": {},
   "outputs": [
    {
     "data": {
      "text/plain": [
       "array([25, 36, 49, 64])"
      ]
     },
     "execution_count": 47,
     "metadata": {},
     "output_type": "execute_result"
    }
   ],
   "source": [
    "arr2**2"
   ]
  },
  {
   "cell_type": "code",
   "execution_count": 48,
   "id": "a5171930",
   "metadata": {},
   "outputs": [
    {
     "data": {
      "text/plain": [
       "array([0.5, 0.6, 0.7, 0.8])"
      ]
     },
     "execution_count": 48,
     "metadata": {},
     "output_type": "execute_result"
    }
   ],
   "source": [
    "arr2/10"
   ]
  },
  {
   "cell_type": "markdown",
   "id": "57e9060c",
   "metadata": {},
   "source": [
    "# Indexação de arrays\n",
    "___\n",
    "\n",
    "Indexar arrays é tão simples quanto indexar listas, porém arrays também recebem outros arrays booleanos para seleção e filtragem de vários valores ao mesmo tempo."
   ]
  },
  {
   "cell_type": "code",
   "execution_count": 51,
   "id": "5114423c",
   "metadata": {},
   "outputs": [
    {
     "data": {
      "text/plain": [
       "array([28.06122449, 26.37023814, 24.8791787 , 28.72737719, 26.67487432,\n",
       "       22.75830678, 15.30242423, 24.97398543])"
      ]
     },
     "execution_count": 51,
     "metadata": {},
     "output_type": "execute_result"
    }
   ],
   "source": [
    "imcs"
   ]
  },
  {
   "cell_type": "code",
   "execution_count": 56,
   "id": "c48903a3",
   "metadata": {},
   "outputs": [
    {
     "data": {
      "text/plain": [
       "28.72737719046251"
      ]
     },
     "execution_count": 56,
     "metadata": {},
     "output_type": "execute_result"
    }
   ],
   "source": [
    "imcs[imcs.argmax()]"
   ]
  },
  {
   "cell_type": "code",
   "execution_count": 61,
   "id": "ce43a059",
   "metadata": {},
   "outputs": [
    {
     "data": {
      "text/plain": [
       "array([26.37023814, 24.8791787 , 28.72737719])"
      ]
     },
     "execution_count": 61,
     "metadata": {},
     "output_type": "execute_result"
    }
   ],
   "source": [
    "imcs[1:4]"
   ]
  },
  {
   "cell_type": "markdown",
   "id": "864abc3c",
   "metadata": {},
   "source": [
    "Caso seja necessário selecionar somente os valores abaixo de 24 é possível utilizar arrays booleanos para isso, basta criar uma condição lógica e aplicar o resultado ao indexador do array original."
   ]
  },
  {
   "cell_type": "code",
   "execution_count": 63,
   "id": "2df44735",
   "metadata": {},
   "outputs": [
    {
     "data": {
      "text/plain": [
       "array([28.06122449, 26.37023814, 24.8791787 , 28.72737719, 26.67487432,\n",
       "       22.75830678, 15.30242423, 24.97398543])"
      ]
     },
     "execution_count": 63,
     "metadata": {},
     "output_type": "execute_result"
    }
   ],
   "source": [
    "imcs"
   ]
  },
  {
   "cell_type": "code",
   "execution_count": 62,
   "id": "ac73ebee",
   "metadata": {},
   "outputs": [
    {
     "data": {
      "text/plain": [
       "array([False, False, False, False, False,  True,  True, False])"
      ]
     },
     "execution_count": 62,
     "metadata": {},
     "output_type": "execute_result"
    }
   ],
   "source": [
    "## criando a condição lógica\n",
    "\n",
    "imcs < 24"
   ]
  },
  {
   "cell_type": "code",
   "execution_count": 64,
   "id": "ab7865ca",
   "metadata": {},
   "outputs": [
    {
     "data": {
      "text/plain": [
       "array([22.75830678, 15.30242423])"
      ]
     },
     "execution_count": 64,
     "metadata": {},
     "output_type": "execute_result"
    }
   ],
   "source": [
    "## passando ao array original\n",
    "\n",
    "imcs[imcs<24]"
   ]
  },
  {
   "cell_type": "markdown",
   "id": "aeeb6950",
   "metadata": {},
   "source": [
    "AND -> & <br>\n",
    "OR -> | <br>\n",
    "NOT -> ~ <br>"
   ]
  },
  {
   "cell_type": "code",
   "execution_count": 83,
   "id": "3ffb364d",
   "metadata": {},
   "outputs": [
    {
     "name": "stdout",
     "output_type": "stream",
     "text": [
      "[False False False False False  True  True False]\n"
     ]
    }
   ],
   "source": [
    "mascara = (imcs < 24)\n",
    "\n",
    "print(imcs < 24)"
   ]
  },
  {
   "cell_type": "code",
   "execution_count": 94,
   "id": "603ae45d",
   "metadata": {},
   "outputs": [
    {
     "data": {
      "text/plain": [
       "array([22.75830678, 15.30242423])"
      ]
     },
     "execution_count": 94,
     "metadata": {},
     "output_type": "execute_result"
    }
   ],
   "source": [
    "imcs[mascara]"
   ]
  },
  {
   "cell_type": "markdown",
   "id": "08c1dc8d",
   "metadata": {},
   "source": [
    "Existem somente dois imcs abaixo de 24, logo o array com o resultado da condição lógica possue somente dois valores ```True``` nas suas respectivas posições."
   ]
  },
  {
   "cell_type": "markdown",
   "id": "7617efb4",
   "metadata": {},
   "source": [
    "# Arrays de duas dimensões\n",
    "___\n",
    "\n",
    "Arrays podem possuir mais de uma dimensão, isso significa que podem ter mais de um conjunto de informações. Até agora vimos alturas e pesos divididos em 2 arrays, cada peso e altura está associado a uma pessoa, porém, é possivel criar somente um array que demonstre as duas dimensões (pessoas e caractéristicas)"
   ]
  },
  {
   "cell_type": "code",
   "execution_count": 100,
   "id": "cbdabf65",
   "metadata": {},
   "outputs": [
    {
     "data": {
      "text/plain": [
       "array([55, 65, 87, 90, 78, 65, 57, 60])"
      ]
     },
     "execution_count": 100,
     "metadata": {},
     "output_type": "execute_result"
    }
   ],
   "source": [
    "pesos"
   ]
  },
  {
   "cell_type": "code",
   "execution_count": 101,
   "id": "01b5b756",
   "metadata": {},
   "outputs": [
    {
     "data": {
      "text/plain": [
       "array([1.4 , 1.57, 1.87, 1.77, 1.71, 1.69, 1.93, 1.55])"
      ]
     },
     "execution_count": 101,
     "metadata": {},
     "output_type": "execute_result"
    }
   ],
   "source": [
    "alturas"
   ]
  },
  {
   "cell_type": "code",
   "execution_count": 102,
   "id": "7fc818c3",
   "metadata": {},
   "outputs": [],
   "source": [
    "novo_arr = np.array([[55.  ,  1.4 ],\n",
    "                    [65.  ,  1.57],\n",
    "                    [87.  ,  1.87],\n",
    "                    [90.  ,  1.77],\n",
    "                    [78.  ,  1.71],\n",
    "                    [65.  ,  1.69],\n",
    "                    [57.  ,  1.93],\n",
    "                    [60.  ,  1.55]])"
   ]
  },
  {
   "cell_type": "markdown",
   "id": "0dd2633f",
   "metadata": {},
   "source": [
    "Veja que nesse novo array mudadmos a forma de pensar e agora temos um array contendo pessoas na primeira dimensão e na segunda dimensão as características de peso e altura de cada uma das pessoas."
   ]
  },
  {
   "cell_type": "code",
   "execution_count": 103,
   "id": "181b19d6",
   "metadata": {},
   "outputs": [
    {
     "data": {
      "text/plain": [
       "numpy.ndarray"
      ]
     },
     "execution_count": 103,
     "metadata": {},
     "output_type": "execute_result"
    }
   ],
   "source": [
    "type(novo_arr)"
   ]
  },
  {
   "cell_type": "code",
   "execution_count": 104,
   "id": "1e953b2b",
   "metadata": {},
   "outputs": [
    {
     "data": {
      "text/plain": [
       "16"
      ]
     },
     "execution_count": 104,
     "metadata": {},
     "output_type": "execute_result"
    }
   ],
   "source": [
    "novo_arr.size"
   ]
  },
  {
   "cell_type": "code",
   "execution_count": 105,
   "id": "ee82d00f",
   "metadata": {},
   "outputs": [
    {
     "data": {
      "text/plain": [
       "(8, 2)"
      ]
     },
     "execution_count": 105,
     "metadata": {},
     "output_type": "execute_result"
    }
   ],
   "source": [
    "novo_arr.shape"
   ]
  },
  {
   "cell_type": "code",
   "execution_count": 106,
   "id": "209d9600",
   "metadata": {},
   "outputs": [
    {
     "data": {
      "text/plain": [
       "array([[55.  ,  1.4 ],\n",
       "       [65.  ,  1.57],\n",
       "       [87.  ,  1.87],\n",
       "       [90.  ,  1.77],\n",
       "       [78.  ,  1.71],\n",
       "       [65.  ,  1.69],\n",
       "       [57.  ,  1.93],\n",
       "       [60.  ,  1.55]])"
      ]
     },
     "execution_count": 106,
     "metadata": {},
     "output_type": "execute_result"
    }
   ],
   "source": [
    "novo_arr"
   ]
  },
  {
   "cell_type": "markdown",
   "id": "d3268d3a",
   "metadata": {},
   "source": [
    "O array ```novo_arr``` possui um shape (8,2), ou seja, 16 de tamanho (size). É possível modificar o shape desse array para qualquer outro shape que também resulte em um size de 16. Para isso, bata utilizar a função ```reshape```."
   ]
  },
  {
   "cell_type": "code",
   "execution_count": 107,
   "id": "b6c03d81",
   "metadata": {},
   "outputs": [
    {
     "data": {
      "text/plain": [
       "array([[55.  ,  1.4 , 65.  ,  1.57],\n",
       "       [87.  ,  1.87, 90.  ,  1.77],\n",
       "       [78.  ,  1.71, 65.  ,  1.69],\n",
       "       [57.  ,  1.93, 60.  ,  1.55]])"
      ]
     },
     "execution_count": 107,
     "metadata": {},
     "output_type": "execute_result"
    }
   ],
   "source": [
    "## (8,2) -> (4,4)\n",
    "\n",
    "novo_arr.reshape(4,4)"
   ]
  },
  {
   "cell_type": "code",
   "execution_count": 108,
   "id": "b72c817d",
   "metadata": {},
   "outputs": [
    {
     "data": {
      "text/plain": [
       "array([[55.  ,  1.4 , 65.  ,  1.57, 87.  ,  1.87, 90.  ,  1.77],\n",
       "       [78.  ,  1.71, 65.  ,  1.69, 57.  ,  1.93, 60.  ,  1.55]])"
      ]
     },
     "execution_count": 108,
     "metadata": {},
     "output_type": "execute_result"
    }
   ],
   "source": [
    "## (8,2) -> (2,8)\n",
    "\n",
    "novo_arr.reshape(2,8)"
   ]
  },
  {
   "cell_type": "code",
   "execution_count": 109,
   "id": "724a544e",
   "metadata": {},
   "outputs": [
    {
     "data": {
      "text/plain": [
       "array([[55.  ,  1.4 , 65.  ,  1.57, 87.  ,  1.87, 90.  ,  1.77, 78.  ,\n",
       "         1.71, 65.  ,  1.69, 57.  ,  1.93, 60.  ,  1.55]])"
      ]
     },
     "execution_count": 109,
     "metadata": {},
     "output_type": "execute_result"
    }
   ],
   "source": [
    "## (8,2) -> (1,16)\n",
    "\n",
    "novo_arr.reshape(1,16)"
   ]
  },
  {
   "cell_type": "markdown",
   "id": "ddca949f",
   "metadata": {},
   "source": [
    "Também é possível utilizar o valor ```-1``` em alguma das dimensões na operação de reshape para \"completar\" o array até um size aceitável."
   ]
  },
  {
   "cell_type": "code",
   "execution_count": 112,
   "id": "42d4ee92",
   "metadata": {},
   "outputs": [
    {
     "data": {
      "text/plain": [
       "array([[55.  ],\n",
       "       [ 1.4 ],\n",
       "       [65.  ],\n",
       "       [ 1.57],\n",
       "       [87.  ],\n",
       "       [ 1.87],\n",
       "       [90.  ],\n",
       "       [ 1.77],\n",
       "       [78.  ],\n",
       "       [ 1.71],\n",
       "       [65.  ],\n",
       "       [ 1.69],\n",
       "       [57.  ],\n",
       "       [ 1.93],\n",
       "       [60.  ],\n",
       "       [ 1.55]])"
      ]
     },
     "execution_count": 112,
     "metadata": {},
     "output_type": "execute_result"
    }
   ],
   "source": [
    "novo_arr.reshape(-1,1)"
   ]
  },
  {
   "cell_type": "code",
   "execution_count": 113,
   "id": "8cbad666",
   "metadata": {},
   "outputs": [
    {
     "data": {
      "text/plain": [
       "16"
      ]
     },
     "execution_count": 113,
     "metadata": {},
     "output_type": "execute_result"
    }
   ],
   "source": [
    "novo_arr.size"
   ]
  },
  {
   "cell_type": "markdown",
   "id": "3769926f",
   "metadata": {},
   "source": [
    "O ```novo_arr``` possui agora duas dimensões: a primeira possui 8 elementos e a segunda possui 2 elementos. O que significa que temos um tamanho (size) de 16. Também é comum utilizar esse formato de array para representar ```matrizes```.\n",
    "\n",
    "Executar a indexação e fatiamento de arrays de duas dimensões é um pouco mais complexo, pois é necessário enviar ao indexador ```[]``` um índice para uma das dimensões, ou seja, duas dimensões, dois índices. Para exemplificar, veja o array ```jogadores``` contendo a altura e peso dos jogadores da NBA."
   ]
  },
  {
   "cell_type": "code",
   "execution_count": 118,
   "id": "c6d232a5",
   "metadata": {},
   "outputs": [
    {
     "data": {
      "text/plain": [
       "array([[213.36    , 106.59412 ],\n",
       "       [210.82    , 106.59412 ],\n",
       "       [208.28    , 106.59412 ],\n",
       "       ...,\n",
       "       [195.58    ,  97.52228 ],\n",
       "       [203.2     ,  98.883056],\n",
       "       [203.2     , 106.59412 ]])"
      ]
     },
     "execution_count": 118,
     "metadata": {},
     "output_type": "execute_result"
    }
   ],
   "source": [
    "jogadores = np.load('data/jogadores_nba.npy')\n",
    "jogadores"
   ]
  },
  {
   "cell_type": "code",
   "execution_count": 119,
   "id": "1048902f",
   "metadata": {},
   "outputs": [
    {
     "data": {
      "text/plain": [
       "23400"
      ]
     },
     "execution_count": 119,
     "metadata": {},
     "output_type": "execute_result"
    }
   ],
   "source": [
    "## verificando o tamanho do array jogadores\n",
    "\n",
    "jogadores.size"
   ]
  },
  {
   "cell_type": "code",
   "execution_count": 120,
   "id": "73fbed45",
   "metadata": {},
   "outputs": [
    {
     "data": {
      "text/plain": [
       "(11700, 2)"
      ]
     },
     "execution_count": 120,
     "metadata": {},
     "output_type": "execute_result"
    }
   ],
   "source": [
    "## verificando o formato\n",
    "\n",
    "jogadores.shape"
   ]
  },
  {
   "cell_type": "markdown",
   "id": "36b76c16",
   "metadata": {},
   "source": [
    "Existem nesse array, informações de duas características (altura e peso) de mais de 11700 atletas. Para selecionar somente a altura do segundo atleta do array é necessário utilizar uma indexação complexa."
   ]
  },
  {
   "cell_type": "code",
   "execution_count": 134,
   "id": "4a75b081",
   "metadata": {},
   "outputs": [
    {
     "data": {
      "text/plain": [
       "array([106.59412 , 106.59412 , 106.59412 , ...,  97.52228 ,  98.883056,\n",
       "       106.59412 ])"
      ]
     },
     "execution_count": 134,
     "metadata": {},
     "output_type": "execute_result"
    }
   ],
   "source": [
    "jogadores[:,1]"
   ]
  },
  {
   "cell_type": "markdown",
   "id": "0630225f",
   "metadata": {},
   "source": [
    "Acima selecionamos o índice desejado em cada uma das dimensões.O primeiro número 1 significa que gostaríamos de acessar as informações do segundo jogador, e o segundo número 1 significa que gostaríamos de acessar a segunda característica dele (peso). Também é possível utilizar o ```:``` para indicar todas as informações de uma determinada dimensão."
   ]
  },
  {
   "cell_type": "code",
   "execution_count": null,
   "id": "774c2baa",
   "metadata": {},
   "outputs": [],
   "source": [
    "## selecionando a altura de todos os jogadores\n",
    "\n",
    "jogadores[:,0]"
   ]
  },
  {
   "cell_type": "code",
   "execution_count": null,
   "id": "e0fcb0b2",
   "metadata": {},
   "outputs": [],
   "source": [
    "## selecionando o peso de todos os jogadores\n",
    "\n",
    "jogadores[:,1]"
   ]
  },
  {
   "cell_type": "markdown",
   "id": "4f05498e",
   "metadata": {},
   "source": [
    "É possível criar também condições lógicas e aplica-las a cada uma das dimensões necessárias."
   ]
  },
  {
   "cell_type": "code",
   "execution_count": null,
   "id": "3bcba8f2",
   "metadata": {},
   "outputs": [],
   "source": [
    "## selecionando jogadores que possuem um peso menor que 100 kilos\n",
    "\n",
    "jogadores[jogadores[:,1] < 100]"
   ]
  },
  {
   "cell_type": "code",
   "execution_count": null,
   "id": "89d04a21",
   "metadata": {},
   "outputs": [],
   "source": [
    "## selecionando jogadores que possuem altura maior que 200 e peso menor que 100 kilos\n",
    "\n",
    "jogadores[(jogadores[:,0] > 200) & (jogadores[:,1] < 100)]"
   ]
  },
  {
   "cell_type": "markdown",
   "id": "2247e43a",
   "metadata": {},
   "source": [
    "Utilizando esse método de indexação também é possível executar operações."
   ]
  },
  {
   "cell_type": "code",
   "execution_count": null,
   "id": "8db662a5",
   "metadata": {},
   "outputs": [],
   "source": [
    "## transformando as alturas de metros para pés\n",
    "\n",
    "jogadores[:,0] = (jogadores[:,0]/100)*3.281\n",
    "jogadores"
   ]
  },
  {
   "cell_type": "markdown",
   "id": "ddb1df73",
   "metadata": {},
   "source": [
    "# Funções estatísticas\n",
    "___\n",
    "\n",
    "Em seu dia-a-dia, um cientista de dados trabalho com vários conjuntos de milhares, milhões e até bilhões de observações, entender algumas características desses dados é de extrema importância para etapas inferenciais e descritivas. O numpy oferece um conjunto de funções estatísticas para nos ajudar a descrever melhor nossos conjuntos de dados."
   ]
  },
  {
   "cell_type": "code",
   "execution_count": null,
   "id": "31b9c5df",
   "metadata": {},
   "outputs": [],
   "source": [
    "jogadores = np.load('data/jogadores_nba.npy')\n",
    "jogadores"
   ]
  },
  {
   "cell_type": "code",
   "execution_count": null,
   "id": "d7424702",
   "metadata": {},
   "outputs": [],
   "source": [
    "## média\n",
    "\n",
    "np.mean(jogadores[:,0])"
   ]
  },
  {
   "cell_type": "code",
   "execution_count": null,
   "id": "2382b6a1",
   "metadata": {},
   "outputs": [],
   "source": [
    "## outra forma de calcular média\n",
    "\n",
    "jogadores[:,0].mean()"
   ]
  },
  {
   "cell_type": "code",
   "execution_count": null,
   "id": "a7f43894",
   "metadata": {},
   "outputs": [],
   "source": [
    "## mediana\n",
    "\n",
    "np.median(jogadores[:,0])"
   ]
  },
  {
   "cell_type": "code",
   "execution_count": null,
   "id": "7f15863f",
   "metadata": {},
   "outputs": [],
   "source": [
    "## correlação\n",
    "\n",
    "np.corrcoef(jogadores[:,0],jogadores[:,1])"
   ]
  },
  {
   "cell_type": "code",
   "execution_count": null,
   "id": "9136f7e5",
   "metadata": {},
   "outputs": [],
   "source": [
    "## desvio padrão\n",
    "\n",
    "jogadores[:,0].std()"
   ]
  },
  {
   "cell_type": "code",
   "execution_count": null,
   "id": "52b6afef",
   "metadata": {},
   "outputs": [],
   "source": [
    "## variância\n",
    "\n",
    "jogadores[:,0].var()"
   ]
  }
 ],
 "metadata": {
  "kernelspec": {
   "display_name": "Python 3",
   "language": "python",
   "name": "python3"
  },
  "language_info": {
   "codemirror_mode": {
    "name": "ipython",
    "version": 3
   },
   "file_extension": ".py",
   "mimetype": "text/x-python",
   "name": "python",
   "nbconvert_exporter": "python",
   "pygments_lexer": "ipython3",
   "version": "3.8.5"
  }
 },
 "nbformat": 4,
 "nbformat_minor": 5
}
