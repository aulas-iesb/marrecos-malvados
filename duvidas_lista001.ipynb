{
 "cells": [
  {
   "cell_type": "code",
   "execution_count": 9,
   "id": "718c1c63-649d-4afb-91e7-d2b0816fdef5",
   "metadata": {},
   "outputs": [],
   "source": [
    "import numpy as np"
   ]
  },
  {
   "cell_type": "code",
   "execution_count": 64,
   "id": "f71dc345-cc56-49f1-9658-f4ca413e7549",
   "metadata": {},
   "outputs": [],
   "source": [
    "dc_precos = {'banana':2.55,\n",
    "             'maça':6.12,\n",
    "             'aveia':8.43,\n",
    "             'chocolate':17.05}\n",
    "\n",
    "dc_estoque = {'banana':20,\n",
    "             'maça':30,\n",
    "             'aveia':50,\n",
    "             'chocolate':8}\n",
    "\n",
    "carrinho_comprado = {}\n",
    "valor_do_carrinho = 0\n",
    "valor_na_carteira = 1290.38\n",
    "\n",
    "while valor_do_carrinho <= valor_na_carteira:\n",
    "    \n",
    "    if (np.array(list(dc_estoque.values())) == 0).sum() == 4:\n",
    "        break\n",
    "    \n",
    "    ## escolher um item aleatoria para comprar\n",
    "    item = np.random.choice(['banana','maça','aveia','chocolate'],p=[0.8,0.05,0.05,0.1])\n",
    "    \n",
    "    if valor_do_carrinho + dc_precos[item] > valor_na_carteira:\n",
    "        break\n",
    "    \n",
    "    ## tem estoque?\n",
    "    if dc_estoque[item] > 0:\n",
    "        \n",
    "        ## procurar o preço\n",
    "        ## se tivermos estoque colocamos no carrinho\n",
    "        valor_do_carrinho += dc_precos[item]\n",
    "        \n",
    "        ## se tivermos estoque contamos como item comprado\n",
    "        if item not in carrinho_comprado.keys():\n",
    "            carrinho_comprado[item] = 1\n",
    "        else:\n",
    "            carrinho_comprado[item] += 1\n",
    "            \n",
    "        dc_estoque[item] -= 1"
   ]
  },
  {
   "cell_type": "code",
   "execution_count": 68,
   "id": "840b8ded-17b7-477c-92c3-b54ff13c549c",
   "metadata": {},
   "outputs": [],
   "source": [
    "import requests as r\n",
    "from zipfile import ZipFile\n",
    "import io\n",
    "import pandas as pd\n",
    "\n",
    "def get_data_questao04():\n",
    "    file_zipped = r.get('https://archive.ics.uci.edu/ml/machine-learning-databases/00331/sentiment%20labelled%20sentences.zip')\n",
    "    z = ZipFile(io.BytesIO(file_zipped.content))\n",
    "    z.extractall(\"\")\n",
    "\n",
    "    return ' '.join(pd.read_csv('sentiment labelled sentences/imdb_labelled.txt',sep='\\t',names=['texto','class']).texto.values)\n",
    "\n",
    "texto_para_a_questao = get_data_questao04()"
   ]
  },
  {
   "cell_type": "code",
   "execution_count": 78,
   "id": "84207051-a3ab-44aa-afee-7f4d7bfc0ba1",
   "metadata": {},
   "outputs": [],
   "source": [
    "lista_original = [15,16,17,58,95,68,35,12,12,12,44,87,95,66,78,10,12,73,155,788,157,15,25,77,185,167,142,135,172,111,121,100,101,135,196,117,156,125,189,147,155,178,142,143,156,189,178,112,113,154,144]"
   ]
  },
  {
   "cell_type": "code",
   "execution_count": 72,
   "id": "0cd97dcc-4d60-488c-bcec-ce66f0f6b79b",
   "metadata": {},
   "outputs": [
    {
     "ename": "SyntaxError",
     "evalue": "invalid syntax (<ipython-input-72-61e9cb16cc6f>, line 1)",
     "output_type": "error",
     "traceback": [
      "\u001b[0;36m  File \u001b[0;32m\"<ipython-input-72-61e9cb16cc6f>\"\u001b[0;36m, line \u001b[0;32m1\u001b[0m\n\u001b[0;31m    for regra in range(0,200)\u001b[0m\n\u001b[0m                             ^\u001b[0m\n\u001b[0;31mSyntaxError\u001b[0m\u001b[0;31m:\u001b[0m invalid syntax\n"
     ]
    }
   ],
   "source": [
    "ls_sdr = []\n",
    "tamanho_original = len(lista_original)\n",
    "\n",
    "for regra in range(0,200):\n",
    "    ls_menor = []\n",
    "    ls_maior = []\n",
    "    \n",
    "    for valor in lista_original:\n",
    "        if valor > regra:\n",
    "            ls_maior.append(valor)\n",
    "        elif valor < regra:\n",
    "            ls_menor.append(valor)\n",
    "            \n",
    "    desvio_ls_maior = func1(ls_maior)\n",
    "    desvio_ls_menor = func1(ls_menor)\n",
    "    \n",
    "    media_ponderada = (desvio_ls_maior * (len(ls_maior)/tamanho_original) + (desvio_ls_menor * (len(ls_menor)/tamanho_original))\n",
    "    sdr = desvio_padra_ls_original - media_ponderada\n",
    "    \n",
    "    ls_sdr.append(sdr)"
   ]
  }
 ],
 "metadata": {
  "kernelspec": {
   "display_name": "Python 3",
   "language": "python",
   "name": "python3"
  },
  "language_info": {
   "codemirror_mode": {
    "name": "ipython",
    "version": 3
   },
   "file_extension": ".py",
   "mimetype": "text/x-python",
   "name": "python",
   "nbconvert_exporter": "python",
   "pygments_lexer": "ipython3",
   "version": "3.8.5"
  }
 },
 "nbformat": 4,
 "nbformat_minor": 5
}
